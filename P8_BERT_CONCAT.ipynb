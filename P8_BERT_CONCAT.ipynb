{
  "cells": [
    {
      "cell_type": "markdown",
      "metadata": {
        "id": "view-in-github",
        "colab_type": "text"
      },
      "source": [
        "<a href=\"https://colab.research.google.com/github/bonnefco/P8/blob/main/P8_BERT_CONCAT.ipynb\" target=\"_parent\"><img src=\"https://colab.research.google.com/assets/colab-badge.svg\" alt=\"Open In Colab\"/></a>"
      ]
    },
    {
      "cell_type": "markdown",
      "id": "3650d3c9",
      "metadata": {
        "id": "3650d3c9",
        "papermill": {
          "duration": 0.013216,
          "end_time": "2022-08-10T14:54:54.207753",
          "exception": false,
          "start_time": "2022-08-10T14:54:54.194537",
          "status": "completed"
        },
        "tags": []
      },
      "source": [
        "# Importation des librairies"
      ]
    },
    {
      "cell_type": "code",
      "execution_count": null,
      "id": "eab90271",
      "metadata": {
        "execution": {
          "iopub.execute_input": "2022-08-10T14:54:54.232862Z",
          "iopub.status.busy": "2022-08-10T14:54:54.232330Z",
          "iopub.status.idle": "2022-08-10T14:55:00.721913Z",
          "shell.execute_reply": "2022-08-10T14:55:00.720202Z"
        },
        "id": "eab90271",
        "papermill": {
          "duration": 6.505927,
          "end_time": "2022-08-10T14:55:00.725407",
          "exception": false,
          "start_time": "2022-08-10T14:54:54.219480",
          "status": "completed"
        },
        "tags": []
      },
      "outputs": [],
      "source": [
        "import pandas as pd\n",
        "import matplotlib.pyplot as plt\n",
        "import seaborn as sns\n",
        "import numpy as np\n",
        "import sklearn\n",
        "import ast\n",
        "from scipy import stats\n",
        "import tensorflow\n",
        "from sklearn.model_selection import train_test_split\n",
        "import os\n",
        "import glob"
      ]
    },
    {
      "cell_type": "code",
      "execution_count": null,
      "id": "8be8c29d",
      "metadata": {
        "execution": {
          "iopub.execute_input": "2022-08-10T14:55:00.754339Z",
          "iopub.status.busy": "2022-08-10T14:55:00.753665Z",
          "iopub.status.idle": "2022-08-10T14:55:01.453347Z",
          "shell.execute_reply": "2022-08-10T14:55:01.451595Z"
        },
        "id": "8be8c29d",
        "papermill": {
          "duration": 0.716452,
          "end_time": "2022-08-10T14:55:01.456433",
          "exception": false,
          "start_time": "2022-08-10T14:55:00.739981",
          "status": "completed"
        },
        "tags": []
      },
      "outputs": [],
      "source": [
        "import transformers\n",
        "\n",
        "from transformers import TFAutoModel, AutoConfig, DistilBertTokenizer"
      ]
    },
    {
      "cell_type": "code",
      "execution_count": null,
      "id": "8d29c2dc",
      "metadata": {
        "execution": {
          "iopub.execute_input": "2022-08-10T14:55:01.479834Z",
          "iopub.status.busy": "2022-08-10T14:55:01.479437Z",
          "iopub.status.idle": "2022-08-10T14:55:02.722564Z",
          "shell.execute_reply": "2022-08-10T14:55:02.721064Z"
        },
        "id": "8d29c2dc",
        "papermill": {
          "duration": 1.257704,
          "end_time": "2022-08-10T14:55:02.725952",
          "exception": false,
          "start_time": "2022-08-10T14:55:01.468248",
          "status": "completed"
        },
        "tags": []
      },
      "outputs": [],
      "source": [
        "tensorflow.keras.backend.clear_session()"
      ]
    },
    {
      "cell_type": "markdown",
      "id": "914b2a3b",
      "metadata": {
        "id": "914b2a3b",
        "papermill": {
          "duration": 0.010661,
          "end_time": "2022-08-10T14:55:02.748560",
          "exception": false,
          "start_time": "2022-08-10T14:55:02.737899",
          "status": "completed"
        },
        "tags": []
      },
      "source": [
        "# Fonctions"
      ]
    },
    {
      "cell_type": "code",
      "execution_count": null,
      "id": "b2793026",
      "metadata": {
        "execution": {
          "iopub.execute_input": "2022-08-10T14:55:02.770075Z",
          "iopub.status.busy": "2022-08-10T14:55:02.769778Z",
          "iopub.status.idle": "2022-08-10T14:55:02.777436Z",
          "shell.execute_reply": "2022-08-10T14:55:02.776066Z"
        },
        "id": "b2793026",
        "papermill": {
          "duration": 0.021496,
          "end_time": "2022-08-10T14:55:02.780003",
          "exception": false,
          "start_time": "2022-08-10T14:55:02.758507",
          "status": "completed"
        },
        "tags": []
      },
      "outputs": [],
      "source": [
        "def plot_curves(history):\n",
        "\n",
        "    plt.plot(history.history[\"accuracy\"])\n",
        "    plt.plot(history.history[\"val_accuracy\"])\n",
        "    plt.title(\"model accuracy\")\n",
        "    plt.ylabel(\"accuracy\")\n",
        "    plt.xlabel(\"epoch\")\n",
        "    plt.legend([\"train\", \"valid\"], loc=\"upper left\")\n",
        "    plt.show()\n",
        "\n",
        "    plt.plot(history.history[\"loss\"])\n",
        "    plt.plot(history.history[\"val_loss\"])\n",
        "    plt.title(\"model loss\")\n",
        "    plt.ylabel(\"loss\")\n",
        "    plt.xlabel(\"epoch\")\n",
        "    plt.legend([\"train\", \"valid\"], loc=\"upper left\")\n",
        "    plt.show()\n",
        "\n",
        "    return"
      ]
    },
    {
      "cell_type": "markdown",
      "id": "f54843d4",
      "metadata": {
        "id": "f54843d4",
        "papermill": {
          "duration": 0.010499,
          "end_time": "2022-08-10T14:55:02.801462",
          "exception": false,
          "start_time": "2022-08-10T14:55:02.790963",
          "status": "completed"
        },
        "tags": []
      },
      "source": [
        "# Importation du dataset"
      ]
    },
    {
      "cell_type": "code",
      "execution_count": null,
      "id": "80f72f80",
      "metadata": {
        "execution": {
          "iopub.execute_input": "2022-08-10T14:55:02.824738Z",
          "iopub.status.busy": "2022-08-10T14:55:02.824407Z",
          "iopub.status.idle": "2022-08-10T14:55:03.163865Z",
          "shell.execute_reply": "2022-08-10T14:55:03.162440Z"
        },
        "id": "80f72f80",
        "papermill": {
          "duration": 0.354288,
          "end_time": "2022-08-10T14:55:03.167069",
          "exception": false,
          "start_time": "2022-08-10T14:55:02.812781",
          "status": "completed"
        },
        "tags": []
      },
      "outputs": [],
      "source": [
        "df_effective_args = pd.read_csv(\n",
        "    \"../input/feedback-prize-effectiveness/train.csv\", header=(0)\n",
        ")"
      ]
    },
    {
      "cell_type": "markdown",
      "id": "cf0fffe1",
      "metadata": {
        "id": "cf0fffe1",
        "papermill": {
          "duration": 0.010606,
          "end_time": "2022-08-10T14:55:03.189013",
          "exception": false,
          "start_time": "2022-08-10T14:55:03.178407",
          "status": "completed"
        },
        "tags": []
      },
      "source": [
        "## Lier chaque discourse_id avec le texte integrale"
      ]
    },
    {
      "cell_type": "code",
      "execution_count": null,
      "id": "b6e86e8d",
      "metadata": {
        "execution": {
          "iopub.execute_input": "2022-08-10T14:55:03.216750Z",
          "iopub.status.busy": "2022-08-10T14:55:03.216400Z",
          "iopub.status.idle": "2022-08-10T14:55:03.224049Z",
          "shell.execute_reply": "2022-08-10T14:55:03.222733Z"
        },
        "id": "b6e86e8d",
        "papermill": {
          "duration": 0.022685,
          "end_time": "2022-08-10T14:55:03.226851",
          "exception": false,
          "start_time": "2022-08-10T14:55:03.204166",
          "status": "completed"
        },
        "tags": []
      },
      "outputs": [],
      "source": [
        "def create_dict_key_id___value_essay_text(path_folder):\n",
        "\n",
        "    list_texts_essay = glob.glob(path_folder + \"/*\")\n",
        "    dictionnary = {}\n",
        "    for text in list_texts_essay:\n",
        "        essay_text = open(text, \"r\").read()\n",
        "        id_essay = text.split(\"/\")[-1].split(\".\")[0]\n",
        "        dictionnary[id_essay] = essay_text\n",
        "\n",
        "    return dictionnary\n",
        "\n",
        "\n",
        "def df_link_essay_id_and_text_essay(df, path_folder):\n",
        "    dictionnary_key_id___value_essay_text = create_dict_key_id___value_essay_text(\n",
        "        path_folder\n",
        "    )\n",
        "    df[\"essay_text\"] = df[\"essay_id\"].map(dictionnary_key_id___value_essay_text)\n",
        "    return df"
      ]
    },
    {
      "cell_type": "code",
      "execution_count": null,
      "id": "4d8e4b00",
      "metadata": {
        "execution": {
          "iopub.execute_input": "2022-08-10T14:55:03.250656Z",
          "iopub.status.busy": "2022-08-10T14:55:03.250268Z",
          "iopub.status.idle": "2022-08-10T14:55:18.887249Z",
          "shell.execute_reply": "2022-08-10T14:55:18.885853Z"
        },
        "id": "4d8e4b00",
        "papermill": {
          "duration": 15.652348,
          "end_time": "2022-08-10T14:55:18.890647",
          "exception": false,
          "start_time": "2022-08-10T14:55:03.238299",
          "status": "completed"
        },
        "tags": []
      },
      "outputs": [],
      "source": [
        "path_train_folder = \"../input/feedback-prize-effectiveness/train\"\n",
        "df_effective_args = df_link_essay_id_and_text_essay(\n",
        "    df_effective_args, path_train_folder\n",
        ")"
      ]
    },
    {
      "cell_type": "code",
      "execution_count": null,
      "id": "c9ee9a76",
      "metadata": {
        "execution": {
          "iopub.execute_input": "2022-08-10T14:55:18.914827Z",
          "iopub.status.busy": "2022-08-10T14:55:18.914477Z",
          "iopub.status.idle": "2022-08-10T14:55:18.937656Z",
          "shell.execute_reply": "2022-08-10T14:55:18.935198Z"
        },
        "papermill": {
          "duration": 0.038439,
          "end_time": "2022-08-10T14:55:18.940719",
          "exception": false,
          "start_time": "2022-08-10T14:55:18.902280",
          "status": "completed"
        },
        "tags": [],
        "id": "c9ee9a76",
        "outputId": "263a9ebf-8a6d-43d0-aa3b-85b40ecf2ba4"
      },
      "outputs": [
        {
          "data": {
            "text/html": [
              "<div>\n",
              "<style scoped>\n",
              "    .dataframe tbody tr th:only-of-type {\n",
              "        vertical-align: middle;\n",
              "    }\n",
              "\n",
              "    .dataframe tbody tr th {\n",
              "        vertical-align: top;\n",
              "    }\n",
              "\n",
              "    .dataframe thead th {\n",
              "        text-align: right;\n",
              "    }\n",
              "</style>\n",
              "<table border=\"1\" class=\"dataframe\">\n",
              "  <thead>\n",
              "    <tr style=\"text-align: right;\">\n",
              "      <th></th>\n",
              "      <th>discourse_id</th>\n",
              "      <th>essay_id</th>\n",
              "      <th>discourse_text</th>\n",
              "      <th>discourse_type</th>\n",
              "      <th>discourse_effectiveness</th>\n",
              "      <th>essay_text</th>\n",
              "    </tr>\n",
              "  </thead>\n",
              "  <tbody>\n",
              "    <tr>\n",
              "      <th>0</th>\n",
              "      <td>0013cc385424</td>\n",
              "      <td>007ACE74B050</td>\n",
              "      <td>Hi, i'm Isaac, i'm going to be writing about h...</td>\n",
              "      <td>Lead</td>\n",
              "      <td>Adequate</td>\n",
              "      <td>Hi, i'm Isaac, i'm going to be writing about h...</td>\n",
              "    </tr>\n",
              "    <tr>\n",
              "      <th>1</th>\n",
              "      <td>9704a709b505</td>\n",
              "      <td>007ACE74B050</td>\n",
              "      <td>On my perspective, I think that the face is a ...</td>\n",
              "      <td>Position</td>\n",
              "      <td>Adequate</td>\n",
              "      <td>Hi, i'm Isaac, i'm going to be writing about h...</td>\n",
              "    </tr>\n",
              "  </tbody>\n",
              "</table>\n",
              "</div>"
            ],
            "text/plain": [
              "   discourse_id      essay_id  \\\n",
              "0  0013cc385424  007ACE74B050   \n",
              "1  9704a709b505  007ACE74B050   \n",
              "\n",
              "                                      discourse_text discourse_type  \\\n",
              "0  Hi, i'm Isaac, i'm going to be writing about h...           Lead   \n",
              "1  On my perspective, I think that the face is a ...       Position   \n",
              "\n",
              "  discourse_effectiveness                                         essay_text  \n",
              "0                Adequate  Hi, i'm Isaac, i'm going to be writing about h...  \n",
              "1                Adequate  Hi, i'm Isaac, i'm going to be writing about h...  "
            ]
          },
          "execution_count": 8,
          "metadata": {},
          "output_type": "execute_result"
        }
      ],
      "source": [
        "df_effective_args.head(2)"
      ]
    },
    {
      "cell_type": "markdown",
      "id": "b8fc1c06",
      "metadata": {
        "id": "b8fc1c06",
        "papermill": {
          "duration": 0.01116,
          "end_time": "2022-08-10T14:55:18.963243",
          "exception": false,
          "start_time": "2022-08-10T14:55:18.952083",
          "status": "completed"
        },
        "tags": []
      },
      "source": [
        "# Nettoyage "
      ]
    },
    {
      "cell_type": "markdown",
      "id": "b6764bc3",
      "metadata": {
        "id": "b6764bc3",
        "papermill": {
          "duration": 0.010876,
          "end_time": "2022-08-10T14:55:18.985252",
          "exception": false,
          "start_time": "2022-08-10T14:55:18.974376",
          "status": "completed"
        },
        "tags": []
      },
      "source": [
        "## Suppression incohérence du dataset"
      ]
    },
    {
      "cell_type": "code",
      "execution_count": null,
      "id": "3d98ed3e",
      "metadata": {
        "execution": {
          "iopub.execute_input": "2022-08-10T14:55:19.009094Z",
          "iopub.status.busy": "2022-08-10T14:55:19.008302Z",
          "iopub.status.idle": "2022-08-10T14:55:19.096665Z",
          "shell.execute_reply": "2022-08-10T14:55:19.095263Z"
        },
        "id": "3d98ed3e",
        "papermill": {
          "duration": 0.103238,
          "end_time": "2022-08-10T14:55:19.099431",
          "exception": false,
          "start_time": "2022-08-10T14:55:18.996193",
          "status": "completed"
        },
        "tags": []
      },
      "outputs": [],
      "source": [
        "# doublons possèdent deux \"discourse_effectiveness\" différents\n",
        "df_duplicates = df_effective_args[\n",
        "    df_effective_args.duplicated(subset=[\"discourse_text\"], keep=False)\n",
        "]\n",
        "df_duplicates_different_discourse_effectiveness = df_duplicates[\n",
        "    ~df_duplicates.duplicated(\n",
        "        subset=[\"discourse_text\", \"discourse_effectiveness\"], keep=False\n",
        "    )\n",
        "]\n",
        "list_index_to_drop = (\n",
        "    df_duplicates_different_discourse_effectiveness.index.values.tolist()\n",
        ")\n",
        "\n",
        "# doublons possèdent deux \"discourse_type\" différents\n",
        "df_duplicates_different_discourse_type = df_duplicates[\n",
        "    ~df_duplicates.duplicated(subset=[\"discourse_text\", \"discourse_type\"], keep=False)\n",
        "]\n",
        "list_index_to_drop += df_duplicates_different_discourse_type.index.values.tolist()\n",
        "df_without_incoherence = df_effective_args.drop(list_index_to_drop, axis=0)\n",
        "\n",
        "# Conservation d'un doublon sur deux\n",
        "df_effective_args_without_duplicates = df_without_incoherence.drop_duplicates(\n",
        "    subset=[\"discourse_text\"], keep=\"first\"\n",
        ")"
      ]
    },
    {
      "cell_type": "markdown",
      "id": "7c06fd64",
      "metadata": {
        "id": "7c06fd64",
        "papermill": {
          "duration": 0.011204,
          "end_time": "2022-08-10T14:55:19.121949",
          "exception": false,
          "start_time": "2022-08-10T14:55:19.110745",
          "status": "completed"
        },
        "tags": []
      },
      "source": [
        "## Passage en minuscule"
      ]
    },
    {
      "cell_type": "code",
      "execution_count": null,
      "id": "285a15f5",
      "metadata": {
        "execution": {
          "iopub.execute_input": "2022-08-10T14:55:19.146014Z",
          "iopub.status.busy": "2022-08-10T14:55:19.145690Z",
          "iopub.status.idle": "2022-08-10T14:55:19.473762Z",
          "shell.execute_reply": "2022-08-10T14:55:19.472265Z"
        },
        "id": "285a15f5",
        "outputId": "76297e8b-ec6b-4670-b158-6a30c65ca98e",
        "papermill": {
          "duration": 0.344974,
          "end_time": "2022-08-10T14:55:19.478312",
          "exception": false,
          "start_time": "2022-08-10T14:55:19.133338",
          "status": "completed"
        },
        "tags": []
      },
      "outputs": [
        {
          "name": "stderr",
          "output_type": "stream",
          "text": [
            "/opt/conda/lib/python3.7/site-packages/ipykernel_launcher.py:1: SettingWithCopyWarning: \n",
            "A value is trying to be set on a copy of a slice from a DataFrame.\n",
            "Try using .loc[row_indexer,col_indexer] = value instead\n",
            "\n",
            "See the caveats in the documentation: https://pandas.pydata.org/pandas-docs/stable/user_guide/indexing.html#returning-a-view-versus-a-copy\n",
            "  \"\"\"Entry point for launching an IPython kernel.\n",
            "/opt/conda/lib/python3.7/site-packages/ipykernel_launcher.py:2: SettingWithCopyWarning: \n",
            "A value is trying to be set on a copy of a slice from a DataFrame.\n",
            "Try using .loc[row_indexer,col_indexer] = value instead\n",
            "\n",
            "See the caveats in the documentation: https://pandas.pydata.org/pandas-docs/stable/user_guide/indexing.html#returning-a-view-versus-a-copy\n",
            "  \n"
          ]
        },
        {
          "data": {
            "text/html": [
              "<div>\n",
              "<style scoped>\n",
              "    .dataframe tbody tr th:only-of-type {\n",
              "        vertical-align: middle;\n",
              "    }\n",
              "\n",
              "    .dataframe tbody tr th {\n",
              "        vertical-align: top;\n",
              "    }\n",
              "\n",
              "    .dataframe thead th {\n",
              "        text-align: right;\n",
              "    }\n",
              "</style>\n",
              "<table border=\"1\" class=\"dataframe\">\n",
              "  <thead>\n",
              "    <tr style=\"text-align: right;\">\n",
              "      <th></th>\n",
              "      <th>discourse_id</th>\n",
              "      <th>essay_id</th>\n",
              "      <th>discourse_text</th>\n",
              "      <th>discourse_type</th>\n",
              "      <th>discourse_effectiveness</th>\n",
              "      <th>essay_text</th>\n",
              "    </tr>\n",
              "  </thead>\n",
              "  <tbody>\n",
              "    <tr>\n",
              "      <th>0</th>\n",
              "      <td>0013cc385424</td>\n",
              "      <td>007ACE74B050</td>\n",
              "      <td>hi, i'm isaac, i'm going to be writing about h...</td>\n",
              "      <td>Lead</td>\n",
              "      <td>Adequate</td>\n",
              "      <td>hi, i'm isaac, i'm going to be writing about h...</td>\n",
              "    </tr>\n",
              "    <tr>\n",
              "      <th>1</th>\n",
              "      <td>9704a709b505</td>\n",
              "      <td>007ACE74B050</td>\n",
              "      <td>on my perspective, i think that the face is a ...</td>\n",
              "      <td>Position</td>\n",
              "      <td>Adequate</td>\n",
              "      <td>hi, i'm isaac, i'm going to be writing about h...</td>\n",
              "    </tr>\n",
              "    <tr>\n",
              "      <th>2</th>\n",
              "      <td>c22adee811b6</td>\n",
              "      <td>007ACE74B050</td>\n",
              "      <td>i think that the face is a natural landform be...</td>\n",
              "      <td>Claim</td>\n",
              "      <td>Adequate</td>\n",
              "      <td>hi, i'm isaac, i'm going to be writing about h...</td>\n",
              "    </tr>\n",
              "  </tbody>\n",
              "</table>\n",
              "</div>"
            ],
            "text/plain": [
              "   discourse_id      essay_id  \\\n",
              "0  0013cc385424  007ACE74B050   \n",
              "1  9704a709b505  007ACE74B050   \n",
              "2  c22adee811b6  007ACE74B050   \n",
              "\n",
              "                                      discourse_text discourse_type  \\\n",
              "0  hi, i'm isaac, i'm going to be writing about h...           Lead   \n",
              "1  on my perspective, i think that the face is a ...       Position   \n",
              "2  i think that the face is a natural landform be...          Claim   \n",
              "\n",
              "  discourse_effectiveness                                         essay_text  \n",
              "0                Adequate  hi, i'm isaac, i'm going to be writing about h...  \n",
              "1                Adequate  hi, i'm isaac, i'm going to be writing about h...  \n",
              "2                Adequate  hi, i'm isaac, i'm going to be writing about h...  "
            ]
          },
          "execution_count": 10,
          "metadata": {},
          "output_type": "execute_result"
        }
      ],
      "source": [
        "df_effective_args_without_duplicates[\n",
        "    \"essay_text\"\n",
        "] = df_effective_args_without_duplicates[\"essay_text\"].str.lower()\n",
        "df_effective_args_without_duplicates[\n",
        "    \"discourse_text\"\n",
        "] = df_effective_args_without_duplicates[\"discourse_text\"].str.lower()\n",
        "df_effective_args_without_duplicates.head(3)"
      ]
    },
    {
      "cell_type": "markdown",
      "id": "eb539d35",
      "metadata": {
        "id": "eb539d35",
        "papermill": {
          "duration": 0.010642,
          "end_time": "2022-08-10T14:55:19.500287",
          "exception": false,
          "start_time": "2022-08-10T14:55:19.489645",
          "status": "completed"
        },
        "tags": []
      },
      "source": [
        "## Configs et tokenizer"
      ]
    },
    {
      "cell_type": "code",
      "execution_count": null,
      "id": "73290d18",
      "metadata": {
        "execution": {
          "iopub.execute_input": "2022-08-10T14:55:19.524747Z",
          "iopub.status.busy": "2022-08-10T14:55:19.524319Z",
          "iopub.status.idle": "2022-08-10T14:55:19.611837Z",
          "shell.execute_reply": "2022-08-10T14:55:19.610668Z"
        },
        "id": "73290d18",
        "papermill": {
          "duration": 0.103523,
          "end_time": "2022-08-10T14:55:19.614812",
          "exception": false,
          "start_time": "2022-08-10T14:55:19.511289",
          "status": "completed"
        },
        "tags": []
      },
      "outputs": [],
      "source": [
        "MODEL_NAME = \"../input/distilbert\"\n",
        "tokenizer_BERT = transformers.DistilBertTokenizer.from_pretrained(\n",
        "    MODEL_NAME,\n",
        "    local_files_only=True,\n",
        "    pad_token=\"[PAD]\",\n",
        "    max_length=512,\n",
        "    truncation=True,\n",
        ")\n",
        "SEP = tokenizer_BERT.sep_token"
      ]
    },
    {
      "cell_type": "markdown",
      "id": "82a2fa0a",
      "metadata": {
        "id": "82a2fa0a",
        "papermill": {
          "duration": 0.011069,
          "end_time": "2022-08-10T14:55:19.637254",
          "exception": false,
          "start_time": "2022-08-10T14:55:19.626185",
          "status": "completed"
        },
        "tags": []
      },
      "source": [
        "## Concatenation discourse_type [SEP] discours_text [SEP] essay_text"
      ]
    },
    {
      "cell_type": "code",
      "execution_count": null,
      "id": "82b0ff80",
      "metadata": {
        "execution": {
          "iopub.execute_input": "2022-08-10T14:55:19.664108Z",
          "iopub.status.busy": "2022-08-10T14:55:19.661628Z",
          "iopub.status.idle": "2022-08-10T14:55:19.819590Z",
          "shell.execute_reply": "2022-08-10T14:55:19.817342Z"
        },
        "id": "82b0ff80",
        "outputId": "e1464aee-b8e2-4c10-8bd6-89efc37e0883",
        "papermill": {
          "duration": 0.174192,
          "end_time": "2022-08-10T14:55:19.823091",
          "exception": false,
          "start_time": "2022-08-10T14:55:19.648899",
          "status": "completed"
        },
        "tags": []
      },
      "outputs": [
        {
          "name": "stderr",
          "output_type": "stream",
          "text": [
            "/opt/conda/lib/python3.7/site-packages/ipykernel_launcher.py:1: SettingWithCopyWarning: \n",
            "A value is trying to be set on a copy of a slice from a DataFrame.\n",
            "Try using .loc[row_indexer,col_indexer] = value instead\n",
            "\n",
            "See the caveats in the documentation: https://pandas.pydata.org/pandas-docs/stable/user_guide/indexing.html#returning-a-view-versus-a-copy\n",
            "  \"\"\"Entry point for launching an IPython kernel.\n"
          ]
        }
      ],
      "source": [
        "df_effective_args_without_duplicates[\"type_discourse_essay_concat\"] = (\n",
        "    df_effective_args_without_duplicates[\"discourse_type\"]\n",
        "    + SEP\n",
        "    + df_effective_args_without_duplicates[\"discourse_text\"]\n",
        "    + SEP\n",
        "    + df_effective_args_without_duplicates[\"essay_text\"]\n",
        ")"
      ]
    },
    {
      "cell_type": "code",
      "execution_count": null,
      "id": "71c00211",
      "metadata": {
        "execution": {
          "iopub.execute_input": "2022-08-10T14:55:19.850990Z",
          "iopub.status.busy": "2022-08-10T14:55:19.850050Z",
          "iopub.status.idle": "2022-08-10T14:55:19.874958Z",
          "shell.execute_reply": "2022-08-10T14:55:19.873258Z"
        },
        "id": "71c00211",
        "outputId": "6948705f-08d9-4af5-f4f4-6f4f740c8b5f",
        "papermill": {
          "duration": 0.042025,
          "end_time": "2022-08-10T14:55:19.878598",
          "exception": false,
          "start_time": "2022-08-10T14:55:19.836573",
          "status": "completed"
        },
        "tags": []
      },
      "outputs": [
        {
          "name": "stderr",
          "output_type": "stream",
          "text": [
            "/opt/conda/lib/python3.7/site-packages/ipykernel_launcher.py:1: SettingWithCopyWarning: \n",
            "A value is trying to be set on a copy of a slice from a DataFrame.\n",
            "Try using .loc[row_indexer,col_indexer] = value instead\n",
            "\n",
            "See the caveats in the documentation: https://pandas.pydata.org/pandas-docs/stable/user_guide/indexing.html#returning-a-view-versus-a-copy\n",
            "  \"\"\"Entry point for launching an IPython kernel.\n"
          ]
        }
      ],
      "source": [
        "df_effective_args_without_duplicates[\n",
        "    \"discourse_effectiveness_number\"\n",
        "] = df_effective_args[\"discourse_effectiveness\"].replace(\n",
        "    {\"Ineffective\": 0, \"Adequate\": 1, \"Effective\": 2}\n",
        ")"
      ]
    },
    {
      "cell_type": "code",
      "execution_count": null,
      "id": "607a437d",
      "metadata": {
        "execution": {
          "iopub.execute_input": "2022-08-10T14:55:19.904897Z",
          "iopub.status.busy": "2022-08-10T14:55:19.904078Z",
          "iopub.status.idle": "2022-08-10T14:55:19.914233Z",
          "shell.execute_reply": "2022-08-10T14:55:19.912937Z"
        },
        "id": "607a437d",
        "outputId": "3c91a2e2-dd38-4f0a-f0f0-d37c519933e2",
        "papermill": {
          "duration": 0.026122,
          "end_time": "2022-08-10T14:55:19.916902",
          "exception": false,
          "start_time": "2022-08-10T14:55:19.890780",
          "status": "completed"
        },
        "tags": []
      },
      "outputs": [
        {
          "data": {
            "text/plain": [
              "(36677, 8)"
            ]
          },
          "execution_count": 14,
          "metadata": {},
          "output_type": "execute_result"
        }
      ],
      "source": [
        "df_effective_args_without_duplicates.shape"
      ]
    },
    {
      "cell_type": "code",
      "execution_count": null,
      "id": "ff242357",
      "metadata": {
        "execution": {
          "iopub.execute_input": "2022-08-10T14:55:19.944082Z",
          "iopub.status.busy": "2022-08-10T14:55:19.942137Z",
          "iopub.status.idle": "2022-08-10T14:55:19.949886Z",
          "shell.execute_reply": "2022-08-10T14:55:19.948555Z"
        },
        "id": "ff242357",
        "papermill": {
          "duration": 0.023987,
          "end_time": "2022-08-10T14:55:19.953018",
          "exception": false,
          "start_time": "2022-08-10T14:55:19.929031",
          "status": "completed"
        },
        "tags": []
      },
      "outputs": [],
      "source": [
        "def bert_encode(texts, tokenizer=tokenizer_BERT):\n",
        "\n",
        "    token = tokenizer(\n",
        "        texts,\n",
        "        max_length=MAX_LEN,\n",
        "        truncation=True,\n",
        "        padding=\"max_length\",\n",
        "        add_special_tokens=True,\n",
        "        return_tensors=\"tf\",\n",
        "    )\n",
        "\n",
        "    input_ids = token[\"input_ids\"]\n",
        "    attention_mask = token[\"attention_mask\"]\n",
        "\n",
        "    return input_ids[0], attention_mask[0]"
      ]
    },
    {
      "cell_type": "markdown",
      "id": "b9d18ac9",
      "metadata": {
        "id": "b9d18ac9",
        "papermill": {
          "duration": 0.011698,
          "end_time": "2022-08-10T14:55:20.001758",
          "exception": false,
          "start_time": "2022-08-10T14:55:19.990060",
          "status": "completed"
        },
        "tags": []
      },
      "source": [
        "# Creation modele"
      ]
    },
    {
      "cell_type": "markdown",
      "id": "d9b66d82",
      "metadata": {
        "id": "d9b66d82",
        "papermill": {
          "duration": 0.012038,
          "end_time": "2022-08-10T14:55:20.026150",
          "exception": false,
          "start_time": "2022-08-10T14:55:20.014112",
          "status": "completed"
        },
        "tags": []
      },
      "source": [
        "## Hyper-paramètres"
      ]
    },
    {
      "cell_type": "code",
      "execution_count": null,
      "id": "ceb70f8d",
      "metadata": {
        "execution": {
          "iopub.execute_input": "2022-08-10T14:55:20.052302Z",
          "iopub.status.busy": "2022-08-10T14:55:20.051853Z",
          "iopub.status.idle": "2022-08-10T14:55:20.058008Z",
          "shell.execute_reply": "2022-08-10T14:55:20.056473Z"
        },
        "id": "ceb70f8d",
        "papermill": {
          "duration": 0.022378,
          "end_time": "2022-08-10T14:55:20.060788",
          "exception": false,
          "start_time": "2022-08-10T14:55:20.038410",
          "status": "completed"
        },
        "tags": []
      },
      "outputs": [],
      "source": [
        "# Configuration\n",
        "BATCH_SIZE = 16\n",
        "DROPOUT = 0.1\n",
        "LEARNING_RATE = 3e-5\n",
        "MAX_LEN = 512"
      ]
    },
    {
      "cell_type": "code",
      "execution_count": null,
      "id": "efb63cfd",
      "metadata": {
        "execution": {
          "iopub.execute_input": "2022-08-10T14:55:20.086624Z",
          "iopub.status.busy": "2022-08-10T14:55:20.086260Z",
          "iopub.status.idle": "2022-08-10T15:05:15.116137Z",
          "shell.execute_reply": "2022-08-10T15:05:15.114664Z"
        },
        "id": "efb63cfd",
        "papermill": {
          "duration": 595.046416,
          "end_time": "2022-08-10T15:05:15.119288",
          "exception": false,
          "start_time": "2022-08-10T14:55:20.072872",
          "status": "completed"
        },
        "tags": [],
        "outputId": "bfff9631-21d0-48c4-8439-4002c3d575e4"
      },
      "outputs": [
        {
          "name": "stderr",
          "output_type": "stream",
          "text": [
            "2022-08-10 14:55:20.210589: I tensorflow/stream_executor/cuda/cuda_gpu_executor.cc:937] successful NUMA node read from SysFS had negative value (-1), but there must be at least one NUMA node, so returning NUMA node zero\n",
            "2022-08-10 14:55:20.352342: I tensorflow/stream_executor/cuda/cuda_gpu_executor.cc:937] successful NUMA node read from SysFS had negative value (-1), but there must be at least one NUMA node, so returning NUMA node zero\n",
            "2022-08-10 14:55:20.356447: I tensorflow/stream_executor/cuda/cuda_gpu_executor.cc:937] successful NUMA node read from SysFS had negative value (-1), but there must be at least one NUMA node, so returning NUMA node zero\n",
            "2022-08-10 14:55:20.361646: I tensorflow/core/platform/cpu_feature_guard.cc:142] This TensorFlow binary is optimized with oneAPI Deep Neural Network Library (oneDNN) to use the following CPU instructions in performance-critical operations:  AVX2 FMA\n",
            "To enable them in other operations, rebuild TensorFlow with the appropriate compiler flags.\n",
            "2022-08-10 14:55:20.362122: I tensorflow/stream_executor/cuda/cuda_gpu_executor.cc:937] successful NUMA node read from SysFS had negative value (-1), but there must be at least one NUMA node, so returning NUMA node zero\n",
            "2022-08-10 14:55:20.365990: I tensorflow/stream_executor/cuda/cuda_gpu_executor.cc:937] successful NUMA node read from SysFS had negative value (-1), but there must be at least one NUMA node, so returning NUMA node zero\n",
            "2022-08-10 14:55:20.369847: I tensorflow/stream_executor/cuda/cuda_gpu_executor.cc:937] successful NUMA node read from SysFS had negative value (-1), but there must be at least one NUMA node, so returning NUMA node zero\n",
            "2022-08-10 14:55:23.398700: I tensorflow/stream_executor/cuda/cuda_gpu_executor.cc:937] successful NUMA node read from SysFS had negative value (-1), but there must be at least one NUMA node, so returning NUMA node zero\n",
            "2022-08-10 14:55:23.402691: I tensorflow/stream_executor/cuda/cuda_gpu_executor.cc:937] successful NUMA node read from SysFS had negative value (-1), but there must be at least one NUMA node, so returning NUMA node zero\n",
            "2022-08-10 14:55:23.406790: I tensorflow/stream_executor/cuda/cuda_gpu_executor.cc:937] successful NUMA node read from SysFS had negative value (-1), but there must be at least one NUMA node, so returning NUMA node zero\n",
            "2022-08-10 14:55:23.410731: I tensorflow/core/common_runtime/gpu/gpu_device.cc:1510] Created device /job:localhost/replica:0/task:0/device:GPU:0 with 15403 MB memory:  -> device: 0, name: Tesla P100-PCIE-16GB, pci bus id: 0000:00:04.0, compute capability: 6.0\n"
          ]
        }
      ],
      "source": [
        "X = df_effective_args_without_duplicates[\"type_discourse_essay_concat\"]\n",
        "y = df_effective_args_without_duplicates[\"discourse_effectiveness_number\"]\n",
        "\n",
        "X_train, X_valid, y_train, y_valid = train_test_split(\n",
        "    X, y, test_size=0.2, random_state=42\n",
        ")\n",
        "y_train = list(y_train)\n",
        "y_valid = list(y_valid)\n",
        "\n",
        "\n",
        "X_train = X_train.transform(bert_encode)\n",
        "X_valid = X_valid.transform(bert_encode)\n",
        "X_train_words_encoded, X_train_mask = zip(*X_train)\n",
        "X_valid_words_encoded, X_valid_mask = zip(*X_valid)"
      ]
    },
    {
      "cell_type": "markdown",
      "id": "65d91ff1",
      "metadata": {
        "id": "65d91ff1",
        "papermill": {
          "duration": 0.011682,
          "end_time": "2022-08-10T15:05:15.143804",
          "exception": false,
          "start_time": "2022-08-10T15:05:15.132122",
          "status": "completed"
        },
        "tags": []
      },
      "source": [
        "Dataset Valid"
      ]
    },
    {
      "cell_type": "code",
      "execution_count": null,
      "id": "0a8d72c6",
      "metadata": {
        "execution": {
          "iopub.execute_input": "2022-08-10T15:05:15.170005Z",
          "iopub.status.busy": "2022-08-10T15:05:15.168863Z",
          "iopub.status.idle": "2022-08-10T15:05:15.727062Z",
          "shell.execute_reply": "2022-08-10T15:05:15.725429Z"
        },
        "id": "0a8d72c6",
        "outputId": "284a3830-0362-4c53-a8e0-a5c56a628395",
        "papermill": {
          "duration": 0.574076,
          "end_time": "2022-08-10T15:05:15.729695",
          "exception": false,
          "start_time": "2022-08-10T15:05:15.155619",
          "status": "completed"
        },
        "tags": []
      },
      "outputs": [
        {
          "name": "stdout",
          "output_type": "stream",
          "text": [
            "((TensorSpec(shape=(None, 512), dtype=tf.int32, name=None), TensorSpec(shape=(None, 512), dtype=tf.int32, name=None)), TensorSpec(shape=(None,), dtype=tf.int32, name=None))\n"
          ]
        }
      ],
      "source": [
        "valid_input_words_dataset = tensorflow.data.Dataset.from_tensor_slices(\n",
        "    (list(X_valid_words_encoded))\n",
        ").batch(BATCH_SIZE)\n",
        "\n",
        "\n",
        "valid_input_mask_dataset = tensorflow.data.Dataset.from_tensor_slices(\n",
        "    (list(X_valid_mask))\n",
        ").batch(BATCH_SIZE)\n",
        "\n",
        "valid_output_dataset = tensorflow.data.Dataset.from_tensor_slices((y_valid)).batch(\n",
        "    BATCH_SIZE\n",
        ")\n",
        "\n",
        "data_valid_words_mask = tensorflow.data.Dataset.zip(\n",
        "    (valid_input_words_dataset, valid_input_mask_dataset)\n",
        ")\n",
        "data_valid = tensorflow.data.Dataset.zip((data_valid_words_mask, valid_output_dataset))\n",
        "print(data_valid.element_spec)"
      ]
    },
    {
      "cell_type": "markdown",
      "id": "4d1a0282",
      "metadata": {
        "id": "4d1a0282",
        "papermill": {
          "duration": 0.011457,
          "end_time": "2022-08-10T15:05:15.753266",
          "exception": false,
          "start_time": "2022-08-10T15:05:15.741809",
          "status": "completed"
        },
        "tags": []
      },
      "source": [
        "Dataset train"
      ]
    },
    {
      "cell_type": "code",
      "execution_count": null,
      "id": "8b9dc6cf",
      "metadata": {
        "execution": {
          "iopub.execute_input": "2022-08-10T15:05:15.779352Z",
          "iopub.status.busy": "2022-08-10T15:05:15.779002Z",
          "iopub.status.idle": "2022-08-10T15:05:17.303652Z",
          "shell.execute_reply": "2022-08-10T15:05:17.301344Z"
        },
        "id": "8b9dc6cf",
        "outputId": "2371320a-bac5-4618-adb0-2330458d7703",
        "papermill": {
          "duration": 1.541305,
          "end_time": "2022-08-10T15:05:17.306384",
          "exception": false,
          "start_time": "2022-08-10T15:05:15.765079",
          "status": "completed"
        },
        "tags": []
      },
      "outputs": [
        {
          "name": "stdout",
          "output_type": "stream",
          "text": [
            "((TensorSpec(shape=(None, 512), dtype=tf.int32, name=None), TensorSpec(shape=(None, 512), dtype=tf.int32, name=None)), TensorSpec(shape=(None,), dtype=tf.int32, name=None))\n"
          ]
        }
      ],
      "source": [
        "train_input_words_dataset = tensorflow.data.Dataset.from_tensor_slices(\n",
        "    (list(X_train_words_encoded))\n",
        ").batch(BATCH_SIZE)\n",
        "\n",
        "\n",
        "train_input_mask_dataset = tensorflow.data.Dataset.from_tensor_slices(\n",
        "    (list(X_train_mask))\n",
        ").batch(BATCH_SIZE)\n",
        "\n",
        "train_output_dataset = tensorflow.data.Dataset.from_tensor_slices((y_train)).batch(\n",
        "    BATCH_SIZE\n",
        ")\n",
        "\n",
        "data_train_words_mask = tensorflow.data.Dataset.zip(\n",
        "    (train_input_words_dataset, train_input_mask_dataset)\n",
        ")\n",
        "data_train = tensorflow.data.Dataset.zip((data_train_words_mask, train_output_dataset))\n",
        "\n",
        "print(data_train.element_spec)"
      ]
    },
    {
      "cell_type": "markdown",
      "id": "aadfd384",
      "metadata": {
        "id": "aadfd384",
        "papermill": {
          "duration": 0.011058,
          "end_time": "2022-08-10T15:05:17.329858",
          "exception": false,
          "start_time": "2022-08-10T15:05:17.318800",
          "status": "completed"
        },
        "tags": []
      },
      "source": [
        "# Entrainement"
      ]
    },
    {
      "cell_type": "code",
      "execution_count": null,
      "id": "ee59583f",
      "metadata": {
        "execution": {
          "iopub.execute_input": "2022-08-10T15:05:17.354270Z",
          "iopub.status.busy": "2022-08-10T15:05:17.353870Z",
          "iopub.status.idle": "2022-08-10T15:05:17.361097Z",
          "shell.execute_reply": "2022-08-10T15:05:17.359626Z"
        },
        "id": "ee59583f",
        "papermill": {
          "duration": 0.022065,
          "end_time": "2022-08-10T15:05:17.363656",
          "exception": false,
          "start_time": "2022-08-10T15:05:17.341591",
          "status": "completed"
        },
        "tags": []
      },
      "outputs": [],
      "source": [
        "def multi_sample_drop_out(\n",
        "    layer_in, structure_dense_1, structure_dense_2, number_of_dropout\n",
        "):\n",
        "    concat_dropout_layer = []\n",
        "    for ratio in np.linspace(0.1, 0.5, number_of_dropout):\n",
        "        layer = tensorflow.keras.layers.Dropout(ratio)(layer_in)\n",
        "        layer = structure_dense_1(layer)\n",
        "        layer = structure_dense_2(layer)\n",
        "        concat_dropout_layer.append(layer)\n",
        "    layer_out = tensorflow.keras.layers.Average()(concat_dropout_layer)\n",
        "\n",
        "    return layer_out"
      ]
    },
    {
      "cell_type": "markdown",
      "id": "803aad0f",
      "metadata": {
        "papermill": {
          "duration": 0.011481,
          "end_time": "2022-08-10T15:05:17.386945",
          "exception": false,
          "start_time": "2022-08-10T15:05:17.375464",
          "status": "completed"
        },
        "tags": [],
        "id": "803aad0f"
      },
      "source": [
        "## Modele Initial"
      ]
    },
    {
      "cell_type": "code",
      "execution_count": null,
      "id": "8ea4b40d",
      "metadata": {
        "execution": {
          "iopub.execute_input": "2022-08-10T15:05:17.414030Z",
          "iopub.status.busy": "2022-08-10T15:05:17.412052Z",
          "iopub.status.idle": "2022-08-10T15:05:34.559111Z",
          "shell.execute_reply": "2022-08-10T15:05:34.557557Z"
        },
        "papermill": {
          "duration": 17.163144,
          "end_time": "2022-08-10T15:05:34.562112",
          "exception": false,
          "start_time": "2022-08-10T15:05:17.398968",
          "status": "completed"
        },
        "tags": [],
        "id": "8ea4b40d",
        "outputId": "95d05b49-bade-4400-dcd1-3a34bc061949"
      },
      "outputs": [
        {
          "name": "stderr",
          "output_type": "stream",
          "text": [
            "2022-08-10 15:05:19.549493: W tensorflow/python/util/util.cc:348] Sets are not currently considered sequences, but this may change in the future, so consider avoiding using them.\n",
            "Some layers from the model checkpoint at ../input/distil-bert were not used when initializing TFDistilBertModel: ['pre_classifier', 'dropout_19', 'classifier']\n",
            "- This IS expected if you are initializing TFDistilBertModel from the checkpoint of a model trained on another task or with another architecture (e.g. initializing a BertForSequenceClassification model from a BertForPreTraining model).\n",
            "- This IS NOT expected if you are initializing TFDistilBertModel from the checkpoint of a model that you expect to be exactly identical (initializing a BertForSequenceClassification model from a BertForSequenceClassification model).\n",
            "All the layers of TFDistilBertModel were initialized from the model checkpoint at ../input/distil-bert.\n",
            "If your task is similar to the task the model of the checkpoint was trained on, you can already use TFDistilBertModel for predictions without further training.\n"
          ]
        }
      ],
      "source": [
        "input_ids = tensorflow.keras.Input(\n",
        "    shape=(MAX_LEN,), dtype=tensorflow.int32, name=\"input_ids\"\n",
        ")\n",
        "attention_mask = tensorflow.keras.Input(\n",
        "    shape=(MAX_LEN,), dtype=tensorflow.int32, name=\"attention_mask\"\n",
        ")\n",
        "\n",
        "transformer_layer = transformers.TFAutoModel.from_pretrained(\"../input/distil-bert\")\n",
        "\n",
        "sequence_output = transformer_layer([input_ids, attention_mask])[\"last_hidden_state\"]\n",
        "clf_output = sequence_output[:, 0, :]\n",
        "layer = tensorflow.keras.layers.Dropout(0.2)(clf_output)\n",
        "layer = tensorflow.keras.layers.Dense(256, activation=\"relu\")(layer)\n",
        "out = tensorflow.keras.layers.Dense(3, activation=\"softmax\")(layer)\n",
        "model = tensorflow.keras.Model(inputs=[input_ids, attention_mask], outputs=out)\n",
        "\n",
        "model.compile(\n",
        "    tensorflow.keras.optimizers.Adam(learning_rate=LEARNING_RATE),\n",
        "    loss=\"sparse_categorical_crossentropy\",\n",
        "    metrics=[\"accuracy\"],\n",
        ")"
      ]
    },
    {
      "cell_type": "code",
      "execution_count": null,
      "id": "1086672d",
      "metadata": {
        "execution": {
          "iopub.execute_input": "2022-08-10T15:05:34.590002Z",
          "iopub.status.busy": "2022-08-10T15:05:34.588306Z",
          "iopub.status.idle": "2022-08-10T15:59:52.455221Z",
          "shell.execute_reply": "2022-08-10T15:59:52.453387Z"
        },
        "papermill": {
          "duration": 3257.88348,
          "end_time": "2022-08-10T15:59:52.458422",
          "exception": false,
          "start_time": "2022-08-10T15:05:34.574942",
          "status": "completed"
        },
        "tags": [],
        "id": "1086672d",
        "outputId": "71a89cdd-3634-41f5-a71a-16a9aa7d4373"
      },
      "outputs": [
        {
          "name": "stdout",
          "output_type": "stream",
          "text": [
            "Epoch 1/3\n"
          ]
        },
        {
          "name": "stderr",
          "output_type": "stream",
          "text": [
            "2022-08-10 15:05:41.974312: I tensorflow/compiler/mlir/mlir_graph_optimization_pass.cc:185] None of the MLIR Optimization Passes are enabled (registered 2)\n"
          ]
        },
        {
          "name": "stdout",
          "output_type": "stream",
          "text": [
            "1834/1834 [==============================] - 1084s 586ms/step - loss: 0.7428 - accuracy: 0.6643 - val_loss: 0.6538 - val_accuracy: 0.7084\n",
            "Epoch 2/3\n",
            "1834/1834 [==============================] - 1072s 584ms/step - loss: 0.6230 - accuracy: 0.7251 - val_loss: 0.6757 - val_accuracy: 0.7076\n",
            "Epoch 3/3\n",
            "1834/1834 [==============================] - 1072s 584ms/step - loss: 0.5450 - accuracy: 0.7636 - val_loss: 0.7199 - val_accuracy: 0.7125\n"
          ]
        }
      ],
      "source": [
        "Stopping_condition = tensorflow.keras.callbacks.EarlyStopping(\n",
        "    monitor=\"val_accuracy\",\n",
        "    min_delta=0.03,\n",
        "    patience=10,\n",
        "    # mode='max',\n",
        "    verbose=1,\n",
        ")\n",
        "\n",
        "history = model.fit(\n",
        "    data_train,\n",
        "    epochs=3,\n",
        "    # validation_steps = validation_size // batch_size,\n",
        "    validation_data=data_valid,\n",
        "    # steps_per_epoch = train_size // batch_size,\n",
        "    callbacks=[Stopping_condition],\n",
        ")"
      ]
    },
    {
      "cell_type": "code",
      "execution_count": null,
      "id": "7419c403",
      "metadata": {
        "execution": {
          "iopub.execute_input": "2022-08-10T15:59:53.161093Z",
          "iopub.status.busy": "2022-08-10T15:59:53.160578Z",
          "iopub.status.idle": "2022-08-10T15:59:53.684729Z",
          "shell.execute_reply": "2022-08-10T15:59:53.683159Z"
        },
        "papermill": {
          "duration": 0.852013,
          "end_time": "2022-08-10T15:59:53.687465",
          "exception": false,
          "start_time": "2022-08-10T15:59:52.835452",
          "status": "completed"
        },
        "tags": [],
        "id": "7419c403",
        "outputId": "d2f8882a-5620-4a4b-d05f-285d82d076ed"
      },
      "outputs": [
        {
          "data": {
            "image/png": "[encoded data removed]",
            "text/plain": [
              "<Figure size 432x288 with 1 Axes>"
            ]
          },
          "metadata": {
            "needs_background": "light"
          },
          "output_type": "display_data"
        },
        {
          "data": {
            "image/png": "[encoded data removed]",
            "text/plain": [
              "<Figure size 432x288 with 1 Axes>"
            ]
          },
          "metadata": {
            "needs_background": "light"
          },
          "output_type": "display_data"
        }
      ],
      "source": [
        "plot_curves(history)"
      ]
    },
    {
      "cell_type": "markdown",
      "id": "54a47d9d",
      "metadata": {
        "papermill": {
          "duration": 0.324672,
          "end_time": "2022-08-10T15:59:54.337000",
          "exception": false,
          "start_time": "2022-08-10T15:59:54.012328",
          "status": "completed"
        },
        "tags": [],
        "id": "54a47d9d"
      },
      "source": [
        "## Modele DropOut"
      ]
    },
    {
      "cell_type": "code",
      "execution_count": null,
      "id": "9ce27a32",
      "metadata": {
        "execution": {
          "iopub.execute_input": "2022-08-10T15:59:55.030304Z",
          "iopub.status.busy": "2022-08-10T15:59:55.029822Z",
          "iopub.status.idle": "2022-08-10T16:00:00.452479Z",
          "shell.execute_reply": "2022-08-10T16:00:00.451156Z"
        },
        "id": "9ce27a32",
        "outputId": "3c080ef0-ffc2-4cbf-ebec-c7079d213a6d",
        "papermill": {
          "duration": 5.793773,
          "end_time": "2022-08-10T16:00:00.455349",
          "exception": false,
          "start_time": "2022-08-10T15:59:54.661576",
          "status": "completed"
        },
        "tags": []
      },
      "outputs": [
        {
          "name": "stderr",
          "output_type": "stream",
          "text": [
            "Some layers from the model checkpoint at ../input/distil-bert were not used when initializing TFDistilBertModel: ['pre_classifier', 'dropout_19', 'classifier']\n",
            "- This IS expected if you are initializing TFDistilBertModel from the checkpoint of a model trained on another task or with another architecture (e.g. initializing a BertForSequenceClassification model from a BertForPreTraining model).\n",
            "- This IS NOT expected if you are initializing TFDistilBertModel from the checkpoint of a model that you expect to be exactly identical (initializing a BertForSequenceClassification model from a BertForSequenceClassification model).\n",
            "All the layers of TFDistilBertModel were initialized from the model checkpoint at ../input/distil-bert.\n",
            "If your task is similar to the task the model of the checkpoint was trained on, you can already use TFDistilBertModel for predictions without further training.\n"
          ]
        }
      ],
      "source": [
        "input_ids = tensorflow.keras.Input(\n",
        "    shape=(MAX_LEN,), dtype=tensorflow.int32, name=\"input_ids\"\n",
        ")\n",
        "attention_mask = tensorflow.keras.Input(\n",
        "    shape=(MAX_LEN,), dtype=tensorflow.int32, name=\"attention_mask\"\n",
        ")\n",
        "\n",
        "transformer_layer = transformers.TFAutoModel.from_pretrained(\"../input/distil-bert\")\n",
        "\n",
        "sequence_output = transformer_layer([input_ids, attention_mask])[\"last_hidden_state\"]\n",
        "clf_output = sequence_output[:, 0, :]\n",
        "\n",
        "out = multi_sample_drop_out(\n",
        "    clf_output,\n",
        "    tensorflow.keras.layers.Dense(256, activation=\"relu\"),\n",
        "    tensorflow.keras.layers.Dense(3, activation=\"softmax\"),\n",
        "    5,\n",
        ")\n",
        "model = tensorflow.keras.Model(inputs=[input_ids, attention_mask], outputs=out)\n",
        "\n",
        "model.compile(\n",
        "    tensorflow.keras.optimizers.Adam(learning_rate=LEARNING_RATE),\n",
        "    loss=\"sparse_categorical_crossentropy\",\n",
        "    metrics=[\"accuracy\"],\n",
        ")"
      ]
    },
    {
      "cell_type": "code",
      "execution_count": null,
      "id": "f9ea7d76",
      "metadata": {
        "execution": {
          "iopub.execute_input": "2022-08-10T16:00:01.110885Z",
          "iopub.status.busy": "2022-08-10T16:00:01.109409Z",
          "iopub.status.idle": "2022-08-10T16:54:20.896286Z",
          "shell.execute_reply": "2022-08-10T16:54:20.894776Z"
        },
        "id": "f9ea7d76",
        "outputId": "f7e62290-63c8-452a-c149-bec2bbd02a81",
        "papermill": {
          "duration": 3260.852118,
          "end_time": "2022-08-10T16:54:21.636816",
          "exception": false,
          "start_time": "2022-08-10T16:00:00.784698",
          "status": "completed"
        },
        "tags": []
      },
      "outputs": [
        {
          "name": "stdout",
          "output_type": "stream",
          "text": [
            "Epoch 1/3\n",
            "1834/1834 [==============================] - 1085s 586ms/step - loss: 0.7369 - accuracy: 0.6664 - val_loss: 0.6729 - val_accuracy: 0.6987\n",
            "Epoch 2/3\n",
            "1834/1834 [==============================] - 1074s 586ms/step - loss: 0.6180 - accuracy: 0.7283 - val_loss: 0.6428 - val_accuracy: 0.7178\n",
            "Epoch 3/3\n",
            "1834/1834 [==============================] - 1074s 586ms/step - loss: 0.5424 - accuracy: 0.7649 - val_loss: 0.6763 - val_accuracy: 0.7219\n"
          ]
        }
      ],
      "source": [
        "Stopping_condition = tensorflow.keras.callbacks.EarlyStopping(\n",
        "    monitor=\"val_accuracy\",\n",
        "    min_delta=0.03,\n",
        "    patience=10,\n",
        "    # mode='max',\n",
        "    verbose=1,\n",
        ")\n",
        "\n",
        "history = model.fit(\n",
        "    data_train,\n",
        "    epochs=3,\n",
        "    # validation_steps = validation_size // batch_size,\n",
        "    validation_data=data_valid,\n",
        "    # steps_per_epoch = train_size // batch_size,\n",
        "    callbacks=[Stopping_condition],\n",
        ")"
      ]
    },
    {
      "cell_type": "code",
      "execution_count": null,
      "id": "186ed9e9",
      "metadata": {
        "execution": {
          "iopub.execute_input": "2022-08-10T16:54:22.988380Z",
          "iopub.status.busy": "2022-08-10T16:54:22.987111Z",
          "iopub.status.idle": "2022-08-10T16:54:23.465080Z",
          "shell.execute_reply": "2022-08-10T16:54:23.463221Z"
        },
        "papermill": {
          "duration": 1.190012,
          "end_time": "2022-08-10T16:54:23.468289",
          "exception": false,
          "start_time": "2022-08-10T16:54:22.278277",
          "status": "completed"
        },
        "tags": [],
        "id": "186ed9e9",
        "outputId": "a2b19af9-d078-4776-82ec-b95bc023ae6d"
      },
      "outputs": [
        {
          "data": {
            "image/png": "[encoded data removed]",
            "text/plain": [
              "<Figure size 432x288 with 1 Axes>"
            ]
          },
          "metadata": {
            "needs_background": "light"
          },
          "output_type": "display_data"
        },
        {
          "data": {
            "image/png": "[encoded data removed]",
            "text/plain": [
              "<Figure size 432x288 with 1 Axes>"
            ]
          },
          "metadata": {
            "needs_background": "light"
          },
          "output_type": "display_data"
        }
      ],
      "source": [
        "plot_curves(history)"
      ]
    }
  ],
  "metadata": {
    "kernelspec": {
      "display_name": "Python 3",
      "language": "python",
      "name": "python3"
    },
    "language_info": {
      "codemirror_mode": {
        "name": "ipython",
        "version": 3
      },
      "file_extension": ".py",
      "mimetype": "text/x-python",
      "name": "python",
      "nbconvert_exporter": "python",
      "pygments_lexer": "ipython3",
      "version": "3.7.12"
    },
    "papermill": {
      "default_parameters": {},
      "duration": 7192.422662,
      "end_time": "2022-08-10T16:54:36.566980",
      "environment_variables": {},
      "exception": true,
      "input_path": "__notebook__.ipynb",
      "output_path": "__notebook__.ipynb",
      "parameters": {},
      "start_time": "2022-08-10T14:54:44.144318",
      "version": "2.3.4"
    },
    "colab": {
      "name": "P8_BERT_CONCAT.ipynb",
      "provenance": [],
      "collapsed_sections": [],
      "include_colab_link": true
    }
  },
  "nbformat": 4,
  "nbformat_minor": 5
}