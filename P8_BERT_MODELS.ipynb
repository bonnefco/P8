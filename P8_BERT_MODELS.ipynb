{
  "cells": [
    {
      "cell_type": "markdown",
      "metadata": {
        "id": "view-in-github",
        "colab_type": "text"
      },
      "source": [
        "<a href=\"https://colab.research.google.com/github/bonnefco/P8/blob/main/P8_BERT_MODELS.ipynb\" target=\"_parent\"><img src=\"https://colab.research.google.com/assets/colab-badge.svg\" alt=\"Open In Colab\"/></a>"
      ]
    },
    {
      "cell_type": "markdown",
      "metadata": {
        "id": "zfREIvCPHHSe"
      },
      "source": [
        "# Importation des librairies"
      ]
    },
    {
      "cell_type": "code",
      "execution_count": 1,
      "metadata": {
        "id": "SWSzYlbMK8fm"
      },
      "outputs": [],
      "source": [
        "import pandas as pd\n",
        "import matplotlib.pyplot as plt\n",
        "import seaborn as sns\n",
        "import numpy as np\n",
        "import sklearn\n",
        "import ast\n",
        "from scipy import stats\n",
        "import tensorflow\n",
        "from sklearn.model_selection import train_test_split"
      ]
    },
    {
      "cell_type": "code",
      "execution_count": 2,
      "metadata": {
        "colab": {
          "base_uri": "https://localhost:8080/"
        },
        "id": "7021K76tiaBW",
        "outputId": "73b159d3-0512-4b5d-ee7d-abc615ab0df6"
      },
      "outputs": [
        {
          "output_type": "stream",
          "name": "stdout",
          "text": [
            "Looking in indexes: https://pypi.org/simple, https://us-python.pkg.dev/colab-wheels/public/simple/\n",
            "Requirement already satisfied: transformers in /usr/local/lib/python3.7/dist-packages (4.21.1)\n",
            "Requirement already satisfied: pyyaml>=5.1 in /usr/local/lib/python3.7/dist-packages (from transformers) (6.0)\n",
            "Requirement already satisfied: requests in /usr/local/lib/python3.7/dist-packages (from transformers) (2.23.0)\n",
            "Requirement already satisfied: filelock in /usr/local/lib/python3.7/dist-packages (from transformers) (3.7.1)\n",
            "Requirement already satisfied: regex!=2019.12.17 in /usr/local/lib/python3.7/dist-packages (from transformers) (2022.6.2)\n",
            "Requirement already satisfied: numpy>=1.17 in /usr/local/lib/python3.7/dist-packages (from transformers) (1.21.6)\n",
            "Requirement already satisfied: huggingface-hub<1.0,>=0.1.0 in /usr/local/lib/python3.7/dist-packages (from transformers) (0.8.1)\n",
            "Requirement already satisfied: tokenizers!=0.11.3,<0.13,>=0.11.1 in /usr/local/lib/python3.7/dist-packages (from transformers) (0.12.1)\n",
            "Requirement already satisfied: packaging>=20.0 in /usr/local/lib/python3.7/dist-packages (from transformers) (21.3)\n",
            "Requirement already satisfied: tqdm>=4.27 in /usr/local/lib/python3.7/dist-packages (from transformers) (4.64.0)\n",
            "Requirement already satisfied: importlib-metadata in /usr/local/lib/python3.7/dist-packages (from transformers) (4.12.0)\n",
            "Requirement already satisfied: typing-extensions>=3.7.4.3 in /usr/local/lib/python3.7/dist-packages (from huggingface-hub<1.0,>=0.1.0->transformers) (4.1.1)\n",
            "Requirement already satisfied: pyparsing!=3.0.5,>=2.0.2 in /usr/local/lib/python3.7/dist-packages (from packaging>=20.0->transformers) (3.0.9)\n",
            "Requirement already satisfied: zipp>=0.5 in /usr/local/lib/python3.7/dist-packages (from importlib-metadata->transformers) (3.8.1)\n",
            "Requirement already satisfied: certifi>=2017.4.17 in /usr/local/lib/python3.7/dist-packages (from requests->transformers) (2022.6.15)\n",
            "Requirement already satisfied: urllib3!=1.25.0,!=1.25.1,<1.26,>=1.21.1 in /usr/local/lib/python3.7/dist-packages (from requests->transformers) (1.24.3)\n",
            "Requirement already satisfied: idna<3,>=2.5 in /usr/local/lib/python3.7/dist-packages (from requests->transformers) (2.10)\n",
            "Requirement already satisfied: chardet<4,>=3.0.2 in /usr/local/lib/python3.7/dist-packages (from requests->transformers) (3.0.4)\n",
            "Looking in indexes: https://pypi.org/simple, https://us-python.pkg.dev/colab-wheels/public/simple/\n",
            "Requirement already satisfied: transformers[sentencepiece] in /usr/local/lib/python3.7/dist-packages (4.21.1)\n",
            "Requirement already satisfied: numpy>=1.17 in /usr/local/lib/python3.7/dist-packages (from transformers[sentencepiece]) (1.21.6)\n",
            "Requirement already satisfied: requests in /usr/local/lib/python3.7/dist-packages (from transformers[sentencepiece]) (2.23.0)\n",
            "Requirement already satisfied: importlib-metadata in /usr/local/lib/python3.7/dist-packages (from transformers[sentencepiece]) (4.12.0)\n",
            "Requirement already satisfied: regex!=2019.12.17 in /usr/local/lib/python3.7/dist-packages (from transformers[sentencepiece]) (2022.6.2)\n",
            "Requirement already satisfied: packaging>=20.0 in /usr/local/lib/python3.7/dist-packages (from transformers[sentencepiece]) (21.3)\n",
            "Requirement already satisfied: pyyaml>=5.1 in /usr/local/lib/python3.7/dist-packages (from transformers[sentencepiece]) (6.0)\n",
            "Requirement already satisfied: filelock in /usr/local/lib/python3.7/dist-packages (from transformers[sentencepiece]) (3.7.1)\n",
            "Requirement already satisfied: tokenizers!=0.11.3,<0.13,>=0.11.1 in /usr/local/lib/python3.7/dist-packages (from transformers[sentencepiece]) (0.12.1)\n",
            "Requirement already satisfied: huggingface-hub<1.0,>=0.1.0 in /usr/local/lib/python3.7/dist-packages (from transformers[sentencepiece]) (0.8.1)\n",
            "Requirement already satisfied: tqdm>=4.27 in /usr/local/lib/python3.7/dist-packages (from transformers[sentencepiece]) (4.64.0)\n",
            "Requirement already satisfied: sentencepiece!=0.1.92,>=0.1.91 in /usr/local/lib/python3.7/dist-packages (from transformers[sentencepiece]) (0.1.96)\n",
            "Requirement already satisfied: protobuf<=3.20.1 in /usr/local/lib/python3.7/dist-packages (from transformers[sentencepiece]) (3.17.3)\n",
            "Requirement already satisfied: typing-extensions>=3.7.4.3 in /usr/local/lib/python3.7/dist-packages (from huggingface-hub<1.0,>=0.1.0->transformers[sentencepiece]) (4.1.1)\n",
            "Requirement already satisfied: pyparsing!=3.0.5,>=2.0.2 in /usr/local/lib/python3.7/dist-packages (from packaging>=20.0->transformers[sentencepiece]) (3.0.9)\n",
            "Requirement already satisfied: six>=1.9 in /usr/local/lib/python3.7/dist-packages (from protobuf<=3.20.1->transformers[sentencepiece]) (1.15.0)\n",
            "Requirement already satisfied: zipp>=0.5 in /usr/local/lib/python3.7/dist-packages (from importlib-metadata->transformers[sentencepiece]) (3.8.1)\n",
            "Requirement already satisfied: chardet<4,>=3.0.2 in /usr/local/lib/python3.7/dist-packages (from requests->transformers[sentencepiece]) (3.0.4)\n",
            "Requirement already satisfied: urllib3!=1.25.0,!=1.25.1,<1.26,>=1.21.1 in /usr/local/lib/python3.7/dist-packages (from requests->transformers[sentencepiece]) (1.24.3)\n",
            "Requirement already satisfied: certifi>=2017.4.17 in /usr/local/lib/python3.7/dist-packages (from requests->transformers[sentencepiece]) (2022.6.15)\n",
            "Requirement already satisfied: idna<3,>=2.5 in /usr/local/lib/python3.7/dist-packages (from requests->transformers[sentencepiece]) (2.10)\n"
          ]
        }
      ],
      "source": [
        "!pip install transformers\n",
        "import transformers\n",
        "from transformers import TFAutoModel\n",
        "!pip install transformers[sentencepiece]"
      ]
    },
    {
      "cell_type": "code",
      "execution_count": 3,
      "metadata": {
        "id": "HiZJC33N9AFr"
      },
      "outputs": [],
      "source": [
        "tensorflow.keras.backend.clear_session()"
      ]
    },
    {
      "cell_type": "markdown",
      "metadata": {
        "id": "va_SVEYjB0aW"
      },
      "source": [
        "# Fonctions utiles"
      ]
    },
    {
      "cell_type": "code",
      "execution_count": 4,
      "metadata": {
        "id": "EWFT7iW3iTfQ"
      },
      "outputs": [],
      "source": [
        "def plot_curves(history):\n",
        "\n",
        "  plt.plot(history.history['accuracy'])\n",
        "  plt.plot(history.history['val_accuracy'])\n",
        "  plt.title('model accuracy')\n",
        "  plt.ylabel('accuracy')\n",
        "  plt.xlabel('epoch')\n",
        "  plt.legend(['train', 'valid'], loc='upper left')\n",
        "  plt.show()\n",
        "\n",
        "  plt.plot(history.history['loss'])\n",
        "  plt.plot(history.history['val_loss'])\n",
        "  plt.title('model loss')\n",
        "  plt.ylabel('loss')\n",
        "  plt.xlabel('epoch')\n",
        "  plt.legend(['train', 'valid'], loc='upper left')\n",
        "  plt.show()\n",
        "\n",
        "  return"
      ]
    },
    {
      "cell_type": "markdown",
      "metadata": {
        "id": "dGhjeFIqB3kv"
      },
      "source": [
        "# Nettoyage"
      ]
    },
    {
      "cell_type": "markdown",
      "metadata": {
        "id": "6VuZ595O-MNx"
      },
      "source": [
        "## Chargement fichier source"
      ]
    },
    {
      "cell_type": "code",
      "execution_count": 5,
      "metadata": {
        "colab": {
          "base_uri": "https://localhost:8080/",
          "height": 424
        },
        "id": "SxU2y1tJRj-P",
        "outputId": "e8ccb641-4bd5-4f85-e981-d91032e4ad2e"
      },
      "outputs": [
        {
          "output_type": "execute_result",
          "data": {
            "text/plain": [
              "                                          discourse_text  \\\n",
              "0      Hi, i'm Isaac, i'm going to be writing about h...   \n",
              "1      On my perspective, I think that the face is a ...   \n",
              "2      I think that the face is a natural landform be...   \n",
              "3      If life was on Mars, we would know by now. The...   \n",
              "4      People thought that the face was formed by ali...   \n",
              "...                                                  ...   \n",
              "36672  For many people they don't like only asking on...   \n",
              "36673  also people have different views and opinions ...   \n",
              "36674  Advice is something that can impact a persons ...   \n",
              "36675  someone can use everything that many people sa...   \n",
              "36676  In conclusion asking for an opinion can be ben...   \n",
              "\n",
              "             discourse_type discourse_effectiveness  \n",
              "0                      Lead                Adequate  \n",
              "1                  Position                Adequate  \n",
              "2                     Claim                Adequate  \n",
              "3                  Evidence                Adequate  \n",
              "4              Counterclaim                Adequate  \n",
              "...                     ...                     ...  \n",
              "36672                 Claim                Adequate  \n",
              "36673                 Claim                Adequate  \n",
              "36674              Position                Adequate  \n",
              "36675              Evidence             Ineffective  \n",
              "36676  Concluding Statement             Ineffective  \n",
              "\n",
              "[36677 rows x 3 columns]"
            ],
            "text/html": [
              "\n",
              "  <div id=\"df-40ec4325-caee-4991-a43c-8964addc7221\">\n",
              "    <div class=\"colab-df-container\">\n",
              "      <div>\n",
              "<style scoped>\n",
              "    .dataframe tbody tr th:only-of-type {\n",
              "        vertical-align: middle;\n",
              "    }\n",
              "\n",
              "    .dataframe tbody tr th {\n",
              "        vertical-align: top;\n",
              "    }\n",
              "\n",
              "    .dataframe thead th {\n",
              "        text-align: right;\n",
              "    }\n",
              "</style>\n",
              "<table border=\"1\" class=\"dataframe\">\n",
              "  <thead>\n",
              "    <tr style=\"text-align: right;\">\n",
              "      <th></th>\n",
              "      <th>discourse_text</th>\n",
              "      <th>discourse_type</th>\n",
              "      <th>discourse_effectiveness</th>\n",
              "    </tr>\n",
              "  </thead>\n",
              "  <tbody>\n",
              "    <tr>\n",
              "      <th>0</th>\n",
              "      <td>Hi, i'm Isaac, i'm going to be writing about h...</td>\n",
              "      <td>Lead</td>\n",
              "      <td>Adequate</td>\n",
              "    </tr>\n",
              "    <tr>\n",
              "      <th>1</th>\n",
              "      <td>On my perspective, I think that the face is a ...</td>\n",
              "      <td>Position</td>\n",
              "      <td>Adequate</td>\n",
              "    </tr>\n",
              "    <tr>\n",
              "      <th>2</th>\n",
              "      <td>I think that the face is a natural landform be...</td>\n",
              "      <td>Claim</td>\n",
              "      <td>Adequate</td>\n",
              "    </tr>\n",
              "    <tr>\n",
              "      <th>3</th>\n",
              "      <td>If life was on Mars, we would know by now. The...</td>\n",
              "      <td>Evidence</td>\n",
              "      <td>Adequate</td>\n",
              "    </tr>\n",
              "    <tr>\n",
              "      <th>4</th>\n",
              "      <td>People thought that the face was formed by ali...</td>\n",
              "      <td>Counterclaim</td>\n",
              "      <td>Adequate</td>\n",
              "    </tr>\n",
              "    <tr>\n",
              "      <th>...</th>\n",
              "      <td>...</td>\n",
              "      <td>...</td>\n",
              "      <td>...</td>\n",
              "    </tr>\n",
              "    <tr>\n",
              "      <th>36672</th>\n",
              "      <td>For many people they don't like only asking on...</td>\n",
              "      <td>Claim</td>\n",
              "      <td>Adequate</td>\n",
              "    </tr>\n",
              "    <tr>\n",
              "      <th>36673</th>\n",
              "      <td>also people have different views and opinions ...</td>\n",
              "      <td>Claim</td>\n",
              "      <td>Adequate</td>\n",
              "    </tr>\n",
              "    <tr>\n",
              "      <th>36674</th>\n",
              "      <td>Advice is something that can impact a persons ...</td>\n",
              "      <td>Position</td>\n",
              "      <td>Adequate</td>\n",
              "    </tr>\n",
              "    <tr>\n",
              "      <th>36675</th>\n",
              "      <td>someone can use everything that many people sa...</td>\n",
              "      <td>Evidence</td>\n",
              "      <td>Ineffective</td>\n",
              "    </tr>\n",
              "    <tr>\n",
              "      <th>36676</th>\n",
              "      <td>In conclusion asking for an opinion can be ben...</td>\n",
              "      <td>Concluding Statement</td>\n",
              "      <td>Ineffective</td>\n",
              "    </tr>\n",
              "  </tbody>\n",
              "</table>\n",
              "<p>36677 rows × 3 columns</p>\n",
              "</div>\n",
              "      <button class=\"colab-df-convert\" onclick=\"convertToInteractive('df-40ec4325-caee-4991-a43c-8964addc7221')\"\n",
              "              title=\"Convert this dataframe to an interactive table.\"\n",
              "              style=\"display:none;\">\n",
              "        \n",
              "  <svg xmlns=\"http://www.w3.org/2000/svg\" height=\"24px\"viewBox=\"0 0 24 24\"\n",
              "       width=\"24px\">\n",
              "    <path d=\"M0 0h24v24H0V0z\" fill=\"none\"/>\n",
              "    <path d=\"M18.56 5.44l.94 2.06.94-2.06 2.06-.94-2.06-.94-.94-2.06-.94 2.06-2.06.94zm-11 1L8.5 8.5l.94-2.06 2.06-.94-2.06-.94L8.5 2.5l-.94 2.06-2.06.94zm10 10l.94 2.06.94-2.06 2.06-.94-2.06-.94-.94-2.06-.94 2.06-2.06.94z\"/><path d=\"M17.41 7.96l-1.37-1.37c-.4-.4-.92-.59-1.43-.59-.52 0-1.04.2-1.43.59L10.3 9.45l-7.72 7.72c-.78.78-.78 2.05 0 2.83L4 21.41c.39.39.9.59 1.41.59.51 0 1.02-.2 1.41-.59l7.78-7.78 2.81-2.81c.8-.78.8-2.07 0-2.86zM5.41 20L4 18.59l7.72-7.72 1.47 1.35L5.41 20z\"/>\n",
              "  </svg>\n",
              "      </button>\n",
              "      \n",
              "  <style>\n",
              "    .colab-df-container {\n",
              "      display:flex;\n",
              "      flex-wrap:wrap;\n",
              "      gap: 12px;\n",
              "    }\n",
              "\n",
              "    .colab-df-convert {\n",
              "      background-color: #E8F0FE;\n",
              "      border: none;\n",
              "      border-radius: 50%;\n",
              "      cursor: pointer;\n",
              "      display: none;\n",
              "      fill: #1967D2;\n",
              "      height: 32px;\n",
              "      padding: 0 0 0 0;\n",
              "      width: 32px;\n",
              "    }\n",
              "\n",
              "    .colab-df-convert:hover {\n",
              "      background-color: #E2EBFA;\n",
              "      box-shadow: 0px 1px 2px rgba(60, 64, 67, 0.3), 0px 1px 3px 1px rgba(60, 64, 67, 0.15);\n",
              "      fill: #174EA6;\n",
              "    }\n",
              "\n",
              "    [theme=dark] .colab-df-convert {\n",
              "      background-color: #3B4455;\n",
              "      fill: #D2E3FC;\n",
              "    }\n",
              "\n",
              "    [theme=dark] .colab-df-convert:hover {\n",
              "      background-color: #434B5C;\n",
              "      box-shadow: 0px 1px 3px 1px rgba(0, 0, 0, 0.15);\n",
              "      filter: drop-shadow(0px 1px 2px rgba(0, 0, 0, 0.3));\n",
              "      fill: #FFFFFF;\n",
              "    }\n",
              "  </style>\n",
              "\n",
              "      <script>\n",
              "        const buttonEl =\n",
              "          document.querySelector('#df-40ec4325-caee-4991-a43c-8964addc7221 button.colab-df-convert');\n",
              "        buttonEl.style.display =\n",
              "          google.colab.kernel.accessAllowed ? 'block' : 'none';\n",
              "\n",
              "        async function convertToInteractive(key) {\n",
              "          const element = document.querySelector('#df-40ec4325-caee-4991-a43c-8964addc7221');\n",
              "          const dataTable =\n",
              "            await google.colab.kernel.invokeFunction('convertToInteractive',\n",
              "                                                     [key], {});\n",
              "          if (!dataTable) return;\n",
              "\n",
              "          const docLinkHtml = 'Like what you see? Visit the ' +\n",
              "            '<a target=\"_blank\" href=https://colab.research.google.com/notebooks/data_table.ipynb>data table notebook</a>'\n",
              "            + ' to learn more about interactive tables.';\n",
              "          element.innerHTML = '';\n",
              "          dataTable['output_type'] = 'display_data';\n",
              "          await google.colab.output.renderOutput(dataTable, element);\n",
              "          const docLink = document.createElement('div');\n",
              "          docLink.innerHTML = docLinkHtml;\n",
              "          element.appendChild(docLink);\n",
              "        }\n",
              "      </script>\n",
              "    </div>\n",
              "  </div>\n",
              "  "
            ]
          },
          "metadata": {},
          "execution_count": 5
        }
      ],
      "source": [
        "df_effective_args = pd.read_csv('/content/drive/MyDrive/Colab_Notebooks/P8/dataset/train_light.csv',encoding=\"utf-8\",header=(0))\n",
        "df_effective_args"
      ]
    },
    {
      "cell_type": "markdown",
      "metadata": {
        "id": "2lxdwflf-QR7"
      },
      "source": [
        "## Encodage des labels"
      ]
    },
    {
      "cell_type": "code",
      "execution_count": 6,
      "metadata": {
        "id": "RMv2kUA2nFC2"
      },
      "outputs": [],
      "source": [
        "df_effective_args[\"discourse_effectiveness_number\"] = df_effective_args[\"discourse_effectiveness\"].replace({\"Ineffective\": 0, \"Adequate\": 1, \"Effective\": 2})"
      ]
    },
    {
      "cell_type": "markdown",
      "metadata": {
        "id": "P9cjSazV2Wgk"
      },
      "source": [
        "credits : https://www.kaggle.com/code/iamleonie/feedback-prize-eda-starter-for-beginners\n",
        "\n",
        "Get the sep_token from the tokenizer and create the input sequences from discourse_type and discourse_text.\n",
        "\n",
        "sep_token - A special token separating two different sentences in the same input (see https://huggingface.co/docs/transformers/main_classes/tokenizer)"
      ]
    },
    {
      "cell_type": "markdown",
      "metadata": {
        "id": "S8kj_yhI-cxs"
      },
      "source": [
        "## Feature Engineering"
      ]
    },
    {
      "cell_type": "code",
      "execution_count": 7,
      "metadata": {
        "id": "ezVhGxtq0f-C"
      },
      "outputs": [],
      "source": [
        "MODEL_NAME = \"distilbert-base-uncased-finetuned-sst-2-english\"\n",
        "tokenizer_BERT = transformers.AutoTokenizer.from_pretrained(MODEL_NAME, pad_token = '[PAD]', max_length=512, truncation = True)"
      ]
    },
    {
      "cell_type": "code",
      "execution_count": 8,
      "metadata": {
        "colab": {
          "base_uri": "https://localhost:8080/",
          "height": 143
        },
        "id": "xMTL-JjH1C62",
        "outputId": "08650756-1c61-4fa3-8967-032f30a5d712"
      },
      "outputs": [
        {
          "output_type": "execute_result",
          "data": {
            "text/plain": [
              "                                      discourse_text discourse_type  \\\n",
              "0  Hi, i'm Isaac, i'm going to be writing about h...           Lead   \n",
              "1  On my perspective, I think that the face is a ...       Position   \n",
              "2  I think that the face is a natural landform be...          Claim   \n",
              "\n",
              "  discourse_effectiveness  discourse_effectiveness_number  \\\n",
              "0                Adequate                               1   \n",
              "1                Adequate                               1   \n",
              "2                Adequate                               1   \n",
              "\n",
              "                   discourse_type_SEP_discourse_text  \n",
              "0  Lead[SEP]Hi, i'm Isaac, i'm going to be writin...  \n",
              "1  Position[SEP]On my perspective, I think that t...  \n",
              "2  Claim[SEP]I think that the face is a natural l...  "
            ],
            "text/html": [
              "\n",
              "  <div id=\"df-dde6bbc0-6dff-4d9a-86b0-2b671c4bfcf6\">\n",
              "    <div class=\"colab-df-container\">\n",
              "      <div>\n",
              "<style scoped>\n",
              "    .dataframe tbody tr th:only-of-type {\n",
              "        vertical-align: middle;\n",
              "    }\n",
              "\n",
              "    .dataframe tbody tr th {\n",
              "        vertical-align: top;\n",
              "    }\n",
              "\n",
              "    .dataframe thead th {\n",
              "        text-align: right;\n",
              "    }\n",
              "</style>\n",
              "<table border=\"1\" class=\"dataframe\">\n",
              "  <thead>\n",
              "    <tr style=\"text-align: right;\">\n",
              "      <th></th>\n",
              "      <th>discourse_text</th>\n",
              "      <th>discourse_type</th>\n",
              "      <th>discourse_effectiveness</th>\n",
              "      <th>discourse_effectiveness_number</th>\n",
              "      <th>discourse_type_SEP_discourse_text</th>\n",
              "    </tr>\n",
              "  </thead>\n",
              "  <tbody>\n",
              "    <tr>\n",
              "      <th>0</th>\n",
              "      <td>Hi, i'm Isaac, i'm going to be writing about h...</td>\n",
              "      <td>Lead</td>\n",
              "      <td>Adequate</td>\n",
              "      <td>1</td>\n",
              "      <td>Lead[SEP]Hi, i'm Isaac, i'm going to be writin...</td>\n",
              "    </tr>\n",
              "    <tr>\n",
              "      <th>1</th>\n",
              "      <td>On my perspective, I think that the face is a ...</td>\n",
              "      <td>Position</td>\n",
              "      <td>Adequate</td>\n",
              "      <td>1</td>\n",
              "      <td>Position[SEP]On my perspective, I think that t...</td>\n",
              "    </tr>\n",
              "    <tr>\n",
              "      <th>2</th>\n",
              "      <td>I think that the face is a natural landform be...</td>\n",
              "      <td>Claim</td>\n",
              "      <td>Adequate</td>\n",
              "      <td>1</td>\n",
              "      <td>Claim[SEP]I think that the face is a natural l...</td>\n",
              "    </tr>\n",
              "  </tbody>\n",
              "</table>\n",
              "</div>\n",
              "      <button class=\"colab-df-convert\" onclick=\"convertToInteractive('df-dde6bbc0-6dff-4d9a-86b0-2b671c4bfcf6')\"\n",
              "              title=\"Convert this dataframe to an interactive table.\"\n",
              "              style=\"display:none;\">\n",
              "        \n",
              "  <svg xmlns=\"http://www.w3.org/2000/svg\" height=\"24px\"viewBox=\"0 0 24 24\"\n",
              "       width=\"24px\">\n",
              "    <path d=\"M0 0h24v24H0V0z\" fill=\"none\"/>\n",
              "    <path d=\"M18.56 5.44l.94 2.06.94-2.06 2.06-.94-2.06-.94-.94-2.06-.94 2.06-2.06.94zm-11 1L8.5 8.5l.94-2.06 2.06-.94-2.06-.94L8.5 2.5l-.94 2.06-2.06.94zm10 10l.94 2.06.94-2.06 2.06-.94-2.06-.94-.94-2.06-.94 2.06-2.06.94z\"/><path d=\"M17.41 7.96l-1.37-1.37c-.4-.4-.92-.59-1.43-.59-.52 0-1.04.2-1.43.59L10.3 9.45l-7.72 7.72c-.78.78-.78 2.05 0 2.83L4 21.41c.39.39.9.59 1.41.59.51 0 1.02-.2 1.41-.59l7.78-7.78 2.81-2.81c.8-.78.8-2.07 0-2.86zM5.41 20L4 18.59l7.72-7.72 1.47 1.35L5.41 20z\"/>\n",
              "  </svg>\n",
              "      </button>\n",
              "      \n",
              "  <style>\n",
              "    .colab-df-container {\n",
              "      display:flex;\n",
              "      flex-wrap:wrap;\n",
              "      gap: 12px;\n",
              "    }\n",
              "\n",
              "    .colab-df-convert {\n",
              "      background-color: #E8F0FE;\n",
              "      border: none;\n",
              "      border-radius: 50%;\n",
              "      cursor: pointer;\n",
              "      display: none;\n",
              "      fill: #1967D2;\n",
              "      height: 32px;\n",
              "      padding: 0 0 0 0;\n",
              "      width: 32px;\n",
              "    }\n",
              "\n",
              "    .colab-df-convert:hover {\n",
              "      background-color: #E2EBFA;\n",
              "      box-shadow: 0px 1px 2px rgba(60, 64, 67, 0.3), 0px 1px 3px 1px rgba(60, 64, 67, 0.15);\n",
              "      fill: #174EA6;\n",
              "    }\n",
              "\n",
              "    [theme=dark] .colab-df-convert {\n",
              "      background-color: #3B4455;\n",
              "      fill: #D2E3FC;\n",
              "    }\n",
              "\n",
              "    [theme=dark] .colab-df-convert:hover {\n",
              "      background-color: #434B5C;\n",
              "      box-shadow: 0px 1px 3px 1px rgba(0, 0, 0, 0.15);\n",
              "      filter: drop-shadow(0px 1px 2px rgba(0, 0, 0, 0.3));\n",
              "      fill: #FFFFFF;\n",
              "    }\n",
              "  </style>\n",
              "\n",
              "      <script>\n",
              "        const buttonEl =\n",
              "          document.querySelector('#df-dde6bbc0-6dff-4d9a-86b0-2b671c4bfcf6 button.colab-df-convert');\n",
              "        buttonEl.style.display =\n",
              "          google.colab.kernel.accessAllowed ? 'block' : 'none';\n",
              "\n",
              "        async function convertToInteractive(key) {\n",
              "          const element = document.querySelector('#df-dde6bbc0-6dff-4d9a-86b0-2b671c4bfcf6');\n",
              "          const dataTable =\n",
              "            await google.colab.kernel.invokeFunction('convertToInteractive',\n",
              "                                                     [key], {});\n",
              "          if (!dataTable) return;\n",
              "\n",
              "          const docLinkHtml = 'Like what you see? Visit the ' +\n",
              "            '<a target=\"_blank\" href=https://colab.research.google.com/notebooks/data_table.ipynb>data table notebook</a>'\n",
              "            + ' to learn more about interactive tables.';\n",
              "          element.innerHTML = '';\n",
              "          dataTable['output_type'] = 'display_data';\n",
              "          await google.colab.output.renderOutput(dataTable, element);\n",
              "          const docLink = document.createElement('div');\n",
              "          docLink.innerHTML = docLinkHtml;\n",
              "          element.appendChild(docLink);\n",
              "        }\n",
              "      </script>\n",
              "    </div>\n",
              "  </div>\n",
              "  "
            ]
          },
          "metadata": {},
          "execution_count": 8
        }
      ],
      "source": [
        "sep = tokenizer_BERT.sep_token\n",
        "df_effective_args['discourse_type_SEP_discourse_text'] = df_effective_args.discourse_type + sep + df_effective_args.discourse_text\n",
        "df_effective_args.head(3)"
      ]
    },
    {
      "cell_type": "markdown",
      "metadata": {
        "id": "-pW2NmUL-kLc"
      },
      "source": [
        "## Tokenization"
      ]
    },
    {
      "cell_type": "code",
      "execution_count": 9,
      "metadata": {
        "colab": {
          "base_uri": "https://localhost:8080/"
        },
        "id": "pT901AymF9MZ",
        "outputId": "1f19653a-8c15-4346-b367-256638c80dfe"
      },
      "outputs": [
        {
          "output_type": "stream",
          "name": "stderr",
          "text": [
            "Token indices sequence length is longer than the specified maximum sequence length for this model (580 > 512). Running this sequence through the model will result in indexing errors\n"
          ]
        }
      ],
      "source": [
        "df_effective_args['discourse_tokenized'] = df_effective_args['discourse_type_SEP_discourse_text'].apply(tokenizer_BERT.tokenize)"
      ]
    },
    {
      "cell_type": "code",
      "execution_count": 10,
      "metadata": {
        "colab": {
          "base_uri": "https://localhost:8080/",
          "height": 239
        },
        "id": "jzK8LFj2KzeI",
        "outputId": "cfcfea0e-84c7-4c04-8856-2627819904e1"
      },
      "outputs": [
        {
          "output_type": "execute_result",
          "data": {
            "text/plain": [
              "                                      discourse_text discourse_type  \\\n",
              "0  Hi, i'm Isaac, i'm going to be writing about h...           Lead   \n",
              "1  On my perspective, I think that the face is a ...       Position   \n",
              "2  I think that the face is a natural landform be...          Claim   \n",
              "\n",
              "  discourse_effectiveness  discourse_effectiveness_number  \\\n",
              "0                Adequate                               1   \n",
              "1                Adequate                               1   \n",
              "2                Adequate                               1   \n",
              "\n",
              "                   discourse_type_SEP_discourse_text  \\\n",
              "0  Lead[SEP]Hi, i'm Isaac, i'm going to be writin...   \n",
              "1  Position[SEP]On my perspective, I think that t...   \n",
              "2  Claim[SEP]I think that the face is a natural l...   \n",
              "\n",
              "                                 discourse_tokenized  \n",
              "0  [lead, [SEP], hi, ,, i, ', m, isaac, ,, i, ', ...  \n",
              "1  [position, [SEP], on, my, perspective, ,, i, t...  \n",
              "2  [claim, [SEP], i, think, that, the, face, is, ...  "
            ],
            "text/html": [
              "\n",
              "  <div id=\"df-d3aa6825-3e44-497a-8395-9fb91d0a9606\">\n",
              "    <div class=\"colab-df-container\">\n",
              "      <div>\n",
              "<style scoped>\n",
              "    .dataframe tbody tr th:only-of-type {\n",
              "        vertical-align: middle;\n",
              "    }\n",
              "\n",
              "    .dataframe tbody tr th {\n",
              "        vertical-align: top;\n",
              "    }\n",
              "\n",
              "    .dataframe thead th {\n",
              "        text-align: right;\n",
              "    }\n",
              "</style>\n",
              "<table border=\"1\" class=\"dataframe\">\n",
              "  <thead>\n",
              "    <tr style=\"text-align: right;\">\n",
              "      <th></th>\n",
              "      <th>discourse_text</th>\n",
              "      <th>discourse_type</th>\n",
              "      <th>discourse_effectiveness</th>\n",
              "      <th>discourse_effectiveness_number</th>\n",
              "      <th>discourse_type_SEP_discourse_text</th>\n",
              "      <th>discourse_tokenized</th>\n",
              "    </tr>\n",
              "  </thead>\n",
              "  <tbody>\n",
              "    <tr>\n",
              "      <th>0</th>\n",
              "      <td>Hi, i'm Isaac, i'm going to be writing about h...</td>\n",
              "      <td>Lead</td>\n",
              "      <td>Adequate</td>\n",
              "      <td>1</td>\n",
              "      <td>Lead[SEP]Hi, i'm Isaac, i'm going to be writin...</td>\n",
              "      <td>[lead, [SEP], hi, ,, i, ', m, isaac, ,, i, ', ...</td>\n",
              "    </tr>\n",
              "    <tr>\n",
              "      <th>1</th>\n",
              "      <td>On my perspective, I think that the face is a ...</td>\n",
              "      <td>Position</td>\n",
              "      <td>Adequate</td>\n",
              "      <td>1</td>\n",
              "      <td>Position[SEP]On my perspective, I think that t...</td>\n",
              "      <td>[position, [SEP], on, my, perspective, ,, i, t...</td>\n",
              "    </tr>\n",
              "    <tr>\n",
              "      <th>2</th>\n",
              "      <td>I think that the face is a natural landform be...</td>\n",
              "      <td>Claim</td>\n",
              "      <td>Adequate</td>\n",
              "      <td>1</td>\n",
              "      <td>Claim[SEP]I think that the face is a natural l...</td>\n",
              "      <td>[claim, [SEP], i, think, that, the, face, is, ...</td>\n",
              "    </tr>\n",
              "  </tbody>\n",
              "</table>\n",
              "</div>\n",
              "      <button class=\"colab-df-convert\" onclick=\"convertToInteractive('df-d3aa6825-3e44-497a-8395-9fb91d0a9606')\"\n",
              "              title=\"Convert this dataframe to an interactive table.\"\n",
              "              style=\"display:none;\">\n",
              "        \n",
              "  <svg xmlns=\"http://www.w3.org/2000/svg\" height=\"24px\"viewBox=\"0 0 24 24\"\n",
              "       width=\"24px\">\n",
              "    <path d=\"M0 0h24v24H0V0z\" fill=\"none\"/>\n",
              "    <path d=\"M18.56 5.44l.94 2.06.94-2.06 2.06-.94-2.06-.94-.94-2.06-.94 2.06-2.06.94zm-11 1L8.5 8.5l.94-2.06 2.06-.94-2.06-.94L8.5 2.5l-.94 2.06-2.06.94zm10 10l.94 2.06.94-2.06 2.06-.94-2.06-.94-.94-2.06-.94 2.06-2.06.94z\"/><path d=\"M17.41 7.96l-1.37-1.37c-.4-.4-.92-.59-1.43-.59-.52 0-1.04.2-1.43.59L10.3 9.45l-7.72 7.72c-.78.78-.78 2.05 0 2.83L4 21.41c.39.39.9.59 1.41.59.51 0 1.02-.2 1.41-.59l7.78-7.78 2.81-2.81c.8-.78.8-2.07 0-2.86zM5.41 20L4 18.59l7.72-7.72 1.47 1.35L5.41 20z\"/>\n",
              "  </svg>\n",
              "      </button>\n",
              "      \n",
              "  <style>\n",
              "    .colab-df-container {\n",
              "      display:flex;\n",
              "      flex-wrap:wrap;\n",
              "      gap: 12px;\n",
              "    }\n",
              "\n",
              "    .colab-df-convert {\n",
              "      background-color: #E8F0FE;\n",
              "      border: none;\n",
              "      border-radius: 50%;\n",
              "      cursor: pointer;\n",
              "      display: none;\n",
              "      fill: #1967D2;\n",
              "      height: 32px;\n",
              "      padding: 0 0 0 0;\n",
              "      width: 32px;\n",
              "    }\n",
              "\n",
              "    .colab-df-convert:hover {\n",
              "      background-color: #E2EBFA;\n",
              "      box-shadow: 0px 1px 2px rgba(60, 64, 67, 0.3), 0px 1px 3px 1px rgba(60, 64, 67, 0.15);\n",
              "      fill: #174EA6;\n",
              "    }\n",
              "\n",
              "    [theme=dark] .colab-df-convert {\n",
              "      background-color: #3B4455;\n",
              "      fill: #D2E3FC;\n",
              "    }\n",
              "\n",
              "    [theme=dark] .colab-df-convert:hover {\n",
              "      background-color: #434B5C;\n",
              "      box-shadow: 0px 1px 3px 1px rgba(0, 0, 0, 0.15);\n",
              "      filter: drop-shadow(0px 1px 2px rgba(0, 0, 0, 0.3));\n",
              "      fill: #FFFFFF;\n",
              "    }\n",
              "  </style>\n",
              "\n",
              "      <script>\n",
              "        const buttonEl =\n",
              "          document.querySelector('#df-d3aa6825-3e44-497a-8395-9fb91d0a9606 button.colab-df-convert');\n",
              "        buttonEl.style.display =\n",
              "          google.colab.kernel.accessAllowed ? 'block' : 'none';\n",
              "\n",
              "        async function convertToInteractive(key) {\n",
              "          const element = document.querySelector('#df-d3aa6825-3e44-497a-8395-9fb91d0a9606');\n",
              "          const dataTable =\n",
              "            await google.colab.kernel.invokeFunction('convertToInteractive',\n",
              "                                                     [key], {});\n",
              "          if (!dataTable) return;\n",
              "\n",
              "          const docLinkHtml = 'Like what you see? Visit the ' +\n",
              "            '<a target=\"_blank\" href=https://colab.research.google.com/notebooks/data_table.ipynb>data table notebook</a>'\n",
              "            + ' to learn more about interactive tables.';\n",
              "          element.innerHTML = '';\n",
              "          dataTable['output_type'] = 'display_data';\n",
              "          await google.colab.output.renderOutput(dataTable, element);\n",
              "          const docLink = document.createElement('div');\n",
              "          docLink.innerHTML = docLinkHtml;\n",
              "          element.appendChild(docLink);\n",
              "        }\n",
              "      </script>\n",
              "    </div>\n",
              "  </div>\n",
              "  "
            ]
          },
          "metadata": {},
          "execution_count": 10
        }
      ],
      "source": [
        "df_effective_args.head(3)"
      ]
    },
    {
      "cell_type": "markdown",
      "metadata": {
        "id": "meL3YSia-nB3"
      },
      "source": [
        "## Longueur chaine de caractere"
      ]
    },
    {
      "cell_type": "code",
      "execution_count": 11,
      "metadata": {
        "id": "2KvPmCrwK_1j"
      },
      "outputs": [],
      "source": [
        "def counter_len_in_text(string):\n",
        "  return len(string)"
      ]
    },
    {
      "cell_type": "code",
      "execution_count": 12,
      "metadata": {
        "id": "9EvN8WfuLB7U"
      },
      "outputs": [],
      "source": [
        "df_effective_args['Longueur_texte'] = df_effective_args['discourse_tokenized'].apply(counter_len_in_text)"
      ]
    },
    {
      "cell_type": "code",
      "execution_count": 13,
      "metadata": {
        "colab": {
          "base_uri": "https://localhost:8080/",
          "height": 239
        },
        "id": "DDtkJrglLLM2",
        "outputId": "01f3be50-a284-4952-952c-d9b4e07b64c9"
      },
      "outputs": [
        {
          "output_type": "execute_result",
          "data": {
            "text/plain": [
              "                                      discourse_text discourse_type  \\\n",
              "0  Hi, i'm Isaac, i'm going to be writing about h...           Lead   \n",
              "1  On my perspective, I think that the face is a ...       Position   \n",
              "2  I think that the face is a natural landform be...          Claim   \n",
              "\n",
              "  discourse_effectiveness  discourse_effectiveness_number  \\\n",
              "0                Adequate                               1   \n",
              "1                Adequate                               1   \n",
              "2                Adequate                               1   \n",
              "\n",
              "                   discourse_type_SEP_discourse_text  \\\n",
              "0  Lead[SEP]Hi, i'm Isaac, i'm going to be writin...   \n",
              "1  Position[SEP]On my perspective, I think that t...   \n",
              "2  Claim[SEP]I think that the face is a natural l...   \n",
              "\n",
              "                                 discourse_tokenized  Longueur_texte  \n",
              "0  [lead, [SEP], hi, ,, i, ', m, isaac, ,, i, ', ...              84  \n",
              "1  [position, [SEP], on, my, perspective, ,, i, t...              52  \n",
              "2  [claim, [SEP], i, think, that, the, face, is, ...              26  "
            ],
            "text/html": [
              "\n",
              "  <div id=\"df-60c40250-8e83-4482-9abe-47d4ceac4857\">\n",
              "    <div class=\"colab-df-container\">\n",
              "      <div>\n",
              "<style scoped>\n",
              "    .dataframe tbody tr th:only-of-type {\n",
              "        vertical-align: middle;\n",
              "    }\n",
              "\n",
              "    .dataframe tbody tr th {\n",
              "        vertical-align: top;\n",
              "    }\n",
              "\n",
              "    .dataframe thead th {\n",
              "        text-align: right;\n",
              "    }\n",
              "</style>\n",
              "<table border=\"1\" class=\"dataframe\">\n",
              "  <thead>\n",
              "    <tr style=\"text-align: right;\">\n",
              "      <th></th>\n",
              "      <th>discourse_text</th>\n",
              "      <th>discourse_type</th>\n",
              "      <th>discourse_effectiveness</th>\n",
              "      <th>discourse_effectiveness_number</th>\n",
              "      <th>discourse_type_SEP_discourse_text</th>\n",
              "      <th>discourse_tokenized</th>\n",
              "      <th>Longueur_texte</th>\n",
              "    </tr>\n",
              "  </thead>\n",
              "  <tbody>\n",
              "    <tr>\n",
              "      <th>0</th>\n",
              "      <td>Hi, i'm Isaac, i'm going to be writing about h...</td>\n",
              "      <td>Lead</td>\n",
              "      <td>Adequate</td>\n",
              "      <td>1</td>\n",
              "      <td>Lead[SEP]Hi, i'm Isaac, i'm going to be writin...</td>\n",
              "      <td>[lead, [SEP], hi, ,, i, ', m, isaac, ,, i, ', ...</td>\n",
              "      <td>84</td>\n",
              "    </tr>\n",
              "    <tr>\n",
              "      <th>1</th>\n",
              "      <td>On my perspective, I think that the face is a ...</td>\n",
              "      <td>Position</td>\n",
              "      <td>Adequate</td>\n",
              "      <td>1</td>\n",
              "      <td>Position[SEP]On my perspective, I think that t...</td>\n",
              "      <td>[position, [SEP], on, my, perspective, ,, i, t...</td>\n",
              "      <td>52</td>\n",
              "    </tr>\n",
              "    <tr>\n",
              "      <th>2</th>\n",
              "      <td>I think that the face is a natural landform be...</td>\n",
              "      <td>Claim</td>\n",
              "      <td>Adequate</td>\n",
              "      <td>1</td>\n",
              "      <td>Claim[SEP]I think that the face is a natural l...</td>\n",
              "      <td>[claim, [SEP], i, think, that, the, face, is, ...</td>\n",
              "      <td>26</td>\n",
              "    </tr>\n",
              "  </tbody>\n",
              "</table>\n",
              "</div>\n",
              "      <button class=\"colab-df-convert\" onclick=\"convertToInteractive('df-60c40250-8e83-4482-9abe-47d4ceac4857')\"\n",
              "              title=\"Convert this dataframe to an interactive table.\"\n",
              "              style=\"display:none;\">\n",
              "        \n",
              "  <svg xmlns=\"http://www.w3.org/2000/svg\" height=\"24px\"viewBox=\"0 0 24 24\"\n",
              "       width=\"24px\">\n",
              "    <path d=\"M0 0h24v24H0V0z\" fill=\"none\"/>\n",
              "    <path d=\"M18.56 5.44l.94 2.06.94-2.06 2.06-.94-2.06-.94-.94-2.06-.94 2.06-2.06.94zm-11 1L8.5 8.5l.94-2.06 2.06-.94-2.06-.94L8.5 2.5l-.94 2.06-2.06.94zm10 10l.94 2.06.94-2.06 2.06-.94-2.06-.94-.94-2.06-.94 2.06-2.06.94z\"/><path d=\"M17.41 7.96l-1.37-1.37c-.4-.4-.92-.59-1.43-.59-.52 0-1.04.2-1.43.59L10.3 9.45l-7.72 7.72c-.78.78-.78 2.05 0 2.83L4 21.41c.39.39.9.59 1.41.59.51 0 1.02-.2 1.41-.59l7.78-7.78 2.81-2.81c.8-.78.8-2.07 0-2.86zM5.41 20L4 18.59l7.72-7.72 1.47 1.35L5.41 20z\"/>\n",
              "  </svg>\n",
              "      </button>\n",
              "      \n",
              "  <style>\n",
              "    .colab-df-container {\n",
              "      display:flex;\n",
              "      flex-wrap:wrap;\n",
              "      gap: 12px;\n",
              "    }\n",
              "\n",
              "    .colab-df-convert {\n",
              "      background-color: #E8F0FE;\n",
              "      border: none;\n",
              "      border-radius: 50%;\n",
              "      cursor: pointer;\n",
              "      display: none;\n",
              "      fill: #1967D2;\n",
              "      height: 32px;\n",
              "      padding: 0 0 0 0;\n",
              "      width: 32px;\n",
              "    }\n",
              "\n",
              "    .colab-df-convert:hover {\n",
              "      background-color: #E2EBFA;\n",
              "      box-shadow: 0px 1px 2px rgba(60, 64, 67, 0.3), 0px 1px 3px 1px rgba(60, 64, 67, 0.15);\n",
              "      fill: #174EA6;\n",
              "    }\n",
              "\n",
              "    [theme=dark] .colab-df-convert {\n",
              "      background-color: #3B4455;\n",
              "      fill: #D2E3FC;\n",
              "    }\n",
              "\n",
              "    [theme=dark] .colab-df-convert:hover {\n",
              "      background-color: #434B5C;\n",
              "      box-shadow: 0px 1px 3px 1px rgba(0, 0, 0, 0.15);\n",
              "      filter: drop-shadow(0px 1px 2px rgba(0, 0, 0, 0.3));\n",
              "      fill: #FFFFFF;\n",
              "    }\n",
              "  </style>\n",
              "\n",
              "      <script>\n",
              "        const buttonEl =\n",
              "          document.querySelector('#df-60c40250-8e83-4482-9abe-47d4ceac4857 button.colab-df-convert');\n",
              "        buttonEl.style.display =\n",
              "          google.colab.kernel.accessAllowed ? 'block' : 'none';\n",
              "\n",
              "        async function convertToInteractive(key) {\n",
              "          const element = document.querySelector('#df-60c40250-8e83-4482-9abe-47d4ceac4857');\n",
              "          const dataTable =\n",
              "            await google.colab.kernel.invokeFunction('convertToInteractive',\n",
              "                                                     [key], {});\n",
              "          if (!dataTable) return;\n",
              "\n",
              "          const docLinkHtml = 'Like what you see? Visit the ' +\n",
              "            '<a target=\"_blank\" href=https://colab.research.google.com/notebooks/data_table.ipynb>data table notebook</a>'\n",
              "            + ' to learn more about interactive tables.';\n",
              "          element.innerHTML = '';\n",
              "          dataTable['output_type'] = 'display_data';\n",
              "          await google.colab.output.renderOutput(dataTable, element);\n",
              "          const docLink = document.createElement('div');\n",
              "          docLink.innerHTML = docLinkHtml;\n",
              "          element.appendChild(docLink);\n",
              "        }\n",
              "      </script>\n",
              "    </div>\n",
              "  </div>\n",
              "  "
            ]
          },
          "metadata": {},
          "execution_count": 13
        }
      ],
      "source": [
        "df_effective_args.head(3)"
      ]
    },
    {
      "cell_type": "code",
      "execution_count": 14,
      "metadata": {
        "colab": {
          "base_uri": "https://localhost:8080/",
          "height": 282
        },
        "id": "bGjU2jGfLUat",
        "outputId": "aa9ad5ba-2b01-45bf-f356-8145fa1a6cc5"
      },
      "outputs": [
        {
          "output_type": "display_data",
          "data": {
            "text/plain": [
              "<Figure size 432x288 with 1 Axes>"
            ],
            "image/png": "[encoded data removed]"
          },
          "metadata": {
            "needs_background": "light"
          }
        },
        {
          "output_type": "stream",
          "name": "stdout",
          "text": [
            "valeur du 99eme percentile = 261.0\n"
          ]
        }
      ],
      "source": [
        "plt.figure()\n",
        "df_effective_args['Longueur_texte'].hist(bins=150)\n",
        "plt.axvline(df_effective_args['Longueur_texte'].mean(), color='g', linestyle='dashed', linewidth=1)\n",
        "plt.axvline(df_effective_args['Longueur_texte'].median(), color='r', linestyle='dashed', linewidth=1)\n",
        "plt.axvline(df_effective_args['Longueur_texte'].quantile(.99), color='b', linestyle='dashed', linewidth=1)\n",
        "plt.show()\n",
        "\n",
        "print('valeur du 99eme percentile =', df_effective_args['Longueur_texte'].quantile(.99))"
      ]
    },
    {
      "cell_type": "code",
      "execution_count": 15,
      "metadata": {
        "id": "qL2toY3X8pEA"
      },
      "outputs": [],
      "source": [
        "MAX_LEN = 270"
      ]
    },
    {
      "cell_type": "markdown",
      "metadata": {
        "id": "x470jk7t-yr-"
      },
      "source": [
        "# Encodage BERT"
      ]
    },
    {
      "cell_type": "code",
      "execution_count": 16,
      "metadata": {
        "id": "wafMjT0Y3uxe"
      },
      "outputs": [],
      "source": [
        "# sample_sequence = df_effective_args['discourse_type_SEP_discourse_text'].iloc[500]\n",
        "# print(sample_sequence)\n",
        "\n",
        "\n",
        "# token = tokenizer_BERT(sample_sequence, \n",
        "#                   max_length         = MAX_LEN, \n",
        "#                   truncation         = True, \n",
        "#                   padding            = 'max_length',\n",
        "#                   add_special_tokens = True,\n",
        "#                   return_tensors     = \"np\"\n",
        "#                  )\n",
        "    \n",
        "# print('\\ninput_ids:')\n",
        "# print(token['input_ids'])\n",
        "# print('\\nattention_mask:')\n",
        "# print(token['attention_mask'])\n",
        "# print(token['attention_mask'].sum())\n",
        "# print(len(tokenizer_BERT.tokenize(sample_sequence)))"
      ]
    },
    {
      "cell_type": "code",
      "execution_count": 17,
      "metadata": {
        "id": "Z1hWIbG_C3-Q"
      },
      "outputs": [],
      "source": [
        "def bert_encode(texts, tokenizer = tokenizer_BERT):\n",
        "\n",
        "    token = tokenizer(texts, \n",
        "                      max_length         = MAX_LEN, \n",
        "                      truncation         = True, \n",
        "                      padding            = \"max_length\",\n",
        "                      add_special_tokens = True,\n",
        "                      return_tensors     = \"tf\")\n",
        "        \n",
        "    input_ids = token['input_ids']\n",
        "    attention_mask = token['attention_mask']\n",
        "    \n",
        "    return input_ids[0], attention_mask[0]"
      ]
    },
    {
      "cell_type": "markdown",
      "metadata": {
        "id": "N1OcgxMV290v"
      },
      "source": [
        "Let's have a look at what the tokenizer does with one sample:\n",
        "\n",
        "The function bert_encode() returns two arrays: input_ids andattention_mask\n",
        "\n",
        "https://huggingface.co/docs/transformers/main_classes/tokenizer\n",
        "\n",
        "*   input_ids — List of token ids to be fed to a model.\n",
        "\n",
        "*    attention_mask — List of indices specifying which tokens should be attended to by the model (when return_attention_mask=True or if “attention_mask” is in self.model_input_names)."
      ]
    },
    {
      "cell_type": "markdown",
      "metadata": {
        "id": "koxsfXmY-3cC"
      },
      "source": [
        "# Creation modele"
      ]
    },
    {
      "cell_type": "markdown",
      "metadata": {
        "id": "VxmMSZ_d-8zL"
      },
      "source": [
        "## Hyper-paramètres"
      ]
    },
    {
      "cell_type": "code",
      "execution_count": 18,
      "metadata": {
        "id": "IhWKw3GQ0fNs"
      },
      "outputs": [],
      "source": [
        "# Configuration\n",
        "BATCH_SIZE = 8\n",
        "DROPOUT = 0.1\n",
        "LEARNING_RATE = 5e-5\n",
        "MAX_LEN = MAX_LEN"
      ]
    },
    {
      "cell_type": "code",
      "execution_count": 19,
      "metadata": {
        "id": "F31pjBm4Z11u"
      },
      "outputs": [],
      "source": [
        "X = df_effective_args['discourse_type_SEP_discourse_text']\n",
        "y = df_effective_args['discourse_effectiveness_number']\n",
        "\n",
        "X_train, X_valid, y_train, y_valid = train_test_split(X, y, test_size=0.2, random_state=42)\n",
        "y_train = list(y_train)\n",
        "y_valid= list(y_valid)"
      ]
    },
    {
      "cell_type": "code",
      "execution_count": 20,
      "metadata": {
        "id": "BqCTu0Wvky1c"
      },
      "outputs": [],
      "source": [
        "X_train = X_train.transform(bert_encode)\n",
        "X_valid = X_valid.transform(bert_encode)\n",
        "X_train_words_encoded, X_train_mask = zip(*X_train)\n",
        "X_valid_words_encoded, X_valid_mask = zip(*X_valid)"
      ]
    },
    {
      "cell_type": "markdown",
      "metadata": {
        "id": "U_pcrFn3SZoQ"
      },
      "source": [
        "Dataset Valid"
      ]
    },
    {
      "cell_type": "code",
      "execution_count": 21,
      "metadata": {
        "id": "oyMSnGwgSYlt",
        "colab": {
          "base_uri": "https://localhost:8080/"
        },
        "outputId": "3e1537e1-f965-4a5e-d91b-b35cb6445357"
      },
      "outputs": [
        {
          "output_type": "stream",
          "name": "stdout",
          "text": [
            "((TensorSpec(shape=(None, 270), dtype=tf.int32, name=None), TensorSpec(shape=(None, 270), dtype=tf.int32, name=None)), TensorSpec(shape=(None,), dtype=tf.int32, name=None))\n"
          ]
        }
      ],
      "source": [
        "valid_input_words_dataset = (\n",
        "            tensorflow.data.Dataset\n",
        "            .from_tensor_slices((list(X_valid_words_encoded)))\n",
        "            .batch(BATCH_SIZE)\n",
        ")\n",
        "\n",
        "\n",
        "valid_input_mask_dataset = (\n",
        "            tensorflow.data.Dataset\n",
        "            .from_tensor_slices((list(X_valid_mask)))\n",
        "            .batch(BATCH_SIZE)\n",
        ")\n",
        "\n",
        "valid_output_dataset = (\n",
        "            tensorflow.data.Dataset\n",
        "            .from_tensor_slices((y_valid))\n",
        "            .batch(BATCH_SIZE)\n",
        ")\n",
        "\n",
        "data_valid_words_mask = tensorflow.data.Dataset.zip((valid_input_words_dataset, valid_input_mask_dataset))\n",
        "data_valid = tensorflow.data.Dataset.zip((data_valid_words_mask, valid_output_dataset))\n",
        "print(data_valid.element_spec)"
      ]
    },
    {
      "cell_type": "markdown",
      "metadata": {
        "id": "2T1FnyWJSeJB"
      },
      "source": [
        "Dataset train"
      ]
    },
    {
      "cell_type": "code",
      "execution_count": 22,
      "metadata": {
        "id": "LXpBt1MFSde-",
        "colab": {
          "base_uri": "https://localhost:8080/"
        },
        "outputId": "10fe3487-339c-487f-bc67-94456913ed66"
      },
      "outputs": [
        {
          "output_type": "stream",
          "name": "stdout",
          "text": [
            "((TensorSpec(shape=(None, 270), dtype=tf.int32, name=None), TensorSpec(shape=(None, 270), dtype=tf.int32, name=None)), TensorSpec(shape=(None,), dtype=tf.int32, name=None))\n"
          ]
        }
      ],
      "source": [
        "train_input_words_dataset = (\n",
        "            tensorflow.data.Dataset\n",
        "            .from_tensor_slices((list(X_train_words_encoded)))\n",
        "            .batch(BATCH_SIZE)\n",
        ")\n",
        "\n",
        "\n",
        "train_input_mask_dataset = (\n",
        "            tensorflow.data.Dataset\n",
        "            .from_tensor_slices((list(X_train_mask)))\n",
        "            .batch(BATCH_SIZE)\n",
        ")\n",
        "\n",
        "train_output_dataset = (\n",
        "            tensorflow.data.Dataset\n",
        "            .from_tensor_slices((y_train))\n",
        "            .batch(BATCH_SIZE)\n",
        ")\n",
        "\n",
        "data_train_words_mask = tensorflow.data.Dataset.zip((train_input_words_dataset, train_input_mask_dataset))\n",
        "data_train = tensorflow.data.Dataset.zip((data_train_words_mask, train_output_dataset))\n",
        "\n",
        "print(data_train.element_spec)"
      ]
    },
    {
      "cell_type": "markdown",
      "metadata": {
        "id": "967gHtRQCbKR"
      },
      "source": [
        "## Entrainement"
      ]
    },
    {
      "cell_type": "markdown",
      "metadata": {
        "id": "UuD7YBTfP5qN"
      },
      "source": [
        "### Modele de base"
      ]
    },
    {
      "cell_type": "code",
      "execution_count": null,
      "metadata": {
        "id": "e9014V8478rw"
      },
      "outputs": [],
      "source": [
        "input_ids = tensorflow.keras.Input(shape = (MAX_LEN, ), dtype = tensorflow.int32, name = \"input_ids\")\n",
        "attention_mask = tensorflow.keras.Input(shape = (MAX_LEN, ), dtype = tensorflow.int32, name = \"attention_mask\")\n",
        "\n",
        "transformer_layer = (transformers.TFAutoModel.from_pretrained(MODEL_NAME))\n",
        "\n",
        "sequence_output = transformer_layer([input_ids, attention_mask])['last_hidden_state']\n",
        "clf_output = sequence_output[:, 0, :]\n",
        "layer = tensorflow.keras.layers.Dense(128, activation=\"relu\")(clf_output)\n",
        "out = tensorflow.keras.layers.Dense(3, activation='softmax')(layer)\n",
        "\n",
        "model = tensorflow.keras.Model(inputs = [input_ids, attention_mask], \n",
        "              outputs = out)\n",
        "\n",
        "model.compile(tensorflow.keras.optimizers.Adam(learning_rate = LEARNING_RATE), \n",
        "              loss = 'sparse_categorical_crossentropy', \n",
        "              metrics = ['accuracy'])"
      ]
    },
    {
      "cell_type": "code",
      "execution_count": null,
      "metadata": {
        "id": "UaptcPcyTHZh"
      },
      "outputs": [],
      "source": [
        "#model.summary()"
      ]
    },
    {
      "cell_type": "code",
      "execution_count": 25,
      "metadata": {
        "colab": {
          "base_uri": "https://localhost:8080/",
          "height": 729
        },
        "id": "QvnPo4g9MCJD",
        "outputId": "5a4b6db0-e322-462d-a9a4-b9f989fadbcd"
      },
      "outputs": [
        {
          "output_type": "stream",
          "name": "stdout",
          "text": [
            "Epoch 1/20\n",
            "3668/3668 [==============================] - 616s 166ms/step - loss: 0.7700 - accuracy: 0.6530 - val_loss: 0.7545 - val_accuracy: 0.6801\n",
            "Epoch 2/20\n",
            "3668/3668 [==============================] - 609s 166ms/step - loss: 0.6365 - accuracy: 0.7172 - val_loss: 0.7452 - val_accuracy: 0.6644\n",
            "Epoch 3/20\n",
            "3668/3668 [==============================] - 609s 166ms/step - loss: 0.4673 - accuracy: 0.8022 - val_loss: 0.8131 - val_accuracy: 0.6456\n",
            "Epoch 4/20\n",
            "3668/3668 [==============================] - 608s 166ms/step - loss: 0.3329 - accuracy: 0.8676 - val_loss: 0.9984 - val_accuracy: 0.6291\n",
            "Epoch 4: early stopping\n"
          ]
        },
        {
          "output_type": "display_data",
          "data": {
            "text/plain": [
              "<Figure size 432x288 with 1 Axes>"
            ],
            "image/png": "[encoded data removed]"
          },
          "metadata": {
            "needs_background": "light"
          }
        },
        {
          "output_type": "display_data",
          "data": {
            "text/plain": [
              "<Figure size 432x288 with 1 Axes>"
            ],
            "image/png": "[encoded data removed]"
          },
          "metadata": {
            "needs_background": "light"
          }
        }
      ],
      "source": [
        "Stopping_condition = tensorflow.keras.callbacks.EarlyStopping(\n",
        "    monitor='val_accuracy',\n",
        "    min_delta=0.03,\n",
        "    patience=3,\n",
        "    #mode='max',\n",
        "    verbose=1)\n",
        "\n",
        "history = model.fit(\n",
        "    data_train, \n",
        "    epochs=20,\n",
        "    #validation_steps = validation_size // batch_size,\n",
        "    validation_data=data_valid,\n",
        "    #steps_per_epoch = train_size // batch_size,\n",
        "    callbacks=[Stopping_condition]    \n",
        ")\n",
        "\n",
        "model.save('/content/drive/MyDrive/Colab_Notebooks/P8/models/bert_model_1.h5')\n",
        "\n",
        "plot_curves(history)"
      ]
    },
    {
      "cell_type": "markdown",
      "metadata": {
        "id": "zsP2bzbZN1p8"
      },
      "source": [
        "### Ajout BatchNormalisation"
      ]
    },
    {
      "cell_type": "code",
      "execution_count": 32,
      "metadata": {
        "id": "PskTI7yNN38s",
        "colab": {
          "base_uri": "https://localhost:8080/"
        },
        "outputId": "e28abf10-7855-4e38-dcc6-918711eb816a"
      },
      "outputs": [
        {
          "output_type": "stream",
          "name": "stderr",
          "text": [
            "Some layers from the model checkpoint at distilbert-base-uncased-finetuned-sst-2-english were not used when initializing TFDistilBertModel: ['classifier', 'pre_classifier', 'dropout_19']\n",
            "- This IS expected if you are initializing TFDistilBertModel from the checkpoint of a model trained on another task or with another architecture (e.g. initializing a BertForSequenceClassification model from a BertForPreTraining model).\n",
            "- This IS NOT expected if you are initializing TFDistilBertModel from the checkpoint of a model that you expect to be exactly identical (initializing a BertForSequenceClassification model from a BertForSequenceClassification model).\n",
            "All the layers of TFDistilBertModel were initialized from the model checkpoint at distilbert-base-uncased-finetuned-sst-2-english.\n",
            "If your task is similar to the task the model of the checkpoint was trained on, you can already use TFDistilBertModel for predictions without further training.\n"
          ]
        }
      ],
      "source": [
        "input_ids = tensorflow.keras.Input(shape = (MAX_LEN, ), dtype = tensorflow.int32, name = \"input_ids\")\n",
        "attention_mask = tensorflow.keras.Input(shape = (MAX_LEN, ), dtype = tensorflow.int32, name = \"attention_mask\")\n",
        "\n",
        "transformer_layer = (transformers.TFAutoModel.from_pretrained(MODEL_NAME))\n",
        "\n",
        "sequence_output = transformer_layer([input_ids, attention_mask])['last_hidden_state']\n",
        "clf_output = sequence_output[:, 0, :]\n",
        "layer = tensorflow.keras.layers.BatchNormalization()(clf_output)\n",
        "layer = tensorflow.keras.layers.Dense(128, activation=\"relu\")(layer)\n",
        "out = tensorflow.keras.layers.Dense(3, activation='softmax')(layer)\n",
        "\n",
        "model = tensorflow.keras.Model(inputs = [input_ids, attention_mask], \n",
        "              outputs = out)\n",
        "\n",
        "model.compile(tensorflow.keras.optimizers.Adam(learning_rate = LEARNING_RATE), \n",
        "              loss = 'sparse_categorical_crossentropy', \n",
        "              metrics = ['accuracy'])"
      ]
    },
    {
      "cell_type": "code",
      "execution_count": 33,
      "metadata": {
        "id": "YrL4T2BHO3co",
        "colab": {
          "base_uri": "https://localhost:8080/"
        },
        "outputId": "99a8f475-11cb-43e0-84d6-bff9b5c37b66"
      },
      "outputs": [
        {
          "output_type": "stream",
          "name": "stdout",
          "text": [
            "Epoch 1/20\n",
            "3668/3668 [==============================] - 617s 166ms/step - loss: 0.8751 - accuracy: 0.6019 - val_loss: 0.8082 - val_accuracy: 0.6329\n",
            "Epoch 2/20\n",
            "3668/3668 [==============================] - 610s 166ms/step - loss: 0.7564 - accuracy: 0.6593 - val_loss: 0.8749 - val_accuracy: 0.6554\n",
            "Epoch 3/20\n",
            "3668/3668 [==============================] - 609s 166ms/step - loss: 0.6466 - accuracy: 0.7118 - val_loss: 0.8602 - val_accuracy: 0.6378\n",
            "Epoch 4/20\n",
            "3668/3668 [==============================] - 607s 166ms/step - loss: 0.4899 - accuracy: 0.7944 - val_loss: 0.9814 - val_accuracy: 0.6261\n",
            "Epoch 4: early stopping\n"
          ]
        }
      ],
      "source": [
        "Stopping_condition = tensorflow.keras.callbacks.EarlyStopping(\n",
        "    monitor='val_accuracy',\n",
        "    min_delta=0.03,\n",
        "    patience=3,\n",
        "    #mode='max',\n",
        "    verbose=1)\n",
        "\n",
        "history = model.fit(\n",
        "    data_train, \n",
        "    epochs=20,\n",
        "    #validation_steps = validation_size // batch_size,\n",
        "    validation_data=data_valid,\n",
        "    #steps_per_epoch = train_size // batch_size,\n",
        "    callbacks=[Stopping_condition]    \n",
        ")\n",
        "\n",
        "model.save('/content/drive/MyDrive/Colab_Notebooks/P8/models/bert_model_2.h5')"
      ]
    },
    {
      "cell_type": "code",
      "execution_count": 34,
      "metadata": {
        "id": "oAiMkcqsUtDe",
        "colab": {
          "base_uri": "https://localhost:8080/",
          "height": 573
        },
        "outputId": "ab8ac38c-66fe-4b69-e2d8-48b123c590fc"
      },
      "outputs": [
        {
          "output_type": "display_data",
          "data": {
            "text/plain": [
              "<Figure size 432x288 with 1 Axes>"
            ],
            "image/png": "[encoded data removed]"
          },
          "metadata": {
            "needs_background": "light"
          }
        },
        {
          "output_type": "display_data",
          "data": {
            "text/plain": [
              "<Figure size 432x288 with 1 Axes>"
            ],
            "image/png": "[encoded data removed]"
          },
          "metadata": {
            "needs_background": "light"
          }
        }
      ],
      "source": [
        "plot_curves(history)"
      ]
    },
    {
      "cell_type": "markdown",
      "metadata": {
        "id": "jRxQcX4KIGx6"
      },
      "source": [
        "### Multi Sample Drop Out"
      ]
    },
    {
      "cell_type": "markdown",
      "metadata": {
        "id": "pbiWYDCI59dm"
      },
      "source": [
        "# https://towardsdatascience.com/multi-sample-dropout-in-keras-ea8b8a9bfd83\n",
        "Multi sample dropout"
      ]
    },
    {
      "cell_type": "code",
      "execution_count": 25,
      "metadata": {
        "id": "5Jhgj3JSYY0z"
      },
      "outputs": [],
      "source": [
        "def multi_sample_drop_out(layer_in, structure_dense_1, structure_dense_2, number_of_dropout):\n",
        "  concat_dropout_layer = []\n",
        "  for ratio in np.linspace(0.1,0.5, number_of_dropout):\n",
        "    layer = tensorflow.keras.layers.Dropout(ratio)(layer_in)\n",
        "    layer = structure_dense_1(layer)\n",
        "    layer = tensorflow.keras.layers.BatchNormalization()(layer)\n",
        "    layer = structure_dense_2(layer)\n",
        "    concat_dropout_layer.append(layer)\n",
        "  layer_out = tensorflow.keras.layers.Average()(concat_dropout_layer)\n",
        "\n",
        "  return layer_out"
      ]
    },
    {
      "cell_type": "code",
      "execution_count": 26,
      "metadata": {
        "id": "TiNFPat-Whej",
        "colab": {
          "base_uri": "https://localhost:8080/"
        },
        "outputId": "8560fbf8-0c44-46fb-8806-3692b53ef57d"
      },
      "outputs": [
        {
          "output_type": "stream",
          "name": "stderr",
          "text": [
            "Some layers from the model checkpoint at distilbert-base-uncased-finetuned-sst-2-english were not used when initializing TFDistilBertModel: ['dropout_19', 'classifier', 'pre_classifier']\n",
            "- This IS expected if you are initializing TFDistilBertModel from the checkpoint of a model trained on another task or with another architecture (e.g. initializing a BertForSequenceClassification model from a BertForPreTraining model).\n",
            "- This IS NOT expected if you are initializing TFDistilBertModel from the checkpoint of a model that you expect to be exactly identical (initializing a BertForSequenceClassification model from a BertForSequenceClassification model).\n",
            "All the layers of TFDistilBertModel were initialized from the model checkpoint at distilbert-base-uncased-finetuned-sst-2-english.\n",
            "If your task is similar to the task the model of the checkpoint was trained on, you can already use TFDistilBertModel for predictions without further training.\n"
          ]
        }
      ],
      "source": [
        "input_ids = tensorflow.keras.Input(shape = (MAX_LEN, ), dtype = tensorflow.int32, name = \"input_ids\")\n",
        "attention_mask = tensorflow.keras.Input(shape = (MAX_LEN, ), dtype = tensorflow.int32, name = \"attention_mask\")\n",
        "\n",
        "transformer_layer = (transformers.TFAutoModel.from_pretrained(MODEL_NAME))\n",
        "\n",
        "sequence_output = transformer_layer([input_ids, attention_mask])['last_hidden_state']\n",
        "clf_output = sequence_output[:, 0, :]\n",
        "out = multi_sample_drop_out(clf_output, tensorflow.keras.layers.Dense(128, activation=\"relu\"), tensorflow.keras.layers.Dense(3, activation='softmax'), 4)\n",
        "model = tensorflow.keras.Model(inputs = [input_ids, attention_mask], \n",
        "              outputs = out)\n",
        "\n",
        "model.compile(tensorflow.keras.optimizers.Adam(learning_rate = LEARNING_RATE), \n",
        "              loss = 'sparse_categorical_crossentropy', \n",
        "              metrics = ['accuracy'])"
      ]
    },
    {
      "cell_type": "code",
      "execution_count": 27,
      "metadata": {
        "id": "Ss4EiUS_cQpT",
        "colab": {
          "base_uri": "https://localhost:8080/"
        },
        "outputId": "af692db1-74ea-48e6-ed56-1e0c7c3a9b4f"
      },
      "outputs": [
        {
          "output_type": "stream",
          "name": "stdout",
          "text": [
            "Epoch 1/20\n",
            "3668/3668 [==============================] - 623s 168ms/step - loss: 0.8571 - accuracy: 0.6090 - val_loss: 0.7525 - val_accuracy: 0.6528\n",
            "Epoch 2/20\n",
            "3668/3668 [==============================] - 614s 167ms/step - loss: 0.7089 - accuracy: 0.6909 - val_loss: 0.7745 - val_accuracy: 0.6741\n",
            "Epoch 3/20\n",
            "3668/3668 [==============================] - 614s 167ms/step - loss: 0.5317 - accuracy: 0.7854 - val_loss: 0.9532 - val_accuracy: 0.6250\n",
            "Epoch 4/20\n",
            "3668/3668 [==============================] - 614s 167ms/step - loss: 0.3647 - accuracy: 0.8642 - val_loss: 1.1133 - val_accuracy: 0.6412\n",
            "Epoch 4: early stopping\n"
          ]
        }
      ],
      "source": [
        "Stopping_condition = tensorflow.keras.callbacks.EarlyStopping(\n",
        "    monitor='val_accuracy',\n",
        "    min_delta=0.03,\n",
        "    patience=3,\n",
        "    #mode='max',\n",
        "    verbose=1)\n",
        "\n",
        "history = model.fit(\n",
        "    data_train, \n",
        "    epochs=20,\n",
        "    #validation_steps = validation_size // batch_size,\n",
        "    validation_data=data_valid,\n",
        "    #steps_per_epoch = train_size // batch_size,\n",
        "    callbacks=[Stopping_condition]    \n",
        ")\n",
        "\n",
        "model.save('/content/drive/MyDrive/Colab_Notebooks/P8/models/bert_model_3.hdf5')"
      ]
    },
    {
      "cell_type": "code",
      "execution_count": 28,
      "metadata": {
        "id": "ZjVN7cz7fmA5",
        "colab": {
          "base_uri": "https://localhost:8080/",
          "height": 573
        },
        "outputId": "e2dd5576-de09-47bc-887c-552e9d74102a"
      },
      "outputs": [
        {
          "output_type": "display_data",
          "data": {
            "text/plain": [
              "<Figure size 432x288 with 1 Axes>"
            ],
            "image/png": "[encoded data removed]"
          },
          "metadata": {
            "needs_background": "light"
          }
        },
        {
          "output_type": "display_data",
          "data": {
            "text/plain": [
              "<Figure size 432x288 with 1 Axes>"
            ],
            "image/png": "[encoded data removed]"
          },
          "metadata": {
            "needs_background": "light"
          }
        }
      ],
      "source": [
        "plot_curves(history)"
      ]
    },
    {
      "cell_type": "markdown",
      "source": [
        "## Pas de batch normalisation"
      ],
      "metadata": {
        "id": "R2BQ75ri71Eg"
      }
    },
    {
      "cell_type": "code",
      "source": [
        "def multi_sample_drop_out(layer_in, structure_dense_1, structure_dense_2, number_of_dropout):\n",
        "  concat_dropout_layer = []\n",
        "  for ratio in np.linspace(0.1,0.5, number_of_dropout):\n",
        "    layer = tensorflow.keras.layers.Dropout(ratio)(layer_in)\n",
        "    layer = structure_dense_1(layer)\n",
        "    layer = structure_dense_2(layer)\n",
        "    concat_dropout_layer.append(layer)\n",
        "  layer_out = tensorflow.keras.layers.Average()(concat_dropout_layer)\n",
        "\n",
        "  return layer_out"
      ],
      "metadata": {
        "id": "fCQz3Dc474DA"
      },
      "execution_count": 29,
      "outputs": []
    },
    {
      "cell_type": "code",
      "source": [
        "input_ids = tensorflow.keras.Input(shape = (MAX_LEN, ), dtype = tensorflow.int32, name = \"input_ids\")\n",
        "attention_mask = tensorflow.keras.Input(shape = (MAX_LEN, ), dtype = tensorflow.int32, name = \"attention_mask\")\n",
        "\n",
        "transformer_layer = (transformers.TFAutoModel.from_pretrained(MODEL_NAME))\n",
        "\n",
        "sequence_output = transformer_layer([input_ids, attention_mask])['last_hidden_state']\n",
        "clf_output = sequence_output[:, 0, :]\n",
        "out = multi_sample_drop_out(clf_output, tensorflow.keras.layers.Dense(128, activation=\"relu\"), tensorflow.keras.layers.Dense(3, activation='softmax'), 4)\n",
        "model = tensorflow.keras.Model(inputs = [input_ids, attention_mask], \n",
        "              outputs = out)\n",
        "\n",
        "model.compile(tensorflow.keras.optimizers.Adam(learning_rate = LEARNING_RATE), \n",
        "              loss = 'sparse_categorical_crossentropy', \n",
        "              metrics = ['accuracy'])"
      ],
      "metadata": {
        "colab": {
          "base_uri": "https://localhost:8080/"
        },
        "id": "UdOEg3A979MA",
        "outputId": "5a24c75d-ae01-4b33-c5d1-0588189a5e9a"
      },
      "execution_count": 30,
      "outputs": [
        {
          "output_type": "stream",
          "name": "stderr",
          "text": [
            "Some layers from the model checkpoint at distilbert-base-uncased-finetuned-sst-2-english were not used when initializing TFDistilBertModel: ['dropout_19', 'classifier', 'pre_classifier']\n",
            "- This IS expected if you are initializing TFDistilBertModel from the checkpoint of a model trained on another task or with another architecture (e.g. initializing a BertForSequenceClassification model from a BertForPreTraining model).\n",
            "- This IS NOT expected if you are initializing TFDistilBertModel from the checkpoint of a model that you expect to be exactly identical (initializing a BertForSequenceClassification model from a BertForSequenceClassification model).\n",
            "All the layers of TFDistilBertModel were initialized from the model checkpoint at distilbert-base-uncased-finetuned-sst-2-english.\n",
            "If your task is similar to the task the model of the checkpoint was trained on, you can already use TFDistilBertModel for predictions without further training.\n"
          ]
        }
      ]
    },
    {
      "cell_type": "code",
      "source": [
        "Stopping_condition = tensorflow.keras.callbacks.EarlyStopping(\n",
        "    monitor='val_accuracy',\n",
        "    min_delta=0.03,\n",
        "    patience=1,\n",
        "    #mode='max',\n",
        "    verbose=1)\n",
        "\n",
        "history = model.fit(\n",
        "    data_train, \n",
        "    epochs=1,\n",
        "    #validation_steps = validation_size // batch_size,\n",
        "    validation_data=data_valid,\n",
        "    #steps_per_epoch = train_size // batch_size,\n",
        "    callbacks=[Stopping_condition]    \n",
        ")\n",
        "\n",
        "model.save('/content/drive/MyDrive/Colab_Notebooks/P8/models/bert_model_4.hdf5')"
      ],
      "metadata": {
        "colab": {
          "base_uri": "https://localhost:8080/"
        },
        "id": "roFO_uoq8CG0",
        "outputId": "902591db-4ae4-401b-805f-a7c9d9f43932"
      },
      "execution_count": 32,
      "outputs": [
        {
          "output_type": "stream",
          "name": "stdout",
          "text": [
            "3668/3668 [==============================] - 614s 167ms/step - loss: 0.7614 - accuracy: 0.6603 - val_loss: 0.7420 - val_accuracy: 0.6797\n"
          ]
        }
      ]
    },
    {
      "cell_type": "code",
      "source": [
        "model.predict()"
      ],
      "metadata": {
        "id": "B83hhdZtB7l7"
      },
      "execution_count": null,
      "outputs": []
    }
  ],
  "metadata": {
    "accelerator": "GPU",
    "colab": {
      "background_execution": "on",
      "collapsed_sections": [],
      "machine_shape": "hm",
      "name": "P8_BERT_MODELS.ipynb",
      "provenance": [],
      "mount_file_id": "1_rZ5-cvmMgaB3KDr-nJlVWRXsDRdY0yV",
      "authorship_tag": "ABX9TyMk1SBqEwvhvUCMbqV5xfXR",
      "include_colab_link": true
    },
    "gpuClass": "standard",
    "kernelspec": {
      "display_name": "Python 3",
      "name": "python3"
    },
    "language_info": {
      "name": "python"
    }
  },
  "nbformat": 4,
  "nbformat_minor": 0
}