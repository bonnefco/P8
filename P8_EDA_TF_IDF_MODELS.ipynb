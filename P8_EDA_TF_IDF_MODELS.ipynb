{
  "cells": [
    {
      "cell_type": "markdown",
      "source": [
        "# Importation des librairies"
      ],
      "metadata": {
        "id": "zfREIvCPHHSe"
      }
    },
    {
      "cell_type": "code",
      "source": [
        "import pandas as pd\n",
        "import matplotlib.pyplot as plt\n",
        "import seaborn as sns\n",
        "import numpy as np\n",
        "import sklearn\n",
        "import ast\n",
        "from scipy import stats\n",
        "\n",
        "import nltk\n",
        "from nltk.corpus import stopwords\n",
        "from nltk.stem import WordNetLemmatizer\n",
        "nltk.download('stopwords')\n",
        "nltk.download('wordnet')\n",
        "nltk.download('omw-1.4')"
      ],
      "metadata": {
        "id": "SWSzYlbMK8fm",
        "colab": {
          "base_uri": "https://localhost:8080/"
        },
        "outputId": "4e1367bf-3fdc-4f34-89fe-e6b6b0ac1c86"
      },
      "execution_count": 85,
      "outputs": [
        {
          "output_type": "stream",
          "name": "stderr",
          "text": [
            "[nltk_data] Downloading package stopwords to /root/nltk_data...\n",
            "[nltk_data]   Package stopwords is already up-to-date!\n",
            "[nltk_data] Downloading package wordnet to /root/nltk_data...\n",
            "[nltk_data]   Package wordnet is already up-to-date!\n",
            "[nltk_data] Downloading package omw-1.4 to /root/nltk_data...\n",
            "[nltk_data]   Package omw-1.4 is already up-to-date!\n"
          ]
        },
        {
          "output_type": "execute_result",
          "data": {
            "text/plain": [
              "True"
            ]
          },
          "metadata": {},
          "execution_count": 85
        }
      ]
    },
    {
      "cell_type": "code",
      "source": [
        "df_effective_args = pd.read_csv('/content/drive/MyDrive/Colab_Notebooks/P8/dataset/train_light.csv',encoding=\"utf-8\",header=(0))"
      ],
      "metadata": {
        "id": "SxU2y1tJRj-P"
      },
      "execution_count": 86,
      "outputs": []
    },
    {
      "cell_type": "markdown",
      "source": [
        "# Nettoyage pour approche TF-IDF"
      ],
      "metadata": {
        "id": "A7-0w7P0R8UH"
      }
    },
    {
      "cell_type": "markdown",
      "source": [
        "## Remplissage des lignes"
      ],
      "metadata": {
        "id": "hNZjPNzMTtR2"
      }
    },
    {
      "cell_type": "code",
      "source": [
        "print((100-100*(df_effective_args.isna().sum()/(df_effective_args.shape[0]))).sort_values(ascending=False))\n",
        "print(df_effective_args.dtypes.value_counts())"
      ],
      "metadata": {
        "colab": {
          "base_uri": "https://localhost:8080/"
        },
        "id": "RS6i4XM0R1Cq",
        "outputId": "3a075be6-cf9e-4ec8-8095-93a64708f5a4"
      },
      "execution_count": 87,
      "outputs": [
        {
          "output_type": "stream",
          "name": "stdout",
          "text": [
            "discourse_text             100.0\n",
            "discourse_type             100.0\n",
            "discourse_effectiveness    100.0\n",
            "dtype: float64\n",
            "object    3\n",
            "dtype: int64\n"
          ]
        }
      ]
    },
    {
      "cell_type": "markdown",
      "source": [
        "## Creation des premiers tokens (longueur > 1) et passage en minuscule"
      ],
      "metadata": {
        "id": "Q0ICQq_zVG6q"
      }
    },
    {
      "cell_type": "code",
      "source": [
        "def create_token(string):\n",
        "  tokenizer = nltk.RegexpTokenizer(r'\\w+')\n",
        "  string = tokenizer.tokenize(string.lower())\n",
        "  list_tokens_elements = [element for element in string if len(element)>1]\n",
        "  return list_tokens_elements"
      ],
      "metadata": {
        "id": "pwQLAe0nVGYC"
      },
      "execution_count": 88,
      "outputs": []
    },
    {
      "cell_type": "code",
      "source": [
        "df_effective_args['discourse_text_tokenized'] = df_effective_args['discourse_text'].apply(create_token)"
      ],
      "metadata": {
        "id": "E04bSNTnV1Cy"
      },
      "execution_count": 89,
      "outputs": []
    },
    {
      "cell_type": "code",
      "source": [
        "df_effective_args.head(2)"
      ],
      "metadata": {
        "colab": {
          "base_uri": "https://localhost:8080/",
          "height": 112
        },
        "id": "k9vvNfbEWJJV",
        "outputId": "f65a8593-a7fc-4f04-d27c-e2ddc523a4a8"
      },
      "execution_count": 90,
      "outputs": [
        {
          "output_type": "execute_result",
          "data": {
            "text/plain": [
              "                                      discourse_text discourse_type  \\\n",
              "0  Hi, i'm Isaac, i'm going to be writing about h...           Lead   \n",
              "1  On my perspective, I think that the face is a ...       Position   \n",
              "\n",
              "  discourse_effectiveness                           discourse_text_tokenized  \n",
              "0                Adequate  [hi, isaac, going, to, be, writing, about, how...  \n",
              "1                Adequate  [on, my, perspective, think, that, the, face, ...  "
            ],
            "text/html": [
              "\n",
              "  <div id=\"df-46992951-3e0f-4404-b827-ffd698328987\">\n",
              "    <div class=\"colab-df-container\">\n",
              "      <div>\n",
              "<style scoped>\n",
              "    .dataframe tbody tr th:only-of-type {\n",
              "        vertical-align: middle;\n",
              "    }\n",
              "\n",
              "    .dataframe tbody tr th {\n",
              "        vertical-align: top;\n",
              "    }\n",
              "\n",
              "    .dataframe thead th {\n",
              "        text-align: right;\n",
              "    }\n",
              "</style>\n",
              "<table border=\"1\" class=\"dataframe\">\n",
              "  <thead>\n",
              "    <tr style=\"text-align: right;\">\n",
              "      <th></th>\n",
              "      <th>discourse_text</th>\n",
              "      <th>discourse_type</th>\n",
              "      <th>discourse_effectiveness</th>\n",
              "      <th>discourse_text_tokenized</th>\n",
              "    </tr>\n",
              "  </thead>\n",
              "  <tbody>\n",
              "    <tr>\n",
              "      <th>0</th>\n",
              "      <td>Hi, i'm Isaac, i'm going to be writing about h...</td>\n",
              "      <td>Lead</td>\n",
              "      <td>Adequate</td>\n",
              "      <td>[hi, isaac, going, to, be, writing, about, how...</td>\n",
              "    </tr>\n",
              "    <tr>\n",
              "      <th>1</th>\n",
              "      <td>On my perspective, I think that the face is a ...</td>\n",
              "      <td>Position</td>\n",
              "      <td>Adequate</td>\n",
              "      <td>[on, my, perspective, think, that, the, face, ...</td>\n",
              "    </tr>\n",
              "  </tbody>\n",
              "</table>\n",
              "</div>\n",
              "      <button class=\"colab-df-convert\" onclick=\"convertToInteractive('df-46992951-3e0f-4404-b827-ffd698328987')\"\n",
              "              title=\"Convert this dataframe to an interactive table.\"\n",
              "              style=\"display:none;\">\n",
              "        \n",
              "  <svg xmlns=\"http://www.w3.org/2000/svg\" height=\"24px\"viewBox=\"0 0 24 24\"\n",
              "       width=\"24px\">\n",
              "    <path d=\"M0 0h24v24H0V0z\" fill=\"none\"/>\n",
              "    <path d=\"M18.56 5.44l.94 2.06.94-2.06 2.06-.94-2.06-.94-.94-2.06-.94 2.06-2.06.94zm-11 1L8.5 8.5l.94-2.06 2.06-.94-2.06-.94L8.5 2.5l-.94 2.06-2.06.94zm10 10l.94 2.06.94-2.06 2.06-.94-2.06-.94-.94-2.06-.94 2.06-2.06.94z\"/><path d=\"M17.41 7.96l-1.37-1.37c-.4-.4-.92-.59-1.43-.59-.52 0-1.04.2-1.43.59L10.3 9.45l-7.72 7.72c-.78.78-.78 2.05 0 2.83L4 21.41c.39.39.9.59 1.41.59.51 0 1.02-.2 1.41-.59l7.78-7.78 2.81-2.81c.8-.78.8-2.07 0-2.86zM5.41 20L4 18.59l7.72-7.72 1.47 1.35L5.41 20z\"/>\n",
              "  </svg>\n",
              "      </button>\n",
              "      \n",
              "  <style>\n",
              "    .colab-df-container {\n",
              "      display:flex;\n",
              "      flex-wrap:wrap;\n",
              "      gap: 12px;\n",
              "    }\n",
              "\n",
              "    .colab-df-convert {\n",
              "      background-color: #E8F0FE;\n",
              "      border: none;\n",
              "      border-radius: 50%;\n",
              "      cursor: pointer;\n",
              "      display: none;\n",
              "      fill: #1967D2;\n",
              "      height: 32px;\n",
              "      padding: 0 0 0 0;\n",
              "      width: 32px;\n",
              "    }\n",
              "\n",
              "    .colab-df-convert:hover {\n",
              "      background-color: #E2EBFA;\n",
              "      box-shadow: 0px 1px 2px rgba(60, 64, 67, 0.3), 0px 1px 3px 1px rgba(60, 64, 67, 0.15);\n",
              "      fill: #174EA6;\n",
              "    }\n",
              "\n",
              "    [theme=dark] .colab-df-convert {\n",
              "      background-color: #3B4455;\n",
              "      fill: #D2E3FC;\n",
              "    }\n",
              "\n",
              "    [theme=dark] .colab-df-convert:hover {\n",
              "      background-color: #434B5C;\n",
              "      box-shadow: 0px 1px 3px 1px rgba(0, 0, 0, 0.15);\n",
              "      filter: drop-shadow(0px 1px 2px rgba(0, 0, 0, 0.3));\n",
              "      fill: #FFFFFF;\n",
              "    }\n",
              "  </style>\n",
              "\n",
              "      <script>\n",
              "        const buttonEl =\n",
              "          document.querySelector('#df-46992951-3e0f-4404-b827-ffd698328987 button.colab-df-convert');\n",
              "        buttonEl.style.display =\n",
              "          google.colab.kernel.accessAllowed ? 'block' : 'none';\n",
              "\n",
              "        async function convertToInteractive(key) {\n",
              "          const element = document.querySelector('#df-46992951-3e0f-4404-b827-ffd698328987');\n",
              "          const dataTable =\n",
              "            await google.colab.kernel.invokeFunction('convertToInteractive',\n",
              "                                                     [key], {});\n",
              "          if (!dataTable) return;\n",
              "\n",
              "          const docLinkHtml = 'Like what you see? Visit the ' +\n",
              "            '<a target=\"_blank\" href=https://colab.research.google.com/notebooks/data_table.ipynb>data table notebook</a>'\n",
              "            + ' to learn more about interactive tables.';\n",
              "          element.innerHTML = '';\n",
              "          dataTable['output_type'] = 'display_data';\n",
              "          await google.colab.output.renderOutput(dataTable, element);\n",
              "          const docLink = document.createElement('div');\n",
              "          docLink.innerHTML = docLinkHtml;\n",
              "          element.appendChild(docLink);\n",
              "        }\n",
              "      </script>\n",
              "    </div>\n",
              "  </div>\n",
              "  "
            ]
          },
          "metadata": {},
          "execution_count": 90
        }
      ]
    },
    {
      "cell_type": "markdown",
      "source": [
        "## La lemmantization "
      ],
      "metadata": {
        "id": "V7frqeiLYC3p"
      }
    },
    {
      "cell_type": "code",
      "source": [
        "lemmatizer = WordNetLemmatizer()"
      ],
      "metadata": {
        "id": "zU3UOp2IYitW"
      },
      "execution_count": 91,
      "outputs": []
    },
    {
      "cell_type": "code",
      "source": [
        "def create_lemmatization(list_of_words_tokenized) :\n",
        "  list_of_words_tokenized_lemmantized = []\n",
        "  for token in list_of_words_tokenized:\n",
        "    lemmetized_word = lemmatizer.lemmatize(token)\n",
        "    if len(lemmetized_word) > 1 : \n",
        "      list_of_words_tokenized_lemmantized.append(lemmetized_word)\n",
        "  return list_of_words_tokenized_lemmantized"
      ],
      "metadata": {
        "id": "xmNNwsRRX6kK"
      },
      "execution_count": 92,
      "outputs": []
    },
    {
      "cell_type": "code",
      "source": [
        "df_effective_args['discourse_text_lemmatized'] = df_effective_args['discourse_text_tokenized'].apply(create_lemmatization)"
      ],
      "metadata": {
        "id": "gY_9PAcLYyAD"
      },
      "execution_count": 93,
      "outputs": []
    },
    {
      "cell_type": "code",
      "source": [
        "df_effective_args"
      ],
      "metadata": {
        "colab": {
          "base_uri": "https://localhost:8080/",
          "height": 424
        },
        "id": "MzD5VbjyaaHH",
        "outputId": "66869c9d-1a1a-4592-c3a4-2037a89a4e75"
      },
      "execution_count": 94,
      "outputs": [
        {
          "output_type": "execute_result",
          "data": {
            "text/plain": [
              "                                          discourse_text  \\\n",
              "0      Hi, i'm Isaac, i'm going to be writing about h...   \n",
              "1      On my perspective, I think that the face is a ...   \n",
              "2      I think that the face is a natural landform be...   \n",
              "3      If life was on Mars, we would know by now. The...   \n",
              "4      People thought that the face was formed by ali...   \n",
              "...                                                  ...   \n",
              "36672  For many people they don't like only asking on...   \n",
              "36673  also people have different views and opinions ...   \n",
              "36674  Advice is something that can impact a persons ...   \n",
              "36675  someone can use everything that many people sa...   \n",
              "36676  In conclusion asking for an opinion can be ben...   \n",
              "\n",
              "             discourse_type discourse_effectiveness  \\\n",
              "0                      Lead                Adequate   \n",
              "1                  Position                Adequate   \n",
              "2                     Claim                Adequate   \n",
              "3                  Evidence                Adequate   \n",
              "4              Counterclaim                Adequate   \n",
              "...                     ...                     ...   \n",
              "36672                 Claim                Adequate   \n",
              "36673                 Claim                Adequate   \n",
              "36674              Position                Adequate   \n",
              "36675              Evidence             Ineffective   \n",
              "36676  Concluding Statement             Ineffective   \n",
              "\n",
              "                                discourse_text_tokenized  \\\n",
              "0      [hi, isaac, going, to, be, writing, about, how...   \n",
              "1      [on, my, perspective, think, that, the, face, ...   \n",
              "2      [think, that, the, face, is, natural, landform...   \n",
              "3      [if, life, was, on, mars, we, would, know, by,...   \n",
              "4      [people, thought, that, the, face, was, formed...   \n",
              "...                                                  ...   \n",
              "36672  [for, many, people, they, don, like, only, ask...   \n",
              "36673  [also, people, have, different, views, and, op...   \n",
              "36674  [advice, is, something, that, can, impact, per...   \n",
              "36675  [someone, can, use, everything, that, many, pe...   \n",
              "36676  [in, conclusion, asking, for, an, opinion, can...   \n",
              "\n",
              "                               discourse_text_lemmatized  \n",
              "0      [hi, isaac, going, to, be, writing, about, how...  \n",
              "1      [on, my, perspective, think, that, the, face, ...  \n",
              "2      [think, that, the, face, is, natural, landform...  \n",
              "3      [if, life, wa, on, mar, we, would, know, by, n...  \n",
              "4      [people, thought, that, the, face, wa, formed,...  \n",
              "...                                                  ...  \n",
              "36672  [for, many, people, they, don, like, only, ask...  \n",
              "36673  [also, people, have, different, view, and, opi...  \n",
              "36674  [advice, is, something, that, can, impact, per...  \n",
              "36675  [someone, can, use, everything, that, many, pe...  \n",
              "36676  [in, conclusion, asking, for, an, opinion, can...  \n",
              "\n",
              "[36677 rows x 5 columns]"
            ],
            "text/html": [
              "\n",
              "  <div id=\"df-bcbc6078-530d-4acc-a0fa-758e58575867\">\n",
              "    <div class=\"colab-df-container\">\n",
              "      <div>\n",
              "<style scoped>\n",
              "    .dataframe tbody tr th:only-of-type {\n",
              "        vertical-align: middle;\n",
              "    }\n",
              "\n",
              "    .dataframe tbody tr th {\n",
              "        vertical-align: top;\n",
              "    }\n",
              "\n",
              "    .dataframe thead th {\n",
              "        text-align: right;\n",
              "    }\n",
              "</style>\n",
              "<table border=\"1\" class=\"dataframe\">\n",
              "  <thead>\n",
              "    <tr style=\"text-align: right;\">\n",
              "      <th></th>\n",
              "      <th>discourse_text</th>\n",
              "      <th>discourse_type</th>\n",
              "      <th>discourse_effectiveness</th>\n",
              "      <th>discourse_text_tokenized</th>\n",
              "      <th>discourse_text_lemmatized</th>\n",
              "    </tr>\n",
              "  </thead>\n",
              "  <tbody>\n",
              "    <tr>\n",
              "      <th>0</th>\n",
              "      <td>Hi, i'm Isaac, i'm going to be writing about h...</td>\n",
              "      <td>Lead</td>\n",
              "      <td>Adequate</td>\n",
              "      <td>[hi, isaac, going, to, be, writing, about, how...</td>\n",
              "      <td>[hi, isaac, going, to, be, writing, about, how...</td>\n",
              "    </tr>\n",
              "    <tr>\n",
              "      <th>1</th>\n",
              "      <td>On my perspective, I think that the face is a ...</td>\n",
              "      <td>Position</td>\n",
              "      <td>Adequate</td>\n",
              "      <td>[on, my, perspective, think, that, the, face, ...</td>\n",
              "      <td>[on, my, perspective, think, that, the, face, ...</td>\n",
              "    </tr>\n",
              "    <tr>\n",
              "      <th>2</th>\n",
              "      <td>I think that the face is a natural landform be...</td>\n",
              "      <td>Claim</td>\n",
              "      <td>Adequate</td>\n",
              "      <td>[think, that, the, face, is, natural, landform...</td>\n",
              "      <td>[think, that, the, face, is, natural, landform...</td>\n",
              "    </tr>\n",
              "    <tr>\n",
              "      <th>3</th>\n",
              "      <td>If life was on Mars, we would know by now. The...</td>\n",
              "      <td>Evidence</td>\n",
              "      <td>Adequate</td>\n",
              "      <td>[if, life, was, on, mars, we, would, know, by,...</td>\n",
              "      <td>[if, life, wa, on, mar, we, would, know, by, n...</td>\n",
              "    </tr>\n",
              "    <tr>\n",
              "      <th>4</th>\n",
              "      <td>People thought that the face was formed by ali...</td>\n",
              "      <td>Counterclaim</td>\n",
              "      <td>Adequate</td>\n",
              "      <td>[people, thought, that, the, face, was, formed...</td>\n",
              "      <td>[people, thought, that, the, face, wa, formed,...</td>\n",
              "    </tr>\n",
              "    <tr>\n",
              "      <th>...</th>\n",
              "      <td>...</td>\n",
              "      <td>...</td>\n",
              "      <td>...</td>\n",
              "      <td>...</td>\n",
              "      <td>...</td>\n",
              "    </tr>\n",
              "    <tr>\n",
              "      <th>36672</th>\n",
              "      <td>For many people they don't like only asking on...</td>\n",
              "      <td>Claim</td>\n",
              "      <td>Adequate</td>\n",
              "      <td>[for, many, people, they, don, like, only, ask...</td>\n",
              "      <td>[for, many, people, they, don, like, only, ask...</td>\n",
              "    </tr>\n",
              "    <tr>\n",
              "      <th>36673</th>\n",
              "      <td>also people have different views and opinions ...</td>\n",
              "      <td>Claim</td>\n",
              "      <td>Adequate</td>\n",
              "      <td>[also, people, have, different, views, and, op...</td>\n",
              "      <td>[also, people, have, different, view, and, opi...</td>\n",
              "    </tr>\n",
              "    <tr>\n",
              "      <th>36674</th>\n",
              "      <td>Advice is something that can impact a persons ...</td>\n",
              "      <td>Position</td>\n",
              "      <td>Adequate</td>\n",
              "      <td>[advice, is, something, that, can, impact, per...</td>\n",
              "      <td>[advice, is, something, that, can, impact, per...</td>\n",
              "    </tr>\n",
              "    <tr>\n",
              "      <th>36675</th>\n",
              "      <td>someone can use everything that many people sa...</td>\n",
              "      <td>Evidence</td>\n",
              "      <td>Ineffective</td>\n",
              "      <td>[someone, can, use, everything, that, many, pe...</td>\n",
              "      <td>[someone, can, use, everything, that, many, pe...</td>\n",
              "    </tr>\n",
              "    <tr>\n",
              "      <th>36676</th>\n",
              "      <td>In conclusion asking for an opinion can be ben...</td>\n",
              "      <td>Concluding Statement</td>\n",
              "      <td>Ineffective</td>\n",
              "      <td>[in, conclusion, asking, for, an, opinion, can...</td>\n",
              "      <td>[in, conclusion, asking, for, an, opinion, can...</td>\n",
              "    </tr>\n",
              "  </tbody>\n",
              "</table>\n",
              "<p>36677 rows × 5 columns</p>\n",
              "</div>\n",
              "      <button class=\"colab-df-convert\" onclick=\"convertToInteractive('df-bcbc6078-530d-4acc-a0fa-758e58575867')\"\n",
              "              title=\"Convert this dataframe to an interactive table.\"\n",
              "              style=\"display:none;\">\n",
              "        \n",
              "  <svg xmlns=\"http://www.w3.org/2000/svg\" height=\"24px\"viewBox=\"0 0 24 24\"\n",
              "       width=\"24px\">\n",
              "    <path d=\"M0 0h24v24H0V0z\" fill=\"none\"/>\n",
              "    <path d=\"M18.56 5.44l.94 2.06.94-2.06 2.06-.94-2.06-.94-.94-2.06-.94 2.06-2.06.94zm-11 1L8.5 8.5l.94-2.06 2.06-.94-2.06-.94L8.5 2.5l-.94 2.06-2.06.94zm10 10l.94 2.06.94-2.06 2.06-.94-2.06-.94-.94-2.06-.94 2.06-2.06.94z\"/><path d=\"M17.41 7.96l-1.37-1.37c-.4-.4-.92-.59-1.43-.59-.52 0-1.04.2-1.43.59L10.3 9.45l-7.72 7.72c-.78.78-.78 2.05 0 2.83L4 21.41c.39.39.9.59 1.41.59.51 0 1.02-.2 1.41-.59l7.78-7.78 2.81-2.81c.8-.78.8-2.07 0-2.86zM5.41 20L4 18.59l7.72-7.72 1.47 1.35L5.41 20z\"/>\n",
              "  </svg>\n",
              "      </button>\n",
              "      \n",
              "  <style>\n",
              "    .colab-df-container {\n",
              "      display:flex;\n",
              "      flex-wrap:wrap;\n",
              "      gap: 12px;\n",
              "    }\n",
              "\n",
              "    .colab-df-convert {\n",
              "      background-color: #E8F0FE;\n",
              "      border: none;\n",
              "      border-radius: 50%;\n",
              "      cursor: pointer;\n",
              "      display: none;\n",
              "      fill: #1967D2;\n",
              "      height: 32px;\n",
              "      padding: 0 0 0 0;\n",
              "      width: 32px;\n",
              "    }\n",
              "\n",
              "    .colab-df-convert:hover {\n",
              "      background-color: #E2EBFA;\n",
              "      box-shadow: 0px 1px 2px rgba(60, 64, 67, 0.3), 0px 1px 3px 1px rgba(60, 64, 67, 0.15);\n",
              "      fill: #174EA6;\n",
              "    }\n",
              "\n",
              "    [theme=dark] .colab-df-convert {\n",
              "      background-color: #3B4455;\n",
              "      fill: #D2E3FC;\n",
              "    }\n",
              "\n",
              "    [theme=dark] .colab-df-convert:hover {\n",
              "      background-color: #434B5C;\n",
              "      box-shadow: 0px 1px 3px 1px rgba(0, 0, 0, 0.15);\n",
              "      filter: drop-shadow(0px 1px 2px rgba(0, 0, 0, 0.3));\n",
              "      fill: #FFFFFF;\n",
              "    }\n",
              "  </style>\n",
              "\n",
              "      <script>\n",
              "        const buttonEl =\n",
              "          document.querySelector('#df-bcbc6078-530d-4acc-a0fa-758e58575867 button.colab-df-convert');\n",
              "        buttonEl.style.display =\n",
              "          google.colab.kernel.accessAllowed ? 'block' : 'none';\n",
              "\n",
              "        async function convertToInteractive(key) {\n",
              "          const element = document.querySelector('#df-bcbc6078-530d-4acc-a0fa-758e58575867');\n",
              "          const dataTable =\n",
              "            await google.colab.kernel.invokeFunction('convertToInteractive',\n",
              "                                                     [key], {});\n",
              "          if (!dataTable) return;\n",
              "\n",
              "          const docLinkHtml = 'Like what you see? Visit the ' +\n",
              "            '<a target=\"_blank\" href=https://colab.research.google.com/notebooks/data_table.ipynb>data table notebook</a>'\n",
              "            + ' to learn more about interactive tables.';\n",
              "          element.innerHTML = '';\n",
              "          dataTable['output_type'] = 'display_data';\n",
              "          await google.colab.output.renderOutput(dataTable, element);\n",
              "          const docLink = document.createElement('div');\n",
              "          docLink.innerHTML = docLinkHtml;\n",
              "          element.appendChild(docLink);\n",
              "        }\n",
              "      </script>\n",
              "    </div>\n",
              "  </div>\n",
              "  "
            ]
          },
          "metadata": {},
          "execution_count": 94
        }
      ]
    },
    {
      "cell_type": "markdown",
      "source": [
        "## Nettoyage des Stop words"
      ],
      "metadata": {
        "id": "RH7W6Y-Pazsm"
      }
    },
    {
      "cell_type": "markdown",
      "source": [
        "### Stop words (corpus et nltk)"
      ],
      "metadata": {
        "id": "7-3pANDcfL-v"
      }
    },
    {
      "cell_type": "code",
      "source": [
        "list_all_words = [j for i in df_effective_args['discourse_text_lemmatized'].tolist() for j in i]\n",
        "dictionnaire_des_frequences = nltk.FreqDist(list_all_words)"
      ],
      "metadata": {
        "id": "ToY3iZ09fSAO"
      },
      "execution_count": 95,
      "outputs": []
    },
    {
      "cell_type": "code",
      "source": [
        "stop_words_corpus = []\n",
        "nombre_de_mot_selectionne = 25\n",
        "for i in range(0, nombre_de_mot_selectionne):\n",
        "  stop_words_corpus.append(dictionnaire_des_frequences.most_common(nombre_de_mot_selectionne+1)[i][0])\n",
        "stop_words_nltk = list(set(stopwords.words('english')))\n",
        "stop_words_merged = list(set(stop_words_nltk+stop_words_corpus))"
      ],
      "metadata": {
        "id": "Qm88FJI9hppd"
      },
      "execution_count": 96,
      "outputs": []
    },
    {
      "cell_type": "code",
      "source": [
        "def delete_stop_words_in_corpus(x, list_of_stop_words = stop_words_merged) :\n",
        "  y = x.copy()\n",
        "  for element in list_of_stop_words :\n",
        "    while element in y: y.remove(element)\n",
        "  return y"
      ],
      "metadata": {
        "id": "qBMAi8rYiyNv"
      },
      "execution_count": 97,
      "outputs": []
    },
    {
      "cell_type": "code",
      "source": [
        "df_effective_args['no_stop_words'] = df_effective_args['discourse_text_lemmatized'].transform(delete_stop_words_in_corpus)"
      ],
      "metadata": {
        "id": "dnnuaVXKiz4O"
      },
      "execution_count": 98,
      "outputs": []
    },
    {
      "cell_type": "code",
      "source": [
        "df_effective_args"
      ],
      "metadata": {
        "colab": {
          "base_uri": "https://localhost:8080/",
          "height": 641
        },
        "id": "STRbQXgdjJLL",
        "outputId": "56773996-8caf-4483-9d96-2a83b7ec209e"
      },
      "execution_count": 99,
      "outputs": [
        {
          "output_type": "execute_result",
          "data": {
            "text/plain": [
              "                                          discourse_text  \\\n",
              "0      Hi, i'm Isaac, i'm going to be writing about h...   \n",
              "1      On my perspective, I think that the face is a ...   \n",
              "2      I think that the face is a natural landform be...   \n",
              "3      If life was on Mars, we would know by now. The...   \n",
              "4      People thought that the face was formed by ali...   \n",
              "...                                                  ...   \n",
              "36672  For many people they don't like only asking on...   \n",
              "36673  also people have different views and opinions ...   \n",
              "36674  Advice is something that can impact a persons ...   \n",
              "36675  someone can use everything that many people sa...   \n",
              "36676  In conclusion asking for an opinion can be ben...   \n",
              "\n",
              "             discourse_type discourse_effectiveness  \\\n",
              "0                      Lead                Adequate   \n",
              "1                  Position                Adequate   \n",
              "2                     Claim                Adequate   \n",
              "3                  Evidence                Adequate   \n",
              "4              Counterclaim                Adequate   \n",
              "...                     ...                     ...   \n",
              "36672                 Claim                Adequate   \n",
              "36673                 Claim                Adequate   \n",
              "36674              Position                Adequate   \n",
              "36675              Evidence             Ineffective   \n",
              "36676  Concluding Statement             Ineffective   \n",
              "\n",
              "                                discourse_text_tokenized  \\\n",
              "0      [hi, isaac, going, to, be, writing, about, how...   \n",
              "1      [on, my, perspective, think, that, the, face, ...   \n",
              "2      [think, that, the, face, is, natural, landform...   \n",
              "3      [if, life, was, on, mars, we, would, know, by,...   \n",
              "4      [people, thought, that, the, face, was, formed...   \n",
              "...                                                  ...   \n",
              "36672  [for, many, people, they, don, like, only, ask...   \n",
              "36673  [also, people, have, different, views, and, op...   \n",
              "36674  [advice, is, something, that, can, impact, per...   \n",
              "36675  [someone, can, use, everything, that, many, pe...   \n",
              "36676  [in, conclusion, asking, for, an, opinion, can...   \n",
              "\n",
              "                               discourse_text_lemmatized  \\\n",
              "0      [hi, isaac, going, to, be, writing, about, how...   \n",
              "1      [on, my, perspective, think, that, the, face, ...   \n",
              "2      [think, that, the, face, is, natural, landform...   \n",
              "3      [if, life, wa, on, mar, we, would, know, by, n...   \n",
              "4      [people, thought, that, the, face, wa, formed,...   \n",
              "...                                                  ...   \n",
              "36672  [for, many, people, they, don, like, only, ask...   \n",
              "36673  [also, people, have, different, view, and, opi...   \n",
              "36674  [advice, is, something, that, can, impact, per...   \n",
              "36675  [someone, can, use, everything, that, many, pe...   \n",
              "36676  [in, conclusion, asking, for, an, opinion, can...   \n",
              "\n",
              "                                           no_stop_words  \n",
              "0      [hi, isaac, going, writing, face, mar, natural...  \n",
              "1      [perspective, think, face, natural, landform, ...  \n",
              "2      [think, face, natural, landform, life, mar, de...  \n",
              "3      [life, wa, mar, know, reason, think, natural, ...  \n",
              "4      [thought, face, wa, formed, alieans, thought, ...  \n",
              "...                                                  ...  \n",
              "36672  [many, like, asking, one, person, advice, some...  \n",
              "36673            [also, different, view, opinion, thing]  \n",
              "36674  [advice, something, impact, person, view, many...  \n",
              "36675  [someone, use, everything, many, said, use, he...  \n",
              "36676  [conclusion, asking, opinion, beneficial, some...  \n",
              "\n",
              "[36677 rows x 6 columns]"
            ],
            "text/html": [
              "\n",
              "  <div id=\"df-adb5723e-e0fe-4e7e-ad44-d4eaa349f568\">\n",
              "    <div class=\"colab-df-container\">\n",
              "      <div>\n",
              "<style scoped>\n",
              "    .dataframe tbody tr th:only-of-type {\n",
              "        vertical-align: middle;\n",
              "    }\n",
              "\n",
              "    .dataframe tbody tr th {\n",
              "        vertical-align: top;\n",
              "    }\n",
              "\n",
              "    .dataframe thead th {\n",
              "        text-align: right;\n",
              "    }\n",
              "</style>\n",
              "<table border=\"1\" class=\"dataframe\">\n",
              "  <thead>\n",
              "    <tr style=\"text-align: right;\">\n",
              "      <th></th>\n",
              "      <th>discourse_text</th>\n",
              "      <th>discourse_type</th>\n",
              "      <th>discourse_effectiveness</th>\n",
              "      <th>discourse_text_tokenized</th>\n",
              "      <th>discourse_text_lemmatized</th>\n",
              "      <th>no_stop_words</th>\n",
              "    </tr>\n",
              "  </thead>\n",
              "  <tbody>\n",
              "    <tr>\n",
              "      <th>0</th>\n",
              "      <td>Hi, i'm Isaac, i'm going to be writing about h...</td>\n",
              "      <td>Lead</td>\n",
              "      <td>Adequate</td>\n",
              "      <td>[hi, isaac, going, to, be, writing, about, how...</td>\n",
              "      <td>[hi, isaac, going, to, be, writing, about, how...</td>\n",
              "      <td>[hi, isaac, going, writing, face, mar, natural...</td>\n",
              "    </tr>\n",
              "    <tr>\n",
              "      <th>1</th>\n",
              "      <td>On my perspective, I think that the face is a ...</td>\n",
              "      <td>Position</td>\n",
              "      <td>Adequate</td>\n",
              "      <td>[on, my, perspective, think, that, the, face, ...</td>\n",
              "      <td>[on, my, perspective, think, that, the, face, ...</td>\n",
              "      <td>[perspective, think, face, natural, landform, ...</td>\n",
              "    </tr>\n",
              "    <tr>\n",
              "      <th>2</th>\n",
              "      <td>I think that the face is a natural landform be...</td>\n",
              "      <td>Claim</td>\n",
              "      <td>Adequate</td>\n",
              "      <td>[think, that, the, face, is, natural, landform...</td>\n",
              "      <td>[think, that, the, face, is, natural, landform...</td>\n",
              "      <td>[think, face, natural, landform, life, mar, de...</td>\n",
              "    </tr>\n",
              "    <tr>\n",
              "      <th>3</th>\n",
              "      <td>If life was on Mars, we would know by now. The...</td>\n",
              "      <td>Evidence</td>\n",
              "      <td>Adequate</td>\n",
              "      <td>[if, life, was, on, mars, we, would, know, by,...</td>\n",
              "      <td>[if, life, wa, on, mar, we, would, know, by, n...</td>\n",
              "      <td>[life, wa, mar, know, reason, think, natural, ...</td>\n",
              "    </tr>\n",
              "    <tr>\n",
              "      <th>4</th>\n",
              "      <td>People thought that the face was formed by ali...</td>\n",
              "      <td>Counterclaim</td>\n",
              "      <td>Adequate</td>\n",
              "      <td>[people, thought, that, the, face, was, formed...</td>\n",
              "      <td>[people, thought, that, the, face, wa, formed,...</td>\n",
              "      <td>[thought, face, wa, formed, alieans, thought, ...</td>\n",
              "    </tr>\n",
              "    <tr>\n",
              "      <th>...</th>\n",
              "      <td>...</td>\n",
              "      <td>...</td>\n",
              "      <td>...</td>\n",
              "      <td>...</td>\n",
              "      <td>...</td>\n",
              "      <td>...</td>\n",
              "    </tr>\n",
              "    <tr>\n",
              "      <th>36672</th>\n",
              "      <td>For many people they don't like only asking on...</td>\n",
              "      <td>Claim</td>\n",
              "      <td>Adequate</td>\n",
              "      <td>[for, many, people, they, don, like, only, ask...</td>\n",
              "      <td>[for, many, people, they, don, like, only, ask...</td>\n",
              "      <td>[many, like, asking, one, person, advice, some...</td>\n",
              "    </tr>\n",
              "    <tr>\n",
              "      <th>36673</th>\n",
              "      <td>also people have different views and opinions ...</td>\n",
              "      <td>Claim</td>\n",
              "      <td>Adequate</td>\n",
              "      <td>[also, people, have, different, views, and, op...</td>\n",
              "      <td>[also, people, have, different, view, and, opi...</td>\n",
              "      <td>[also, different, view, opinion, thing]</td>\n",
              "    </tr>\n",
              "    <tr>\n",
              "      <th>36674</th>\n",
              "      <td>Advice is something that can impact a persons ...</td>\n",
              "      <td>Position</td>\n",
              "      <td>Adequate</td>\n",
              "      <td>[advice, is, something, that, can, impact, per...</td>\n",
              "      <td>[advice, is, something, that, can, impact, per...</td>\n",
              "      <td>[advice, something, impact, person, view, many...</td>\n",
              "    </tr>\n",
              "    <tr>\n",
              "      <th>36675</th>\n",
              "      <td>someone can use everything that many people sa...</td>\n",
              "      <td>Evidence</td>\n",
              "      <td>Ineffective</td>\n",
              "      <td>[someone, can, use, everything, that, many, pe...</td>\n",
              "      <td>[someone, can, use, everything, that, many, pe...</td>\n",
              "      <td>[someone, use, everything, many, said, use, he...</td>\n",
              "    </tr>\n",
              "    <tr>\n",
              "      <th>36676</th>\n",
              "      <td>In conclusion asking for an opinion can be ben...</td>\n",
              "      <td>Concluding Statement</td>\n",
              "      <td>Ineffective</td>\n",
              "      <td>[in, conclusion, asking, for, an, opinion, can...</td>\n",
              "      <td>[in, conclusion, asking, for, an, opinion, can...</td>\n",
              "      <td>[conclusion, asking, opinion, beneficial, some...</td>\n",
              "    </tr>\n",
              "  </tbody>\n",
              "</table>\n",
              "<p>36677 rows × 6 columns</p>\n",
              "</div>\n",
              "      <button class=\"colab-df-convert\" onclick=\"convertToInteractive('df-adb5723e-e0fe-4e7e-ad44-d4eaa349f568')\"\n",
              "              title=\"Convert this dataframe to an interactive table.\"\n",
              "              style=\"display:none;\">\n",
              "        \n",
              "  <svg xmlns=\"http://www.w3.org/2000/svg\" height=\"24px\"viewBox=\"0 0 24 24\"\n",
              "       width=\"24px\">\n",
              "    <path d=\"M0 0h24v24H0V0z\" fill=\"none\"/>\n",
              "    <path d=\"M18.56 5.44l.94 2.06.94-2.06 2.06-.94-2.06-.94-.94-2.06-.94 2.06-2.06.94zm-11 1L8.5 8.5l.94-2.06 2.06-.94-2.06-.94L8.5 2.5l-.94 2.06-2.06.94zm10 10l.94 2.06.94-2.06 2.06-.94-2.06-.94-.94-2.06-.94 2.06-2.06.94z\"/><path d=\"M17.41 7.96l-1.37-1.37c-.4-.4-.92-.59-1.43-.59-.52 0-1.04.2-1.43.59L10.3 9.45l-7.72 7.72c-.78.78-.78 2.05 0 2.83L4 21.41c.39.39.9.59 1.41.59.51 0 1.02-.2 1.41-.59l7.78-7.78 2.81-2.81c.8-.78.8-2.07 0-2.86zM5.41 20L4 18.59l7.72-7.72 1.47 1.35L5.41 20z\"/>\n",
              "  </svg>\n",
              "      </button>\n",
              "      \n",
              "  <style>\n",
              "    .colab-df-container {\n",
              "      display:flex;\n",
              "      flex-wrap:wrap;\n",
              "      gap: 12px;\n",
              "    }\n",
              "\n",
              "    .colab-df-convert {\n",
              "      background-color: #E8F0FE;\n",
              "      border: none;\n",
              "      border-radius: 50%;\n",
              "      cursor: pointer;\n",
              "      display: none;\n",
              "      fill: #1967D2;\n",
              "      height: 32px;\n",
              "      padding: 0 0 0 0;\n",
              "      width: 32px;\n",
              "    }\n",
              "\n",
              "    .colab-df-convert:hover {\n",
              "      background-color: #E2EBFA;\n",
              "      box-shadow: 0px 1px 2px rgba(60, 64, 67, 0.3), 0px 1px 3px 1px rgba(60, 64, 67, 0.15);\n",
              "      fill: #174EA6;\n",
              "    }\n",
              "\n",
              "    [theme=dark] .colab-df-convert {\n",
              "      background-color: #3B4455;\n",
              "      fill: #D2E3FC;\n",
              "    }\n",
              "\n",
              "    [theme=dark] .colab-df-convert:hover {\n",
              "      background-color: #434B5C;\n",
              "      box-shadow: 0px 1px 3px 1px rgba(0, 0, 0, 0.15);\n",
              "      filter: drop-shadow(0px 1px 2px rgba(0, 0, 0, 0.3));\n",
              "      fill: #FFFFFF;\n",
              "    }\n",
              "  </style>\n",
              "\n",
              "      <script>\n",
              "        const buttonEl =\n",
              "          document.querySelector('#df-adb5723e-e0fe-4e7e-ad44-d4eaa349f568 button.colab-df-convert');\n",
              "        buttonEl.style.display =\n",
              "          google.colab.kernel.accessAllowed ? 'block' : 'none';\n",
              "\n",
              "        async function convertToInteractive(key) {\n",
              "          const element = document.querySelector('#df-adb5723e-e0fe-4e7e-ad44-d4eaa349f568');\n",
              "          const dataTable =\n",
              "            await google.colab.kernel.invokeFunction('convertToInteractive',\n",
              "                                                     [key], {});\n",
              "          if (!dataTable) return;\n",
              "\n",
              "          const docLinkHtml = 'Like what you see? Visit the ' +\n",
              "            '<a target=\"_blank\" href=https://colab.research.google.com/notebooks/data_table.ipynb>data table notebook</a>'\n",
              "            + ' to learn more about interactive tables.';\n",
              "          element.innerHTML = '';\n",
              "          dataTable['output_type'] = 'display_data';\n",
              "          await google.colab.output.renderOutput(dataTable, element);\n",
              "          const docLink = document.createElement('div');\n",
              "          docLink.innerHTML = docLinkHtml;\n",
              "          element.appendChild(docLink);\n",
              "        }\n",
              "      </script>\n",
              "    </div>\n",
              "  </div>\n",
              "  "
            ]
          },
          "metadata": {},
          "execution_count": 99
        }
      ]
    },
    {
      "cell_type": "markdown",
      "source": [
        "## Selection du nombre de token à conserver"
      ],
      "metadata": {
        "id": "VTwJ97YXlfEW"
      }
    },
    {
      "cell_type": "code",
      "source": [
        "list_all_words = [j for i in df_effective_args['no_stop_words'].tolist() for j in i]"
      ],
      "metadata": {
        "id": "vlYRzjSpljjH"
      },
      "execution_count": 100,
      "outputs": []
    },
    {
      "cell_type": "code",
      "source": [
        "dictionnaire_des_words = nltk.FreqDist(list_all_words)\n",
        "\n",
        "dictionnaire_words = dict(dictionnaire_des_words)\n",
        "dictionnaire_pourcentage_words = dictionnaire_words.copy()\n",
        "somme_total_occurences = sum(dictionnaire_words.values())\n",
        "\n",
        "for key, value in dictionnaire_pourcentage_words.items():\n",
        "  dictionnaire_pourcentage_words[key] = dictionnaire_pourcentage_words[key]/somme_total_occurences\n",
        "\n",
        "#trier dictionnaire\n",
        "dictionnaire_trie_pourcentage_words = dict(sorted(dictionnaire_pourcentage_words.items(), key=lambda item: item[1] ,reverse=True))\n",
        "dictionnaire_values_words = list(dictionnaire_trie_pourcentage_words.values())\n",
        "dictionnaire_keys_words = list(dictionnaire_trie_pourcentage_words.keys())\n",
        "\n",
        "liste_value_cumul_words = []\n",
        "somme_cumulee = 0\n",
        "\n",
        "for valeurs in dictionnaire_values_words : \n",
        "  somme_cumulee = somme_cumulee + valeurs\n",
        "  liste_value_cumul_words.append(somme_cumulee)\n",
        "\n",
        "\n",
        "liste_value_cumul_words \n",
        "\n",
        "plt.figure(figsize = (7,7))\n",
        "plt.ylim(0, 2000)\n",
        "plt.xlim(0.6, 1)\n",
        "plt.axhline(y = 1500, color='red')\n",
        "plt.axhline(y = 1000, color='red')\n",
        "plt.axhline(y = 500, color='red')\n",
        "plt.axvline(x = 0.95, color='pink')\n",
        "plt.axvline(x = 0.975, color='pink')\n",
        "plt.axvline(x = 0.965, color='pink')\n",
        "plt.hist(liste_value_cumul_words, bins = 200)\n",
        "plt.show()"
      ],
      "metadata": {
        "colab": {
          "base_uri": "https://localhost:8080/",
          "height": 432
        },
        "id": "xRcYAYjAm2dZ",
        "outputId": "339bb9bc-4cae-48c5-c95a-4e5434542a93"
      },
      "execution_count": 117,
      "outputs": [
        {
          "output_type": "display_data",
          "data": {
            "text/plain": [
              "<Figure size 504x504 with 1 Axes>"
            ],
            "image/png": "[encoded data removed]"
          },
          "metadata": {
            "needs_background": "light"
          }
        }
      ]
    },
    {
      "cell_type": "markdown",
      "source": [
        "### D'après l'étude empirique, il semble que 1000 tokens soit un bon compromis"
      ],
      "metadata": {
        "id": "ePvH_iVyptwn"
      }
    },
    {
      "cell_type": "code",
      "source": [
        "list_all_words = [j for i in df_effective_args['no_stop_words'].tolist() for j in i]\n",
        "print(len(list_all_words))\n",
        "dictionnaire_des_frequences = nltk.FreqDist(list_all_words)\n",
        "nombre_de_mots_to_save = 1000\n",
        "dictionnaire_des_frequences = dictionnaire_des_frequences.most_common(nombre_de_mots_to_save)\n",
        "number = []\n",
        "words = []\n",
        "for i in range(0, nombre_de_mots_to_save):\n",
        "  words.append(dictionnaire_des_frequences[i][0])\n",
        "  number.append(dictionnaire_des_frequences[i][1])\n",
        "somme = 0\n",
        "for element in number :\n",
        "  somme = somme + element\n",
        "print(somme)"
      ],
      "metadata": {
        "colab": {
          "base_uri": "https://localhost:8080/"
        },
        "id": "tkOhJsX_oqh2",
        "outputId": "dd46e454-bfd3-446b-f6c0-8057e7fcbf11"
      },
      "execution_count": 118,
      "outputs": [
        {
          "output_type": "stream",
          "name": "stdout",
          "text": [
            "776727\n",
            "613002\n"
          ]
        }
      ]
    }
  ],
  "metadata": {
    "colab": {
      "collapsed_sections": [],
      "name": "P8_EDA_TF_IDF_MODELS.ipynb",
      "provenance": [],
      "mount_file_id": "1uxrIBA-L0odNECps_apCEf8YmaMFaXGS",
      "authorship_tag": "ABX9TyMZW2tCc+TAjuXcgJfbRx/2"
    },
    "kernelspec": {
      "display_name": "Python 3",
      "name": "python3"
    },
    "language_info": {
      "name": "python"
    }
  },
  "nbformat": 4,
  "nbformat_minor": 0
}