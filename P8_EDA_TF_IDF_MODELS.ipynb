{
  "cells": [
    {
      "cell_type": "markdown",
      "metadata": {
        "id": "view-in-github",
        "colab_type": "text"
      },
      "source": [
        "<a href=\"https://colab.research.google.com/github/bonnefco/P8/blob/main/P8_EDA_TF_IDF_MODELS.ipynb\" target=\"_parent\"><img src=\"https://colab.research.google.com/assets/colab-badge.svg\" alt=\"Open In Colab\"/></a>"
      ]
    },
    {
      "cell_type": "markdown",
      "metadata": {
        "id": "zfREIvCPHHSe"
      },
      "source": [
        "# Importation des librairies"
      ]
    },
    {
      "cell_type": "code",
      "execution_count": 56,
      "metadata": {
        "colab": {
          "base_uri": "https://localhost:8080/"
        },
        "id": "SWSzYlbMK8fm",
        "outputId": "407d1b7b-53be-4c4b-b4fa-c04c54a95b0a"
      },
      "outputs": [
        {
          "output_type": "stream",
          "name": "stderr",
          "text": [
            "[nltk_data] Downloading package stopwords to /root/nltk_data...\n",
            "[nltk_data]   Package stopwords is already up-to-date!\n",
            "[nltk_data] Downloading package wordnet to /root/nltk_data...\n",
            "[nltk_data]   Package wordnet is already up-to-date!\n",
            "[nltk_data] Downloading package omw-1.4 to /root/nltk_data...\n",
            "[nltk_data]   Package omw-1.4 is already up-to-date!\n"
          ]
        },
        {
          "output_type": "execute_result",
          "data": {
            "text/plain": [
              "True"
            ]
          },
          "metadata": {},
          "execution_count": 56
        }
      ],
      "source": [
        "import pandas as pd\n",
        "import matplotlib.pyplot as plt\n",
        "import seaborn as sns\n",
        "import numpy as np\n",
        "import sklearn\n",
        "import ast\n",
        "from scipy import stats\n",
        "\n",
        "import nltk\n",
        "from nltk.corpus import stopwords\n",
        "from nltk.stem import WordNetLemmatizer\n",
        "nltk.download('stopwords')\n",
        "nltk.download('wordnet')\n",
        "nltk.download('omw-1.4')"
      ]
    },
    {
      "cell_type": "code",
      "execution_count": 57,
      "metadata": {
        "id": "SxU2y1tJRj-P"
      },
      "outputs": [],
      "source": [
        "df_effective_args = pd.read_csv('/content/drive/MyDrive/Colab_Notebooks/P8/dataset/train_light.csv',encoding=\"utf-8\",header=(0))"
      ]
    },
    {
      "cell_type": "markdown",
      "metadata": {
        "id": "Slt7Aso0QwMc"
      },
      "source": [
        "# Fonctions utiles"
      ]
    },
    {
      "cell_type": "code",
      "execution_count": 58,
      "metadata": {
        "id": "PUOXZfupQyis"
      },
      "outputs": [],
      "source": [
        "def create_histogram_of_words(list_of_words):\n",
        "\n",
        "  dictionnaire_words = dict(nltk.FreqDist(list_of_words))\n",
        "  somme_total_occurences = sum(dictionnaire_words.values())\n",
        "\n",
        "  dictionnaire_pourcentage_words = dictionnaire_words.copy()\n",
        "\n",
        "  for key, value in dictionnaire_pourcentage_words.items():\n",
        "    dictionnaire_pourcentage_words[key] = dictionnaire_pourcentage_words[key]/somme_total_occurences\n",
        "\n",
        "  dictionnaire_trie_pourcentage_words = dict(sorted(dictionnaire_pourcentage_words.items(), key=lambda item: item[1] ,reverse=True))\n",
        "  dictionnaire_values_words = list(dictionnaire_trie_pourcentage_words.values())\n",
        "\n",
        "  liste_value_cumul_words = []\n",
        "  somme_cumulee = 0\n",
        "\n",
        "  for valeurs in dictionnaire_values_words : \n",
        "    somme_cumulee = somme_cumulee + valeurs\n",
        "    liste_value_cumul_words.append(somme_cumulee)\n",
        "\n",
        "  return liste_value_cumul_words "
      ]
    },
    {
      "cell_type": "markdown",
      "metadata": {
        "id": "A7-0w7P0R8UH"
      },
      "source": [
        "# Nettoyage pour approche TF-IDF"
      ]
    },
    {
      "cell_type": "markdown",
      "metadata": {
        "id": "Q0ICQq_zVG6q"
      },
      "source": [
        "## Creation des premiers tokens (longueur > 1) et passage en minuscule"
      ]
    },
    {
      "cell_type": "code",
      "execution_count": 59,
      "metadata": {
        "id": "pwQLAe0nVGYC"
      },
      "outputs": [],
      "source": [
        "def create_token(string):\n",
        "  tokenizer = nltk.RegexpTokenizer(r'\\w+')\n",
        "  string = tokenizer.tokenize(string.lower())\n",
        "  list_tokens_elements = [element for element in string if len(element)>1]\n",
        "  return list_tokens_elements"
      ]
    },
    {
      "cell_type": "code",
      "execution_count": 60,
      "metadata": {
        "id": "E04bSNTnV1Cy"
      },
      "outputs": [],
      "source": [
        "df_effective_args['discourse_text_tokenized'] = df_effective_args['discourse_text'].apply(create_token)"
      ]
    },
    {
      "cell_type": "code",
      "execution_count": 61,
      "metadata": {
        "colab": {
          "base_uri": "https://localhost:8080/",
          "height": 112
        },
        "id": "k9vvNfbEWJJV",
        "outputId": "9d21de18-7648-46c3-c522-434c175bde85"
      },
      "outputs": [
        {
          "output_type": "execute_result",
          "data": {
            "text/plain": [
              "                                      discourse_text discourse_type  \\\n",
              "0  Hi, i'm Isaac, i'm going to be writing about h...           Lead   \n",
              "1  On my perspective, I think that the face is a ...       Position   \n",
              "\n",
              "  discourse_effectiveness                           discourse_text_tokenized  \n",
              "0                Adequate  [hi, isaac, going, to, be, writing, about, how...  \n",
              "1                Adequate  [on, my, perspective, think, that, the, face, ...  "
            ],
            "text/html": [
              "\n",
              "  <div id=\"df-7b6bc073-6aaa-41db-be63-ee41762bcac5\">\n",
              "    <div class=\"colab-df-container\">\n",
              "      <div>\n",
              "<style scoped>\n",
              "    .dataframe tbody tr th:only-of-type {\n",
              "        vertical-align: middle;\n",
              "    }\n",
              "\n",
              "    .dataframe tbody tr th {\n",
              "        vertical-align: top;\n",
              "    }\n",
              "\n",
              "    .dataframe thead th {\n",
              "        text-align: right;\n",
              "    }\n",
              "</style>\n",
              "<table border=\"1\" class=\"dataframe\">\n",
              "  <thead>\n",
              "    <tr style=\"text-align: right;\">\n",
              "      <th></th>\n",
              "      <th>discourse_text</th>\n",
              "      <th>discourse_type</th>\n",
              "      <th>discourse_effectiveness</th>\n",
              "      <th>discourse_text_tokenized</th>\n",
              "    </tr>\n",
              "  </thead>\n",
              "  <tbody>\n",
              "    <tr>\n",
              "      <th>0</th>\n",
              "      <td>Hi, i'm Isaac, i'm going to be writing about h...</td>\n",
              "      <td>Lead</td>\n",
              "      <td>Adequate</td>\n",
              "      <td>[hi, isaac, going, to, be, writing, about, how...</td>\n",
              "    </tr>\n",
              "    <tr>\n",
              "      <th>1</th>\n",
              "      <td>On my perspective, I think that the face is a ...</td>\n",
              "      <td>Position</td>\n",
              "      <td>Adequate</td>\n",
              "      <td>[on, my, perspective, think, that, the, face, ...</td>\n",
              "    </tr>\n",
              "  </tbody>\n",
              "</table>\n",
              "</div>\n",
              "      <button class=\"colab-df-convert\" onclick=\"convertToInteractive('df-7b6bc073-6aaa-41db-be63-ee41762bcac5')\"\n",
              "              title=\"Convert this dataframe to an interactive table.\"\n",
              "              style=\"display:none;\">\n",
              "        \n",
              "  <svg xmlns=\"http://www.w3.org/2000/svg\" height=\"24px\"viewBox=\"0 0 24 24\"\n",
              "       width=\"24px\">\n",
              "    <path d=\"M0 0h24v24H0V0z\" fill=\"none\"/>\n",
              "    <path d=\"M18.56 5.44l.94 2.06.94-2.06 2.06-.94-2.06-.94-.94-2.06-.94 2.06-2.06.94zm-11 1L8.5 8.5l.94-2.06 2.06-.94-2.06-.94L8.5 2.5l-.94 2.06-2.06.94zm10 10l.94 2.06.94-2.06 2.06-.94-2.06-.94-.94-2.06-.94 2.06-2.06.94z\"/><path d=\"M17.41 7.96l-1.37-1.37c-.4-.4-.92-.59-1.43-.59-.52 0-1.04.2-1.43.59L10.3 9.45l-7.72 7.72c-.78.78-.78 2.05 0 2.83L4 21.41c.39.39.9.59 1.41.59.51 0 1.02-.2 1.41-.59l7.78-7.78 2.81-2.81c.8-.78.8-2.07 0-2.86zM5.41 20L4 18.59l7.72-7.72 1.47 1.35L5.41 20z\"/>\n",
              "  </svg>\n",
              "      </button>\n",
              "      \n",
              "  <style>\n",
              "    .colab-df-container {\n",
              "      display:flex;\n",
              "      flex-wrap:wrap;\n",
              "      gap: 12px;\n",
              "    }\n",
              "\n",
              "    .colab-df-convert {\n",
              "      background-color: #E8F0FE;\n",
              "      border: none;\n",
              "      border-radius: 50%;\n",
              "      cursor: pointer;\n",
              "      display: none;\n",
              "      fill: #1967D2;\n",
              "      height: 32px;\n",
              "      padding: 0 0 0 0;\n",
              "      width: 32px;\n",
              "    }\n",
              "\n",
              "    .colab-df-convert:hover {\n",
              "      background-color: #E2EBFA;\n",
              "      box-shadow: 0px 1px 2px rgba(60, 64, 67, 0.3), 0px 1px 3px 1px rgba(60, 64, 67, 0.15);\n",
              "      fill: #174EA6;\n",
              "    }\n",
              "\n",
              "    [theme=dark] .colab-df-convert {\n",
              "      background-color: #3B4455;\n",
              "      fill: #D2E3FC;\n",
              "    }\n",
              "\n",
              "    [theme=dark] .colab-df-convert:hover {\n",
              "      background-color: #434B5C;\n",
              "      box-shadow: 0px 1px 3px 1px rgba(0, 0, 0, 0.15);\n",
              "      filter: drop-shadow(0px 1px 2px rgba(0, 0, 0, 0.3));\n",
              "      fill: #FFFFFF;\n",
              "    }\n",
              "  </style>\n",
              "\n",
              "      <script>\n",
              "        const buttonEl =\n",
              "          document.querySelector('#df-7b6bc073-6aaa-41db-be63-ee41762bcac5 button.colab-df-convert');\n",
              "        buttonEl.style.display =\n",
              "          google.colab.kernel.accessAllowed ? 'block' : 'none';\n",
              "\n",
              "        async function convertToInteractive(key) {\n",
              "          const element = document.querySelector('#df-7b6bc073-6aaa-41db-be63-ee41762bcac5');\n",
              "          const dataTable =\n",
              "            await google.colab.kernel.invokeFunction('convertToInteractive',\n",
              "                                                     [key], {});\n",
              "          if (!dataTable) return;\n",
              "\n",
              "          const docLinkHtml = 'Like what you see? Visit the ' +\n",
              "            '<a target=\"_blank\" href=https://colab.research.google.com/notebooks/data_table.ipynb>data table notebook</a>'\n",
              "            + ' to learn more about interactive tables.';\n",
              "          element.innerHTML = '';\n",
              "          dataTable['output_type'] = 'display_data';\n",
              "          await google.colab.output.renderOutput(dataTable, element);\n",
              "          const docLink = document.createElement('div');\n",
              "          docLink.innerHTML = docLinkHtml;\n",
              "          element.appendChild(docLink);\n",
              "        }\n",
              "      </script>\n",
              "    </div>\n",
              "  </div>\n",
              "  "
            ]
          },
          "metadata": {},
          "execution_count": 61
        }
      ],
      "source": [
        "df_effective_args.head(2)"
      ]
    },
    {
      "cell_type": "markdown",
      "metadata": {
        "id": "V7frqeiLYC3p"
      },
      "source": [
        "## La lemmantization "
      ]
    },
    {
      "cell_type": "code",
      "execution_count": 62,
      "metadata": {
        "id": "zU3UOp2IYitW"
      },
      "outputs": [],
      "source": [
        "lemmatizer = WordNetLemmatizer()"
      ]
    },
    {
      "cell_type": "code",
      "execution_count": 63,
      "metadata": {
        "id": "xmNNwsRRX6kK"
      },
      "outputs": [],
      "source": [
        "def create_lemmatization(list_of_words_tokenized) :\n",
        "  list_of_words_tokenized_lemmantized = []\n",
        "  for token in list_of_words_tokenized:\n",
        "    lemmetized_word = lemmatizer.lemmatize(token)\n",
        "    if len(lemmetized_word) > 1 : \n",
        "      list_of_words_tokenized_lemmantized.append(lemmetized_word)\n",
        "  return list_of_words_tokenized_lemmantized"
      ]
    },
    {
      "cell_type": "code",
      "execution_count": 64,
      "metadata": {
        "id": "gY_9PAcLYyAD"
      },
      "outputs": [],
      "source": [
        "df_effective_args['discourse_text_lemmatized'] = df_effective_args['discourse_text_tokenized'].apply(create_lemmatization)"
      ]
    },
    {
      "cell_type": "code",
      "execution_count": 65,
      "metadata": {
        "colab": {
          "base_uri": "https://localhost:8080/",
          "height": 424
        },
        "id": "MzD5VbjyaaHH",
        "outputId": "21fca5c3-dc09-4bcd-a4e7-06dd176d834b"
      },
      "outputs": [
        {
          "output_type": "execute_result",
          "data": {
            "text/plain": [
              "                                          discourse_text  \\\n",
              "0      Hi, i'm Isaac, i'm going to be writing about h...   \n",
              "1      On my perspective, I think that the face is a ...   \n",
              "2      I think that the face is a natural landform be...   \n",
              "3      If life was on Mars, we would know by now. The...   \n",
              "4      People thought that the face was formed by ali...   \n",
              "...                                                  ...   \n",
              "36672  For many people they don't like only asking on...   \n",
              "36673  also people have different views and opinions ...   \n",
              "36674  Advice is something that can impact a persons ...   \n",
              "36675  someone can use everything that many people sa...   \n",
              "36676  In conclusion asking for an opinion can be ben...   \n",
              "\n",
              "             discourse_type discourse_effectiveness  \\\n",
              "0                      Lead                Adequate   \n",
              "1                  Position                Adequate   \n",
              "2                     Claim                Adequate   \n",
              "3                  Evidence                Adequate   \n",
              "4              Counterclaim                Adequate   \n",
              "...                     ...                     ...   \n",
              "36672                 Claim                Adequate   \n",
              "36673                 Claim                Adequate   \n",
              "36674              Position                Adequate   \n",
              "36675              Evidence             Ineffective   \n",
              "36676  Concluding Statement             Ineffective   \n",
              "\n",
              "                                discourse_text_tokenized  \\\n",
              "0      [hi, isaac, going, to, be, writing, about, how...   \n",
              "1      [on, my, perspective, think, that, the, face, ...   \n",
              "2      [think, that, the, face, is, natural, landform...   \n",
              "3      [if, life, was, on, mars, we, would, know, by,...   \n",
              "4      [people, thought, that, the, face, was, formed...   \n",
              "...                                                  ...   \n",
              "36672  [for, many, people, they, don, like, only, ask...   \n",
              "36673  [also, people, have, different, views, and, op...   \n",
              "36674  [advice, is, something, that, can, impact, per...   \n",
              "36675  [someone, can, use, everything, that, many, pe...   \n",
              "36676  [in, conclusion, asking, for, an, opinion, can...   \n",
              "\n",
              "                               discourse_text_lemmatized  \n",
              "0      [hi, isaac, going, to, be, writing, about, how...  \n",
              "1      [on, my, perspective, think, that, the, face, ...  \n",
              "2      [think, that, the, face, is, natural, landform...  \n",
              "3      [if, life, wa, on, mar, we, would, know, by, n...  \n",
              "4      [people, thought, that, the, face, wa, formed,...  \n",
              "...                                                  ...  \n",
              "36672  [for, many, people, they, don, like, only, ask...  \n",
              "36673  [also, people, have, different, view, and, opi...  \n",
              "36674  [advice, is, something, that, can, impact, per...  \n",
              "36675  [someone, can, use, everything, that, many, pe...  \n",
              "36676  [in, conclusion, asking, for, an, opinion, can...  \n",
              "\n",
              "[36677 rows x 5 columns]"
            ],
            "text/html": [
              "\n",
              "  <div id=\"df-94441d27-aaa3-4d32-906e-afdf17d3bdba\">\n",
              "    <div class=\"colab-df-container\">\n",
              "      <div>\n",
              "<style scoped>\n",
              "    .dataframe tbody tr th:only-of-type {\n",
              "        vertical-align: middle;\n",
              "    }\n",
              "\n",
              "    .dataframe tbody tr th {\n",
              "        vertical-align: top;\n",
              "    }\n",
              "\n",
              "    .dataframe thead th {\n",
              "        text-align: right;\n",
              "    }\n",
              "</style>\n",
              "<table border=\"1\" class=\"dataframe\">\n",
              "  <thead>\n",
              "    <tr style=\"text-align: right;\">\n",
              "      <th></th>\n",
              "      <th>discourse_text</th>\n",
              "      <th>discourse_type</th>\n",
              "      <th>discourse_effectiveness</th>\n",
              "      <th>discourse_text_tokenized</th>\n",
              "      <th>discourse_text_lemmatized</th>\n",
              "    </tr>\n",
              "  </thead>\n",
              "  <tbody>\n",
              "    <tr>\n",
              "      <th>0</th>\n",
              "      <td>Hi, i'm Isaac, i'm going to be writing about h...</td>\n",
              "      <td>Lead</td>\n",
              "      <td>Adequate</td>\n",
              "      <td>[hi, isaac, going, to, be, writing, about, how...</td>\n",
              "      <td>[hi, isaac, going, to, be, writing, about, how...</td>\n",
              "    </tr>\n",
              "    <tr>\n",
              "      <th>1</th>\n",
              "      <td>On my perspective, I think that the face is a ...</td>\n",
              "      <td>Position</td>\n",
              "      <td>Adequate</td>\n",
              "      <td>[on, my, perspective, think, that, the, face, ...</td>\n",
              "      <td>[on, my, perspective, think, that, the, face, ...</td>\n",
              "    </tr>\n",
              "    <tr>\n",
              "      <th>2</th>\n",
              "      <td>I think that the face is a natural landform be...</td>\n",
              "      <td>Claim</td>\n",
              "      <td>Adequate</td>\n",
              "      <td>[think, that, the, face, is, natural, landform...</td>\n",
              "      <td>[think, that, the, face, is, natural, landform...</td>\n",
              "    </tr>\n",
              "    <tr>\n",
              "      <th>3</th>\n",
              "      <td>If life was on Mars, we would know by now. The...</td>\n",
              "      <td>Evidence</td>\n",
              "      <td>Adequate</td>\n",
              "      <td>[if, life, was, on, mars, we, would, know, by,...</td>\n",
              "      <td>[if, life, wa, on, mar, we, would, know, by, n...</td>\n",
              "    </tr>\n",
              "    <tr>\n",
              "      <th>4</th>\n",
              "      <td>People thought that the face was formed by ali...</td>\n",
              "      <td>Counterclaim</td>\n",
              "      <td>Adequate</td>\n",
              "      <td>[people, thought, that, the, face, was, formed...</td>\n",
              "      <td>[people, thought, that, the, face, wa, formed,...</td>\n",
              "    </tr>\n",
              "    <tr>\n",
              "      <th>...</th>\n",
              "      <td>...</td>\n",
              "      <td>...</td>\n",
              "      <td>...</td>\n",
              "      <td>...</td>\n",
              "      <td>...</td>\n",
              "    </tr>\n",
              "    <tr>\n",
              "      <th>36672</th>\n",
              "      <td>For many people they don't like only asking on...</td>\n",
              "      <td>Claim</td>\n",
              "      <td>Adequate</td>\n",
              "      <td>[for, many, people, they, don, like, only, ask...</td>\n",
              "      <td>[for, many, people, they, don, like, only, ask...</td>\n",
              "    </tr>\n",
              "    <tr>\n",
              "      <th>36673</th>\n",
              "      <td>also people have different views and opinions ...</td>\n",
              "      <td>Claim</td>\n",
              "      <td>Adequate</td>\n",
              "      <td>[also, people, have, different, views, and, op...</td>\n",
              "      <td>[also, people, have, different, view, and, opi...</td>\n",
              "    </tr>\n",
              "    <tr>\n",
              "      <th>36674</th>\n",
              "      <td>Advice is something that can impact a persons ...</td>\n",
              "      <td>Position</td>\n",
              "      <td>Adequate</td>\n",
              "      <td>[advice, is, something, that, can, impact, per...</td>\n",
              "      <td>[advice, is, something, that, can, impact, per...</td>\n",
              "    </tr>\n",
              "    <tr>\n",
              "      <th>36675</th>\n",
              "      <td>someone can use everything that many people sa...</td>\n",
              "      <td>Evidence</td>\n",
              "      <td>Ineffective</td>\n",
              "      <td>[someone, can, use, everything, that, many, pe...</td>\n",
              "      <td>[someone, can, use, everything, that, many, pe...</td>\n",
              "    </tr>\n",
              "    <tr>\n",
              "      <th>36676</th>\n",
              "      <td>In conclusion asking for an opinion can be ben...</td>\n",
              "      <td>Concluding Statement</td>\n",
              "      <td>Ineffective</td>\n",
              "      <td>[in, conclusion, asking, for, an, opinion, can...</td>\n",
              "      <td>[in, conclusion, asking, for, an, opinion, can...</td>\n",
              "    </tr>\n",
              "  </tbody>\n",
              "</table>\n",
              "<p>36677 rows × 5 columns</p>\n",
              "</div>\n",
              "      <button class=\"colab-df-convert\" onclick=\"convertToInteractive('df-94441d27-aaa3-4d32-906e-afdf17d3bdba')\"\n",
              "              title=\"Convert this dataframe to an interactive table.\"\n",
              "              style=\"display:none;\">\n",
              "        \n",
              "  <svg xmlns=\"http://www.w3.org/2000/svg\" height=\"24px\"viewBox=\"0 0 24 24\"\n",
              "       width=\"24px\">\n",
              "    <path d=\"M0 0h24v24H0V0z\" fill=\"none\"/>\n",
              "    <path d=\"M18.56 5.44l.94 2.06.94-2.06 2.06-.94-2.06-.94-.94-2.06-.94 2.06-2.06.94zm-11 1L8.5 8.5l.94-2.06 2.06-.94-2.06-.94L8.5 2.5l-.94 2.06-2.06.94zm10 10l.94 2.06.94-2.06 2.06-.94-2.06-.94-.94-2.06-.94 2.06-2.06.94z\"/><path d=\"M17.41 7.96l-1.37-1.37c-.4-.4-.92-.59-1.43-.59-.52 0-1.04.2-1.43.59L10.3 9.45l-7.72 7.72c-.78.78-.78 2.05 0 2.83L4 21.41c.39.39.9.59 1.41.59.51 0 1.02-.2 1.41-.59l7.78-7.78 2.81-2.81c.8-.78.8-2.07 0-2.86zM5.41 20L4 18.59l7.72-7.72 1.47 1.35L5.41 20z\"/>\n",
              "  </svg>\n",
              "      </button>\n",
              "      \n",
              "  <style>\n",
              "    .colab-df-container {\n",
              "      display:flex;\n",
              "      flex-wrap:wrap;\n",
              "      gap: 12px;\n",
              "    }\n",
              "\n",
              "    .colab-df-convert {\n",
              "      background-color: #E8F0FE;\n",
              "      border: none;\n",
              "      border-radius: 50%;\n",
              "      cursor: pointer;\n",
              "      display: none;\n",
              "      fill: #1967D2;\n",
              "      height: 32px;\n",
              "      padding: 0 0 0 0;\n",
              "      width: 32px;\n",
              "    }\n",
              "\n",
              "    .colab-df-convert:hover {\n",
              "      background-color: #E2EBFA;\n",
              "      box-shadow: 0px 1px 2px rgba(60, 64, 67, 0.3), 0px 1px 3px 1px rgba(60, 64, 67, 0.15);\n",
              "      fill: #174EA6;\n",
              "    }\n",
              "\n",
              "    [theme=dark] .colab-df-convert {\n",
              "      background-color: #3B4455;\n",
              "      fill: #D2E3FC;\n",
              "    }\n",
              "\n",
              "    [theme=dark] .colab-df-convert:hover {\n",
              "      background-color: #434B5C;\n",
              "      box-shadow: 0px 1px 3px 1px rgba(0, 0, 0, 0.15);\n",
              "      filter: drop-shadow(0px 1px 2px rgba(0, 0, 0, 0.3));\n",
              "      fill: #FFFFFF;\n",
              "    }\n",
              "  </style>\n",
              "\n",
              "      <script>\n",
              "        const buttonEl =\n",
              "          document.querySelector('#df-94441d27-aaa3-4d32-906e-afdf17d3bdba button.colab-df-convert');\n",
              "        buttonEl.style.display =\n",
              "          google.colab.kernel.accessAllowed ? 'block' : 'none';\n",
              "\n",
              "        async function convertToInteractive(key) {\n",
              "          const element = document.querySelector('#df-94441d27-aaa3-4d32-906e-afdf17d3bdba');\n",
              "          const dataTable =\n",
              "            await google.colab.kernel.invokeFunction('convertToInteractive',\n",
              "                                                     [key], {});\n",
              "          if (!dataTable) return;\n",
              "\n",
              "          const docLinkHtml = 'Like what you see? Visit the ' +\n",
              "            '<a target=\"_blank\" href=https://colab.research.google.com/notebooks/data_table.ipynb>data table notebook</a>'\n",
              "            + ' to learn more about interactive tables.';\n",
              "          element.innerHTML = '';\n",
              "          dataTable['output_type'] = 'display_data';\n",
              "          await google.colab.output.renderOutput(dataTable, element);\n",
              "          const docLink = document.createElement('div');\n",
              "          docLink.innerHTML = docLinkHtml;\n",
              "          element.appendChild(docLink);\n",
              "        }\n",
              "      </script>\n",
              "    </div>\n",
              "  </div>\n",
              "  "
            ]
          },
          "metadata": {},
          "execution_count": 65
        }
      ],
      "source": [
        "df_effective_args"
      ]
    },
    {
      "cell_type": "markdown",
      "metadata": {
        "id": "-Fi_00dISy7T"
      },
      "source": [
        "### Limites : la lemmatisation tronque certains mots \n",
        "*   \"mars\" -> \"mar\" ...\n",
        "*   \"was\" -> \"wa\""
      ]
    },
    {
      "cell_type": "markdown",
      "metadata": {
        "id": "RH7W6Y-Pazsm"
      },
      "source": [
        "## Nettoyage des Stop words"
      ]
    },
    {
      "cell_type": "markdown",
      "metadata": {
        "id": "7-3pANDcfL-v"
      },
      "source": [
        "### Stop words (corpus et nltk)"
      ]
    },
    {
      "cell_type": "code",
      "execution_count": 66,
      "metadata": {
        "id": "ToY3iZ09fSAO"
      },
      "outputs": [],
      "source": [
        "list_all_words = [j for i in df_effective_args['discourse_text_lemmatized'].tolist() for j in i]\n",
        "dictionnaire_des_frequences = nltk.FreqDist(list_all_words)"
      ]
    },
    {
      "cell_type": "code",
      "execution_count": 67,
      "metadata": {
        "id": "Qm88FJI9hppd"
      },
      "outputs": [],
      "source": [
        "stop_words_corpus = []\n",
        "nombre_de_mot_selectionne = 25\n",
        "for i in range(0, nombre_de_mot_selectionne):\n",
        "  stop_words_corpus.append(dictionnaire_des_frequences.most_common(nombre_de_mot_selectionne+1)[i][0])\n",
        "stop_words_nltk = list(set(stopwords.words('english')))\n",
        "stop_words_merged = list(set(stop_words_nltk+stop_words_corpus))"
      ]
    },
    {
      "cell_type": "markdown",
      "metadata": {
        "id": "FiqpB9wQIR5M"
      },
      "source": [
        "#### Liste des mots selectionnés"
      ]
    },
    {
      "cell_type": "code",
      "execution_count": 68,
      "metadata": {
        "colab": {
          "base_uri": "https://localhost:8080/"
        },
        "id": "K8wk3I3IIRe4",
        "outputId": "7f1c5220-e7ec-4f22-e708-e4fe40c9d81d"
      },
      "outputs": [
        {
          "output_type": "stream",
          "name": "stdout",
          "text": [
            "['the', 'to', 'and', 'of', 'that', 'it', 'in', 'is', 'they', 'for', 'you', 'be', 'student', 'have', 'are', 'not', 'on', 'can', 'this', 'people', 'would', 'if', 'or', 'their', 'with']\n"
          ]
        }
      ],
      "source": [
        "print(stop_words_corpus)"
      ]
    },
    {
      "cell_type": "markdown",
      "metadata": {
        "id": "y-Y0ED7pIwVl"
      },
      "source": [
        "#### Suppression stop words corpus"
      ]
    },
    {
      "cell_type": "code",
      "execution_count": 69,
      "metadata": {
        "id": "qBMAi8rYiyNv"
      },
      "outputs": [],
      "source": [
        "def delete_stop_words_in_corpus(x, list_of_stop_words = stop_words_merged) :\n",
        "  y = x.copy()\n",
        "  for element in list_of_stop_words :\n",
        "    while element in y: y.remove(element)\n",
        "  return y"
      ]
    },
    {
      "cell_type": "code",
      "execution_count": 70,
      "metadata": {
        "id": "dnnuaVXKiz4O"
      },
      "outputs": [],
      "source": [
        "df_effective_args['no_stop_words'] = df_effective_args['discourse_text_lemmatized'].transform(delete_stop_words_in_corpus)"
      ]
    },
    {
      "cell_type": "code",
      "execution_count": 71,
      "metadata": {
        "colab": {
          "base_uri": "https://localhost:8080/",
          "height": 641
        },
        "id": "STRbQXgdjJLL",
        "outputId": "9e0fdcb8-7818-4760-fefa-ea325f7655eb"
      },
      "outputs": [
        {
          "output_type": "execute_result",
          "data": {
            "text/plain": [
              "                                          discourse_text  \\\n",
              "0      Hi, i'm Isaac, i'm going to be writing about h...   \n",
              "1      On my perspective, I think that the face is a ...   \n",
              "2      I think that the face is a natural landform be...   \n",
              "3      If life was on Mars, we would know by now. The...   \n",
              "4      People thought that the face was formed by ali...   \n",
              "...                                                  ...   \n",
              "36672  For many people they don't like only asking on...   \n",
              "36673  also people have different views and opinions ...   \n",
              "36674  Advice is something that can impact a persons ...   \n",
              "36675  someone can use everything that many people sa...   \n",
              "36676  In conclusion asking for an opinion can be ben...   \n",
              "\n",
              "             discourse_type discourse_effectiveness  \\\n",
              "0                      Lead                Adequate   \n",
              "1                  Position                Adequate   \n",
              "2                     Claim                Adequate   \n",
              "3                  Evidence                Adequate   \n",
              "4              Counterclaim                Adequate   \n",
              "...                     ...                     ...   \n",
              "36672                 Claim                Adequate   \n",
              "36673                 Claim                Adequate   \n",
              "36674              Position                Adequate   \n",
              "36675              Evidence             Ineffective   \n",
              "36676  Concluding Statement             Ineffective   \n",
              "\n",
              "                                discourse_text_tokenized  \\\n",
              "0      [hi, isaac, going, to, be, writing, about, how...   \n",
              "1      [on, my, perspective, think, that, the, face, ...   \n",
              "2      [think, that, the, face, is, natural, landform...   \n",
              "3      [if, life, was, on, mars, we, would, know, by,...   \n",
              "4      [people, thought, that, the, face, was, formed...   \n",
              "...                                                  ...   \n",
              "36672  [for, many, people, they, don, like, only, ask...   \n",
              "36673  [also, people, have, different, views, and, op...   \n",
              "36674  [advice, is, something, that, can, impact, per...   \n",
              "36675  [someone, can, use, everything, that, many, pe...   \n",
              "36676  [in, conclusion, asking, for, an, opinion, can...   \n",
              "\n",
              "                               discourse_text_lemmatized  \\\n",
              "0      [hi, isaac, going, to, be, writing, about, how...   \n",
              "1      [on, my, perspective, think, that, the, face, ...   \n",
              "2      [think, that, the, face, is, natural, landform...   \n",
              "3      [if, life, wa, on, mar, we, would, know, by, n...   \n",
              "4      [people, thought, that, the, face, wa, formed,...   \n",
              "...                                                  ...   \n",
              "36672  [for, many, people, they, don, like, only, ask...   \n",
              "36673  [also, people, have, different, view, and, opi...   \n",
              "36674  [advice, is, something, that, can, impact, per...   \n",
              "36675  [someone, can, use, everything, that, many, pe...   \n",
              "36676  [in, conclusion, asking, for, an, opinion, can...   \n",
              "\n",
              "                                           no_stop_words  \n",
              "0      [hi, isaac, going, writing, face, mar, natural...  \n",
              "1      [perspective, think, face, natural, landform, ...  \n",
              "2      [think, face, natural, landform, life, mar, de...  \n",
              "3      [life, wa, mar, know, reason, think, natural, ...  \n",
              "4      [thought, face, wa, formed, alieans, thought, ...  \n",
              "...                                                  ...  \n",
              "36672  [many, like, asking, one, person, advice, some...  \n",
              "36673            [also, different, view, opinion, thing]  \n",
              "36674  [advice, something, impact, person, view, many...  \n",
              "36675  [someone, use, everything, many, said, use, he...  \n",
              "36676  [conclusion, asking, opinion, beneficial, some...  \n",
              "\n",
              "[36677 rows x 6 columns]"
            ],
            "text/html": [
              "\n",
              "  <div id=\"df-a2bc4608-f58b-4099-bcaf-2ba54ec99b46\">\n",
              "    <div class=\"colab-df-container\">\n",
              "      <div>\n",
              "<style scoped>\n",
              "    .dataframe tbody tr th:only-of-type {\n",
              "        vertical-align: middle;\n",
              "    }\n",
              "\n",
              "    .dataframe tbody tr th {\n",
              "        vertical-align: top;\n",
              "    }\n",
              "\n",
              "    .dataframe thead th {\n",
              "        text-align: right;\n",
              "    }\n",
              "</style>\n",
              "<table border=\"1\" class=\"dataframe\">\n",
              "  <thead>\n",
              "    <tr style=\"text-align: right;\">\n",
              "      <th></th>\n",
              "      <th>discourse_text</th>\n",
              "      <th>discourse_type</th>\n",
              "      <th>discourse_effectiveness</th>\n",
              "      <th>discourse_text_tokenized</th>\n",
              "      <th>discourse_text_lemmatized</th>\n",
              "      <th>no_stop_words</th>\n",
              "    </tr>\n",
              "  </thead>\n",
              "  <tbody>\n",
              "    <tr>\n",
              "      <th>0</th>\n",
              "      <td>Hi, i'm Isaac, i'm going to be writing about h...</td>\n",
              "      <td>Lead</td>\n",
              "      <td>Adequate</td>\n",
              "      <td>[hi, isaac, going, to, be, writing, about, how...</td>\n",
              "      <td>[hi, isaac, going, to, be, writing, about, how...</td>\n",
              "      <td>[hi, isaac, going, writing, face, mar, natural...</td>\n",
              "    </tr>\n",
              "    <tr>\n",
              "      <th>1</th>\n",
              "      <td>On my perspective, I think that the face is a ...</td>\n",
              "      <td>Position</td>\n",
              "      <td>Adequate</td>\n",
              "      <td>[on, my, perspective, think, that, the, face, ...</td>\n",
              "      <td>[on, my, perspective, think, that, the, face, ...</td>\n",
              "      <td>[perspective, think, face, natural, landform, ...</td>\n",
              "    </tr>\n",
              "    <tr>\n",
              "      <th>2</th>\n",
              "      <td>I think that the face is a natural landform be...</td>\n",
              "      <td>Claim</td>\n",
              "      <td>Adequate</td>\n",
              "      <td>[think, that, the, face, is, natural, landform...</td>\n",
              "      <td>[think, that, the, face, is, natural, landform...</td>\n",
              "      <td>[think, face, natural, landform, life, mar, de...</td>\n",
              "    </tr>\n",
              "    <tr>\n",
              "      <th>3</th>\n",
              "      <td>If life was on Mars, we would know by now. The...</td>\n",
              "      <td>Evidence</td>\n",
              "      <td>Adequate</td>\n",
              "      <td>[if, life, was, on, mars, we, would, know, by,...</td>\n",
              "      <td>[if, life, wa, on, mar, we, would, know, by, n...</td>\n",
              "      <td>[life, wa, mar, know, reason, think, natural, ...</td>\n",
              "    </tr>\n",
              "    <tr>\n",
              "      <th>4</th>\n",
              "      <td>People thought that the face was formed by ali...</td>\n",
              "      <td>Counterclaim</td>\n",
              "      <td>Adequate</td>\n",
              "      <td>[people, thought, that, the, face, was, formed...</td>\n",
              "      <td>[people, thought, that, the, face, wa, formed,...</td>\n",
              "      <td>[thought, face, wa, formed, alieans, thought, ...</td>\n",
              "    </tr>\n",
              "    <tr>\n",
              "      <th>...</th>\n",
              "      <td>...</td>\n",
              "      <td>...</td>\n",
              "      <td>...</td>\n",
              "      <td>...</td>\n",
              "      <td>...</td>\n",
              "      <td>...</td>\n",
              "    </tr>\n",
              "    <tr>\n",
              "      <th>36672</th>\n",
              "      <td>For many people they don't like only asking on...</td>\n",
              "      <td>Claim</td>\n",
              "      <td>Adequate</td>\n",
              "      <td>[for, many, people, they, don, like, only, ask...</td>\n",
              "      <td>[for, many, people, they, don, like, only, ask...</td>\n",
              "      <td>[many, like, asking, one, person, advice, some...</td>\n",
              "    </tr>\n",
              "    <tr>\n",
              "      <th>36673</th>\n",
              "      <td>also people have different views and opinions ...</td>\n",
              "      <td>Claim</td>\n",
              "      <td>Adequate</td>\n",
              "      <td>[also, people, have, different, views, and, op...</td>\n",
              "      <td>[also, people, have, different, view, and, opi...</td>\n",
              "      <td>[also, different, view, opinion, thing]</td>\n",
              "    </tr>\n",
              "    <tr>\n",
              "      <th>36674</th>\n",
              "      <td>Advice is something that can impact a persons ...</td>\n",
              "      <td>Position</td>\n",
              "      <td>Adequate</td>\n",
              "      <td>[advice, is, something, that, can, impact, per...</td>\n",
              "      <td>[advice, is, something, that, can, impact, per...</td>\n",
              "      <td>[advice, something, impact, person, view, many...</td>\n",
              "    </tr>\n",
              "    <tr>\n",
              "      <th>36675</th>\n",
              "      <td>someone can use everything that many people sa...</td>\n",
              "      <td>Evidence</td>\n",
              "      <td>Ineffective</td>\n",
              "      <td>[someone, can, use, everything, that, many, pe...</td>\n",
              "      <td>[someone, can, use, everything, that, many, pe...</td>\n",
              "      <td>[someone, use, everything, many, said, use, he...</td>\n",
              "    </tr>\n",
              "    <tr>\n",
              "      <th>36676</th>\n",
              "      <td>In conclusion asking for an opinion can be ben...</td>\n",
              "      <td>Concluding Statement</td>\n",
              "      <td>Ineffective</td>\n",
              "      <td>[in, conclusion, asking, for, an, opinion, can...</td>\n",
              "      <td>[in, conclusion, asking, for, an, opinion, can...</td>\n",
              "      <td>[conclusion, asking, opinion, beneficial, some...</td>\n",
              "    </tr>\n",
              "  </tbody>\n",
              "</table>\n",
              "<p>36677 rows × 6 columns</p>\n",
              "</div>\n",
              "      <button class=\"colab-df-convert\" onclick=\"convertToInteractive('df-a2bc4608-f58b-4099-bcaf-2ba54ec99b46')\"\n",
              "              title=\"Convert this dataframe to an interactive table.\"\n",
              "              style=\"display:none;\">\n",
              "        \n",
              "  <svg xmlns=\"http://www.w3.org/2000/svg\" height=\"24px\"viewBox=\"0 0 24 24\"\n",
              "       width=\"24px\">\n",
              "    <path d=\"M0 0h24v24H0V0z\" fill=\"none\"/>\n",
              "    <path d=\"M18.56 5.44l.94 2.06.94-2.06 2.06-.94-2.06-.94-.94-2.06-.94 2.06-2.06.94zm-11 1L8.5 8.5l.94-2.06 2.06-.94-2.06-.94L8.5 2.5l-.94 2.06-2.06.94zm10 10l.94 2.06.94-2.06 2.06-.94-2.06-.94-.94-2.06-.94 2.06-2.06.94z\"/><path d=\"M17.41 7.96l-1.37-1.37c-.4-.4-.92-.59-1.43-.59-.52 0-1.04.2-1.43.59L10.3 9.45l-7.72 7.72c-.78.78-.78 2.05 0 2.83L4 21.41c.39.39.9.59 1.41.59.51 0 1.02-.2 1.41-.59l7.78-7.78 2.81-2.81c.8-.78.8-2.07 0-2.86zM5.41 20L4 18.59l7.72-7.72 1.47 1.35L5.41 20z\"/>\n",
              "  </svg>\n",
              "      </button>\n",
              "      \n",
              "  <style>\n",
              "    .colab-df-container {\n",
              "      display:flex;\n",
              "      flex-wrap:wrap;\n",
              "      gap: 12px;\n",
              "    }\n",
              "\n",
              "    .colab-df-convert {\n",
              "      background-color: #E8F0FE;\n",
              "      border: none;\n",
              "      border-radius: 50%;\n",
              "      cursor: pointer;\n",
              "      display: none;\n",
              "      fill: #1967D2;\n",
              "      height: 32px;\n",
              "      padding: 0 0 0 0;\n",
              "      width: 32px;\n",
              "    }\n",
              "\n",
              "    .colab-df-convert:hover {\n",
              "      background-color: #E2EBFA;\n",
              "      box-shadow: 0px 1px 2px rgba(60, 64, 67, 0.3), 0px 1px 3px 1px rgba(60, 64, 67, 0.15);\n",
              "      fill: #174EA6;\n",
              "    }\n",
              "\n",
              "    [theme=dark] .colab-df-convert {\n",
              "      background-color: #3B4455;\n",
              "      fill: #D2E3FC;\n",
              "    }\n",
              "\n",
              "    [theme=dark] .colab-df-convert:hover {\n",
              "      background-color: #434B5C;\n",
              "      box-shadow: 0px 1px 3px 1px rgba(0, 0, 0, 0.15);\n",
              "      filter: drop-shadow(0px 1px 2px rgba(0, 0, 0, 0.3));\n",
              "      fill: #FFFFFF;\n",
              "    }\n",
              "  </style>\n",
              "\n",
              "      <script>\n",
              "        const buttonEl =\n",
              "          document.querySelector('#df-a2bc4608-f58b-4099-bcaf-2ba54ec99b46 button.colab-df-convert');\n",
              "        buttonEl.style.display =\n",
              "          google.colab.kernel.accessAllowed ? 'block' : 'none';\n",
              "\n",
              "        async function convertToInteractive(key) {\n",
              "          const element = document.querySelector('#df-a2bc4608-f58b-4099-bcaf-2ba54ec99b46');\n",
              "          const dataTable =\n",
              "            await google.colab.kernel.invokeFunction('convertToInteractive',\n",
              "                                                     [key], {});\n",
              "          if (!dataTable) return;\n",
              "\n",
              "          const docLinkHtml = 'Like what you see? Visit the ' +\n",
              "            '<a target=\"_blank\" href=https://colab.research.google.com/notebooks/data_table.ipynb>data table notebook</a>'\n",
              "            + ' to learn more about interactive tables.';\n",
              "          element.innerHTML = '';\n",
              "          dataTable['output_type'] = 'display_data';\n",
              "          await google.colab.output.renderOutput(dataTable, element);\n",
              "          const docLink = document.createElement('div');\n",
              "          docLink.innerHTML = docLinkHtml;\n",
              "          element.appendChild(docLink);\n",
              "        }\n",
              "      </script>\n",
              "    </div>\n",
              "  </div>\n",
              "  "
            ]
          },
          "metadata": {},
          "execution_count": 71
        }
      ],
      "source": [
        "df_effective_args"
      ]
    },
    {
      "cell_type": "markdown",
      "metadata": {
        "id": "VTwJ97YXlfEW"
      },
      "source": [
        "## Selection des tokens à conserver"
      ]
    },
    {
      "cell_type": "code",
      "execution_count": 72,
      "metadata": {
        "id": "vlYRzjSpljjH"
      },
      "outputs": [],
      "source": [
        "list_all_words = [j for i in df_effective_args['no_stop_words'].tolist() for j in i]"
      ]
    },
    {
      "cell_type": "code",
      "execution_count": 73,
      "metadata": {
        "colab": {
          "base_uri": "https://localhost:8080/",
          "height": 428
        },
        "id": "I8PAykGWLOTi",
        "outputId": "d1807b7f-1b40-4d41-9b60-7b530b54204f"
      },
      "outputs": [
        {
          "output_type": "display_data",
          "data": {
            "text/plain": [
              "<Figure size 504x504 with 1 Axes>"
            ],
            "image/png": "[encoded data removed]"
          },
          "metadata": {
            "needs_background": "light"
          }
        }
      ],
      "source": [
        "  plt.figure(figsize = (7,7))\n",
        "  plt.ylim(0, 4200)\n",
        "  plt.xlim(0.7, 1)\n",
        "  plt.axhline(y = 1500, color='red')\n",
        "  plt.axhline(y = 1000, color='red')\n",
        "  plt.axhline(y = 500, color='red')\n",
        "  plt.axvline(x = 0.95, color='pink')\n",
        "  plt.axvline(x = 0.975, color='pink')\n",
        "  plt.axvline(x = 0.965, color='pink')\n",
        "  plt.hist(create_histogram_of_words(list_all_words), bins = 200)\n",
        "  plt.show()"
      ]
    },
    {
      "cell_type": "markdown",
      "metadata": {
        "id": "ePvH_iVyptwn"
      },
      "source": [
        "### D'après l'étude empirique, il semble que 2000 tokens soit un bon compromis"
      ]
    },
    {
      "cell_type": "markdown",
      "metadata": {
        "id": "HXI703nEPLwM"
      },
      "source": [
        "#### Conservation des 1000 tokens les plus fréquents"
      ]
    },
    {
      "cell_type": "code",
      "execution_count": 74,
      "metadata": {
        "id": "CVRBUkn2PWrl"
      },
      "outputs": [],
      "source": [
        "def delete_y_words(nb_words_to_save, liste_words):\n",
        "\n",
        "  dictionnaire_des_frequences = nltk.FreqDist(liste_words)\n",
        "  dictionnaire_des_frequences = dictionnaire_des_frequences.most_common(nb_words_to_save)\n",
        "  words = []\n",
        "  for i in range(0, nb_words_to_save):\n",
        "    words.append(dictionnaire_des_frequences[i][0])\n",
        "\n",
        "  return words\n",
        "\n",
        "nb_words_to_save = 2000\n",
        "liste_words_to_keep = delete_y_words(nb_words_to_save, list_all_words)"
      ]
    },
    {
      "cell_type": "code",
      "execution_count": 75,
      "metadata": {
        "id": "F1EquawfQYP9"
      },
      "outputs": [],
      "source": [
        "def delete_if_not_in(liste, liste_words_to_keep = liste_words_to_keep):\n",
        "\n",
        "  words_in_list = [i for i in liste if i in liste_words_to_keep]\n",
        "\n",
        "  return list(words_in_list)"
      ]
    },
    {
      "cell_type": "code",
      "execution_count": 76,
      "metadata": {
        "id": "3c9Cvb8iQ9mh"
      },
      "outputs": [],
      "source": [
        "df_effective_args['only_'+str(nb_words_to_save)+'_tokens'] = df_effective_args['no_stop_words'].apply(delete_if_not_in)"
      ]
    },
    {
      "cell_type": "code",
      "execution_count": 77,
      "metadata": {
        "colab": {
          "base_uri": "https://localhost:8080/",
          "height": 386
        },
        "id": "GTjdQ5D_RPXI",
        "outputId": "2a94fbe3-307f-444a-d3a0-775535d4680e"
      },
      "outputs": [
        {
          "output_type": "execute_result",
          "data": {
            "text/plain": [
              "                                      discourse_text discourse_type  \\\n",
              "0  Hi, i'm Isaac, i'm going to be writing about h...           Lead   \n",
              "1  On my perspective, I think that the face is a ...       Position   \n",
              "2  I think that the face is a natural landform be...          Claim   \n",
              "3  If life was on Mars, we would know by now. The...       Evidence   \n",
              "4  People thought that the face was formed by ali...   Counterclaim   \n",
              "5  though some say that life on Mars does exist, ...       Rebuttal   \n",
              "\n",
              "  discourse_effectiveness                           discourse_text_tokenized  \\\n",
              "0                Adequate  [hi, isaac, going, to, be, writing, about, how...   \n",
              "1                Adequate  [on, my, perspective, think, that, the, face, ...   \n",
              "2                Adequate  [think, that, the, face, is, natural, landform...   \n",
              "3                Adequate  [if, life, was, on, mars, we, would, know, by,...   \n",
              "4                Adequate  [people, thought, that, the, face, was, formed...   \n",
              "5             Ineffective  [though, some, say, that, life, on, mars, does...   \n",
              "\n",
              "                           discourse_text_lemmatized  \\\n",
              "0  [hi, isaac, going, to, be, writing, about, how...   \n",
              "1  [on, my, perspective, think, that, the, face, ...   \n",
              "2  [think, that, the, face, is, natural, landform...   \n",
              "3  [if, life, wa, on, mar, we, would, know, by, n...   \n",
              "4  [people, thought, that, the, face, wa, formed,...   \n",
              "5  [though, some, say, that, life, on, mar, doe, ...   \n",
              "\n",
              "                                       no_stop_words  \\\n",
              "0  [hi, isaac, going, writing, face, mar, natural...   \n",
              "1  [perspective, think, face, natural, landform, ...   \n",
              "2  [think, face, natural, landform, life, mar, de...   \n",
              "3  [life, wa, mar, know, reason, think, natural, ...   \n",
              "4  [thought, face, wa, formed, alieans, thought, ...   \n",
              "5  [though, say, life, mar, doe, exist, think, li...   \n",
              "\n",
              "                                    only_2000_tokens  \n",
              "0  [going, writing, face, mar, natural, landform,...  \n",
              "1  [perspective, think, face, natural, landform, ...  \n",
              "2   [think, face, natural, landform, life, mar, yet]  \n",
              "3  [life, wa, mar, know, reason, think, natural, ...  \n",
              "4  [thought, face, wa, formed, thought, wa, life,...  \n",
              "5  [though, say, life, mar, doe, exist, think, li...  "
            ],
            "text/html": [
              "\n",
              "  <div id=\"df-b3ddad26-8b4e-42fb-9210-f7e35150a1f9\">\n",
              "    <div class=\"colab-df-container\">\n",
              "      <div>\n",
              "<style scoped>\n",
              "    .dataframe tbody tr th:only-of-type {\n",
              "        vertical-align: middle;\n",
              "    }\n",
              "\n",
              "    .dataframe tbody tr th {\n",
              "        vertical-align: top;\n",
              "    }\n",
              "\n",
              "    .dataframe thead th {\n",
              "        text-align: right;\n",
              "    }\n",
              "</style>\n",
              "<table border=\"1\" class=\"dataframe\">\n",
              "  <thead>\n",
              "    <tr style=\"text-align: right;\">\n",
              "      <th></th>\n",
              "      <th>discourse_text</th>\n",
              "      <th>discourse_type</th>\n",
              "      <th>discourse_effectiveness</th>\n",
              "      <th>discourse_text_tokenized</th>\n",
              "      <th>discourse_text_lemmatized</th>\n",
              "      <th>no_stop_words</th>\n",
              "      <th>only_2000_tokens</th>\n",
              "    </tr>\n",
              "  </thead>\n",
              "  <tbody>\n",
              "    <tr>\n",
              "      <th>0</th>\n",
              "      <td>Hi, i'm Isaac, i'm going to be writing about h...</td>\n",
              "      <td>Lead</td>\n",
              "      <td>Adequate</td>\n",
              "      <td>[hi, isaac, going, to, be, writing, about, how...</td>\n",
              "      <td>[hi, isaac, going, to, be, writing, about, how...</td>\n",
              "      <td>[hi, isaac, going, writing, face, mar, natural...</td>\n",
              "      <td>[going, writing, face, mar, natural, landform,...</td>\n",
              "    </tr>\n",
              "    <tr>\n",
              "      <th>1</th>\n",
              "      <td>On my perspective, I think that the face is a ...</td>\n",
              "      <td>Position</td>\n",
              "      <td>Adequate</td>\n",
              "      <td>[on, my, perspective, think, that, the, face, ...</td>\n",
              "      <td>[on, my, perspective, think, that, the, face, ...</td>\n",
              "      <td>[perspective, think, face, natural, landform, ...</td>\n",
              "      <td>[perspective, think, face, natural, landform, ...</td>\n",
              "    </tr>\n",
              "    <tr>\n",
              "      <th>2</th>\n",
              "      <td>I think that the face is a natural landform be...</td>\n",
              "      <td>Claim</td>\n",
              "      <td>Adequate</td>\n",
              "      <td>[think, that, the, face, is, natural, landform...</td>\n",
              "      <td>[think, that, the, face, is, natural, landform...</td>\n",
              "      <td>[think, face, natural, landform, life, mar, de...</td>\n",
              "      <td>[think, face, natural, landform, life, mar, yet]</td>\n",
              "    </tr>\n",
              "    <tr>\n",
              "      <th>3</th>\n",
              "      <td>If life was on Mars, we would know by now. The...</td>\n",
              "      <td>Evidence</td>\n",
              "      <td>Adequate</td>\n",
              "      <td>[if, life, was, on, mars, we, would, know, by,...</td>\n",
              "      <td>[if, life, wa, on, mar, we, would, know, by, n...</td>\n",
              "      <td>[life, wa, mar, know, reason, think, natural, ...</td>\n",
              "      <td>[life, wa, mar, know, reason, think, natural, ...</td>\n",
              "    </tr>\n",
              "    <tr>\n",
              "      <th>4</th>\n",
              "      <td>People thought that the face was formed by ali...</td>\n",
              "      <td>Counterclaim</td>\n",
              "      <td>Adequate</td>\n",
              "      <td>[people, thought, that, the, face, was, formed...</td>\n",
              "      <td>[people, thought, that, the, face, wa, formed,...</td>\n",
              "      <td>[thought, face, wa, formed, alieans, thought, ...</td>\n",
              "      <td>[thought, face, wa, formed, thought, wa, life,...</td>\n",
              "    </tr>\n",
              "    <tr>\n",
              "      <th>5</th>\n",
              "      <td>though some say that life on Mars does exist, ...</td>\n",
              "      <td>Rebuttal</td>\n",
              "      <td>Ineffective</td>\n",
              "      <td>[though, some, say, that, life, on, mars, does...</td>\n",
              "      <td>[though, some, say, that, life, on, mar, doe, ...</td>\n",
              "      <td>[though, say, life, mar, doe, exist, think, li...</td>\n",
              "      <td>[though, say, life, mar, doe, exist, think, li...</td>\n",
              "    </tr>\n",
              "  </tbody>\n",
              "</table>\n",
              "</div>\n",
              "      <button class=\"colab-df-convert\" onclick=\"convertToInteractive('df-b3ddad26-8b4e-42fb-9210-f7e35150a1f9')\"\n",
              "              title=\"Convert this dataframe to an interactive table.\"\n",
              "              style=\"display:none;\">\n",
              "        \n",
              "  <svg xmlns=\"http://www.w3.org/2000/svg\" height=\"24px\"viewBox=\"0 0 24 24\"\n",
              "       width=\"24px\">\n",
              "    <path d=\"M0 0h24v24H0V0z\" fill=\"none\"/>\n",
              "    <path d=\"M18.56 5.44l.94 2.06.94-2.06 2.06-.94-2.06-.94-.94-2.06-.94 2.06-2.06.94zm-11 1L8.5 8.5l.94-2.06 2.06-.94-2.06-.94L8.5 2.5l-.94 2.06-2.06.94zm10 10l.94 2.06.94-2.06 2.06-.94-2.06-.94-.94-2.06-.94 2.06-2.06.94z\"/><path d=\"M17.41 7.96l-1.37-1.37c-.4-.4-.92-.59-1.43-.59-.52 0-1.04.2-1.43.59L10.3 9.45l-7.72 7.72c-.78.78-.78 2.05 0 2.83L4 21.41c.39.39.9.59 1.41.59.51 0 1.02-.2 1.41-.59l7.78-7.78 2.81-2.81c.8-.78.8-2.07 0-2.86zM5.41 20L4 18.59l7.72-7.72 1.47 1.35L5.41 20z\"/>\n",
              "  </svg>\n",
              "      </button>\n",
              "      \n",
              "  <style>\n",
              "    .colab-df-container {\n",
              "      display:flex;\n",
              "      flex-wrap:wrap;\n",
              "      gap: 12px;\n",
              "    }\n",
              "\n",
              "    .colab-df-convert {\n",
              "      background-color: #E8F0FE;\n",
              "      border: none;\n",
              "      border-radius: 50%;\n",
              "      cursor: pointer;\n",
              "      display: none;\n",
              "      fill: #1967D2;\n",
              "      height: 32px;\n",
              "      padding: 0 0 0 0;\n",
              "      width: 32px;\n",
              "    }\n",
              "\n",
              "    .colab-df-convert:hover {\n",
              "      background-color: #E2EBFA;\n",
              "      box-shadow: 0px 1px 2px rgba(60, 64, 67, 0.3), 0px 1px 3px 1px rgba(60, 64, 67, 0.15);\n",
              "      fill: #174EA6;\n",
              "    }\n",
              "\n",
              "    [theme=dark] .colab-df-convert {\n",
              "      background-color: #3B4455;\n",
              "      fill: #D2E3FC;\n",
              "    }\n",
              "\n",
              "    [theme=dark] .colab-df-convert:hover {\n",
              "      background-color: #434B5C;\n",
              "      box-shadow: 0px 1px 3px 1px rgba(0, 0, 0, 0.15);\n",
              "      filter: drop-shadow(0px 1px 2px rgba(0, 0, 0, 0.3));\n",
              "      fill: #FFFFFF;\n",
              "    }\n",
              "  </style>\n",
              "\n",
              "      <script>\n",
              "        const buttonEl =\n",
              "          document.querySelector('#df-b3ddad26-8b4e-42fb-9210-f7e35150a1f9 button.colab-df-convert');\n",
              "        buttonEl.style.display =\n",
              "          google.colab.kernel.accessAllowed ? 'block' : 'none';\n",
              "\n",
              "        async function convertToInteractive(key) {\n",
              "          const element = document.querySelector('#df-b3ddad26-8b4e-42fb-9210-f7e35150a1f9');\n",
              "          const dataTable =\n",
              "            await google.colab.kernel.invokeFunction('convertToInteractive',\n",
              "                                                     [key], {});\n",
              "          if (!dataTable) return;\n",
              "\n",
              "          const docLinkHtml = 'Like what you see? Visit the ' +\n",
              "            '<a target=\"_blank\" href=https://colab.research.google.com/notebooks/data_table.ipynb>data table notebook</a>'\n",
              "            + ' to learn more about interactive tables.';\n",
              "          element.innerHTML = '';\n",
              "          dataTable['output_type'] = 'display_data';\n",
              "          await google.colab.output.renderOutput(dataTable, element);\n",
              "          const docLink = document.createElement('div');\n",
              "          docLink.innerHTML = docLinkHtml;\n",
              "          element.appendChild(docLink);\n",
              "        }\n",
              "      </script>\n",
              "    </div>\n",
              "  </div>\n",
              "  "
            ]
          },
          "metadata": {},
          "execution_count": 77
        }
      ],
      "source": [
        "df_effective_args.head(6)"
      ]
    },
    {
      "cell_type": "markdown",
      "metadata": {
        "id": "z9657PNrUiUf"
      },
      "source": [
        "# Exploration univariée"
      ]
    },
    {
      "cell_type": "code",
      "execution_count": 78,
      "metadata": {
        "id": "zZqsF63SUkuM"
      },
      "outputs": [],
      "source": [
        "def counter_len_in_text(string):\n",
        "  return len(string)"
      ]
    },
    {
      "cell_type": "code",
      "execution_count": 79,
      "metadata": {
        "id": "TgZZDbZ3VboH"
      },
      "outputs": [],
      "source": [
        "df_effective_args['Longueur_texte'] = df_effective_args['only_'+str(nb_words_to_save)+'_tokens'].apply(counter_len_in_text)"
      ]
    },
    {
      "cell_type": "code",
      "execution_count": 80,
      "metadata": {
        "colab": {
          "base_uri": "https://localhost:8080/",
          "height": 358
        },
        "id": "gIMs1nawVnSD",
        "outputId": "b07ac21b-6e87-4735-92a0-a733ec590b5a"
      },
      "outputs": [
        {
          "output_type": "execute_result",
          "data": {
            "text/plain": [
              "                                      discourse_text discourse_type  \\\n",
              "0  Hi, i'm Isaac, i'm going to be writing about h...           Lead   \n",
              "1  On my perspective, I think that the face is a ...       Position   \n",
              "2  I think that the face is a natural landform be...          Claim   \n",
              "3  If life was on Mars, we would know by now. The...       Evidence   \n",
              "\n",
              "  discourse_effectiveness                           discourse_text_tokenized  \\\n",
              "0                Adequate  [hi, isaac, going, to, be, writing, about, how...   \n",
              "1                Adequate  [on, my, perspective, think, that, the, face, ...   \n",
              "2                Adequate  [think, that, the, face, is, natural, landform...   \n",
              "3                Adequate  [if, life, was, on, mars, we, would, know, by,...   \n",
              "\n",
              "                           discourse_text_lemmatized  \\\n",
              "0  [hi, isaac, going, to, be, writing, about, how...   \n",
              "1  [on, my, perspective, think, that, the, face, ...   \n",
              "2  [think, that, the, face, is, natural, landform...   \n",
              "3  [if, life, wa, on, mar, we, would, know, by, n...   \n",
              "\n",
              "                                       no_stop_words  \\\n",
              "0  [hi, isaac, going, writing, face, mar, natural...   \n",
              "1  [perspective, think, face, natural, landform, ...   \n",
              "2  [think, face, natural, landform, life, mar, de...   \n",
              "3  [life, wa, mar, know, reason, think, natural, ...   \n",
              "\n",
              "                                    only_2000_tokens  Longueur_texte  \n",
              "0  [going, writing, face, mar, natural, landform,...              27  \n",
              "1  [perspective, think, face, natural, landform, ...              15  \n",
              "2   [think, face, natural, landform, life, mar, yet]               7  \n",
              "3  [life, wa, mar, know, reason, think, natural, ...              28  "
            ],
            "text/html": [
              "\n",
              "  <div id=\"df-24766c42-35e4-4233-b603-043af173dafe\">\n",
              "    <div class=\"colab-df-container\">\n",
              "      <div>\n",
              "<style scoped>\n",
              "    .dataframe tbody tr th:only-of-type {\n",
              "        vertical-align: middle;\n",
              "    }\n",
              "\n",
              "    .dataframe tbody tr th {\n",
              "        vertical-align: top;\n",
              "    }\n",
              "\n",
              "    .dataframe thead th {\n",
              "        text-align: right;\n",
              "    }\n",
              "</style>\n",
              "<table border=\"1\" class=\"dataframe\">\n",
              "  <thead>\n",
              "    <tr style=\"text-align: right;\">\n",
              "      <th></th>\n",
              "      <th>discourse_text</th>\n",
              "      <th>discourse_type</th>\n",
              "      <th>discourse_effectiveness</th>\n",
              "      <th>discourse_text_tokenized</th>\n",
              "      <th>discourse_text_lemmatized</th>\n",
              "      <th>no_stop_words</th>\n",
              "      <th>only_2000_tokens</th>\n",
              "      <th>Longueur_texte</th>\n",
              "    </tr>\n",
              "  </thead>\n",
              "  <tbody>\n",
              "    <tr>\n",
              "      <th>0</th>\n",
              "      <td>Hi, i'm Isaac, i'm going to be writing about h...</td>\n",
              "      <td>Lead</td>\n",
              "      <td>Adequate</td>\n",
              "      <td>[hi, isaac, going, to, be, writing, about, how...</td>\n",
              "      <td>[hi, isaac, going, to, be, writing, about, how...</td>\n",
              "      <td>[hi, isaac, going, writing, face, mar, natural...</td>\n",
              "      <td>[going, writing, face, mar, natural, landform,...</td>\n",
              "      <td>27</td>\n",
              "    </tr>\n",
              "    <tr>\n",
              "      <th>1</th>\n",
              "      <td>On my perspective, I think that the face is a ...</td>\n",
              "      <td>Position</td>\n",
              "      <td>Adequate</td>\n",
              "      <td>[on, my, perspective, think, that, the, face, ...</td>\n",
              "      <td>[on, my, perspective, think, that, the, face, ...</td>\n",
              "      <td>[perspective, think, face, natural, landform, ...</td>\n",
              "      <td>[perspective, think, face, natural, landform, ...</td>\n",
              "      <td>15</td>\n",
              "    </tr>\n",
              "    <tr>\n",
              "      <th>2</th>\n",
              "      <td>I think that the face is a natural landform be...</td>\n",
              "      <td>Claim</td>\n",
              "      <td>Adequate</td>\n",
              "      <td>[think, that, the, face, is, natural, landform...</td>\n",
              "      <td>[think, that, the, face, is, natural, landform...</td>\n",
              "      <td>[think, face, natural, landform, life, mar, de...</td>\n",
              "      <td>[think, face, natural, landform, life, mar, yet]</td>\n",
              "      <td>7</td>\n",
              "    </tr>\n",
              "    <tr>\n",
              "      <th>3</th>\n",
              "      <td>If life was on Mars, we would know by now. The...</td>\n",
              "      <td>Evidence</td>\n",
              "      <td>Adequate</td>\n",
              "      <td>[if, life, was, on, mars, we, would, know, by,...</td>\n",
              "      <td>[if, life, wa, on, mar, we, would, know, by, n...</td>\n",
              "      <td>[life, wa, mar, know, reason, think, natural, ...</td>\n",
              "      <td>[life, wa, mar, know, reason, think, natural, ...</td>\n",
              "      <td>28</td>\n",
              "    </tr>\n",
              "  </tbody>\n",
              "</table>\n",
              "</div>\n",
              "      <button class=\"colab-df-convert\" onclick=\"convertToInteractive('df-24766c42-35e4-4233-b603-043af173dafe')\"\n",
              "              title=\"Convert this dataframe to an interactive table.\"\n",
              "              style=\"display:none;\">\n",
              "        \n",
              "  <svg xmlns=\"http://www.w3.org/2000/svg\" height=\"24px\"viewBox=\"0 0 24 24\"\n",
              "       width=\"24px\">\n",
              "    <path d=\"M0 0h24v24H0V0z\" fill=\"none\"/>\n",
              "    <path d=\"M18.56 5.44l.94 2.06.94-2.06 2.06-.94-2.06-.94-.94-2.06-.94 2.06-2.06.94zm-11 1L8.5 8.5l.94-2.06 2.06-.94-2.06-.94L8.5 2.5l-.94 2.06-2.06.94zm10 10l.94 2.06.94-2.06 2.06-.94-2.06-.94-.94-2.06-.94 2.06-2.06.94z\"/><path d=\"M17.41 7.96l-1.37-1.37c-.4-.4-.92-.59-1.43-.59-.52 0-1.04.2-1.43.59L10.3 9.45l-7.72 7.72c-.78.78-.78 2.05 0 2.83L4 21.41c.39.39.9.59 1.41.59.51 0 1.02-.2 1.41-.59l7.78-7.78 2.81-2.81c.8-.78.8-2.07 0-2.86zM5.41 20L4 18.59l7.72-7.72 1.47 1.35L5.41 20z\"/>\n",
              "  </svg>\n",
              "      </button>\n",
              "      \n",
              "  <style>\n",
              "    .colab-df-container {\n",
              "      display:flex;\n",
              "      flex-wrap:wrap;\n",
              "      gap: 12px;\n",
              "    }\n",
              "\n",
              "    .colab-df-convert {\n",
              "      background-color: #E8F0FE;\n",
              "      border: none;\n",
              "      border-radius: 50%;\n",
              "      cursor: pointer;\n",
              "      display: none;\n",
              "      fill: #1967D2;\n",
              "      height: 32px;\n",
              "      padding: 0 0 0 0;\n",
              "      width: 32px;\n",
              "    }\n",
              "\n",
              "    .colab-df-convert:hover {\n",
              "      background-color: #E2EBFA;\n",
              "      box-shadow: 0px 1px 2px rgba(60, 64, 67, 0.3), 0px 1px 3px 1px rgba(60, 64, 67, 0.15);\n",
              "      fill: #174EA6;\n",
              "    }\n",
              "\n",
              "    [theme=dark] .colab-df-convert {\n",
              "      background-color: #3B4455;\n",
              "      fill: #D2E3FC;\n",
              "    }\n",
              "\n",
              "    [theme=dark] .colab-df-convert:hover {\n",
              "      background-color: #434B5C;\n",
              "      box-shadow: 0px 1px 3px 1px rgba(0, 0, 0, 0.15);\n",
              "      filter: drop-shadow(0px 1px 2px rgba(0, 0, 0, 0.3));\n",
              "      fill: #FFFFFF;\n",
              "    }\n",
              "  </style>\n",
              "\n",
              "      <script>\n",
              "        const buttonEl =\n",
              "          document.querySelector('#df-24766c42-35e4-4233-b603-043af173dafe button.colab-df-convert');\n",
              "        buttonEl.style.display =\n",
              "          google.colab.kernel.accessAllowed ? 'block' : 'none';\n",
              "\n",
              "        async function convertToInteractive(key) {\n",
              "          const element = document.querySelector('#df-24766c42-35e4-4233-b603-043af173dafe');\n",
              "          const dataTable =\n",
              "            await google.colab.kernel.invokeFunction('convertToInteractive',\n",
              "                                                     [key], {});\n",
              "          if (!dataTable) return;\n",
              "\n",
              "          const docLinkHtml = 'Like what you see? Visit the ' +\n",
              "            '<a target=\"_blank\" href=https://colab.research.google.com/notebooks/data_table.ipynb>data table notebook</a>'\n",
              "            + ' to learn more about interactive tables.';\n",
              "          element.innerHTML = '';\n",
              "          dataTable['output_type'] = 'display_data';\n",
              "          await google.colab.output.renderOutput(dataTable, element);\n",
              "          const docLink = document.createElement('div');\n",
              "          docLink.innerHTML = docLinkHtml;\n",
              "          element.appendChild(docLink);\n",
              "        }\n",
              "      </script>\n",
              "    </div>\n",
              "  </div>\n",
              "  "
            ]
          },
          "metadata": {},
          "execution_count": 80
        }
      ],
      "source": [
        "df_effective_args.head(4)"
      ]
    },
    {
      "cell_type": "markdown",
      "metadata": {
        "id": "IFrO6Q3Spv30"
      },
      "source": [
        "## Remplissage"
      ]
    },
    {
      "cell_type": "code",
      "execution_count": 81,
      "metadata": {
        "colab": {
          "base_uri": "https://localhost:8080/"
        },
        "id": "73ooH-Ogpsb9",
        "outputId": "43176829-14ce-45df-8d2e-f7020945abd0"
      },
      "outputs": [
        {
          "output_type": "stream",
          "name": "stdout",
          "text": [
            "discourse_text               100.0\n",
            "discourse_type               100.0\n",
            "discourse_effectiveness      100.0\n",
            "discourse_text_tokenized     100.0\n",
            "discourse_text_lemmatized    100.0\n",
            "no_stop_words                100.0\n",
            "only_2000_tokens             100.0\n",
            "Longueur_texte               100.0\n",
            "dtype: float64\n",
            "object    7\n",
            "int64     1\n",
            "dtype: int64\n"
          ]
        }
      ],
      "source": [
        "print((100-100*(df_effective_args.isna().sum()/(df_effective_args.shape[0]))).sort_values(ascending=False))\n",
        "print(df_effective_args.dtypes.value_counts())"
      ]
    },
    {
      "cell_type": "markdown",
      "metadata": {
        "id": "UgLBRu5oqt1h"
      },
      "source": [
        "## Description"
      ]
    },
    {
      "cell_type": "code",
      "execution_count": 82,
      "metadata": {
        "colab": {
          "base_uri": "https://localhost:8080/",
          "height": 300
        },
        "id": "B50-FkTMqwxp",
        "outputId": "266ec4bb-7a75-420b-d0df-493063a98f9d"
      },
      "outputs": [
        {
          "output_type": "execute_result",
          "data": {
            "text/plain": [
              "       Longueur_texte\n",
              "count    36677.000000\n",
              "mean        18.710282\n",
              "std         19.640965\n",
              "min          0.000000\n",
              "25%          7.000000\n",
              "50%         12.000000\n",
              "75%         24.000000\n",
              "max        333.000000"
            ],
            "text/html": [
              "\n",
              "  <div id=\"df-cf06a43e-bf7e-4f5c-984d-ad9fbe97bf2e\">\n",
              "    <div class=\"colab-df-container\">\n",
              "      <div>\n",
              "<style scoped>\n",
              "    .dataframe tbody tr th:only-of-type {\n",
              "        vertical-align: middle;\n",
              "    }\n",
              "\n",
              "    .dataframe tbody tr th {\n",
              "        vertical-align: top;\n",
              "    }\n",
              "\n",
              "    .dataframe thead th {\n",
              "        text-align: right;\n",
              "    }\n",
              "</style>\n",
              "<table border=\"1\" class=\"dataframe\">\n",
              "  <thead>\n",
              "    <tr style=\"text-align: right;\">\n",
              "      <th></th>\n",
              "      <th>Longueur_texte</th>\n",
              "    </tr>\n",
              "  </thead>\n",
              "  <tbody>\n",
              "    <tr>\n",
              "      <th>count</th>\n",
              "      <td>36677.000000</td>\n",
              "    </tr>\n",
              "    <tr>\n",
              "      <th>mean</th>\n",
              "      <td>18.710282</td>\n",
              "    </tr>\n",
              "    <tr>\n",
              "      <th>std</th>\n",
              "      <td>19.640965</td>\n",
              "    </tr>\n",
              "    <tr>\n",
              "      <th>min</th>\n",
              "      <td>0.000000</td>\n",
              "    </tr>\n",
              "    <tr>\n",
              "      <th>25%</th>\n",
              "      <td>7.000000</td>\n",
              "    </tr>\n",
              "    <tr>\n",
              "      <th>50%</th>\n",
              "      <td>12.000000</td>\n",
              "    </tr>\n",
              "    <tr>\n",
              "      <th>75%</th>\n",
              "      <td>24.000000</td>\n",
              "    </tr>\n",
              "    <tr>\n",
              "      <th>max</th>\n",
              "      <td>333.000000</td>\n",
              "    </tr>\n",
              "  </tbody>\n",
              "</table>\n",
              "</div>\n",
              "      <button class=\"colab-df-convert\" onclick=\"convertToInteractive('df-cf06a43e-bf7e-4f5c-984d-ad9fbe97bf2e')\"\n",
              "              title=\"Convert this dataframe to an interactive table.\"\n",
              "              style=\"display:none;\">\n",
              "        \n",
              "  <svg xmlns=\"http://www.w3.org/2000/svg\" height=\"24px\"viewBox=\"0 0 24 24\"\n",
              "       width=\"24px\">\n",
              "    <path d=\"M0 0h24v24H0V0z\" fill=\"none\"/>\n",
              "    <path d=\"M18.56 5.44l.94 2.06.94-2.06 2.06-.94-2.06-.94-.94-2.06-.94 2.06-2.06.94zm-11 1L8.5 8.5l.94-2.06 2.06-.94-2.06-.94L8.5 2.5l-.94 2.06-2.06.94zm10 10l.94 2.06.94-2.06 2.06-.94-2.06-.94-.94-2.06-.94 2.06-2.06.94z\"/><path d=\"M17.41 7.96l-1.37-1.37c-.4-.4-.92-.59-1.43-.59-.52 0-1.04.2-1.43.59L10.3 9.45l-7.72 7.72c-.78.78-.78 2.05 0 2.83L4 21.41c.39.39.9.59 1.41.59.51 0 1.02-.2 1.41-.59l7.78-7.78 2.81-2.81c.8-.78.8-2.07 0-2.86zM5.41 20L4 18.59l7.72-7.72 1.47 1.35L5.41 20z\"/>\n",
              "  </svg>\n",
              "      </button>\n",
              "      \n",
              "  <style>\n",
              "    .colab-df-container {\n",
              "      display:flex;\n",
              "      flex-wrap:wrap;\n",
              "      gap: 12px;\n",
              "    }\n",
              "\n",
              "    .colab-df-convert {\n",
              "      background-color: #E8F0FE;\n",
              "      border: none;\n",
              "      border-radius: 50%;\n",
              "      cursor: pointer;\n",
              "      display: none;\n",
              "      fill: #1967D2;\n",
              "      height: 32px;\n",
              "      padding: 0 0 0 0;\n",
              "      width: 32px;\n",
              "    }\n",
              "\n",
              "    .colab-df-convert:hover {\n",
              "      background-color: #E2EBFA;\n",
              "      box-shadow: 0px 1px 2px rgba(60, 64, 67, 0.3), 0px 1px 3px 1px rgba(60, 64, 67, 0.15);\n",
              "      fill: #174EA6;\n",
              "    }\n",
              "\n",
              "    [theme=dark] .colab-df-convert {\n",
              "      background-color: #3B4455;\n",
              "      fill: #D2E3FC;\n",
              "    }\n",
              "\n",
              "    [theme=dark] .colab-df-convert:hover {\n",
              "      background-color: #434B5C;\n",
              "      box-shadow: 0px 1px 3px 1px rgba(0, 0, 0, 0.15);\n",
              "      filter: drop-shadow(0px 1px 2px rgba(0, 0, 0, 0.3));\n",
              "      fill: #FFFFFF;\n",
              "    }\n",
              "  </style>\n",
              "\n",
              "      <script>\n",
              "        const buttonEl =\n",
              "          document.querySelector('#df-cf06a43e-bf7e-4f5c-984d-ad9fbe97bf2e button.colab-df-convert');\n",
              "        buttonEl.style.display =\n",
              "          google.colab.kernel.accessAllowed ? 'block' : 'none';\n",
              "\n",
              "        async function convertToInteractive(key) {\n",
              "          const element = document.querySelector('#df-cf06a43e-bf7e-4f5c-984d-ad9fbe97bf2e');\n",
              "          const dataTable =\n",
              "            await google.colab.kernel.invokeFunction('convertToInteractive',\n",
              "                                                     [key], {});\n",
              "          if (!dataTable) return;\n",
              "\n",
              "          const docLinkHtml = 'Like what you see? Visit the ' +\n",
              "            '<a target=\"_blank\" href=https://colab.research.google.com/notebooks/data_table.ipynb>data table notebook</a>'\n",
              "            + ' to learn more about interactive tables.';\n",
              "          element.innerHTML = '';\n",
              "          dataTable['output_type'] = 'display_data';\n",
              "          await google.colab.output.renderOutput(dataTable, element);\n",
              "          const docLink = document.createElement('div');\n",
              "          docLink.innerHTML = docLinkHtml;\n",
              "          element.appendChild(docLink);\n",
              "        }\n",
              "      </script>\n",
              "    </div>\n",
              "  </div>\n",
              "  "
            ]
          },
          "metadata": {},
          "execution_count": 82
        }
      ],
      "source": [
        "df_effective_args.describe()"
      ]
    },
    {
      "cell_type": "markdown",
      "metadata": {
        "id": "1HL7lifBWay0"
      },
      "source": [
        "## Pie Chart"
      ]
    },
    {
      "cell_type": "code",
      "execution_count": 83,
      "metadata": {
        "colab": {
          "base_uri": "https://localhost:8080/",
          "height": 265
        },
        "id": "F8aenNd5WVEP",
        "outputId": "5f97a646-33cf-473f-9a02-7ef6753b98b7"
      },
      "outputs": [
        {
          "output_type": "execute_result",
          "data": {
            "text/plain": [
              "<matplotlib.axes._subplots.AxesSubplot at 0x7f8938e0a210>"
            ]
          },
          "metadata": {},
          "execution_count": 83
        },
        {
          "output_type": "display_data",
          "data": {
            "text/plain": [
              "<Figure size 432x288 with 1 Axes>"
            ],
            "image/png": "[encoded data removed]"
          },
          "metadata": {}
        }
      ],
      "source": [
        "plt.figure()\n",
        "df_effective_args['discourse_type'].value_counts().plot.pie()"
      ]
    },
    {
      "cell_type": "code",
      "execution_count": 84,
      "metadata": {
        "colab": {
          "base_uri": "https://localhost:8080/",
          "height": 265
        },
        "id": "bYE_Xiy8o5vz",
        "outputId": "2f99fc7e-de93-4a6a-be69-a88642d9db2c"
      },
      "outputs": [
        {
          "output_type": "execute_result",
          "data": {
            "text/plain": [
              "<matplotlib.axes._subplots.AxesSubplot at 0x7f89381ecd90>"
            ]
          },
          "metadata": {},
          "execution_count": 84
        },
        {
          "output_type": "display_data",
          "data": {
            "text/plain": [
              "<Figure size 432x288 with 1 Axes>"
            ],
            "image/png": "[encoded data removed]"
          },
          "metadata": {}
        }
      ],
      "source": [
        "plt.figure()\n",
        "df_effective_args['discourse_effectiveness'].value_counts().plot.pie()"
      ]
    },
    {
      "cell_type": "markdown",
      "metadata": {
        "id": "BkPLG6grqBr4"
      },
      "source": [
        "## Distribution longueur du texte "
      ]
    },
    {
      "cell_type": "code",
      "execution_count": 85,
      "metadata": {
        "colab": {
          "base_uri": "https://localhost:8080/",
          "height": 265
        },
        "id": "VajoJgKaqEZ1",
        "outputId": "821dc17c-6802-4fba-e3ac-1df6d4ad54bf"
      },
      "outputs": [
        {
          "output_type": "display_data",
          "data": {
            "text/plain": [
              "<Figure size 432x288 with 1 Axes>"
            ],
            "image/png": "[encoded data removed]"
          },
          "metadata": {
            "needs_background": "light"
          }
        }
      ],
      "source": [
        "plt.figure()\n",
        "df_effective_args['Longueur_texte'].hist(bins=150)\n",
        "plt.axvline(df_effective_args['Longueur_texte'].mean(), color='g', linestyle='dashed', linewidth=1)\n",
        "plt.axvline(df_effective_args['Longueur_texte'].median(), color='r', linestyle='dashed', linewidth=1)\n",
        "plt.show()"
      ]
    },
    {
      "cell_type": "markdown",
      "metadata": {
        "id": "2Br5-e99sPbD"
      },
      "source": [
        "# Exploration multivariée"
      ]
    },
    {
      "cell_type": "code",
      "execution_count": 86,
      "metadata": {
        "colab": {
          "base_uri": "https://localhost:8080/",
          "height": 280
        },
        "id": "dYuOXuXmsOik",
        "outputId": "9d53ea7d-0f37-40c2-e663-3de75010db59"
      },
      "outputs": [
        {
          "output_type": "display_data",
          "data": {
            "text/plain": [
              "<Figure size 432x288 with 1 Axes>"
            ],
            "image/png": "[encoded data removed]"
          },
          "metadata": {
            "needs_background": "light"
          }
        }
      ],
      "source": [
        "plt.figure()\n",
        "sns.boxplot(y=df_effective_args['Longueur_texte'], x=df_effective_args['discourse_effectiveness'])\n",
        "plt.show()"
      ]
    },
    {
      "cell_type": "code",
      "execution_count": 87,
      "metadata": {
        "colab": {
          "base_uri": "https://localhost:8080/",
          "height": 280
        },
        "id": "hjBGWMKMuSCM",
        "outputId": "4c92428e-f6c9-44a7-81b3-24bf8a2b81a0"
      },
      "outputs": [
        {
          "output_type": "display_data",
          "data": {
            "text/plain": [
              "<Figure size 720x288 with 1 Axes>"
            ],
            "image/png": "[encoded data removed]"
          },
          "metadata": {
            "needs_background": "light"
          }
        }
      ],
      "source": [
        "plt.figure(figsize=(10, 4))\n",
        "sns.boxplot(y=df_effective_args['Longueur_texte'], x=df_effective_args['discourse_type'])\n",
        "plt.show()"
      ]
    },
    {
      "cell_type": "code",
      "execution_count": 88,
      "metadata": {
        "colab": {
          "base_uri": "https://localhost:8080/",
          "height": 649
        },
        "id": "Jo_LaXM0wpUc",
        "outputId": "743f7ce8-2577-4624-ccde-cfce149fe257"
      },
      "outputs": [
        {
          "output_type": "display_data",
          "data": {
            "text/plain": [
              "<Figure size 576x288 with 1 Axes>"
            ],
            "image/png": "[encoded data removed]"
          },
          "metadata": {
            "needs_background": "light"
          }
        },
        {
          "output_type": "display_data",
          "data": {
            "text/plain": [
              "<Figure size 576x288 with 0 Axes>"
            ]
          },
          "metadata": {}
        },
        {
          "output_type": "display_data",
          "data": {
            "text/plain": [
              "<Figure size 487.625x360 with 1 Axes>"
            ],
            "image/png": "[encoded data removed]"
          },
          "metadata": {
            "needs_background": "light"
          }
        }
      ],
      "source": [
        "plt.figure(figsize=(8, 4))\n",
        "plt.xlim(0, 150)\n",
        "sns.histplot(data=df_effective_args, x=df_effective_args['Longueur_texte'], hue=df_effective_args['discourse_effectiveness'], bins=100, multiple=\"stack\")\n",
        "plt.show()\n",
        "\n",
        "plt.figure(figsize=(8, 4))\n",
        "sns.displot(data=df_effective_args, x=df_effective_args['Longueur_texte'], hue=df_effective_args['discourse_effectiveness'], kind=\"kde\")\n",
        "plt.xlim(0, 150)\n",
        "plt.show()"
      ]
    },
    {
      "cell_type": "code",
      "execution_count": 89,
      "metadata": {
        "colab": {
          "base_uri": "https://localhost:8080/",
          "height": 649
        },
        "id": "8kW8aWmZ0goI",
        "outputId": "ac57156b-1846-42ff-96a1-da97b09a074e"
      },
      "outputs": [
        {
          "output_type": "display_data",
          "data": {
            "text/plain": [
              "<Figure size 576x288 with 1 Axes>"
            ],
            "image/png": "[encoded data removed]"
          },
          "metadata": {
            "needs_background": "light"
          }
        },
        {
          "output_type": "display_data",
          "data": {
            "text/plain": [
              "<Figure size 576x288 with 0 Axes>"
            ]
          },
          "metadata": {}
        },
        {
          "output_type": "display_data",
          "data": {
            "text/plain": [
              "<Figure size 507.375x360 with 1 Axes>"
            ],
            "image/png": "[encoded data removed]"
          },
          "metadata": {
            "needs_background": "light"
          }
        }
      ],
      "source": [
        "plt.figure(figsize=(8, 4))\n",
        "plt.xlim(0, 150)\n",
        "sns.histplot(data=df_effective_args, x=df_effective_args['Longueur_texte'], hue=df_effective_args['discourse_type'], bins=100, multiple=\"stack\")\n",
        "plt.show()\n",
        "\n",
        "plt.figure(figsize=(8, 4))\n",
        "sns.displot(data=df_effective_args, x=df_effective_args['Longueur_texte'], hue=df_effective_args['discourse_type'], kind=\"kde\")\n",
        "plt.xlim(0, 150)\n",
        "plt.show()"
      ]
    },
    {
      "cell_type": "code",
      "execution_count": 90,
      "metadata": {
        "colab": {
          "base_uri": "https://localhost:8080/",
          "height": 280
        },
        "id": "3kJ-WS224oSv",
        "outputId": "3cf8ef5c-bec0-4841-80b6-429d5ed2d251"
      },
      "outputs": [
        {
          "output_type": "display_data",
          "data": {
            "text/plain": [
              "<Figure size 864x288 with 1 Axes>"
            ],
            "image/png": "[encoded data removed]"
          },
          "metadata": {
            "needs_background": "light"
          }
        }
      ],
      "source": [
        "plt.figure(figsize=(12, 4))\n",
        "plt.ylim(0, 130)\n",
        "sns.boxplot(y=df_effective_args['Longueur_texte'], x=df_effective_args['discourse_type'] ,hue=df_effective_args['discourse_effectiveness'])\n",
        "plt.show()"
      ]
    },
    {
      "cell_type": "markdown",
      "metadata": {
        "id": "hwbQDdojAZvH"
      },
      "source": [
        "# Feature Engineering"
      ]
    },
    {
      "cell_type": "markdown",
      "metadata": {
        "id": "PmacJN10A9lo"
      },
      "source": [
        "## Suppression des longueurs supérieures à 150"
      ]
    },
    {
      "cell_type": "code",
      "execution_count": 91,
      "metadata": {
        "id": "UeeV-PYKAdt7"
      },
      "outputs": [],
      "source": [
        "df_effective_args = df_effective_args[df_effective_args['Longueur_texte']<150]"
      ]
    },
    {
      "cell_type": "markdown",
      "metadata": {
        "id": "r_L6jN_fC1_0"
      },
      "source": [
        "## Concatenation colonnes type et contenu "
      ]
    },
    {
      "cell_type": "code",
      "execution_count": 92,
      "metadata": {
        "colab": {
          "base_uri": "https://localhost:8080/"
        },
        "id": "16ny2Gv5DJv9",
        "outputId": "95f959f5-2242-4f6c-8b62-9c5804199890"
      },
      "outputs": [
        {
          "output_type": "stream",
          "name": "stderr",
          "text": [
            "/usr/local/lib/python3.7/dist-packages/ipykernel_launcher.py:1: SettingWithCopyWarning: \n",
            "A value is trying to be set on a copy of a slice from a DataFrame.\n",
            "Try using .loc[row_indexer,col_indexer] = value instead\n",
            "\n",
            "See the caveats in the documentation: https://pandas.pydata.org/pandas-docs/stable/user_guide/indexing.html#returning-a-view-versus-a-copy\n",
            "  \"\"\"Entry point for launching an IPython kernel.\n"
          ]
        }
      ],
      "source": [
        "df_effective_args['type_and_tokens'] = df_effective_args['discourse_type'].map(lambda i: [i]) + df_effective_args['only_'+str(nb_words_to_save)+'_tokens']"
      ]
    },
    {
      "cell_type": "markdown",
      "metadata": {
        "id": "Pbu_T-dAEi8N"
      },
      "source": [
        "## Méthode TF-IDF"
      ]
    },
    {
      "cell_type": "code",
      "execution_count": 93,
      "metadata": {
        "id": "ykjphcVZH6hw"
      },
      "outputs": [],
      "source": [
        "from sklearn.feature_extraction.text import TfidfVectorizer, TfidfTransformer\n",
        "from sklearn.preprocessing import MultiLabelBinarizer, LabelBinarizer\n",
        "from sklearn.decomposition import TruncatedSVD, PCA\n",
        "from sklearn.preprocessing import StandardScaler, RobustScaler\n",
        "from sklearn.pipeline import make_pipeline\n",
        "from sklearn.preprocessing import OneHotEncoder\n",
        "from sklearn.compose import make_column_transformer\n",
        "from sklearn.model_selection import train_test_split, GridSearchCV, learning_curve\n",
        "from sklearn.svm import LinearSVC\n",
        "from sklearn.neighbors import KNeighborsClassifier\n",
        "from sklearn.metrics import r2_score, precision_score, recall_score, f1_score, classification_report, plot_roc_curve\n",
        "from sklearn.multioutput import MultiOutputClassifier\n",
        "from sklearn.multiclass import OneVsRestClassifier, OneVsOneClassifier\n",
        "from sklearn.ensemble import RandomForestClassifier\n",
        "from sklearn.dummy import DummyClassifier\n",
        "from sklearn.naive_bayes import MultinomialNB\n",
        "from sklearn.model_selection import train_test_split, GridSearchCV, learning_curve\n",
        "\n",
        "import joblib\n",
        "import ast\n",
        "import time\n",
        "\n",
        "!cp /content/drive/MyDrive/Open_classrooms/P2/pca_file.py .\n",
        "import pca_file\n",
        "\n",
        "from sklearn.linear_model import LogisticRegression"
      ]
    },
    {
      "cell_type": "code",
      "execution_count": 94,
      "metadata": {
        "id": "bshg2x97GYlZ"
      },
      "outputs": [],
      "source": [
        "X_train, X_test, y_train, y_test = train_test_split(df_effective_args['type_and_tokens'], df_effective_args['discourse_effectiveness'], test_size=0.2, random_state=1)"
      ]
    },
    {
      "cell_type": "markdown",
      "metadata": {
        "id": "mSfaj8ABNjv_"
      },
      "source": [
        "### Separation et preparation train set et test set"
      ]
    },
    {
      "cell_type": "code",
      "execution_count": 95,
      "metadata": {
        "id": "91j790F1MdzQ"
      },
      "outputs": [],
      "source": [
        "list_words = X_train.tolist()\n",
        "list_corpus = []\n",
        "for element in list_words :\n",
        "  list_corpus.append(' '.join(element))\n",
        "tfidftvecto =  TfidfVectorizer()\n",
        "tfidf_model = tfidftvecto.fit(list_corpus)\n",
        "tfidf_tokens = tfidftvecto.get_feature_names_out()\n",
        "X_train_encoded = pd.DataFrame(data = tfidftvecto.fit_transform(list_corpus).toarray(),columns = tfidf_tokens)"
      ]
    },
    {
      "cell_type": "code",
      "execution_count": 96,
      "metadata": {
        "id": "LQYfY2mnMe6n"
      },
      "outputs": [],
      "source": [
        "list_words_test = X_test.tolist()\n",
        "list_corpus_test = []\n",
        "for element in list_words_test :\n",
        "  list_corpus_test.append(' '.join(element))\n",
        "X_test_encoded = pd.DataFrame(data = tfidf_model.transform(list_corpus_test).toarray(),columns = tfidf_tokens)"
      ]
    },
    {
      "cell_type": "code",
      "execution_count": 97,
      "metadata": {
        "id": "eppyQiF0Nto5"
      },
      "outputs": [],
      "source": [
        "lb = LabelBinarizer()\n",
        "df_labels_train = pd.DataFrame(lb.fit_transform(y_train), columns=lb.classes_)\n",
        "df_labels_test = pd.DataFrame(lb.fit_transform(y_test), columns=lb.classes_)"
      ]
    },
    {
      "cell_type": "markdown",
      "metadata": {
        "id": "jmdJoQ7ZQfIx"
      },
      "source": [
        "# Modelisation"
      ]
    },
    {
      "cell_type": "code",
      "execution_count": 98,
      "metadata": {
        "id": "ixeY0ZdxGsbv"
      },
      "outputs": [],
      "source": [
        "!cp /content/drive/MyDrive/Open_classrooms/P2/pca_file.py .\n",
        "import pca_file"
      ]
    },
    {
      "cell_type": "code",
      "execution_count": 99,
      "metadata": {
        "colab": {
          "base_uri": "https://localhost:8080/",
          "height": 312
        },
        "id": "ww_rh7skGOLM",
        "outputId": "2cf13f43-b5af-45ea-ad8c-d9bd4cb5cba3"
      },
      "outputs": [
        {
          "output_type": "stream",
          "name": "stdout",
          "text": [
            "n_components =  20 pourcentage 0.05322601960372108\n"
          ]
        },
        {
          "output_type": "display_data",
          "data": {
            "text/plain": [
              "<Figure size 432x288 with 1 Axes>"
            ],
            "image/png": "[encoded data removed]"
          },
          "metadata": {
            "needs_background": "light"
          }
        }
      ],
      "source": [
        "n_components=20\n",
        "numerical_features = list(X_train_encoded.select_dtypes(['int']).columns)+list(X_train_encoded.select_dtypes(['float']).columns)\n",
        "numerical_pipeline = make_pipeline(StandardScaler())\n",
        "preprocessor = make_column_transformer((numerical_pipeline, numerical_features))\n",
        "model = make_pipeline(preprocessor, PCA(n_components))\n",
        "model_all_features_PCA = model.fit(X_train_encoded)\n",
        "model_all_features_PCA[1].explained_variance_ratio_\n",
        "print('n_components = ', n_components, 'pourcentage', sum(model_all_features_PCA[1].explained_variance_ratio_))\n",
        "\n",
        "pca_file.display_scree_plot(model_all_features_PCA[1])"
      ]
    },
    {
      "cell_type": "markdown",
      "metadata": {
        "id": "TnF0CQUiQi9i"
      },
      "source": [
        "## DummyClassifier"
      ]
    },
    {
      "cell_type": "code",
      "execution_count": 100,
      "metadata": {
        "colab": {
          "base_uri": "https://localhost:8080/"
        },
        "id": "22zVbJS7aDzD",
        "outputId": "19c3623f-1ce8-462a-99ec-dfb4f45e0ff4"
      },
      "outputs": [
        {
          "output_type": "stream",
          "name": "stderr",
          "text": [
            "/usr/local/lib/python3.7/dist-packages/sklearn/utils/deprecation.py:103: FutureWarning: `n_features_in_` is deprecated in 1.0 and will be removed in 1.2.\n",
            "  warnings.warn(msg, category=FutureWarning)\n"
          ]
        },
        {
          "output_type": "stream",
          "name": "stdout",
          "text": [
            "1.290783405303955 0.3666050434112549\n",
            "              precision    recall  f1-score   support\n",
            "\n",
            "           0       0.57      1.00      0.72      4161\n",
            "           1       0.00      0.00      0.00      1882\n",
            "           2       0.00      0.00      0.00      1280\n",
            "\n",
            "   micro avg       0.57      0.57      0.57      7323\n",
            "   macro avg       0.19      0.33      0.24      7323\n",
            "weighted avg       0.32      0.57      0.41      7323\n",
            " samples avg       0.57      0.57      0.57      7323\n",
            "\n"
          ]
        },
        {
          "output_type": "stream",
          "name": "stderr",
          "text": [
            "/usr/local/lib/python3.7/dist-packages/sklearn/metrics/_classification.py:1318: UndefinedMetricWarning: Precision and F-score are ill-defined and being set to 0.0 in labels with no predicted samples. Use `zero_division` parameter to control this behavior.\n",
            "  _warn_prf(average, modifier, msg_start, len(result))\n"
          ]
        }
      ],
      "source": [
        "numerical_features = list(X_train_encoded.select_dtypes(['int']).columns)+list(X_train_encoded.select_dtypes(['float']).columns)\n",
        "\n",
        "numerical_pipeline = make_pipeline(StandardScaler())\n",
        "multilabel_classifier = OneVsRestClassifier(DummyClassifier( strategy = 'prior'))\n",
        "preprocessor = make_column_transformer((numerical_pipeline, numerical_features))\n",
        "model_dum = make_pipeline(preprocessor, multilabel_classifier)\n",
        "\n",
        "start_time_fit = time.time()\n",
        "model_dum.fit(X_train_encoded, df_labels_train)\n",
        "\n",
        "elapsed_time_fit = time.time() - start_time_fit #time\n",
        "\n",
        "start_time_predict = time.time()\n",
        "df_labels_pred = model_dum.predict(X_test_encoded)\n",
        "df_labels_pred_proba = model_dum.predict_proba(X_test_encoded)\n",
        "\n",
        "elapsed_time_predict = time.time() - start_time_predict #time\n",
        "print(elapsed_time_fit, elapsed_time_predict) #time\n",
        "\n",
        "print(classification_report(df_labels_test, df_labels_pred))"
      ]
    },
    {
      "cell_type": "markdown",
      "metadata": {
        "id": "TTZG-uBc0N_4"
      },
      "source": [
        "## RandomForest"
      ]
    },
    {
      "cell_type": "code",
      "execution_count": 101,
      "metadata": {
        "colab": {
          "base_uri": "https://localhost:8080/"
        },
        "id": "C0Rio3ed0B6E",
        "outputId": "418d6a2b-69b2-4dbf-a259-9b1c0b643feb"
      },
      "outputs": [
        {
          "output_type": "stream",
          "name": "stdout",
          "text": [
            "342.7569966316223 6.738645792007446\n",
            "              precision    recall  f1-score   support\n",
            "\n",
            "           0       0.66      0.81      0.73      4161\n",
            "           1       0.74      0.34      0.47      1882\n",
            "           2       0.59      0.10      0.17      1280\n",
            "\n",
            "   micro avg       0.67      0.57      0.61      7323\n",
            "   macro avg       0.66      0.42      0.46      7323\n",
            "weighted avg       0.67      0.57      0.56      7323\n",
            " samples avg       0.56      0.57      0.56      7323\n",
            "\n"
          ]
        },
        {
          "output_type": "stream",
          "name": "stderr",
          "text": [
            "/usr/local/lib/python3.7/dist-packages/sklearn/metrics/_classification.py:1318: UndefinedMetricWarning: Precision and F-score are ill-defined and being set to 0.0 in samples with no predicted labels. Use `zero_division` parameter to control this behavior.\n",
            "  _warn_prf(average, modifier, msg_start, len(result))\n"
          ]
        }
      ],
      "source": [
        "numerical_features = list(X_train_encoded.select_dtypes(['int']).columns)+list(X_train_encoded.select_dtypes(['float']).columns)\n",
        "numerical_pipeline = make_pipeline(StandardScaler())\n",
        "\n",
        "R_F = RandomForestClassifier()\n",
        "multilabel_classifier = OneVsRestClassifier(R_F)\n",
        "preprocessor = make_column_transformer((numerical_pipeline, numerical_features))\n",
        "model_R_F = make_pipeline(preprocessor, multilabel_classifier)\n",
        "\n",
        "start_time_fit = time.time()\n",
        "model_R_F.fit(X_train_encoded, df_labels_train)\n",
        "\n",
        "elapsed_time_fit = time.time() - start_time_fit #time\n",
        "\n",
        "start_time_predict = time.time()\n",
        "df_labels_pred = model_R_F.predict(X_test_encoded)\n",
        "df_labels_pred_proba = model_R_F.predict_proba(X_test_encoded)\n",
        "\n",
        "elapsed_time_predict = time.time() - start_time_predict #time\n",
        "print(elapsed_time_fit, elapsed_time_predict) #time\n",
        "\n",
        "print(classification_report(df_labels_test, df_labels_pred))"
      ]
    },
    {
      "cell_type": "markdown",
      "metadata": {
        "id": "afsiILyGfES7"
      },
      "source": [
        "## Regression logistic"
      ]
    },
    {
      "cell_type": "markdown",
      "metadata": {
        "id": "lmUoSa_nIE9d"
      },
      "source": [
        "### OneVsRest"
      ]
    },
    {
      "cell_type": "code",
      "execution_count": 102,
      "metadata": {
        "colab": {
          "base_uri": "https://localhost:8080/"
        },
        "id": "s0LlfrltRNld",
        "outputId": "6e3cb790-b946-4b80-c391-2a8480ef4af0"
      },
      "outputs": [
        {
          "output_type": "stream",
          "name": "stdout",
          "text": [
            "51.70269060134888 0.5013308525085449\n",
            "              precision    recall  f1-score   support\n",
            "\n",
            "           0       0.65      0.76      0.70      4161\n",
            "           1       0.67      0.49      0.57      1882\n",
            "           2       0.46      0.23      0.31      1280\n",
            "\n",
            "   micro avg       0.64      0.60      0.62      7323\n",
            "   macro avg       0.59      0.49      0.53      7323\n",
            "weighted avg       0.62      0.60      0.60      7323\n",
            " samples avg       0.57      0.60      0.58      7323\n",
            "\n"
          ]
        },
        {
          "output_type": "stream",
          "name": "stderr",
          "text": [
            "/usr/local/lib/python3.7/dist-packages/sklearn/metrics/_classification.py:1318: UndefinedMetricWarning: Precision and F-score are ill-defined and being set to 0.0 in samples with no predicted labels. Use `zero_division` parameter to control this behavior.\n",
            "  _warn_prf(average, modifier, msg_start, len(result))\n"
          ]
        }
      ],
      "source": [
        "numerical_features = list(X_train_encoded.select_dtypes(['int']).columns)+list(X_train_encoded.select_dtypes(['float']).columns)\n",
        "numerical_pipeline = make_pipeline(StandardScaler())\n",
        "\n",
        "L_R = LogisticRegression(max_iter= 1000)\n",
        "multilabel_classifier = OneVsRestClassifier(L_R)\n",
        "preprocessor = make_column_transformer((numerical_pipeline, numerical_features))\n",
        "model_L_R = make_pipeline(preprocessor, multilabel_classifier)\n",
        "\n",
        "start_time_fit = time.time()\n",
        "model_L_R.fit(X_train_encoded, df_labels_train)\n",
        "\n",
        "elapsed_time_fit = time.time() - start_time_fit #time\n",
        "\n",
        "start_time_predict = time.time()\n",
        "df_labels_pred = model_L_R.predict(X_test_encoded)\n",
        "df_labels_pred_proba = model_L_R.predict_proba(X_test_encoded)\n",
        "\n",
        "elapsed_time_predict = time.time() - start_time_predict #time\n",
        "print(elapsed_time_fit, elapsed_time_predict) #time\n",
        "\n",
        "print(classification_report(df_labels_test, df_labels_pred))"
      ]
    },
    {
      "cell_type": "markdown",
      "metadata": {
        "id": "L_-2D1B768Wa"
      },
      "source": [
        "### Optimisation One Versus Rest"
      ]
    },
    {
      "cell_type": "code",
      "execution_count": 103,
      "metadata": {
        "id": "WW0jlN19-LhQ"
      },
      "outputs": [],
      "source": [
        "parameters = {\n",
        "    \"onevsrestclassifier__estimator__max_iter\": [800, 1000, 1200, 1500]\n",
        "}"
      ]
    },
    {
      "cell_type": "code",
      "execution_count": 104,
      "metadata": {
        "colab": {
          "base_uri": "https://localhost:8080/"
        },
        "id": "mGG9XgbW6_jj",
        "outputId": "6cdd43fd-f063-45cf-b8b1-de702e84e1e2"
      },
      "outputs": [
        {
          "output_type": "stream",
          "name": "stdout",
          "text": [
            "meilleurs parametres :  {'onevsrestclassifier__estimator__max_iter': 800}\n",
            "968.0824875831604 0.6572773456573486\n",
            "              precision    recall  f1-score   support\n",
            "\n",
            "           0       0.65      0.76      0.70      4161\n",
            "           1       0.67      0.49      0.57      1882\n",
            "           2       0.46      0.23      0.31      1280\n",
            "\n",
            "   micro avg       0.64      0.60      0.62      7323\n",
            "   macro avg       0.59      0.49      0.53      7323\n",
            "weighted avg       0.62      0.60      0.60      7323\n",
            " samples avg       0.57      0.60      0.58      7323\n",
            "\n"
          ]
        },
        {
          "output_type": "stream",
          "name": "stderr",
          "text": [
            "/usr/local/lib/python3.7/dist-packages/sklearn/metrics/_classification.py:1318: UndefinedMetricWarning: Precision and F-score are ill-defined and being set to 0.0 in samples with no predicted labels. Use `zero_division` parameter to control this behavior.\n",
            "  _warn_prf(average, modifier, msg_start, len(result))\n"
          ]
        }
      ],
      "source": [
        "numerical_features = list(X_train_encoded.select_dtypes(['int']).columns)+list(X_train_encoded.select_dtypes(['float']).columns)\n",
        "numerical_pipeline = make_pipeline(StandardScaler())\n",
        "\n",
        "L_R = LogisticRegression()\n",
        "\n",
        "multilabel_classifier = OneVsRestClassifier(L_R)\n",
        "preprocessor = make_column_transformer((numerical_pipeline, numerical_features))\n",
        "model_L_R = make_pipeline(preprocessor, multilabel_classifier)\n",
        "\n",
        "grid_L_R = GridSearchCV(model_L_R, param_grid = parameters, cv=5)\n",
        "\n",
        "start_time_fit = time.time()\n",
        "grid_L_R.fit(X_train_encoded, df_labels_train)\n",
        "print('meilleurs parametres : ', grid_L_R.best_params_)\n",
        "elapsed_time_fit = time.time() - start_time_fit #time\n",
        "\n",
        "start_time_predict = time.time()\n",
        "df_labels_pred = grid_L_R.predict(X_test_encoded)\n",
        "df_labels_pred_proba = grid_L_R.predict_proba(X_test_encoded)\n",
        "\n",
        "elapsed_time_predict = time.time() - start_time_predict #time\n",
        "print(elapsed_time_fit, elapsed_time_predict) #time\n",
        "\n",
        "print(classification_report(df_labels_test, df_labels_pred))"
      ]
    },
    {
      "cell_type": "markdown",
      "metadata": {
        "id": "kuIYEeADJdFf"
      },
      "source": [
        "# Prediction"
      ]
    },
    {
      "cell_type": "code",
      "execution_count": 105,
      "metadata": {
        "id": "iQuIf4oFJcNA"
      },
      "outputs": [],
      "source": [
        "def pipeline_from_dataset_to_tokens(df, nb_words_to_save):\n",
        "  df['discourse_text_tokenized'] = df['discourse_text'].apply(create_token)\n",
        "  df['discourse_text_lemmatized'] = df['discourse_text_tokenized'].apply(create_lemmatization)\n",
        "  df['no_stop_words'] = df['discourse_text_lemmatized'].transform(delete_stop_words_in_corpus)\n",
        "  df['only_'+str(nb_words_to_save)+'_tokens'] = df['no_stop_words'].apply(delete_if_not_in)\n",
        "  df['Longueur_texte'] = df['only_'+str(nb_words_to_save)+'_tokens'].apply(counter_len_in_text)\n",
        "  df['type_and_tokens'] = df['discourse_type'].map(lambda i: [i]) + df['only_'+str(nb_words_to_save)+'_tokens']\n",
        "  #df = df[df['Longueur_texte']<150]\n",
        "  print(df.shape)\n",
        "  return df"
      ]
    },
    {
      "cell_type": "code",
      "execution_count": 106,
      "metadata": {
        "colab": {
          "base_uri": "https://localhost:8080/"
        },
        "id": "HiWmGa65JZ0y",
        "outputId": "1df89820-a6db-43b1-cf17-1adfe05dd14e"
      },
      "outputs": [
        {
          "output_type": "stream",
          "name": "stdout",
          "text": [
            "(10, 10)\n"
          ]
        }
      ],
      "source": [
        "df_needed_to_predict = pd.read_csv('/content/drive/MyDrive/Colab_Notebooks/P8/dataset/test.csv',encoding=\"utf-8\",header=(0))\n",
        "df_needed_to_predict_take_token = pipeline_from_dataset_to_tokens(df_needed_to_predict, nb_words_to_save = nb_words_to_save)\n",
        "X_to_predict = df_needed_to_predict_take_token['type_and_tokens']"
      ]
    },
    {
      "cell_type": "code",
      "execution_count": 107,
      "metadata": {
        "id": "xjJXMgu1JipC"
      },
      "outputs": [],
      "source": [
        "list_words_test = X_to_predict.tolist()\n",
        "list_corpus_test = []\n",
        "for element in list_words_test :\n",
        "  list_corpus_test.append(' '.join(element))\n",
        "X_to_predict_encoded = pd.DataFrame(data = tfidf_model.transform(list_corpus_test).toarray(),columns = tfidf_tokens)"
      ]
    },
    {
      "cell_type": "code",
      "execution_count": 108,
      "metadata": {
        "id": "6h-RI-JyI2Gh"
      },
      "outputs": [],
      "source": [
        "df_predicted = pd.DataFrame(grid_L_R.predict_proba(X_to_predict_encoded), columns = list(lb.classes_))"
      ]
    },
    {
      "cell_type": "code",
      "execution_count": 109,
      "metadata": {
        "id": "XCmuTebgJsYm"
      },
      "outputs": [],
      "source": [
        "sample = pd.read_csv('/content/drive/MyDrive/Colab_Notebooks/P8/dataset/sample_submission.csv')"
      ]
    },
    {
      "cell_type": "code",
      "execution_count": 110,
      "metadata": {
        "colab": {
          "base_uri": "https://localhost:8080/",
          "height": 363
        },
        "id": "ZQ7wcKBRJyc5",
        "outputId": "c23cc1cb-6b6a-4916-d49c-344a08fc2feb"
      },
      "outputs": [
        {
          "output_type": "execute_result",
          "data": {
            "text/plain": [
              "   discourse_id  Ineffective  Adequate  Effective\n",
              "0  a261b6e14276     0.020208  0.405376   0.678365\n",
              "1  5a88900e7dc1     0.012917  0.679613   0.315661\n",
              "2  9790d835736b     0.013226  0.461336   0.537989\n",
              "3  75ce6d68b67b     0.077787  0.705789   0.213816\n",
              "4  93578d946723     0.024731  0.430238   0.447986\n",
              "5  2e214524dbe3     0.106581  0.130290   0.839204\n",
              "6  84812fc2ab9f     0.004977  0.302333   0.908890\n",
              "7  c668ff840720     0.011664  0.372649   0.600649\n",
              "8  739a6d00f44a     0.210286  0.246153   0.438600\n",
              "9  bcfae2c9a244     0.005776  0.162352   0.923034"
            ],
            "text/html": [
              "\n",
              "  <div id=\"df-f3c3ac62-c94d-44e4-8291-8dde797c2609\">\n",
              "    <div class=\"colab-df-container\">\n",
              "      <div>\n",
              "<style scoped>\n",
              "    .dataframe tbody tr th:only-of-type {\n",
              "        vertical-align: middle;\n",
              "    }\n",
              "\n",
              "    .dataframe tbody tr th {\n",
              "        vertical-align: top;\n",
              "    }\n",
              "\n",
              "    .dataframe thead th {\n",
              "        text-align: right;\n",
              "    }\n",
              "</style>\n",
              "<table border=\"1\" class=\"dataframe\">\n",
              "  <thead>\n",
              "    <tr style=\"text-align: right;\">\n",
              "      <th></th>\n",
              "      <th>discourse_id</th>\n",
              "      <th>Ineffective</th>\n",
              "      <th>Adequate</th>\n",
              "      <th>Effective</th>\n",
              "    </tr>\n",
              "  </thead>\n",
              "  <tbody>\n",
              "    <tr>\n",
              "      <th>0</th>\n",
              "      <td>a261b6e14276</td>\n",
              "      <td>0.020208</td>\n",
              "      <td>0.405376</td>\n",
              "      <td>0.678365</td>\n",
              "    </tr>\n",
              "    <tr>\n",
              "      <th>1</th>\n",
              "      <td>5a88900e7dc1</td>\n",
              "      <td>0.012917</td>\n",
              "      <td>0.679613</td>\n",
              "      <td>0.315661</td>\n",
              "    </tr>\n",
              "    <tr>\n",
              "      <th>2</th>\n",
              "      <td>9790d835736b</td>\n",
              "      <td>0.013226</td>\n",
              "      <td>0.461336</td>\n",
              "      <td>0.537989</td>\n",
              "    </tr>\n",
              "    <tr>\n",
              "      <th>3</th>\n",
              "      <td>75ce6d68b67b</td>\n",
              "      <td>0.077787</td>\n",
              "      <td>0.705789</td>\n",
              "      <td>0.213816</td>\n",
              "    </tr>\n",
              "    <tr>\n",
              "      <th>4</th>\n",
              "      <td>93578d946723</td>\n",
              "      <td>0.024731</td>\n",
              "      <td>0.430238</td>\n",
              "      <td>0.447986</td>\n",
              "    </tr>\n",
              "    <tr>\n",
              "      <th>5</th>\n",
              "      <td>2e214524dbe3</td>\n",
              "      <td>0.106581</td>\n",
              "      <td>0.130290</td>\n",
              "      <td>0.839204</td>\n",
              "    </tr>\n",
              "    <tr>\n",
              "      <th>6</th>\n",
              "      <td>84812fc2ab9f</td>\n",
              "      <td>0.004977</td>\n",
              "      <td>0.302333</td>\n",
              "      <td>0.908890</td>\n",
              "    </tr>\n",
              "    <tr>\n",
              "      <th>7</th>\n",
              "      <td>c668ff840720</td>\n",
              "      <td>0.011664</td>\n",
              "      <td>0.372649</td>\n",
              "      <td>0.600649</td>\n",
              "    </tr>\n",
              "    <tr>\n",
              "      <th>8</th>\n",
              "      <td>739a6d00f44a</td>\n",
              "      <td>0.210286</td>\n",
              "      <td>0.246153</td>\n",
              "      <td>0.438600</td>\n",
              "    </tr>\n",
              "    <tr>\n",
              "      <th>9</th>\n",
              "      <td>bcfae2c9a244</td>\n",
              "      <td>0.005776</td>\n",
              "      <td>0.162352</td>\n",
              "      <td>0.923034</td>\n",
              "    </tr>\n",
              "  </tbody>\n",
              "</table>\n",
              "</div>\n",
              "      <button class=\"colab-df-convert\" onclick=\"convertToInteractive('df-f3c3ac62-c94d-44e4-8291-8dde797c2609')\"\n",
              "              title=\"Convert this dataframe to an interactive table.\"\n",
              "              style=\"display:none;\">\n",
              "        \n",
              "  <svg xmlns=\"http://www.w3.org/2000/svg\" height=\"24px\"viewBox=\"0 0 24 24\"\n",
              "       width=\"24px\">\n",
              "    <path d=\"M0 0h24v24H0V0z\" fill=\"none\"/>\n",
              "    <path d=\"M18.56 5.44l.94 2.06.94-2.06 2.06-.94-2.06-.94-.94-2.06-.94 2.06-2.06.94zm-11 1L8.5 8.5l.94-2.06 2.06-.94-2.06-.94L8.5 2.5l-.94 2.06-2.06.94zm10 10l.94 2.06.94-2.06 2.06-.94-2.06-.94-.94-2.06-.94 2.06-2.06.94z\"/><path d=\"M17.41 7.96l-1.37-1.37c-.4-.4-.92-.59-1.43-.59-.52 0-1.04.2-1.43.59L10.3 9.45l-7.72 7.72c-.78.78-.78 2.05 0 2.83L4 21.41c.39.39.9.59 1.41.59.51 0 1.02-.2 1.41-.59l7.78-7.78 2.81-2.81c.8-.78.8-2.07 0-2.86zM5.41 20L4 18.59l7.72-7.72 1.47 1.35L5.41 20z\"/>\n",
              "  </svg>\n",
              "      </button>\n",
              "      \n",
              "  <style>\n",
              "    .colab-df-container {\n",
              "      display:flex;\n",
              "      flex-wrap:wrap;\n",
              "      gap: 12px;\n",
              "    }\n",
              "\n",
              "    .colab-df-convert {\n",
              "      background-color: #E8F0FE;\n",
              "      border: none;\n",
              "      border-radius: 50%;\n",
              "      cursor: pointer;\n",
              "      display: none;\n",
              "      fill: #1967D2;\n",
              "      height: 32px;\n",
              "      padding: 0 0 0 0;\n",
              "      width: 32px;\n",
              "    }\n",
              "\n",
              "    .colab-df-convert:hover {\n",
              "      background-color: #E2EBFA;\n",
              "      box-shadow: 0px 1px 2px rgba(60, 64, 67, 0.3), 0px 1px 3px 1px rgba(60, 64, 67, 0.15);\n",
              "      fill: #174EA6;\n",
              "    }\n",
              "\n",
              "    [theme=dark] .colab-df-convert {\n",
              "      background-color: #3B4455;\n",
              "      fill: #D2E3FC;\n",
              "    }\n",
              "\n",
              "    [theme=dark] .colab-df-convert:hover {\n",
              "      background-color: #434B5C;\n",
              "      box-shadow: 0px 1px 3px 1px rgba(0, 0, 0, 0.15);\n",
              "      filter: drop-shadow(0px 1px 2px rgba(0, 0, 0, 0.3));\n",
              "      fill: #FFFFFF;\n",
              "    }\n",
              "  </style>\n",
              "\n",
              "      <script>\n",
              "        const buttonEl =\n",
              "          document.querySelector('#df-f3c3ac62-c94d-44e4-8291-8dde797c2609 button.colab-df-convert');\n",
              "        buttonEl.style.display =\n",
              "          google.colab.kernel.accessAllowed ? 'block' : 'none';\n",
              "\n",
              "        async function convertToInteractive(key) {\n",
              "          const element = document.querySelector('#df-f3c3ac62-c94d-44e4-8291-8dde797c2609');\n",
              "          const dataTable =\n",
              "            await google.colab.kernel.invokeFunction('convertToInteractive',\n",
              "                                                     [key], {});\n",
              "          if (!dataTable) return;\n",
              "\n",
              "          const docLinkHtml = 'Like what you see? Visit the ' +\n",
              "            '<a target=\"_blank\" href=https://colab.research.google.com/notebooks/data_table.ipynb>data table notebook</a>'\n",
              "            + ' to learn more about interactive tables.';\n",
              "          element.innerHTML = '';\n",
              "          dataTable['output_type'] = 'display_data';\n",
              "          await google.colab.output.renderOutput(dataTable, element);\n",
              "          const docLink = document.createElement('div');\n",
              "          docLink.innerHTML = docLinkHtml;\n",
              "          element.appendChild(docLink);\n",
              "        }\n",
              "      </script>\n",
              "    </div>\n",
              "  </div>\n",
              "  "
            ]
          },
          "metadata": {},
          "execution_count": 110
        }
      ],
      "source": [
        "df_predicted = pd.DataFrame(grid_L_R.predict_proba(X_to_predict_encoded), columns = list(lb.classes_))\n",
        "df_predicted['discourse_id'] = df_needed_to_predict['discourse_id']\n",
        "df_predicted = df_predicted[['discourse_id' ,'Ineffective', 'Adequate', 'Effective']]\n",
        "df_predicted.to_csv('submission.csv',index=False)\n",
        "df_predicted"
      ]
    }
  ],
  "metadata": {
    "colab": {
      "background_execution": "on",
      "collapsed_sections": [],
      "name": "P8_EDA_TF_IDF_MODELS.ipynb",
      "provenance": [],
      "mount_file_id": "1uxrIBA-L0odNECps_apCEf8YmaMFaXGS",
      "authorship_tag": "ABX9TyMoRx8MBXrwVYycbT6G6Eqg",
      "include_colab_link": true
    },
    "gpuClass": "standard",
    "kernelspec": {
      "display_name": "Python 3",
      "name": "python3"
    },
    "language_info": {
      "name": "python"
    }
  },
  "nbformat": 4,
  "nbformat_minor": 0
}