{
  "cells": [
    {
      "cell_type": "markdown",
      "metadata": {
        "id": "view-in-github",
        "colab_type": "text"
      },
      "source": [
        "<a href=\"https://colab.research.google.com/github/bonnefco/P8/blob/main/P8_EDA_TF_IDF_MODELS.ipynb\" target=\"_parent\"><img src=\"https://colab.research.google.com/assets/colab-badge.svg\" alt=\"Open In Colab\"/></a>"
      ]
    },
    {
      "cell_type": "markdown",
      "id": "580a96f4",
      "metadata": {
        "id": "580a96f4",
        "papermill": {
          "duration": 0.021313,
          "end_time": "2022-08-03T20:52:40.178715",
          "exception": false,
          "start_time": "2022-08-03T20:52:40.157402",
          "status": "completed"
        },
        "tags": []
      },
      "source": [
        "# Importation des librairies"
      ]
    },
    {
      "cell_type": "code",
      "execution_count": null,
      "id": "0667b0cc",
      "metadata": {
        "execution": {
          "iopub.execute_input": "2022-08-03T20:52:40.221902Z",
          "iopub.status.busy": "2022-08-03T20:52:40.220896Z",
          "iopub.status.idle": "2022-08-03T20:52:41.955095Z",
          "shell.execute_reply": "2022-08-03T20:52:41.953903Z"
        },
        "id": "0667b0cc",
        "papermill": {
          "duration": 1.759262,
          "end_time": "2022-08-03T20:52:41.958103",
          "exception": false,
          "start_time": "2022-08-03T20:52:40.198841",
          "status": "completed"
        },
        "tags": []
      },
      "outputs": [],
      "source": [
        "import pandas as pd\n",
        "import matplotlib.pyplot as plt\n",
        "import seaborn as sns\n",
        "import numpy as np\n",
        "import sklearn\n",
        "import ast\n",
        "from scipy import stats\n",
        "\n",
        "import nltk\n",
        "from nltk.corpus import stopwords\n",
        "from nltk.stem import WordNetLemmatizer\n",
        "\n",
        "\n",
        "from nltk.corpus import wordnet\n",
        "from nltk.corpus import stopwords\n",
        "\n",
        "nltk.data.path.append(\"/kaggle/input/corporafolder\")"
      ]
    },
    {
      "cell_type": "code",
      "execution_count": null,
      "id": "008ecbff",
      "metadata": {
        "execution": {
          "iopub.execute_input": "2022-08-03T20:52:42.000315Z",
          "iopub.status.busy": "2022-08-03T20:52:41.999536Z",
          "iopub.status.idle": "2022-08-03T20:52:42.237642Z",
          "shell.execute_reply": "2022-08-03T20:52:42.236246Z"
        },
        "id": "008ecbff",
        "papermill": {
          "duration": 0.262561,
          "end_time": "2022-08-03T20:52:42.240803",
          "exception": false,
          "start_time": "2022-08-03T20:52:41.978242",
          "status": "completed"
        },
        "tags": []
      },
      "outputs": [],
      "source": [
        "df_effective_args = pd.read_csv(\n",
        "    \"../input/train-light-csv/train_light.csv\", encoding=\"utf-8\", header=(0)\n",
        ")"
      ]
    },
    {
      "cell_type": "markdown",
      "id": "db03fe63",
      "metadata": {
        "id": "db03fe63",
        "papermill": {
          "duration": 0.019209,
          "end_time": "2022-08-03T20:52:42.279818",
          "exception": false,
          "start_time": "2022-08-03T20:52:42.260609",
          "status": "completed"
        },
        "tags": []
      },
      "source": [
        "# Fonctions utiles"
      ]
    },
    {
      "cell_type": "code",
      "execution_count": null,
      "id": "31be296e",
      "metadata": {
        "execution": {
          "iopub.execute_input": "2022-08-03T20:52:42.321806Z",
          "iopub.status.busy": "2022-08-03T20:52:42.320958Z",
          "iopub.status.idle": "2022-08-03T20:52:42.329338Z",
          "shell.execute_reply": "2022-08-03T20:52:42.328426Z"
        },
        "id": "31be296e",
        "papermill": {
          "duration": 0.032512,
          "end_time": "2022-08-03T20:52:42.331882",
          "exception": false,
          "start_time": "2022-08-03T20:52:42.299370",
          "status": "completed"
        },
        "tags": []
      },
      "outputs": [],
      "source": [
        "def create_histogram_of_words(list_of_words):\n",
        "\n",
        "    dictionnaire_words = dict(nltk.FreqDist(list_of_words))\n",
        "    somme_total_occurences = sum(dictionnaire_words.values())\n",
        "\n",
        "    dictionnaire_pourcentage_words = dictionnaire_words.copy()\n",
        "\n",
        "    for key, value in dictionnaire_pourcentage_words.items():\n",
        "        dictionnaire_pourcentage_words[key] = (\n",
        "            dictionnaire_pourcentage_words[key] / somme_total_occurences\n",
        "        )\n",
        "\n",
        "    dictionnaire_trie_pourcentage_words = dict(\n",
        "        sorted(\n",
        "            dictionnaire_pourcentage_words.items(),\n",
        "            key=lambda item: item[1],\n",
        "            reverse=True,\n",
        "        )\n",
        "    )\n",
        "    dictionnaire_values_words = list(dictionnaire_trie_pourcentage_words.values())\n",
        "\n",
        "    liste_value_cumul_words = []\n",
        "    somme_cumulee = 0\n",
        "\n",
        "    for valeurs in dictionnaire_values_words:\n",
        "        somme_cumulee = somme_cumulee + valeurs\n",
        "        liste_value_cumul_words.append(somme_cumulee)\n",
        "\n",
        "    return liste_value_cumul_words"
      ]
    },
    {
      "cell_type": "markdown",
      "id": "ae30cf55",
      "metadata": {
        "id": "ae30cf55",
        "papermill": {
          "duration": 0.019225,
          "end_time": "2022-08-03T20:52:42.370866",
          "exception": false,
          "start_time": "2022-08-03T20:52:42.351641",
          "status": "completed"
        },
        "tags": []
      },
      "source": [
        "# Nettoyage pour approche TF-IDF"
      ]
    },
    {
      "cell_type": "markdown",
      "id": "ebb3bff7",
      "metadata": {
        "id": "ebb3bff7",
        "papermill": {
          "duration": 0.019259,
          "end_time": "2022-08-03T20:52:42.409650",
          "exception": false,
          "start_time": "2022-08-03T20:52:42.390391",
          "status": "completed"
        },
        "tags": []
      },
      "source": [
        "## Creation des premiers tokens (longueur > 1) et passage en minuscule"
      ]
    },
    {
      "cell_type": "code",
      "execution_count": null,
      "id": "0f346660",
      "metadata": {
        "execution": {
          "iopub.execute_input": "2022-08-03T20:52:42.450506Z",
          "iopub.status.busy": "2022-08-03T20:52:42.449983Z",
          "iopub.status.idle": "2022-08-03T20:52:42.456142Z",
          "shell.execute_reply": "2022-08-03T20:52:42.454908Z"
        },
        "id": "0f346660",
        "papermill": {
          "duration": 0.029243,
          "end_time": "2022-08-03T20:52:42.458449",
          "exception": false,
          "start_time": "2022-08-03T20:52:42.429206",
          "status": "completed"
        },
        "tags": []
      },
      "outputs": [],
      "source": [
        "def create_token(string):\n",
        "    tokenizer = nltk.RegexpTokenizer(r\"\\w+\")\n",
        "    string = tokenizer.tokenize(string.lower())\n",
        "    list_tokens_elements = [element for element in string if len(element) > 1]\n",
        "    return list_tokens_elements"
      ]
    },
    {
      "cell_type": "code",
      "execution_count": null,
      "id": "2d993082",
      "metadata": {
        "execution": {
          "iopub.execute_input": "2022-08-03T20:52:42.499500Z",
          "iopub.status.busy": "2022-08-03T20:52:42.499013Z",
          "iopub.status.idle": "2022-08-03T20:52:43.499102Z",
          "shell.execute_reply": "2022-08-03T20:52:43.497889Z"
        },
        "id": "2d993082",
        "papermill": {
          "duration": 1.023847,
          "end_time": "2022-08-03T20:52:43.502011",
          "exception": false,
          "start_time": "2022-08-03T20:52:42.478164",
          "status": "completed"
        },
        "tags": []
      },
      "outputs": [],
      "source": [
        "df_effective_args[\"discourse_text_tokenized\"] = df_effective_args[\n",
        "    \"discourse_text\"\n",
        "].apply(create_token)"
      ]
    },
    {
      "cell_type": "code",
      "execution_count": null,
      "id": "e9130429",
      "metadata": {
        "execution": {
          "iopub.execute_input": "2022-08-03T20:52:43.544223Z",
          "iopub.status.busy": "2022-08-03T20:52:43.543799Z",
          "iopub.status.idle": "2022-08-03T20:52:43.564106Z",
          "shell.execute_reply": "2022-08-03T20:52:43.562904Z"
        },
        "id": "e9130429",
        "outputId": "4390831e-5233-4928-81b3-14aa04eb8135",
        "papermill": {
          "duration": 0.044044,
          "end_time": "2022-08-03T20:52:43.566709",
          "exception": false,
          "start_time": "2022-08-03T20:52:43.522665",
          "status": "completed"
        },
        "tags": []
      },
      "outputs": [
        {
          "data": {
            "text/html": [
              "<div>\n",
              "<style scoped>\n",
              "    .dataframe tbody tr th:only-of-type {\n",
              "        vertical-align: middle;\n",
              "    }\n",
              "\n",
              "    .dataframe tbody tr th {\n",
              "        vertical-align: top;\n",
              "    }\n",
              "\n",
              "    .dataframe thead th {\n",
              "        text-align: right;\n",
              "    }\n",
              "</style>\n",
              "<table border=\"1\" class=\"dataframe\">\n",
              "  <thead>\n",
              "    <tr style=\"text-align: right;\">\n",
              "      <th></th>\n",
              "      <th>discourse_text</th>\n",
              "      <th>discourse_type</th>\n",
              "      <th>discourse_effectiveness</th>\n",
              "      <th>discourse_text_tokenized</th>\n",
              "    </tr>\n",
              "  </thead>\n",
              "  <tbody>\n",
              "    <tr>\n",
              "      <th>0</th>\n",
              "      <td>Hi, i'm Isaac, i'm going to be writing about h...</td>\n",
              "      <td>Lead</td>\n",
              "      <td>Adequate</td>\n",
              "      <td>[hi, isaac, going, to, be, writing, about, how...</td>\n",
              "    </tr>\n",
              "    <tr>\n",
              "      <th>1</th>\n",
              "      <td>On my perspective, I think that the face is a ...</td>\n",
              "      <td>Position</td>\n",
              "      <td>Adequate</td>\n",
              "      <td>[on, my, perspective, think, that, the, face, ...</td>\n",
              "    </tr>\n",
              "  </tbody>\n",
              "</table>\n",
              "</div>"
            ],
            "text/plain": [
              "                                      discourse_text discourse_type  \\\n",
              "0  Hi, i'm Isaac, i'm going to be writing about h...           Lead   \n",
              "1  On my perspective, I think that the face is a ...       Position   \n",
              "\n",
              "  discourse_effectiveness                           discourse_text_tokenized  \n",
              "0                Adequate  [hi, isaac, going, to, be, writing, about, how...  \n",
              "1                Adequate  [on, my, perspective, think, that, the, face, ...  "
            ]
          },
          "execution_count": 6,
          "metadata": {},
          "output_type": "execute_result"
        }
      ],
      "source": [
        "df_effective_args.head(2)"
      ]
    },
    {
      "cell_type": "markdown",
      "id": "3dfec3a6",
      "metadata": {
        "id": "3dfec3a6",
        "papermill": {
          "duration": 0.019264,
          "end_time": "2022-08-03T20:52:43.605675",
          "exception": false,
          "start_time": "2022-08-03T20:52:43.586411",
          "status": "completed"
        },
        "tags": []
      },
      "source": [
        "## La lemmantization "
      ]
    },
    {
      "cell_type": "code",
      "execution_count": null,
      "id": "7b3361a0",
      "metadata": {
        "execution": {
          "iopub.execute_input": "2022-08-03T20:52:43.647439Z",
          "iopub.status.busy": "2022-08-03T20:52:43.646609Z",
          "iopub.status.idle": "2022-08-03T20:52:43.651896Z",
          "shell.execute_reply": "2022-08-03T20:52:43.651004Z"
        },
        "id": "7b3361a0",
        "papermill": {
          "duration": 0.028929,
          "end_time": "2022-08-03T20:52:43.654319",
          "exception": false,
          "start_time": "2022-08-03T20:52:43.625390",
          "status": "completed"
        },
        "tags": []
      },
      "outputs": [],
      "source": [
        "lemmatizer = WordNetLemmatizer()"
      ]
    },
    {
      "cell_type": "code",
      "execution_count": null,
      "id": "14a3e65c",
      "metadata": {
        "execution": {
          "iopub.execute_input": "2022-08-03T20:52:43.696195Z",
          "iopub.status.busy": "2022-08-03T20:52:43.695359Z",
          "iopub.status.idle": "2022-08-03T20:52:43.701353Z",
          "shell.execute_reply": "2022-08-03T20:52:43.700542Z"
        },
        "id": "14a3e65c",
        "papermill": {
          "duration": 0.029608,
          "end_time": "2022-08-03T20:52:43.703758",
          "exception": false,
          "start_time": "2022-08-03T20:52:43.674150",
          "status": "completed"
        },
        "tags": []
      },
      "outputs": [],
      "source": [
        "def create_lemmatization(list_of_words_tokenized):\n",
        "    list_of_words_tokenized_lemmantized = []\n",
        "    for token in list_of_words_tokenized:\n",
        "        lemmetized_word = lemmatizer.lemmatize(token)\n",
        "        if len(lemmetized_word) > 1:\n",
        "            list_of_words_tokenized_lemmantized.append(lemmetized_word)\n",
        "    return list_of_words_tokenized_lemmantized"
      ]
    },
    {
      "cell_type": "code",
      "execution_count": null,
      "id": "5bde70eb",
      "metadata": {
        "execution": {
          "iopub.execute_input": "2022-08-03T20:52:43.745295Z",
          "iopub.status.busy": "2022-08-03T20:52:43.744461Z",
          "iopub.status.idle": "2022-08-03T20:52:53.882386Z",
          "shell.execute_reply": "2022-08-03T20:52:53.881292Z"
        },
        "id": "5bde70eb",
        "papermill": {
          "duration": 10.161817,
          "end_time": "2022-08-03T20:52:53.885150",
          "exception": false,
          "start_time": "2022-08-03T20:52:43.723333",
          "status": "completed"
        },
        "tags": []
      },
      "outputs": [],
      "source": [
        "df_effective_args[\"discourse_text_lemmatized\"] = df_effective_args[\n",
        "    \"discourse_text_tokenized\"\n",
        "].apply(create_lemmatization)"
      ]
    },
    {
      "cell_type": "code",
      "execution_count": null,
      "id": "108a019a",
      "metadata": {
        "execution": {
          "iopub.execute_input": "2022-08-03T20:52:53.926812Z",
          "iopub.status.busy": "2022-08-03T20:52:53.926375Z",
          "iopub.status.idle": "2022-08-03T20:52:53.956372Z",
          "shell.execute_reply": "2022-08-03T20:52:53.955344Z"
        },
        "id": "108a019a",
        "outputId": "63b05ec3-faa0-4b41-f3fc-bf544b745517",
        "papermill": {
          "duration": 0.054121,
          "end_time": "2022-08-03T20:52:53.959155",
          "exception": false,
          "start_time": "2022-08-03T20:52:53.905034",
          "status": "completed"
        },
        "tags": []
      },
      "outputs": [
        {
          "data": {
            "text/html": [
              "<div>\n",
              "<style scoped>\n",
              "    .dataframe tbody tr th:only-of-type {\n",
              "        vertical-align: middle;\n",
              "    }\n",
              "\n",
              "    .dataframe tbody tr th {\n",
              "        vertical-align: top;\n",
              "    }\n",
              "\n",
              "    .dataframe thead th {\n",
              "        text-align: right;\n",
              "    }\n",
              "</style>\n",
              "<table border=\"1\" class=\"dataframe\">\n",
              "  <thead>\n",
              "    <tr style=\"text-align: right;\">\n",
              "      <th></th>\n",
              "      <th>discourse_text</th>\n",
              "      <th>discourse_type</th>\n",
              "      <th>discourse_effectiveness</th>\n",
              "      <th>discourse_text_tokenized</th>\n",
              "      <th>discourse_text_lemmatized</th>\n",
              "    </tr>\n",
              "  </thead>\n",
              "  <tbody>\n",
              "    <tr>\n",
              "      <th>0</th>\n",
              "      <td>Hi, i'm Isaac, i'm going to be writing about h...</td>\n",
              "      <td>Lead</td>\n",
              "      <td>Adequate</td>\n",
              "      <td>[hi, isaac, going, to, be, writing, about, how...</td>\n",
              "      <td>[hi, isaac, going, to, be, writing, about, how...</td>\n",
              "    </tr>\n",
              "    <tr>\n",
              "      <th>1</th>\n",
              "      <td>On my perspective, I think that the face is a ...</td>\n",
              "      <td>Position</td>\n",
              "      <td>Adequate</td>\n",
              "      <td>[on, my, perspective, think, that, the, face, ...</td>\n",
              "      <td>[on, my, perspective, think, that, the, face, ...</td>\n",
              "    </tr>\n",
              "    <tr>\n",
              "      <th>2</th>\n",
              "      <td>I think that the face is a natural landform be...</td>\n",
              "      <td>Claim</td>\n",
              "      <td>Adequate</td>\n",
              "      <td>[think, that, the, face, is, natural, landform...</td>\n",
              "      <td>[think, that, the, face, is, natural, landform...</td>\n",
              "    </tr>\n",
              "    <tr>\n",
              "      <th>3</th>\n",
              "      <td>If life was on Mars, we would know by now. The...</td>\n",
              "      <td>Evidence</td>\n",
              "      <td>Adequate</td>\n",
              "      <td>[if, life, was, on, mars, we, would, know, by,...</td>\n",
              "      <td>[if, life, wa, on, mar, we, would, know, by, n...</td>\n",
              "    </tr>\n",
              "    <tr>\n",
              "      <th>4</th>\n",
              "      <td>People thought that the face was formed by ali...</td>\n",
              "      <td>Counterclaim</td>\n",
              "      <td>Adequate</td>\n",
              "      <td>[people, thought, that, the, face, was, formed...</td>\n",
              "      <td>[people, thought, that, the, face, wa, formed,...</td>\n",
              "    </tr>\n",
              "    <tr>\n",
              "      <th>...</th>\n",
              "      <td>...</td>\n",
              "      <td>...</td>\n",
              "      <td>...</td>\n",
              "      <td>...</td>\n",
              "      <td>...</td>\n",
              "    </tr>\n",
              "    <tr>\n",
              "      <th>36672</th>\n",
              "      <td>For many people they don't like only asking on...</td>\n",
              "      <td>Claim</td>\n",
              "      <td>Adequate</td>\n",
              "      <td>[for, many, people, they, don, like, only, ask...</td>\n",
              "      <td>[for, many, people, they, don, like, only, ask...</td>\n",
              "    </tr>\n",
              "    <tr>\n",
              "      <th>36673</th>\n",
              "      <td>also people have different views and opinions ...</td>\n",
              "      <td>Claim</td>\n",
              "      <td>Adequate</td>\n",
              "      <td>[also, people, have, different, views, and, op...</td>\n",
              "      <td>[also, people, have, different, view, and, opi...</td>\n",
              "    </tr>\n",
              "    <tr>\n",
              "      <th>36674</th>\n",
              "      <td>Advice is something that can impact a persons ...</td>\n",
              "      <td>Position</td>\n",
              "      <td>Adequate</td>\n",
              "      <td>[advice, is, something, that, can, impact, per...</td>\n",
              "      <td>[advice, is, something, that, can, impact, per...</td>\n",
              "    </tr>\n",
              "    <tr>\n",
              "      <th>36675</th>\n",
              "      <td>someone can use everything that many people sa...</td>\n",
              "      <td>Evidence</td>\n",
              "      <td>Ineffective</td>\n",
              "      <td>[someone, can, use, everything, that, many, pe...</td>\n",
              "      <td>[someone, can, use, everything, that, many, pe...</td>\n",
              "    </tr>\n",
              "    <tr>\n",
              "      <th>36676</th>\n",
              "      <td>In conclusion asking for an opinion can be ben...</td>\n",
              "      <td>Concluding Statement</td>\n",
              "      <td>Ineffective</td>\n",
              "      <td>[in, conclusion, asking, for, an, opinion, can...</td>\n",
              "      <td>[in, conclusion, asking, for, an, opinion, can...</td>\n",
              "    </tr>\n",
              "  </tbody>\n",
              "</table>\n",
              "<p>36677 rows × 5 columns</p>\n",
              "</div>"
            ],
            "text/plain": [
              "                                          discourse_text  \\\n",
              "0      Hi, i'm Isaac, i'm going to be writing about h...   \n",
              "1      On my perspective, I think that the face is a ...   \n",
              "2      I think that the face is a natural landform be...   \n",
              "3      If life was on Mars, we would know by now. The...   \n",
              "4      People thought that the face was formed by ali...   \n",
              "...                                                  ...   \n",
              "36672  For many people they don't like only asking on...   \n",
              "36673  also people have different views and opinions ...   \n",
              "36674  Advice is something that can impact a persons ...   \n",
              "36675  someone can use everything that many people sa...   \n",
              "36676  In conclusion asking for an opinion can be ben...   \n",
              "\n",
              "             discourse_type discourse_effectiveness  \\\n",
              "0                      Lead                Adequate   \n",
              "1                  Position                Adequate   \n",
              "2                     Claim                Adequate   \n",
              "3                  Evidence                Adequate   \n",
              "4              Counterclaim                Adequate   \n",
              "...                     ...                     ...   \n",
              "36672                 Claim                Adequate   \n",
              "36673                 Claim                Adequate   \n",
              "36674              Position                Adequate   \n",
              "36675              Evidence             Ineffective   \n",
              "36676  Concluding Statement             Ineffective   \n",
              "\n",
              "                                discourse_text_tokenized  \\\n",
              "0      [hi, isaac, going, to, be, writing, about, how...   \n",
              "1      [on, my, perspective, think, that, the, face, ...   \n",
              "2      [think, that, the, face, is, natural, landform...   \n",
              "3      [if, life, was, on, mars, we, would, know, by,...   \n",
              "4      [people, thought, that, the, face, was, formed...   \n",
              "...                                                  ...   \n",
              "36672  [for, many, people, they, don, like, only, ask...   \n",
              "36673  [also, people, have, different, views, and, op...   \n",
              "36674  [advice, is, something, that, can, impact, per...   \n",
              "36675  [someone, can, use, everything, that, many, pe...   \n",
              "36676  [in, conclusion, asking, for, an, opinion, can...   \n",
              "\n",
              "                               discourse_text_lemmatized  \n",
              "0      [hi, isaac, going, to, be, writing, about, how...  \n",
              "1      [on, my, perspective, think, that, the, face, ...  \n",
              "2      [think, that, the, face, is, natural, landform...  \n",
              "3      [if, life, wa, on, mar, we, would, know, by, n...  \n",
              "4      [people, thought, that, the, face, wa, formed,...  \n",
              "...                                                  ...  \n",
              "36672  [for, many, people, they, don, like, only, ask...  \n",
              "36673  [also, people, have, different, view, and, opi...  \n",
              "36674  [advice, is, something, that, can, impact, per...  \n",
              "36675  [someone, can, use, everything, that, many, pe...  \n",
              "36676  [in, conclusion, asking, for, an, opinion, can...  \n",
              "\n",
              "[36677 rows x 5 columns]"
            ]
          },
          "execution_count": 10,
          "metadata": {},
          "output_type": "execute_result"
        }
      ],
      "source": [
        "df_effective_args"
      ]
    },
    {
      "cell_type": "markdown",
      "id": "d736476a",
      "metadata": {
        "id": "d736476a",
        "papermill": {
          "duration": 0.020386,
          "end_time": "2022-08-03T20:52:54.000036",
          "exception": false,
          "start_time": "2022-08-03T20:52:53.979650",
          "status": "completed"
        },
        "tags": []
      },
      "source": [
        "### Limites : la lemmatisation tronque certains mots \n",
        "*   \"mars\" -> \"mar\" ...\n",
        "*   \"was\" -> \"wa\""
      ]
    },
    {
      "cell_type": "markdown",
      "id": "277bfd64",
      "metadata": {
        "id": "277bfd64",
        "papermill": {
          "duration": 0.020113,
          "end_time": "2022-08-03T20:52:54.041474",
          "exception": false,
          "start_time": "2022-08-03T20:52:54.021361",
          "status": "completed"
        },
        "tags": []
      },
      "source": [
        "## Nettoyage des Stop words"
      ]
    },
    {
      "cell_type": "markdown",
      "id": "fb0b9b97",
      "metadata": {
        "id": "fb0b9b97",
        "papermill": {
          "duration": 0.022071,
          "end_time": "2022-08-03T20:52:54.084230",
          "exception": false,
          "start_time": "2022-08-03T20:52:54.062159",
          "status": "completed"
        },
        "tags": []
      },
      "source": [
        "### Stop words (corpus et nltk)"
      ]
    },
    {
      "cell_type": "code",
      "execution_count": null,
      "id": "c87befd1",
      "metadata": {
        "execution": {
          "iopub.execute_input": "2022-08-03T20:52:54.128199Z",
          "iopub.status.busy": "2022-08-03T20:52:54.127268Z",
          "iopub.status.idle": "2022-08-03T20:52:55.264081Z",
          "shell.execute_reply": "2022-08-03T20:52:55.263091Z"
        },
        "id": "c87befd1",
        "papermill": {
          "duration": 1.161488,
          "end_time": "2022-08-03T20:52:55.266624",
          "exception": false,
          "start_time": "2022-08-03T20:52:54.105136",
          "status": "completed"
        },
        "tags": []
      },
      "outputs": [],
      "source": [
        "list_all_words = [\n",
        "    j for i in df_effective_args[\"discourse_text_lemmatized\"].tolist() for j in i\n",
        "]\n",
        "dictionnaire_des_frequences = nltk.FreqDist(list_all_words)"
      ]
    },
    {
      "cell_type": "code",
      "execution_count": null,
      "id": "c4574786",
      "metadata": {
        "execution": {
          "iopub.execute_input": "2022-08-03T20:52:55.309092Z",
          "iopub.status.busy": "2022-08-03T20:52:55.308391Z",
          "iopub.status.idle": "2022-08-03T20:52:55.478215Z",
          "shell.execute_reply": "2022-08-03T20:52:55.477149Z"
        },
        "id": "c4574786",
        "papermill": {
          "duration": 0.194314,
          "end_time": "2022-08-03T20:52:55.481092",
          "exception": false,
          "start_time": "2022-08-03T20:52:55.286778",
          "status": "completed"
        },
        "tags": []
      },
      "outputs": [],
      "source": [
        "stop_words_corpus = []\n",
        "nombre_de_mot_selectionne = 25\n",
        "for i in range(0, nombre_de_mot_selectionne):\n",
        "    stop_words_corpus.append(\n",
        "        dictionnaire_des_frequences.most_common(nombre_de_mot_selectionne + 1)[i][0]\n",
        "    )\n",
        "stop_words_nltk = list(set(stopwords.words(\"english\")))\n",
        "stop_words_merged = list(set(stop_words_nltk + stop_words_corpus))"
      ]
    },
    {
      "cell_type": "markdown",
      "id": "172447dd",
      "metadata": {
        "id": "172447dd",
        "papermill": {
          "duration": 0.020645,
          "end_time": "2022-08-03T20:52:55.522366",
          "exception": false,
          "start_time": "2022-08-03T20:52:55.501721",
          "status": "completed"
        },
        "tags": []
      },
      "source": [
        "#### Liste des mots selectionnés"
      ]
    },
    {
      "cell_type": "code",
      "execution_count": null,
      "id": "2673ab2e",
      "metadata": {
        "execution": {
          "iopub.execute_input": "2022-08-03T20:52:55.564231Z",
          "iopub.status.busy": "2022-08-03T20:52:55.563836Z",
          "iopub.status.idle": "2022-08-03T20:52:55.569681Z",
          "shell.execute_reply": "2022-08-03T20:52:55.568612Z"
        },
        "id": "2673ab2e",
        "outputId": "f4ebd04c-2b68-4583-e74b-f6d5bb168fba",
        "papermill": {
          "duration": 0.029509,
          "end_time": "2022-08-03T20:52:55.572022",
          "exception": false,
          "start_time": "2022-08-03T20:52:55.542513",
          "status": "completed"
        },
        "tags": []
      },
      "outputs": [
        {
          "name": "stdout",
          "output_type": "stream",
          "text": [
            "['the', 'to', 'and', 'of', 'that', 'it', 'in', 'is', 'they', 'for', 'you', 'be', 'student', 'have', 'are', 'not', 'on', 'can', 'this', 'people', 'would', 'if', 'or', 'their', 'with']\n"
          ]
        }
      ],
      "source": [
        "print(stop_words_corpus)"
      ]
    },
    {
      "cell_type": "markdown",
      "id": "9f81b692",
      "metadata": {
        "id": "9f81b692",
        "papermill": {
          "duration": 0.020406,
          "end_time": "2022-08-03T20:52:55.612714",
          "exception": false,
          "start_time": "2022-08-03T20:52:55.592308",
          "status": "completed"
        },
        "tags": []
      },
      "source": [
        "#### Suppression stop words corpus"
      ]
    },
    {
      "cell_type": "code",
      "execution_count": null,
      "id": "1a2686f9",
      "metadata": {
        "execution": {
          "iopub.execute_input": "2022-08-03T20:52:55.655335Z",
          "iopub.status.busy": "2022-08-03T20:52:55.654634Z",
          "iopub.status.idle": "2022-08-03T20:52:55.660380Z",
          "shell.execute_reply": "2022-08-03T20:52:55.659465Z"
        },
        "id": "1a2686f9",
        "papermill": {
          "duration": 0.029714,
          "end_time": "2022-08-03T20:52:55.662675",
          "exception": false,
          "start_time": "2022-08-03T20:52:55.632961",
          "status": "completed"
        },
        "tags": []
      },
      "outputs": [],
      "source": [
        "def delete_stop_words_in_corpus(x, list_of_stop_words=stop_words_merged):\n",
        "    y = x.copy()\n",
        "    for element in list_of_stop_words:\n",
        "        while element in y:\n",
        "            y.remove(element)\n",
        "    return y"
      ]
    },
    {
      "cell_type": "code",
      "execution_count": null,
      "id": "e037115f",
      "metadata": {
        "execution": {
          "iopub.execute_input": "2022-08-03T20:52:55.706198Z",
          "iopub.status.busy": "2022-08-03T20:52:55.705058Z",
          "iopub.status.idle": "2022-08-03T20:53:01.079132Z",
          "shell.execute_reply": "2022-08-03T20:53:01.077828Z"
        },
        "id": "e037115f",
        "papermill": {
          "duration": 5.399094,
          "end_time": "2022-08-03T20:53:01.082259",
          "exception": false,
          "start_time": "2022-08-03T20:52:55.683165",
          "status": "completed"
        },
        "tags": []
      },
      "outputs": [],
      "source": [
        "df_effective_args[\"no_stop_words\"] = df_effective_args[\n",
        "    \"discourse_text_lemmatized\"\n",
        "].transform(delete_stop_words_in_corpus)"
      ]
    },
    {
      "cell_type": "code",
      "execution_count": null,
      "id": "baa396e2",
      "metadata": {
        "execution": {
          "iopub.execute_input": "2022-08-03T20:53:01.125317Z",
          "iopub.status.busy": "2022-08-03T20:53:01.124672Z",
          "iopub.status.idle": "2022-08-03T20:53:01.155810Z",
          "shell.execute_reply": "2022-08-03T20:53:01.154531Z"
        },
        "id": "baa396e2",
        "outputId": "6ae1480d-5811-49ef-aa60-9808353aab29",
        "papermill": {
          "duration": 0.055125,
          "end_time": "2022-08-03T20:53:01.158165",
          "exception": false,
          "start_time": "2022-08-03T20:53:01.103040",
          "status": "completed"
        },
        "tags": []
      },
      "outputs": [
        {
          "data": {
            "text/html": [
              "<div>\n",
              "<style scoped>\n",
              "    .dataframe tbody tr th:only-of-type {\n",
              "        vertical-align: middle;\n",
              "    }\n",
              "\n",
              "    .dataframe tbody tr th {\n",
              "        vertical-align: top;\n",
              "    }\n",
              "\n",
              "    .dataframe thead th {\n",
              "        text-align: right;\n",
              "    }\n",
              "</style>\n",
              "<table border=\"1\" class=\"dataframe\">\n",
              "  <thead>\n",
              "    <tr style=\"text-align: right;\">\n",
              "      <th></th>\n",
              "      <th>discourse_text</th>\n",
              "      <th>discourse_type</th>\n",
              "      <th>discourse_effectiveness</th>\n",
              "      <th>discourse_text_tokenized</th>\n",
              "      <th>discourse_text_lemmatized</th>\n",
              "      <th>no_stop_words</th>\n",
              "    </tr>\n",
              "  </thead>\n",
              "  <tbody>\n",
              "    <tr>\n",
              "      <th>0</th>\n",
              "      <td>Hi, i'm Isaac, i'm going to be writing about h...</td>\n",
              "      <td>Lead</td>\n",
              "      <td>Adequate</td>\n",
              "      <td>[hi, isaac, going, to, be, writing, about, how...</td>\n",
              "      <td>[hi, isaac, going, to, be, writing, about, how...</td>\n",
              "      <td>[hi, isaac, going, writing, face, mar, natural...</td>\n",
              "    </tr>\n",
              "    <tr>\n",
              "      <th>1</th>\n",
              "      <td>On my perspective, I think that the face is a ...</td>\n",
              "      <td>Position</td>\n",
              "      <td>Adequate</td>\n",
              "      <td>[on, my, perspective, think, that, the, face, ...</td>\n",
              "      <td>[on, my, perspective, think, that, the, face, ...</td>\n",
              "      <td>[perspective, think, face, natural, landform, ...</td>\n",
              "    </tr>\n",
              "    <tr>\n",
              "      <th>2</th>\n",
              "      <td>I think that the face is a natural landform be...</td>\n",
              "      <td>Claim</td>\n",
              "      <td>Adequate</td>\n",
              "      <td>[think, that, the, face, is, natural, landform...</td>\n",
              "      <td>[think, that, the, face, is, natural, landform...</td>\n",
              "      <td>[think, face, natural, landform, life, mar, de...</td>\n",
              "    </tr>\n",
              "    <tr>\n",
              "      <th>3</th>\n",
              "      <td>If life was on Mars, we would know by now. The...</td>\n",
              "      <td>Evidence</td>\n",
              "      <td>Adequate</td>\n",
              "      <td>[if, life, was, on, mars, we, would, know, by,...</td>\n",
              "      <td>[if, life, wa, on, mar, we, would, know, by, n...</td>\n",
              "      <td>[life, wa, mar, know, reason, think, natural, ...</td>\n",
              "    </tr>\n",
              "    <tr>\n",
              "      <th>4</th>\n",
              "      <td>People thought that the face was formed by ali...</td>\n",
              "      <td>Counterclaim</td>\n",
              "      <td>Adequate</td>\n",
              "      <td>[people, thought, that, the, face, was, formed...</td>\n",
              "      <td>[people, thought, that, the, face, wa, formed,...</td>\n",
              "      <td>[thought, face, wa, formed, alieans, thought, ...</td>\n",
              "    </tr>\n",
              "    <tr>\n",
              "      <th>...</th>\n",
              "      <td>...</td>\n",
              "      <td>...</td>\n",
              "      <td>...</td>\n",
              "      <td>...</td>\n",
              "      <td>...</td>\n",
              "      <td>...</td>\n",
              "    </tr>\n",
              "    <tr>\n",
              "      <th>36672</th>\n",
              "      <td>For many people they don't like only asking on...</td>\n",
              "      <td>Claim</td>\n",
              "      <td>Adequate</td>\n",
              "      <td>[for, many, people, they, don, like, only, ask...</td>\n",
              "      <td>[for, many, people, they, don, like, only, ask...</td>\n",
              "      <td>[many, like, asking, one, person, advice, some...</td>\n",
              "    </tr>\n",
              "    <tr>\n",
              "      <th>36673</th>\n",
              "      <td>also people have different views and opinions ...</td>\n",
              "      <td>Claim</td>\n",
              "      <td>Adequate</td>\n",
              "      <td>[also, people, have, different, views, and, op...</td>\n",
              "      <td>[also, people, have, different, view, and, opi...</td>\n",
              "      <td>[also, different, view, opinion, thing]</td>\n",
              "    </tr>\n",
              "    <tr>\n",
              "      <th>36674</th>\n",
              "      <td>Advice is something that can impact a persons ...</td>\n",
              "      <td>Position</td>\n",
              "      <td>Adequate</td>\n",
              "      <td>[advice, is, something, that, can, impact, per...</td>\n",
              "      <td>[advice, is, something, that, can, impact, per...</td>\n",
              "      <td>[advice, something, impact, person, view, many...</td>\n",
              "    </tr>\n",
              "    <tr>\n",
              "      <th>36675</th>\n",
              "      <td>someone can use everything that many people sa...</td>\n",
              "      <td>Evidence</td>\n",
              "      <td>Ineffective</td>\n",
              "      <td>[someone, can, use, everything, that, many, pe...</td>\n",
              "      <td>[someone, can, use, everything, that, many, pe...</td>\n",
              "      <td>[someone, use, everything, many, said, use, he...</td>\n",
              "    </tr>\n",
              "    <tr>\n",
              "      <th>36676</th>\n",
              "      <td>In conclusion asking for an opinion can be ben...</td>\n",
              "      <td>Concluding Statement</td>\n",
              "      <td>Ineffective</td>\n",
              "      <td>[in, conclusion, asking, for, an, opinion, can...</td>\n",
              "      <td>[in, conclusion, asking, for, an, opinion, can...</td>\n",
              "      <td>[conclusion, asking, opinion, beneficial, some...</td>\n",
              "    </tr>\n",
              "  </tbody>\n",
              "</table>\n",
              "<p>36677 rows × 6 columns</p>\n",
              "</div>"
            ],
            "text/plain": [
              "                                          discourse_text  \\\n",
              "0      Hi, i'm Isaac, i'm going to be writing about h...   \n",
              "1      On my perspective, I think that the face is a ...   \n",
              "2      I think that the face is a natural landform be...   \n",
              "3      If life was on Mars, we would know by now. The...   \n",
              "4      People thought that the face was formed by ali...   \n",
              "...                                                  ...   \n",
              "36672  For many people they don't like only asking on...   \n",
              "36673  also people have different views and opinions ...   \n",
              "36674  Advice is something that can impact a persons ...   \n",
              "36675  someone can use everything that many people sa...   \n",
              "36676  In conclusion asking for an opinion can be ben...   \n",
              "\n",
              "             discourse_type discourse_effectiveness  \\\n",
              "0                      Lead                Adequate   \n",
              "1                  Position                Adequate   \n",
              "2                     Claim                Adequate   \n",
              "3                  Evidence                Adequate   \n",
              "4              Counterclaim                Adequate   \n",
              "...                     ...                     ...   \n",
              "36672                 Claim                Adequate   \n",
              "36673                 Claim                Adequate   \n",
              "36674              Position                Adequate   \n",
              "36675              Evidence             Ineffective   \n",
              "36676  Concluding Statement             Ineffective   \n",
              "\n",
              "                                discourse_text_tokenized  \\\n",
              "0      [hi, isaac, going, to, be, writing, about, how...   \n",
              "1      [on, my, perspective, think, that, the, face, ...   \n",
              "2      [think, that, the, face, is, natural, landform...   \n",
              "3      [if, life, was, on, mars, we, would, know, by,...   \n",
              "4      [people, thought, that, the, face, was, formed...   \n",
              "...                                                  ...   \n",
              "36672  [for, many, people, they, don, like, only, ask...   \n",
              "36673  [also, people, have, different, views, and, op...   \n",
              "36674  [advice, is, something, that, can, impact, per...   \n",
              "36675  [someone, can, use, everything, that, many, pe...   \n",
              "36676  [in, conclusion, asking, for, an, opinion, can...   \n",
              "\n",
              "                               discourse_text_lemmatized  \\\n",
              "0      [hi, isaac, going, to, be, writing, about, how...   \n",
              "1      [on, my, perspective, think, that, the, face, ...   \n",
              "2      [think, that, the, face, is, natural, landform...   \n",
              "3      [if, life, wa, on, mar, we, would, know, by, n...   \n",
              "4      [people, thought, that, the, face, wa, formed,...   \n",
              "...                                                  ...   \n",
              "36672  [for, many, people, they, don, like, only, ask...   \n",
              "36673  [also, people, have, different, view, and, opi...   \n",
              "36674  [advice, is, something, that, can, impact, per...   \n",
              "36675  [someone, can, use, everything, that, many, pe...   \n",
              "36676  [in, conclusion, asking, for, an, opinion, can...   \n",
              "\n",
              "                                           no_stop_words  \n",
              "0      [hi, isaac, going, writing, face, mar, natural...  \n",
              "1      [perspective, think, face, natural, landform, ...  \n",
              "2      [think, face, natural, landform, life, mar, de...  \n",
              "3      [life, wa, mar, know, reason, think, natural, ...  \n",
              "4      [thought, face, wa, formed, alieans, thought, ...  \n",
              "...                                                  ...  \n",
              "36672  [many, like, asking, one, person, advice, some...  \n",
              "36673            [also, different, view, opinion, thing]  \n",
              "36674  [advice, something, impact, person, view, many...  \n",
              "36675  [someone, use, everything, many, said, use, he...  \n",
              "36676  [conclusion, asking, opinion, beneficial, some...  \n",
              "\n",
              "[36677 rows x 6 columns]"
            ]
          },
          "execution_count": 16,
          "metadata": {},
          "output_type": "execute_result"
        }
      ],
      "source": [
        "df_effective_args"
      ]
    },
    {
      "cell_type": "markdown",
      "id": "a64cedcc",
      "metadata": {
        "id": "a64cedcc",
        "papermill": {
          "duration": 0.020393,
          "end_time": "2022-08-03T20:53:01.199264",
          "exception": false,
          "start_time": "2022-08-03T20:53:01.178871",
          "status": "completed"
        },
        "tags": []
      },
      "source": [
        "## Selection des tokens à conserver"
      ]
    },
    {
      "cell_type": "code",
      "execution_count": null,
      "id": "7b82fd90",
      "metadata": {
        "execution": {
          "iopub.execute_input": "2022-08-03T20:53:01.243876Z",
          "iopub.status.busy": "2022-08-03T20:53:01.243190Z",
          "iopub.status.idle": "2022-08-03T20:53:01.312959Z",
          "shell.execute_reply": "2022-08-03T20:53:01.311826Z"
        },
        "id": "7b82fd90",
        "papermill": {
          "duration": 0.09443,
          "end_time": "2022-08-03T20:53:01.315500",
          "exception": false,
          "start_time": "2022-08-03T20:53:01.221070",
          "status": "completed"
        },
        "tags": []
      },
      "outputs": [],
      "source": [
        "list_all_words = [j for i in df_effective_args[\"no_stop_words\"].tolist() for j in i]"
      ]
    },
    {
      "cell_type": "code",
      "execution_count": null,
      "id": "a885c0e3",
      "metadata": {
        "execution": {
          "iopub.execute_input": "2022-08-03T20:53:01.358686Z",
          "iopub.status.busy": "2022-08-03T20:53:01.358045Z",
          "iopub.status.idle": "2022-08-03T20:53:02.574288Z",
          "shell.execute_reply": "2022-08-03T20:53:02.573459Z"
        },
        "id": "a885c0e3",
        "outputId": "ae74b16b-6fcf-43a9-c98a-7b0a19721258",
        "papermill": {
          "duration": 1.24046,
          "end_time": "2022-08-03T20:53:02.576602",
          "exception": false,
          "start_time": "2022-08-03T20:53:01.336142",
          "status": "completed"
        },
        "tags": []
      },
      "outputs": [
        {
          "data": {
            "image/png": "[encoded data removed]",
            "text/plain": [
              "<Figure size 504x504 with 1 Axes>"
            ]
          },
          "metadata": {
            "needs_background": "light"
          },
          "output_type": "display_data"
        }
      ],
      "source": [
        "plt.figure(figsize=(7, 7))\n",
        "plt.ylim(0, 4200)\n",
        "plt.xlim(0.7, 1)\n",
        "plt.axhline(y=1500, color=\"red\")\n",
        "plt.axhline(y=1000, color=\"red\")\n",
        "plt.axhline(y=500, color=\"red\")\n",
        "plt.axvline(x=0.95, color=\"pink\")\n",
        "plt.axvline(x=0.975, color=\"pink\")\n",
        "plt.axvline(x=0.965, color=\"pink\")\n",
        "plt.hist(create_histogram_of_words(list_all_words), bins=200)\n",
        "plt.show()"
      ]
    },
    {
      "cell_type": "markdown",
      "id": "fb534169",
      "metadata": {
        "id": "fb534169",
        "papermill": {
          "duration": 0.020446,
          "end_time": "2022-08-03T20:53:02.617716",
          "exception": false,
          "start_time": "2022-08-03T20:53:02.597270",
          "status": "completed"
        },
        "tags": []
      },
      "source": [
        "### D'après l'étude empirique, il semble que 2000 tokens soit un bon compromis"
      ]
    },
    {
      "cell_type": "markdown",
      "id": "35ba1a75",
      "metadata": {
        "id": "35ba1a75",
        "papermill": {
          "duration": 0.020198,
          "end_time": "2022-08-03T20:53:02.658539",
          "exception": false,
          "start_time": "2022-08-03T20:53:02.638341",
          "status": "completed"
        },
        "tags": []
      },
      "source": [
        "#### Conservation des 2000 tokens les plus fréquents"
      ]
    },
    {
      "cell_type": "code",
      "execution_count": null,
      "id": "c493a28d",
      "metadata": {
        "execution": {
          "iopub.execute_input": "2022-08-03T20:53:02.701555Z",
          "iopub.status.busy": "2022-08-03T20:53:02.700907Z",
          "iopub.status.idle": "2022-08-03T20:53:03.260086Z",
          "shell.execute_reply": "2022-08-03T20:53:03.258833Z"
        },
        "id": "c493a28d",
        "papermill": {
          "duration": 0.583908,
          "end_time": "2022-08-03T20:53:03.262968",
          "exception": false,
          "start_time": "2022-08-03T20:53:02.679060",
          "status": "completed"
        },
        "tags": []
      },
      "outputs": [],
      "source": [
        "def delete_y_words(nb_words_to_save, liste_words):\n",
        "\n",
        "    dictionnaire_des_frequences = nltk.FreqDist(liste_words)\n",
        "    dictionnaire_des_frequences = dictionnaire_des_frequences.most_common(\n",
        "        nb_words_to_save\n",
        "    )\n",
        "    words = []\n",
        "    for i in range(0, nb_words_to_save):\n",
        "        words.append(dictionnaire_des_frequences[i][0])\n",
        "\n",
        "    return words\n",
        "\n",
        "\n",
        "nb_words_to_save = 2000\n",
        "liste_words_to_keep = delete_y_words(nb_words_to_save, list_all_words)"
      ]
    },
    {
      "cell_type": "code",
      "execution_count": null,
      "id": "7f205cda",
      "metadata": {
        "execution": {
          "iopub.execute_input": "2022-08-03T20:53:03.307166Z",
          "iopub.status.busy": "2022-08-03T20:53:03.306767Z",
          "iopub.status.idle": "2022-08-03T20:53:03.312048Z",
          "shell.execute_reply": "2022-08-03T20:53:03.310876Z"
        },
        "id": "7f205cda",
        "papermill": {
          "duration": 0.029913,
          "end_time": "2022-08-03T20:53:03.314269",
          "exception": false,
          "start_time": "2022-08-03T20:53:03.284356",
          "status": "completed"
        },
        "tags": []
      },
      "outputs": [],
      "source": [
        "def delete_if_not_in(liste, liste_words_to_keep=liste_words_to_keep):\n",
        "\n",
        "    words_in_list = [i for i in liste if i in liste_words_to_keep]\n",
        "\n",
        "    return list(words_in_list)"
      ]
    },
    {
      "cell_type": "code",
      "execution_count": null,
      "id": "33d1dc35",
      "metadata": {
        "execution": {
          "iopub.execute_input": "2022-08-03T20:53:03.358506Z",
          "iopub.status.busy": "2022-08-03T20:53:03.357807Z",
          "iopub.status.idle": "2022-08-03T20:53:11.217154Z",
          "shell.execute_reply": "2022-08-03T20:53:11.215907Z"
        },
        "id": "33d1dc35",
        "papermill": {
          "duration": 7.884592,
          "end_time": "2022-08-03T20:53:11.220101",
          "exception": false,
          "start_time": "2022-08-03T20:53:03.335509",
          "status": "completed"
        },
        "tags": []
      },
      "outputs": [],
      "source": [
        "df_effective_args[\"only_\" + str(nb_words_to_save) + \"_tokens\"] = df_effective_args[\n",
        "    \"no_stop_words\"\n",
        "].apply(delete_if_not_in)"
      ]
    },
    {
      "cell_type": "code",
      "execution_count": null,
      "id": "d0251812",
      "metadata": {
        "execution": {
          "iopub.execute_input": "2022-08-03T20:53:11.264394Z",
          "iopub.status.busy": "2022-08-03T20:53:11.263724Z",
          "iopub.status.idle": "2022-08-03T20:53:11.289743Z",
          "shell.execute_reply": "2022-08-03T20:53:11.288605Z"
        },
        "id": "d0251812",
        "outputId": "6bd1fa16-ac64-4e36-cfe6-5b56304c7d8b",
        "papermill": {
          "duration": 0.050154,
          "end_time": "2022-08-03T20:53:11.291994",
          "exception": false,
          "start_time": "2022-08-03T20:53:11.241840",
          "status": "completed"
        },
        "tags": []
      },
      "outputs": [
        {
          "data": {
            "text/html": [
              "<div>\n",
              "<style scoped>\n",
              "    .dataframe tbody tr th:only-of-type {\n",
              "        vertical-align: middle;\n",
              "    }\n",
              "\n",
              "    .dataframe tbody tr th {\n",
              "        vertical-align: top;\n",
              "    }\n",
              "\n",
              "    .dataframe thead th {\n",
              "        text-align: right;\n",
              "    }\n",
              "</style>\n",
              "<table border=\"1\" class=\"dataframe\">\n",
              "  <thead>\n",
              "    <tr style=\"text-align: right;\">\n",
              "      <th></th>\n",
              "      <th>discourse_text</th>\n",
              "      <th>discourse_type</th>\n",
              "      <th>discourse_effectiveness</th>\n",
              "      <th>discourse_text_tokenized</th>\n",
              "      <th>discourse_text_lemmatized</th>\n",
              "      <th>no_stop_words</th>\n",
              "      <th>only_2000_tokens</th>\n",
              "    </tr>\n",
              "  </thead>\n",
              "  <tbody>\n",
              "    <tr>\n",
              "      <th>0</th>\n",
              "      <td>Hi, i'm Isaac, i'm going to be writing about h...</td>\n",
              "      <td>Lead</td>\n",
              "      <td>Adequate</td>\n",
              "      <td>[hi, isaac, going, to, be, writing, about, how...</td>\n",
              "      <td>[hi, isaac, going, to, be, writing, about, how...</td>\n",
              "      <td>[hi, isaac, going, writing, face, mar, natural...</td>\n",
              "      <td>[going, writing, face, mar, natural, landform,...</td>\n",
              "    </tr>\n",
              "    <tr>\n",
              "      <th>1</th>\n",
              "      <td>On my perspective, I think that the face is a ...</td>\n",
              "      <td>Position</td>\n",
              "      <td>Adequate</td>\n",
              "      <td>[on, my, perspective, think, that, the, face, ...</td>\n",
              "      <td>[on, my, perspective, think, that, the, face, ...</td>\n",
              "      <td>[perspective, think, face, natural, landform, ...</td>\n",
              "      <td>[perspective, think, face, natural, landform, ...</td>\n",
              "    </tr>\n",
              "    <tr>\n",
              "      <th>2</th>\n",
              "      <td>I think that the face is a natural landform be...</td>\n",
              "      <td>Claim</td>\n",
              "      <td>Adequate</td>\n",
              "      <td>[think, that, the, face, is, natural, landform...</td>\n",
              "      <td>[think, that, the, face, is, natural, landform...</td>\n",
              "      <td>[think, face, natural, landform, life, mar, de...</td>\n",
              "      <td>[think, face, natural, landform, life, mar, yet]</td>\n",
              "    </tr>\n",
              "    <tr>\n",
              "      <th>3</th>\n",
              "      <td>If life was on Mars, we would know by now. The...</td>\n",
              "      <td>Evidence</td>\n",
              "      <td>Adequate</td>\n",
              "      <td>[if, life, was, on, mars, we, would, know, by,...</td>\n",
              "      <td>[if, life, wa, on, mar, we, would, know, by, n...</td>\n",
              "      <td>[life, wa, mar, know, reason, think, natural, ...</td>\n",
              "      <td>[life, wa, mar, know, reason, think, natural, ...</td>\n",
              "    </tr>\n",
              "    <tr>\n",
              "      <th>4</th>\n",
              "      <td>People thought that the face was formed by ali...</td>\n",
              "      <td>Counterclaim</td>\n",
              "      <td>Adequate</td>\n",
              "      <td>[people, thought, that, the, face, was, formed...</td>\n",
              "      <td>[people, thought, that, the, face, wa, formed,...</td>\n",
              "      <td>[thought, face, wa, formed, alieans, thought, ...</td>\n",
              "      <td>[thought, face, wa, formed, thought, wa, life,...</td>\n",
              "    </tr>\n",
              "    <tr>\n",
              "      <th>5</th>\n",
              "      <td>though some say that life on Mars does exist, ...</td>\n",
              "      <td>Rebuttal</td>\n",
              "      <td>Ineffective</td>\n",
              "      <td>[though, some, say, that, life, on, mars, does...</td>\n",
              "      <td>[though, some, say, that, life, on, mar, doe, ...</td>\n",
              "      <td>[though, say, life, mar, doe, exist, think, li...</td>\n",
              "      <td>[though, say, life, mar, doe, exist, think, li...</td>\n",
              "    </tr>\n",
              "  </tbody>\n",
              "</table>\n",
              "</div>"
            ],
            "text/plain": [
              "                                      discourse_text discourse_type  \\\n",
              "0  Hi, i'm Isaac, i'm going to be writing about h...           Lead   \n",
              "1  On my perspective, I think that the face is a ...       Position   \n",
              "2  I think that the face is a natural landform be...          Claim   \n",
              "3  If life was on Mars, we would know by now. The...       Evidence   \n",
              "4  People thought that the face was formed by ali...   Counterclaim   \n",
              "5  though some say that life on Mars does exist, ...       Rebuttal   \n",
              "\n",
              "  discourse_effectiveness                           discourse_text_tokenized  \\\n",
              "0                Adequate  [hi, isaac, going, to, be, writing, about, how...   \n",
              "1                Adequate  [on, my, perspective, think, that, the, face, ...   \n",
              "2                Adequate  [think, that, the, face, is, natural, landform...   \n",
              "3                Adequate  [if, life, was, on, mars, we, would, know, by,...   \n",
              "4                Adequate  [people, thought, that, the, face, was, formed...   \n",
              "5             Ineffective  [though, some, say, that, life, on, mars, does...   \n",
              "\n",
              "                           discourse_text_lemmatized  \\\n",
              "0  [hi, isaac, going, to, be, writing, about, how...   \n",
              "1  [on, my, perspective, think, that, the, face, ...   \n",
              "2  [think, that, the, face, is, natural, landform...   \n",
              "3  [if, life, wa, on, mar, we, would, know, by, n...   \n",
              "4  [people, thought, that, the, face, wa, formed,...   \n",
              "5  [though, some, say, that, life, on, mar, doe, ...   \n",
              "\n",
              "                                       no_stop_words  \\\n",
              "0  [hi, isaac, going, writing, face, mar, natural...   \n",
              "1  [perspective, think, face, natural, landform, ...   \n",
              "2  [think, face, natural, landform, life, mar, de...   \n",
              "3  [life, wa, mar, know, reason, think, natural, ...   \n",
              "4  [thought, face, wa, formed, alieans, thought, ...   \n",
              "5  [though, say, life, mar, doe, exist, think, li...   \n",
              "\n",
              "                                    only_2000_tokens  \n",
              "0  [going, writing, face, mar, natural, landform,...  \n",
              "1  [perspective, think, face, natural, landform, ...  \n",
              "2   [think, face, natural, landform, life, mar, yet]  \n",
              "3  [life, wa, mar, know, reason, think, natural, ...  \n",
              "4  [thought, face, wa, formed, thought, wa, life,...  \n",
              "5  [though, say, life, mar, doe, exist, think, li...  "
            ]
          },
          "execution_count": 22,
          "metadata": {},
          "output_type": "execute_result"
        }
      ],
      "source": [
        "df_effective_args.head(6)"
      ]
    },
    {
      "cell_type": "markdown",
      "id": "0e99b4a7",
      "metadata": {
        "id": "0e99b4a7",
        "papermill": {
          "duration": 0.020857,
          "end_time": "2022-08-03T20:53:11.334008",
          "exception": false,
          "start_time": "2022-08-03T20:53:11.313151",
          "status": "completed"
        },
        "tags": []
      },
      "source": [
        "# Exploration univariée"
      ]
    },
    {
      "cell_type": "code",
      "execution_count": null,
      "id": "48ca55fd",
      "metadata": {
        "execution": {
          "iopub.execute_input": "2022-08-03T20:53:11.378075Z",
          "iopub.status.busy": "2022-08-03T20:53:11.377376Z",
          "iopub.status.idle": "2022-08-03T20:53:11.382651Z",
          "shell.execute_reply": "2022-08-03T20:53:11.381567Z"
        },
        "id": "48ca55fd",
        "papermill": {
          "duration": 0.029907,
          "end_time": "2022-08-03T20:53:11.384886",
          "exception": false,
          "start_time": "2022-08-03T20:53:11.354979",
          "status": "completed"
        },
        "tags": []
      },
      "outputs": [],
      "source": [
        "def counter_len_in_text(string):\n",
        "    return len(string)"
      ]
    },
    {
      "cell_type": "code",
      "execution_count": null,
      "id": "5d68c493",
      "metadata": {
        "execution": {
          "iopub.execute_input": "2022-08-03T20:53:11.428877Z",
          "iopub.status.busy": "2022-08-03T20:53:11.428423Z",
          "iopub.status.idle": "2022-08-03T20:53:11.451795Z",
          "shell.execute_reply": "2022-08-03T20:53:11.450492Z"
        },
        "id": "5d68c493",
        "papermill": {
          "duration": 0.048493,
          "end_time": "2022-08-03T20:53:11.454528",
          "exception": false,
          "start_time": "2022-08-03T20:53:11.406035",
          "status": "completed"
        },
        "tags": []
      },
      "outputs": [],
      "source": [
        "df_effective_args[\"Longueur_texte\"] = df_effective_args[\n",
        "    \"only_\" + str(nb_words_to_save) + \"_tokens\"\n",
        "].apply(counter_len_in_text)"
      ]
    },
    {
      "cell_type": "code",
      "execution_count": null,
      "id": "a3038030",
      "metadata": {
        "execution": {
          "iopub.execute_input": "2022-08-03T20:53:11.499067Z",
          "iopub.status.busy": "2022-08-03T20:53:11.498678Z",
          "iopub.status.idle": "2022-08-03T20:53:11.521513Z",
          "shell.execute_reply": "2022-08-03T20:53:11.520378Z"
        },
        "id": "a3038030",
        "outputId": "3f2e990c-9e43-41a6-c779-41deb447ea7b",
        "papermill": {
          "duration": 0.047831,
          "end_time": "2022-08-03T20:53:11.523713",
          "exception": false,
          "start_time": "2022-08-03T20:53:11.475882",
          "status": "completed"
        },
        "tags": []
      },
      "outputs": [
        {
          "data": {
            "text/html": [
              "<div>\n",
              "<style scoped>\n",
              "    .dataframe tbody tr th:only-of-type {\n",
              "        vertical-align: middle;\n",
              "    }\n",
              "\n",
              "    .dataframe tbody tr th {\n",
              "        vertical-align: top;\n",
              "    }\n",
              "\n",
              "    .dataframe thead th {\n",
              "        text-align: right;\n",
              "    }\n",
              "</style>\n",
              "<table border=\"1\" class=\"dataframe\">\n",
              "  <thead>\n",
              "    <tr style=\"text-align: right;\">\n",
              "      <th></th>\n",
              "      <th>discourse_text</th>\n",
              "      <th>discourse_type</th>\n",
              "      <th>discourse_effectiveness</th>\n",
              "      <th>discourse_text_tokenized</th>\n",
              "      <th>discourse_text_lemmatized</th>\n",
              "      <th>no_stop_words</th>\n",
              "      <th>only_2000_tokens</th>\n",
              "      <th>Longueur_texte</th>\n",
              "    </tr>\n",
              "  </thead>\n",
              "  <tbody>\n",
              "    <tr>\n",
              "      <th>0</th>\n",
              "      <td>Hi, i'm Isaac, i'm going to be writing about h...</td>\n",
              "      <td>Lead</td>\n",
              "      <td>Adequate</td>\n",
              "      <td>[hi, isaac, going, to, be, writing, about, how...</td>\n",
              "      <td>[hi, isaac, going, to, be, writing, about, how...</td>\n",
              "      <td>[hi, isaac, going, writing, face, mar, natural...</td>\n",
              "      <td>[going, writing, face, mar, natural, landform,...</td>\n",
              "      <td>27</td>\n",
              "    </tr>\n",
              "    <tr>\n",
              "      <th>1</th>\n",
              "      <td>On my perspective, I think that the face is a ...</td>\n",
              "      <td>Position</td>\n",
              "      <td>Adequate</td>\n",
              "      <td>[on, my, perspective, think, that, the, face, ...</td>\n",
              "      <td>[on, my, perspective, think, that, the, face, ...</td>\n",
              "      <td>[perspective, think, face, natural, landform, ...</td>\n",
              "      <td>[perspective, think, face, natural, landform, ...</td>\n",
              "      <td>15</td>\n",
              "    </tr>\n",
              "    <tr>\n",
              "      <th>2</th>\n",
              "      <td>I think that the face is a natural landform be...</td>\n",
              "      <td>Claim</td>\n",
              "      <td>Adequate</td>\n",
              "      <td>[think, that, the, face, is, natural, landform...</td>\n",
              "      <td>[think, that, the, face, is, natural, landform...</td>\n",
              "      <td>[think, face, natural, landform, life, mar, de...</td>\n",
              "      <td>[think, face, natural, landform, life, mar, yet]</td>\n",
              "      <td>7</td>\n",
              "    </tr>\n",
              "    <tr>\n",
              "      <th>3</th>\n",
              "      <td>If life was on Mars, we would know by now. The...</td>\n",
              "      <td>Evidence</td>\n",
              "      <td>Adequate</td>\n",
              "      <td>[if, life, was, on, mars, we, would, know, by,...</td>\n",
              "      <td>[if, life, wa, on, mar, we, would, know, by, n...</td>\n",
              "      <td>[life, wa, mar, know, reason, think, natural, ...</td>\n",
              "      <td>[life, wa, mar, know, reason, think, natural, ...</td>\n",
              "      <td>28</td>\n",
              "    </tr>\n",
              "  </tbody>\n",
              "</table>\n",
              "</div>"
            ],
            "text/plain": [
              "                                      discourse_text discourse_type  \\\n",
              "0  Hi, i'm Isaac, i'm going to be writing about h...           Lead   \n",
              "1  On my perspective, I think that the face is a ...       Position   \n",
              "2  I think that the face is a natural landform be...          Claim   \n",
              "3  If life was on Mars, we would know by now. The...       Evidence   \n",
              "\n",
              "  discourse_effectiveness                           discourse_text_tokenized  \\\n",
              "0                Adequate  [hi, isaac, going, to, be, writing, about, how...   \n",
              "1                Adequate  [on, my, perspective, think, that, the, face, ...   \n",
              "2                Adequate  [think, that, the, face, is, natural, landform...   \n",
              "3                Adequate  [if, life, was, on, mars, we, would, know, by,...   \n",
              "\n",
              "                           discourse_text_lemmatized  \\\n",
              "0  [hi, isaac, going, to, be, writing, about, how...   \n",
              "1  [on, my, perspective, think, that, the, face, ...   \n",
              "2  [think, that, the, face, is, natural, landform...   \n",
              "3  [if, life, wa, on, mar, we, would, know, by, n...   \n",
              "\n",
              "                                       no_stop_words  \\\n",
              "0  [hi, isaac, going, writing, face, mar, natural...   \n",
              "1  [perspective, think, face, natural, landform, ...   \n",
              "2  [think, face, natural, landform, life, mar, de...   \n",
              "3  [life, wa, mar, know, reason, think, natural, ...   \n",
              "\n",
              "                                    only_2000_tokens  Longueur_texte  \n",
              "0  [going, writing, face, mar, natural, landform,...              27  \n",
              "1  [perspective, think, face, natural, landform, ...              15  \n",
              "2   [think, face, natural, landform, life, mar, yet]               7  \n",
              "3  [life, wa, mar, know, reason, think, natural, ...              28  "
            ]
          },
          "execution_count": 25,
          "metadata": {},
          "output_type": "execute_result"
        }
      ],
      "source": [
        "df_effective_args.head(4)"
      ]
    },
    {
      "cell_type": "markdown",
      "id": "e3485ab9",
      "metadata": {
        "id": "e3485ab9",
        "papermill": {
          "duration": 0.020951,
          "end_time": "2022-08-03T20:53:11.566114",
          "exception": false,
          "start_time": "2022-08-03T20:53:11.545163",
          "status": "completed"
        },
        "tags": []
      },
      "source": [
        "## Remplissage"
      ]
    },
    {
      "cell_type": "code",
      "execution_count": null,
      "id": "f4f1e951",
      "metadata": {
        "execution": {
          "iopub.execute_input": "2022-08-03T20:53:11.610237Z",
          "iopub.status.busy": "2022-08-03T20:53:11.609861Z",
          "iopub.status.idle": "2022-08-03T20:53:11.638874Z",
          "shell.execute_reply": "2022-08-03T20:53:11.637499Z"
        },
        "id": "f4f1e951",
        "outputId": "e66311af-00c1-496d-f586-38361399f0e3",
        "papermill": {
          "duration": 0.05414,
          "end_time": "2022-08-03T20:53:11.641524",
          "exception": false,
          "start_time": "2022-08-03T20:53:11.587384",
          "status": "completed"
        },
        "tags": []
      },
      "outputs": [
        {
          "name": "stdout",
          "output_type": "stream",
          "text": [
            "discourse_text               100.0\n",
            "discourse_type               100.0\n",
            "discourse_effectiveness      100.0\n",
            "discourse_text_tokenized     100.0\n",
            "discourse_text_lemmatized    100.0\n",
            "no_stop_words                100.0\n",
            "only_2000_tokens             100.0\n",
            "Longueur_texte               100.0\n",
            "dtype: float64\n",
            "object    7\n",
            "int64     1\n",
            "dtype: int64\n"
          ]
        }
      ],
      "source": [
        "print(\n",
        "    (\n",
        "        100 - 100 * (df_effective_args.isna().sum() / (df_effective_args.shape[0]))\n",
        "    ).sort_values(ascending=False)\n",
        ")\n",
        "print(df_effective_args.dtypes.value_counts())"
      ]
    },
    {
      "cell_type": "markdown",
      "id": "cfa32802",
      "metadata": {
        "id": "cfa32802",
        "papermill": {
          "duration": 0.021088,
          "end_time": "2022-08-03T20:53:11.684186",
          "exception": false,
          "start_time": "2022-08-03T20:53:11.663098",
          "status": "completed"
        },
        "tags": []
      },
      "source": [
        "## Description"
      ]
    },
    {
      "cell_type": "code",
      "execution_count": null,
      "id": "5d90f309",
      "metadata": {
        "execution": {
          "iopub.execute_input": "2022-08-03T20:53:11.728744Z",
          "iopub.status.busy": "2022-08-03T20:53:11.727996Z",
          "iopub.status.idle": "2022-08-03T20:53:11.761745Z",
          "shell.execute_reply": "2022-08-03T20:53:11.760560Z"
        },
        "id": "5d90f309",
        "outputId": "8ae59a58-6d06-40ca-ef45-9605bdde3298",
        "papermill": {
          "duration": 0.058673,
          "end_time": "2022-08-03T20:53:11.764199",
          "exception": false,
          "start_time": "2022-08-03T20:53:11.705526",
          "status": "completed"
        },
        "tags": []
      },
      "outputs": [
        {
          "data": {
            "text/html": [
              "<div>\n",
              "<style scoped>\n",
              "    .dataframe tbody tr th:only-of-type {\n",
              "        vertical-align: middle;\n",
              "    }\n",
              "\n",
              "    .dataframe tbody tr th {\n",
              "        vertical-align: top;\n",
              "    }\n",
              "\n",
              "    .dataframe thead th {\n",
              "        text-align: right;\n",
              "    }\n",
              "</style>\n",
              "<table border=\"1\" class=\"dataframe\">\n",
              "  <thead>\n",
              "    <tr style=\"text-align: right;\">\n",
              "      <th></th>\n",
              "      <th>Longueur_texte</th>\n",
              "    </tr>\n",
              "  </thead>\n",
              "  <tbody>\n",
              "    <tr>\n",
              "      <th>count</th>\n",
              "      <td>36677.000000</td>\n",
              "    </tr>\n",
              "    <tr>\n",
              "      <th>mean</th>\n",
              "      <td>18.710282</td>\n",
              "    </tr>\n",
              "    <tr>\n",
              "      <th>std</th>\n",
              "      <td>19.640965</td>\n",
              "    </tr>\n",
              "    <tr>\n",
              "      <th>min</th>\n",
              "      <td>0.000000</td>\n",
              "    </tr>\n",
              "    <tr>\n",
              "      <th>25%</th>\n",
              "      <td>7.000000</td>\n",
              "    </tr>\n",
              "    <tr>\n",
              "      <th>50%</th>\n",
              "      <td>12.000000</td>\n",
              "    </tr>\n",
              "    <tr>\n",
              "      <th>75%</th>\n",
              "      <td>24.000000</td>\n",
              "    </tr>\n",
              "    <tr>\n",
              "      <th>max</th>\n",
              "      <td>333.000000</td>\n",
              "    </tr>\n",
              "  </tbody>\n",
              "</table>\n",
              "</div>"
            ],
            "text/plain": [
              "       Longueur_texte\n",
              "count    36677.000000\n",
              "mean        18.710282\n",
              "std         19.640965\n",
              "min          0.000000\n",
              "25%          7.000000\n",
              "50%         12.000000\n",
              "75%         24.000000\n",
              "max        333.000000"
            ]
          },
          "execution_count": 27,
          "metadata": {},
          "output_type": "execute_result"
        }
      ],
      "source": [
        "df_effective_args.describe()"
      ]
    },
    {
      "cell_type": "markdown",
      "id": "9730f5ab",
      "metadata": {
        "id": "9730f5ab",
        "papermill": {
          "duration": 0.021213,
          "end_time": "2022-08-03T20:53:11.807553",
          "exception": false,
          "start_time": "2022-08-03T20:53:11.786340",
          "status": "completed"
        },
        "tags": []
      },
      "source": [
        "## Pie Chart"
      ]
    },
    {
      "cell_type": "code",
      "execution_count": null,
      "id": "0dab4456",
      "metadata": {
        "execution": {
          "iopub.execute_input": "2022-08-03T20:53:11.853102Z",
          "iopub.status.busy": "2022-08-03T20:53:11.852013Z",
          "iopub.status.idle": "2022-08-03T20:53:11.997529Z",
          "shell.execute_reply": "2022-08-03T20:53:11.996529Z"
        },
        "id": "0dab4456",
        "outputId": "98ea5077-b8bf-4ba2-b765-256a91fc1d79",
        "papermill": {
          "duration": 0.170858,
          "end_time": "2022-08-03T20:53:11.999817",
          "exception": false,
          "start_time": "2022-08-03T20:53:11.828959",
          "status": "completed"
        },
        "tags": []
      },
      "outputs": [
        {
          "data": {
            "text/plain": [
              "<AxesSubplot:ylabel='discourse_type'>"
            ]
          },
          "execution_count": 28,
          "metadata": {},
          "output_type": "execute_result"
        },
        {
          "data": {
            "image/png": "[encoded data removed]",
            "text/plain": [
              "<Figure size 432x288 with 1 Axes>"
            ]
          },
          "metadata": {},
          "output_type": "display_data"
        }
      ],
      "source": [
        "plt.figure()\n",
        "df_effective_args[\"discourse_type\"].value_counts().plot.pie()"
      ]
    },
    {
      "cell_type": "code",
      "execution_count": null,
      "id": "cddbf7ee",
      "metadata": {
        "execution": {
          "iopub.execute_input": "2022-08-03T20:53:12.046639Z",
          "iopub.status.busy": "2022-08-03T20:53:12.045679Z",
          "iopub.status.idle": "2022-08-03T20:53:12.135738Z",
          "shell.execute_reply": "2022-08-03T20:53:12.134510Z"
        },
        "id": "cddbf7ee",
        "outputId": "6a7880d0-5944-4b7f-8156-a040b7fbb2e1",
        "papermill": {
          "duration": 0.116282,
          "end_time": "2022-08-03T20:53:12.138303",
          "exception": false,
          "start_time": "2022-08-03T20:53:12.022021",
          "status": "completed"
        },
        "tags": []
      },
      "outputs": [
        {
          "data": {
            "text/plain": [
              "<AxesSubplot:ylabel='discourse_effectiveness'>"
            ]
          },
          "execution_count": 29,
          "metadata": {},
          "output_type": "execute_result"
        },
        {
          "data": {
            "image/png": "[encoded data removed]",
            "text/plain": [
              "<Figure size 432x288 with 1 Axes>"
            ]
          },
          "metadata": {},
          "output_type": "display_data"
        }
      ],
      "source": [
        "plt.figure()\n",
        "df_effective_args[\"discourse_effectiveness\"].value_counts().plot.pie()"
      ]
    },
    {
      "cell_type": "markdown",
      "id": "6d5a4b76",
      "metadata": {
        "id": "6d5a4b76",
        "papermill": {
          "duration": 0.022744,
          "end_time": "2022-08-03T20:53:12.184054",
          "exception": false,
          "start_time": "2022-08-03T20:53:12.161310",
          "status": "completed"
        },
        "tags": []
      },
      "source": [
        "## Distribution longueur du texte "
      ]
    },
    {
      "cell_type": "code",
      "execution_count": null,
      "id": "7767e3d8",
      "metadata": {
        "execution": {
          "iopub.execute_input": "2022-08-03T20:53:12.232111Z",
          "iopub.status.busy": "2022-08-03T20:53:12.231086Z",
          "iopub.status.idle": "2022-08-03T20:53:12.606989Z",
          "shell.execute_reply": "2022-08-03T20:53:12.605866Z"
        },
        "id": "7767e3d8",
        "outputId": "d6cc919c-6719-4636-e60a-b6742be656fb",
        "papermill": {
          "duration": 0.402591,
          "end_time": "2022-08-03T20:53:12.609544",
          "exception": false,
          "start_time": "2022-08-03T20:53:12.206953",
          "status": "completed"
        },
        "tags": []
      },
      "outputs": [
        {
          "data": {
            "image/png": "[encoded data removed]",
            "text/plain": [
              "<Figure size 432x288 with 1 Axes>"
            ]
          },
          "metadata": {
            "needs_background": "light"
          },
          "output_type": "display_data"
        }
      ],
      "source": [
        "plt.figure()\n",
        "df_effective_args[\"Longueur_texte\"].hist(bins=150)\n",
        "plt.axvline(\n",
        "    df_effective_args[\"Longueur_texte\"].mean(),\n",
        "    color=\"g\",\n",
        "    linestyle=\"dashed\",\n",
        "    linewidth=1,\n",
        ")\n",
        "plt.axvline(\n",
        "    df_effective_args[\"Longueur_texte\"].median(),\n",
        "    color=\"r\",\n",
        "    linestyle=\"dashed\",\n",
        "    linewidth=1,\n",
        ")\n",
        "plt.show()"
      ]
    },
    {
      "cell_type": "markdown",
      "id": "ad907e1e",
      "metadata": {
        "id": "ad907e1e",
        "papermill": {
          "duration": 0.022455,
          "end_time": "2022-08-03T20:53:12.654806",
          "exception": false,
          "start_time": "2022-08-03T20:53:12.632351",
          "status": "completed"
        },
        "tags": []
      },
      "source": [
        "# Exploration multivariée"
      ]
    },
    {
      "cell_type": "code",
      "execution_count": null,
      "id": "dfd6f33a",
      "metadata": {
        "execution": {
          "iopub.execute_input": "2022-08-03T20:53:12.702415Z",
          "iopub.status.busy": "2022-08-03T20:53:12.701677Z",
          "iopub.status.idle": "2022-08-03T20:53:12.921386Z",
          "shell.execute_reply": "2022-08-03T20:53:12.920185Z"
        },
        "id": "dfd6f33a",
        "outputId": "3b253d5c-084f-4098-847d-9fd2471d8830",
        "papermill": {
          "duration": 0.246255,
          "end_time": "2022-08-03T20:53:12.923994",
          "exception": false,
          "start_time": "2022-08-03T20:53:12.677739",
          "status": "completed"
        },
        "tags": []
      },
      "outputs": [
        {
          "data": {
            "image/png": "[encoded data removed]",
            "text/plain": [
              "<Figure size 432x288 with 1 Axes>"
            ]
          },
          "metadata": {
            "needs_background": "light"
          },
          "output_type": "display_data"
        }
      ],
      "source": [
        "plt.figure()\n",
        "sns.boxplot(\n",
        "    y=df_effective_args[\"Longueur_texte\"],\n",
        "    x=df_effective_args[\"discourse_effectiveness\"],\n",
        ")\n",
        "plt.show()"
      ]
    },
    {
      "cell_type": "code",
      "execution_count": null,
      "id": "f0877725",
      "metadata": {
        "execution": {
          "iopub.execute_input": "2022-08-03T20:53:12.974738Z",
          "iopub.status.busy": "2022-08-03T20:53:12.974190Z",
          "iopub.status.idle": "2022-08-03T20:53:13.256386Z",
          "shell.execute_reply": "2022-08-03T20:53:13.255230Z"
        },
        "id": "f0877725",
        "outputId": "a9f51e18-8b5d-488a-8dca-d02b597d1709",
        "papermill": {
          "duration": 0.310696,
          "end_time": "2022-08-03T20:53:13.258991",
          "exception": false,
          "start_time": "2022-08-03T20:53:12.948295",
          "status": "completed"
        },
        "tags": []
      },
      "outputs": [
        {
          "data": {
            "image/png": "[encoded data removed]",
            "text/plain": [
              "<Figure size 720x288 with 1 Axes>"
            ]
          },
          "metadata": {
            "needs_background": "light"
          },
          "output_type": "display_data"
        }
      ],
      "source": [
        "plt.figure(figsize=(10, 4))\n",
        "sns.boxplot(\n",
        "    y=df_effective_args[\"Longueur_texte\"], x=df_effective_args[\"discourse_type\"]\n",
        ")\n",
        "plt.show()"
      ]
    },
    {
      "cell_type": "code",
      "execution_count": null,
      "id": "3ea4e98b",
      "metadata": {
        "execution": {
          "iopub.execute_input": "2022-08-03T20:53:13.307799Z",
          "iopub.status.busy": "2022-08-03T20:53:13.307048Z",
          "iopub.status.idle": "2022-08-03T20:53:14.823759Z",
          "shell.execute_reply": "2022-08-03T20:53:14.822418Z"
        },
        "id": "3ea4e98b",
        "outputId": "d90a6335-aa81-4d5e-9877-4afd3fed045c",
        "papermill": {
          "duration": 1.544458,
          "end_time": "2022-08-03T20:53:14.826862",
          "exception": false,
          "start_time": "2022-08-03T20:53:13.282404",
          "status": "completed"
        },
        "tags": []
      },
      "outputs": [
        {
          "data": {
            "image/png": "[encoded data removed]",
            "text/plain": [
              "<Figure size 576x288 with 1 Axes>"
            ]
          },
          "metadata": {
            "needs_background": "light"
          },
          "output_type": "display_data"
        },
        {
          "data": {
            "text/plain": [
              "<Figure size 576x288 with 0 Axes>"
            ]
          },
          "metadata": {},
          "output_type": "display_data"
        },
        {
          "data": {
            "image/png": "[encoded data removed]",
            "text/plain": [
              "<Figure size 487.625x360 with 1 Axes>"
            ]
          },
          "metadata": {
            "needs_background": "light"
          },
          "output_type": "display_data"
        }
      ],
      "source": [
        "plt.figure(figsize=(8, 4))\n",
        "plt.xlim(0, 150)\n",
        "sns.histplot(\n",
        "    data=df_effective_args,\n",
        "    x=df_effective_args[\"Longueur_texte\"],\n",
        "    hue=df_effective_args[\"discourse_effectiveness\"],\n",
        "    bins=100,\n",
        "    multiple=\"stack\",\n",
        ")\n",
        "plt.show()\n",
        "\n",
        "plt.figure(figsize=(8, 4))\n",
        "sns.displot(\n",
        "    data=df_effective_args,\n",
        "    x=df_effective_args[\"Longueur_texte\"],\n",
        "    hue=df_effective_args[\"discourse_effectiveness\"],\n",
        "    kind=\"kde\",\n",
        ")\n",
        "plt.xlim(0, 150)\n",
        "plt.show()"
      ]
    },
    {
      "cell_type": "code",
      "execution_count": null,
      "id": "d03e5665",
      "metadata": {
        "execution": {
          "iopub.execute_input": "2022-08-03T20:53:14.879083Z",
          "iopub.status.busy": "2022-08-03T20:53:14.878148Z",
          "iopub.status.idle": "2022-08-03T20:53:17.682909Z",
          "shell.execute_reply": "2022-08-03T20:53:17.681706Z"
        },
        "id": "d03e5665",
        "outputId": "7d5a0cd0-d681-4484-f509-04ce68ef485b",
        "papermill": {
          "duration": 2.833467,
          "end_time": "2022-08-03T20:53:17.685413",
          "exception": false,
          "start_time": "2022-08-03T20:53:14.851946",
          "status": "completed"
        },
        "tags": []
      },
      "outputs": [
        {
          "data": {
            "image/png": "[encoded data removed]",
            "text/plain": [
              "<Figure size 576x288 with 1 Axes>"
            ]
          },
          "metadata": {
            "needs_background": "light"
          },
          "output_type": "display_data"
        },
        {
          "data": {
            "text/plain": [
              "<Figure size 576x288 with 0 Axes>"
            ]
          },
          "metadata": {},
          "output_type": "display_data"
        },
        {
          "data": {
            "image/png": "[encoded data removed]",
            "text/plain": [
              "<Figure size 507.375x360 with 1 Axes>"
            ]
          },
          "metadata": {
            "needs_background": "light"
          },
          "output_type": "display_data"
        }
      ],
      "source": [
        "plt.figure(figsize=(8, 4))\n",
        "plt.xlim(0, 150)\n",
        "sns.histplot(\n",
        "    data=df_effective_args,\n",
        "    x=df_effective_args[\"Longueur_texte\"],\n",
        "    hue=df_effective_args[\"discourse_type\"],\n",
        "    bins=100,\n",
        "    multiple=\"stack\",\n",
        ")\n",
        "plt.show()\n",
        "\n",
        "plt.figure(figsize=(8, 4))\n",
        "sns.displot(\n",
        "    data=df_effective_args,\n",
        "    x=df_effective_args[\"Longueur_texte\"],\n",
        "    hue=df_effective_args[\"discourse_type\"],\n",
        "    kind=\"kde\",\n",
        ")\n",
        "plt.xlim(0, 150)\n",
        "plt.show()"
      ]
    },
    {
      "cell_type": "code",
      "execution_count": null,
      "id": "3c6c72b2",
      "metadata": {
        "execution": {
          "iopub.execute_input": "2022-08-03T20:53:17.738449Z",
          "iopub.status.busy": "2022-08-03T20:53:17.738025Z",
          "iopub.status.idle": "2022-08-03T20:53:18.574584Z",
          "shell.execute_reply": "2022-08-03T20:53:18.573418Z"
        },
        "id": "3c6c72b2",
        "outputId": "16cc905c-1958-4af4-b119-433882c0e563",
        "papermill": {
          "duration": 0.866386,
          "end_time": "2022-08-03T20:53:18.577456",
          "exception": false,
          "start_time": "2022-08-03T20:53:17.711070",
          "status": "completed"
        },
        "tags": []
      },
      "outputs": [
        {
          "data": {
            "image/png": "[encoded data removed]",
            "text/plain": [
              "<Figure size 864x288 with 1 Axes>"
            ]
          },
          "metadata": {
            "needs_background": "light"
          },
          "output_type": "display_data"
        }
      ],
      "source": [
        "plt.figure(figsize=(12, 4))\n",
        "plt.ylim(0, 130)\n",
        "sns.boxplot(\n",
        "    y=df_effective_args[\"Longueur_texte\"],\n",
        "    x=df_effective_args[\"discourse_type\"],\n",
        "    hue=df_effective_args[\"discourse_effectiveness\"],\n",
        ")\n",
        "plt.show()"
      ]
    },
    {
      "cell_type": "markdown",
      "id": "6c00d845",
      "metadata": {
        "id": "6c00d845",
        "papermill": {
          "duration": 0.025775,
          "end_time": "2022-08-03T20:53:18.629293",
          "exception": false,
          "start_time": "2022-08-03T20:53:18.603518",
          "status": "completed"
        },
        "tags": []
      },
      "source": [
        "# Feature Engineering"
      ]
    },
    {
      "cell_type": "markdown",
      "id": "efb5dedc",
      "metadata": {
        "id": "efb5dedc",
        "papermill": {
          "duration": 0.025433,
          "end_time": "2022-08-03T20:53:18.680596",
          "exception": false,
          "start_time": "2022-08-03T20:53:18.655163",
          "status": "completed"
        },
        "tags": []
      },
      "source": [
        "## Suppression des longueurs supérieures à 150"
      ]
    },
    {
      "cell_type": "code",
      "execution_count": null,
      "id": "4c078184",
      "metadata": {
        "execution": {
          "iopub.execute_input": "2022-08-03T20:53:18.735833Z",
          "iopub.status.busy": "2022-08-03T20:53:18.734133Z",
          "iopub.status.idle": "2022-08-03T20:53:18.745750Z",
          "shell.execute_reply": "2022-08-03T20:53:18.744703Z"
        },
        "id": "4c078184",
        "papermill": {
          "duration": 0.041909,
          "end_time": "2022-08-03T20:53:18.748336",
          "exception": false,
          "start_time": "2022-08-03T20:53:18.706427",
          "status": "completed"
        },
        "tags": []
      },
      "outputs": [],
      "source": [
        "df_effective_args = df_effective_args[df_effective_args[\"Longueur_texte\"] < 150]"
      ]
    },
    {
      "cell_type": "markdown",
      "id": "fe8d1c21",
      "metadata": {
        "id": "fe8d1c21",
        "papermill": {
          "duration": 0.026208,
          "end_time": "2022-08-03T20:53:18.801264",
          "exception": false,
          "start_time": "2022-08-03T20:53:18.775056",
          "status": "completed"
        },
        "tags": []
      },
      "source": [
        "## Concatenation colonnes type et contenu "
      ]
    },
    {
      "cell_type": "code",
      "execution_count": null,
      "id": "e77ef380",
      "metadata": {
        "execution": {
          "iopub.execute_input": "2022-08-03T20:53:18.855610Z",
          "iopub.status.busy": "2022-08-03T20:53:18.854471Z",
          "iopub.status.idle": "2022-08-03T20:53:18.923203Z",
          "shell.execute_reply": "2022-08-03T20:53:18.921961Z"
        },
        "id": "e77ef380",
        "outputId": "17830086-4a0e-448f-ed07-6dbdc8182381",
        "papermill": {
          "duration": 0.098638,
          "end_time": "2022-08-03T20:53:18.925853",
          "exception": false,
          "start_time": "2022-08-03T20:53:18.827215",
          "status": "completed"
        },
        "tags": []
      },
      "outputs": [
        {
          "name": "stderr",
          "output_type": "stream",
          "text": [
            "/opt/conda/lib/python3.7/site-packages/ipykernel_launcher.py:1: SettingWithCopyWarning: \n",
            "A value is trying to be set on a copy of a slice from a DataFrame.\n",
            "Try using .loc[row_indexer,col_indexer] = value instead\n",
            "\n",
            "See the caveats in the documentation: https://pandas.pydata.org/pandas-docs/stable/user_guide/indexing.html#returning-a-view-versus-a-copy\n",
            "  \"\"\"Entry point for launching an IPython kernel.\n"
          ]
        }
      ],
      "source": [
        "df_effective_args[\"type_and_tokens\"] = (\n",
        "    df_effective_args[\"discourse_type\"].map(lambda i: [i])\n",
        "    + df_effective_args[\"only_\" + str(nb_words_to_save) + \"_tokens\"]\n",
        ")"
      ]
    },
    {
      "cell_type": "markdown",
      "id": "64d5a88b",
      "metadata": {
        "id": "64d5a88b",
        "papermill": {
          "duration": 0.026325,
          "end_time": "2022-08-03T20:53:18.978126",
          "exception": false,
          "start_time": "2022-08-03T20:53:18.951801",
          "status": "completed"
        },
        "tags": []
      },
      "source": [
        "## Méthode TF-IDF"
      ]
    },
    {
      "cell_type": "code",
      "execution_count": null,
      "id": "f779aa7d",
      "metadata": {
        "execution": {
          "iopub.execute_input": "2022-08-03T20:53:19.032746Z",
          "iopub.status.busy": "2022-08-03T20:53:19.031947Z",
          "iopub.status.idle": "2022-08-03T20:53:20.256152Z",
          "shell.execute_reply": "2022-08-03T20:53:20.254737Z"
        },
        "id": "f779aa7d",
        "papermill": {
          "duration": 1.254549,
          "end_time": "2022-08-03T20:53:20.258876",
          "exception": false,
          "start_time": "2022-08-03T20:53:19.004327",
          "status": "completed"
        },
        "tags": []
      },
      "outputs": [],
      "source": [
        "from sklearn.feature_extraction.text import TfidfVectorizer, TfidfTransformer\n",
        "from sklearn.preprocessing import MultiLabelBinarizer, LabelBinarizer\n",
        "from sklearn.decomposition import TruncatedSVD, PCA\n",
        "from sklearn.preprocessing import StandardScaler, RobustScaler\n",
        "from sklearn.pipeline import make_pipeline\n",
        "from sklearn.preprocessing import OneHotEncoder\n",
        "from sklearn.compose import make_column_transformer\n",
        "from sklearn.model_selection import train_test_split, GridSearchCV, learning_curve\n",
        "from sklearn.svm import LinearSVC\n",
        "from sklearn.neighbors import KNeighborsClassifier\n",
        "from sklearn.metrics import (\n",
        "    r2_score,\n",
        "    precision_score,\n",
        "    recall_score,\n",
        "    f1_score,\n",
        "    classification_report,\n",
        "    plot_roc_curve,\n",
        ")\n",
        "from sklearn.multioutput import MultiOutputClassifier\n",
        "from sklearn.multiclass import OneVsRestClassifier, OneVsOneClassifier\n",
        "from sklearn.ensemble import (\n",
        "    RandomForestClassifier,\n",
        "    GradientBoostingClassifier,\n",
        "    VotingClassifier,\n",
        ")\n",
        "from sklearn.dummy import DummyClassifier\n",
        "from sklearn.naive_bayes import MultinomialNB\n",
        "from sklearn.model_selection import train_test_split, GridSearchCV, learning_curve\n",
        "\n",
        "import joblib\n",
        "import ast\n",
        "import time\n",
        "\n",
        "!cp ../input/pca-file/pca_file.py .\n",
        "import pca_file\n",
        "\n",
        "from sklearn.linear_model import LogisticRegression"
      ]
    },
    {
      "cell_type": "code",
      "execution_count": null,
      "id": "877da939",
      "metadata": {
        "execution": {
          "iopub.execute_input": "2022-08-03T20:53:20.314974Z",
          "iopub.status.busy": "2022-08-03T20:53:20.314122Z",
          "iopub.status.idle": "2022-08-03T20:53:20.329880Z",
          "shell.execute_reply": "2022-08-03T20:53:20.328607Z"
        },
        "id": "877da939",
        "papermill": {
          "duration": 0.046809,
          "end_time": "2022-08-03T20:53:20.332809",
          "exception": false,
          "start_time": "2022-08-03T20:53:20.286000",
          "status": "completed"
        },
        "tags": []
      },
      "outputs": [],
      "source": [
        "X_train, X_test, y_train, y_test = train_test_split(\n",
        "    df_effective_args[\"type_and_tokens\"],\n",
        "    df_effective_args[\"discourse_effectiveness\"],\n",
        "    test_size=0.2,\n",
        "    random_state=1,\n",
        ")"
      ]
    },
    {
      "cell_type": "markdown",
      "id": "723add4e",
      "metadata": {
        "id": "723add4e",
        "papermill": {
          "duration": 0.026047,
          "end_time": "2022-08-03T20:53:20.385116",
          "exception": false,
          "start_time": "2022-08-03T20:53:20.359069",
          "status": "completed"
        },
        "tags": []
      },
      "source": [
        "### Separation et preparation train set et test set"
      ]
    },
    {
      "cell_type": "code",
      "execution_count": null,
      "id": "c30cbb1b",
      "metadata": {
        "execution": {
          "iopub.execute_input": "2022-08-03T20:53:20.439329Z",
          "iopub.status.busy": "2022-08-03T20:53:20.438899Z",
          "iopub.status.idle": "2022-08-03T20:53:22.224985Z",
          "shell.execute_reply": "2022-08-03T20:53:22.223694Z"
        },
        "id": "c30cbb1b",
        "papermill": {
          "duration": 1.816309,
          "end_time": "2022-08-03T20:53:22.227691",
          "exception": false,
          "start_time": "2022-08-03T20:53:20.411382",
          "status": "completed"
        },
        "tags": []
      },
      "outputs": [],
      "source": [
        "list_words = X_train.tolist()\n",
        "list_corpus = []\n",
        "for element in list_words:\n",
        "    list_corpus.append(\" \".join(element))\n",
        "tfidftvecto = TfidfVectorizer()\n",
        "tfidf_model = tfidftvecto.fit(list_corpus)\n",
        "tfidf_tokens = tfidftvecto.get_feature_names_out()\n",
        "X_train_encoded = pd.DataFrame(\n",
        "    data=tfidftvecto.fit_transform(list_corpus).toarray(), columns=tfidf_tokens\n",
        ")"
      ]
    },
    {
      "cell_type": "code",
      "execution_count": null,
      "id": "3ea2e9d3",
      "metadata": {
        "execution": {
          "iopub.execute_input": "2022-08-03T20:53:22.282793Z",
          "iopub.status.busy": "2022-08-03T20:53:22.282351Z",
          "iopub.status.idle": "2022-08-03T20:53:22.593310Z",
          "shell.execute_reply": "2022-08-03T20:53:22.592417Z"
        },
        "id": "3ea2e9d3",
        "papermill": {
          "duration": 0.341772,
          "end_time": "2022-08-03T20:53:22.596053",
          "exception": false,
          "start_time": "2022-08-03T20:53:22.254281",
          "status": "completed"
        },
        "tags": []
      },
      "outputs": [],
      "source": [
        "list_words_test = X_test.tolist()\n",
        "list_corpus_test = []\n",
        "for element in list_words_test:\n",
        "    list_corpus_test.append(\" \".join(element))\n",
        "X_test_encoded = pd.DataFrame(\n",
        "    data=tfidf_model.transform(list_corpus_test).toarray(), columns=tfidf_tokens\n",
        ")"
      ]
    },
    {
      "cell_type": "code",
      "execution_count": null,
      "id": "2d43bbb1",
      "metadata": {
        "execution": {
          "iopub.execute_input": "2022-08-03T20:53:22.651233Z",
          "iopub.status.busy": "2022-08-03T20:53:22.650813Z",
          "iopub.status.idle": "2022-08-03T20:53:22.755539Z",
          "shell.execute_reply": "2022-08-03T20:53:22.754241Z"
        },
        "id": "2d43bbb1",
        "papermill": {
          "duration": 0.135239,
          "end_time": "2022-08-03T20:53:22.758375",
          "exception": false,
          "start_time": "2022-08-03T20:53:22.623136",
          "status": "completed"
        },
        "tags": []
      },
      "outputs": [],
      "source": [
        "lb = LabelBinarizer()\n",
        "df_labels_train = pd.DataFrame(lb.fit_transform(y_train), columns=lb.classes_)\n",
        "df_labels_test = pd.DataFrame(lb.fit_transform(y_test), columns=lb.classes_)"
      ]
    },
    {
      "cell_type": "markdown",
      "id": "bc76794f",
      "metadata": {
        "id": "bc76794f",
        "papermill": {
          "duration": 0.025815,
          "end_time": "2022-08-03T20:53:22.810811",
          "exception": false,
          "start_time": "2022-08-03T20:53:22.784996",
          "status": "completed"
        },
        "tags": []
      },
      "source": [
        "# Modelisation"
      ]
    },
    {
      "cell_type": "code",
      "execution_count": null,
      "id": "c8be963e",
      "metadata": {
        "execution": {
          "iopub.execute_input": "2022-08-03T20:53:22.864904Z",
          "iopub.status.busy": "2022-08-03T20:53:22.864471Z",
          "iopub.status.idle": "2022-08-03T20:53:23.940714Z",
          "shell.execute_reply": "2022-08-03T20:53:23.939303Z"
        },
        "id": "c8be963e",
        "papermill": {
          "duration": 1.106539,
          "end_time": "2022-08-03T20:53:23.943546",
          "exception": false,
          "start_time": "2022-08-03T20:53:22.837007",
          "status": "completed"
        },
        "tags": [],
        "outputId": "401bf562-dd26-4b62-9c9f-63f008cd4de3"
      },
      "outputs": [
        {
          "name": "stdout",
          "output_type": "stream",
          "text": [
            "cp: cannot stat '/content/drive/MyDrive/Open_classrooms/P2/pca_file.py': No such file or directory\r\n"
          ]
        }
      ],
      "source": [
        "!cp /content/drive/MyDrive/Open_classrooms/P2/pca_file.py .\n",
        "import pca_file"
      ]
    },
    {
      "cell_type": "code",
      "execution_count": null,
      "id": "e5b23ac8",
      "metadata": {
        "execution": {
          "iopub.execute_input": "2022-08-03T20:53:23.998904Z",
          "iopub.status.busy": "2022-08-03T20:53:23.998467Z",
          "iopub.status.idle": "2022-08-03T20:53:30.793117Z",
          "shell.execute_reply": "2022-08-03T20:53:30.791866Z"
        },
        "id": "e5b23ac8",
        "outputId": "e98f94a4-cf3f-40c9-a7ce-c3ce94c35245",
        "papermill": {
          "duration": 6.825519,
          "end_time": "2022-08-03T20:53:30.795752",
          "exception": false,
          "start_time": "2022-08-03T20:53:23.970233",
          "status": "completed"
        },
        "tags": []
      },
      "outputs": [
        {
          "name": "stdout",
          "output_type": "stream",
          "text": [
            "n_components =  20 pourcentage 0.053057133504431406\n"
          ]
        },
        {
          "data": {
            "image/png": "[encoded data removed]",
            "text/plain": [
              "<Figure size 432x288 with 1 Axes>"
            ]
          },
          "metadata": {
            "needs_background": "light"
          },
          "output_type": "display_data"
        }
      ],
      "source": [
        "n_components = 20\n",
        "numerical_features = list(X_train_encoded.select_dtypes([\"int\"]).columns) + list(\n",
        "    X_train_encoded.select_dtypes([\"float\"]).columns\n",
        ")\n",
        "numerical_pipeline = make_pipeline(StandardScaler())\n",
        "preprocessor = make_column_transformer((numerical_pipeline, numerical_features))\n",
        "model = make_pipeline(preprocessor, PCA(n_components))\n",
        "model_all_features_PCA = model.fit(X_train_encoded)\n",
        "model_all_features_PCA[1].explained_variance_ratio_\n",
        "print(\n",
        "    \"n_components = \",\n",
        "    n_components,\n",
        "    \"pourcentage\",\n",
        "    sum(model_all_features_PCA[1].explained_variance_ratio_),\n",
        ")\n",
        "\n",
        "pca_file.display_scree_plot(model_all_features_PCA[1])"
      ]
    },
    {
      "cell_type": "markdown",
      "id": "7149e761",
      "metadata": {
        "id": "7149e761",
        "papermill": {
          "duration": 0.02695,
          "end_time": "2022-08-03T20:53:30.849809",
          "exception": false,
          "start_time": "2022-08-03T20:53:30.822859",
          "status": "completed"
        },
        "tags": []
      },
      "source": [
        "## DummyClassifier"
      ]
    },
    {
      "cell_type": "code",
      "execution_count": null,
      "id": "d2d0ad46",
      "metadata": {
        "execution": {
          "iopub.execute_input": "2022-08-03T20:53:30.905724Z",
          "iopub.status.busy": "2022-08-03T20:53:30.904899Z",
          "iopub.status.idle": "2022-08-03T20:53:32.833816Z",
          "shell.execute_reply": "2022-08-03T20:53:32.832157Z"
        },
        "id": "d2d0ad46",
        "outputId": "11860bfa-854b-470a-eee1-ae17664ae9f6",
        "papermill": {
          "duration": 1.960217,
          "end_time": "2022-08-03T20:53:32.836861",
          "exception": false,
          "start_time": "2022-08-03T20:53:30.876644",
          "status": "completed"
        },
        "tags": []
      },
      "outputs": [
        {
          "name": "stderr",
          "output_type": "stream",
          "text": [
            "/opt/conda/lib/python3.7/site-packages/sklearn/utils/deprecation.py:103: FutureWarning: `n_features_in_` is deprecated in 1.0 and will be removed in 1.2.\n",
            "  warnings.warn(msg, category=FutureWarning)\n"
          ]
        },
        {
          "name": "stdout",
          "output_type": "stream",
          "text": [
            "1.383906364440918 0.2279675006866455\n",
            "              precision    recall  f1-score   support\n",
            "\n",
            "           0       0.57      1.00      0.72      4161\n",
            "           1       0.00      0.00      0.00      1882\n",
            "           2       0.00      0.00      0.00      1280\n",
            "\n",
            "   micro avg       0.57      0.57      0.57      7323\n",
            "   macro avg       0.19      0.33      0.24      7323\n",
            "weighted avg       0.32      0.57      0.41      7323\n",
            " samples avg       0.57      0.57      0.57      7323\n",
            "\n"
          ]
        },
        {
          "name": "stderr",
          "output_type": "stream",
          "text": [
            "/opt/conda/lib/python3.7/site-packages/sklearn/metrics/_classification.py:1318: UndefinedMetricWarning: Precision and F-score are ill-defined and being set to 0.0 in labels with no predicted samples. Use `zero_division` parameter to control this behavior.\n",
            "  _warn_prf(average, modifier, msg_start, len(result))\n"
          ]
        }
      ],
      "source": [
        "numerical_features = list(X_train_encoded.select_dtypes([\"int\"]).columns) + list(\n",
        "    X_train_encoded.select_dtypes([\"float\"]).columns\n",
        ")\n",
        "\n",
        "numerical_pipeline = make_pipeline(StandardScaler())\n",
        "multilabel_classifier = OneVsRestClassifier(DummyClassifier(strategy=\"prior\"))\n",
        "preprocessor = make_column_transformer((numerical_pipeline, numerical_features))\n",
        "model_dum = make_pipeline(preprocessor, multilabel_classifier)\n",
        "\n",
        "start_time_fit = time.time()\n",
        "model_dum.fit(X_train_encoded, df_labels_train)\n",
        "\n",
        "elapsed_time_fit = time.time() - start_time_fit  # time\n",
        "\n",
        "start_time_predict = time.time()\n",
        "df_labels_pred = model_dum.predict(X_test_encoded)\n",
        "\n",
        "elapsed_time_predict = time.time() - start_time_predict  # time\n",
        "print(elapsed_time_fit, elapsed_time_predict)  # time\n",
        "\n",
        "print(classification_report(df_labels_test, df_labels_pred))"
      ]
    },
    {
      "cell_type": "markdown",
      "id": "76fbe983",
      "metadata": {
        "id": "76fbe983",
        "papermill": {
          "duration": 0.02668,
          "end_time": "2022-08-03T20:53:32.891133",
          "exception": false,
          "start_time": "2022-08-03T20:53:32.864453",
          "status": "completed"
        },
        "tags": []
      },
      "source": [
        "## RandomForest"
      ]
    },
    {
      "cell_type": "code",
      "execution_count": null,
      "id": "90286550",
      "metadata": {
        "execution": {
          "iopub.execute_input": "2022-08-03T20:53:32.947228Z",
          "iopub.status.busy": "2022-08-03T20:53:32.946358Z",
          "iopub.status.idle": "2022-08-03T20:58:55.025973Z",
          "shell.execute_reply": "2022-08-03T20:58:55.024415Z"
        },
        "id": "90286550",
        "outputId": "42fb922a-070f-49d1-9fd0-3e74773210ac",
        "papermill": {
          "duration": 322.144106,
          "end_time": "2022-08-03T20:58:55.062459",
          "exception": false,
          "start_time": "2022-08-03T20:53:32.918353",
          "status": "completed"
        },
        "tags": []
      },
      "outputs": [
        {
          "name": "stdout",
          "output_type": "stream",
          "text": [
            "318.8436954021454 2.9219186305999756\n",
            "              precision    recall  f1-score   support\n",
            "\n",
            "           0       0.65      0.81      0.72      4161\n",
            "           1       0.75      0.34      0.47      1882\n",
            "           2       0.58      0.10      0.17      1280\n",
            "\n",
            "   micro avg       0.66      0.56      0.61      7323\n",
            "   macro avg       0.66      0.42      0.46      7323\n",
            "weighted avg       0.67      0.56      0.56      7323\n",
            " samples avg       0.56      0.56      0.56      7323\n",
            "\n"
          ]
        },
        {
          "name": "stderr",
          "output_type": "stream",
          "text": [
            "/opt/conda/lib/python3.7/site-packages/sklearn/metrics/_classification.py:1318: UndefinedMetricWarning: Precision and F-score are ill-defined and being set to 0.0 in samples with no predicted labels. Use `zero_division` parameter to control this behavior.\n",
            "  _warn_prf(average, modifier, msg_start, len(result))\n"
          ]
        }
      ],
      "source": [
        "numerical_features = list(X_train_encoded.select_dtypes([\"int\"]).columns) + list(\n",
        "    X_train_encoded.select_dtypes([\"float\"]).columns\n",
        ")\n",
        "numerical_pipeline = make_pipeline(StandardScaler())\n",
        "\n",
        "R_F = RandomForestClassifier()\n",
        "multilabel_classifier = OneVsRestClassifier(R_F)\n",
        "preprocessor = make_column_transformer((numerical_pipeline, numerical_features))\n",
        "model_R_F = make_pipeline(preprocessor, multilabel_classifier)\n",
        "\n",
        "start_time_fit = time.time()\n",
        "model_R_F.fit(X_train_encoded, df_labels_train)\n",
        "\n",
        "elapsed_time_fit = time.time() - start_time_fit  # time\n",
        "\n",
        "start_time_predict = time.time()\n",
        "df_labels_pred = model_R_F.predict(X_test_encoded)\n",
        "\n",
        "elapsed_time_predict = time.time() - start_time_predict  # time\n",
        "print(elapsed_time_fit, elapsed_time_predict)  # time\n",
        "\n",
        "print(classification_report(df_labels_test, df_labels_pred))"
      ]
    },
    {
      "cell_type": "markdown",
      "id": "0cd0c3f2",
      "metadata": {
        "id": "0cd0c3f2",
        "papermill": {
          "duration": 0.028156,
          "end_time": "2022-08-03T20:58:55.118031",
          "exception": false,
          "start_time": "2022-08-03T20:58:55.089875",
          "status": "completed"
        },
        "tags": []
      },
      "source": [
        "## GradientBoostingClassifier"
      ]
    },
    {
      "cell_type": "code",
      "execution_count": null,
      "id": "b5a6e9de",
      "metadata": {
        "execution": {
          "iopub.execute_input": "2022-08-03T20:58:55.175245Z",
          "iopub.status.busy": "2022-08-03T20:58:55.174334Z",
          "iopub.status.idle": "2022-08-03T21:10:47.642137Z",
          "shell.execute_reply": "2022-08-03T21:10:47.640832Z"
        },
        "id": "b5a6e9de",
        "outputId": "cfc505ae-0936-4671-b231-bd560e4fabbb",
        "papermill": {
          "duration": 712.633709,
          "end_time": "2022-08-03T21:10:47.778855",
          "exception": false,
          "start_time": "2022-08-03T20:58:55.145146",
          "status": "completed"
        },
        "tags": []
      },
      "outputs": [
        {
          "name": "stdout",
          "output_type": "stream",
          "text": [
            "711.6906340122223 0.4600398540496826\n",
            "              precision    recall  f1-score   support\n",
            "\n",
            "           0       0.63      0.90      0.74      4161\n",
            "           1       0.79      0.27      0.40      1882\n",
            "           2       0.70      0.06      0.10      1280\n",
            "\n",
            "   micro avg       0.64      0.59      0.62      7323\n",
            "   macro avg       0.71      0.41      0.41      7323\n",
            "weighted avg       0.68      0.59      0.54      7323\n",
            " samples avg       0.59      0.59      0.59      7323\n",
            "\n"
          ]
        },
        {
          "name": "stderr",
          "output_type": "stream",
          "text": [
            "/opt/conda/lib/python3.7/site-packages/sklearn/metrics/_classification.py:1318: UndefinedMetricWarning: Precision and F-score are ill-defined and being set to 0.0 in samples with no predicted labels. Use `zero_division` parameter to control this behavior.\n",
            "  _warn_prf(average, modifier, msg_start, len(result))\n"
          ]
        }
      ],
      "source": [
        "numerical_features = list(X_train_encoded.select_dtypes([\"int\"]).columns) + list(\n",
        "    X_train_encoded.select_dtypes([\"float\"]).columns\n",
        ")\n",
        "numerical_pipeline = make_pipeline(StandardScaler())\n",
        "\n",
        "GB_C = GradientBoostingClassifier()\n",
        "multilabel_classifier = OneVsRestClassifier(GB_C)\n",
        "preprocessor = make_column_transformer((numerical_pipeline, numerical_features))\n",
        "model_GB_C = make_pipeline(preprocessor, multilabel_classifier)\n",
        "\n",
        "start_time_fit = time.time()\n",
        "model_GB_C.fit(X_train_encoded, df_labels_train)\n",
        "\n",
        "elapsed_time_fit = time.time() - start_time_fit  # time\n",
        "\n",
        "start_time_predict = time.time()\n",
        "df_labels_pred = model_GB_C.predict(X_test_encoded)\n",
        "\n",
        "elapsed_time_predict = time.time() - start_time_predict  # time\n",
        "print(elapsed_time_fit, elapsed_time_predict)  # time\n",
        "\n",
        "print(classification_report(df_labels_test, df_labels_pred))"
      ]
    },
    {
      "cell_type": "markdown",
      "id": "6c9db75a",
      "metadata": {
        "id": "6c9db75a",
        "papermill": {
          "duration": 0.02724,
          "end_time": "2022-08-03T21:10:47.833574",
          "exception": false,
          "start_time": "2022-08-03T21:10:47.806334",
          "status": "completed"
        },
        "tags": []
      },
      "source": [
        "## Regression logistic"
      ]
    },
    {
      "cell_type": "markdown",
      "id": "acc10b5a",
      "metadata": {
        "id": "acc10b5a",
        "papermill": {
          "duration": 0.027068,
          "end_time": "2022-08-03T21:10:47.888977",
          "exception": false,
          "start_time": "2022-08-03T21:10:47.861909",
          "status": "completed"
        },
        "tags": []
      },
      "source": [
        "### OneVsRest"
      ]
    },
    {
      "cell_type": "code",
      "execution_count": null,
      "id": "bc7396da",
      "metadata": {
        "execution": {
          "iopub.execute_input": "2022-08-03T21:10:47.946658Z",
          "iopub.status.busy": "2022-08-03T21:10:47.946220Z",
          "iopub.status.idle": "2022-08-03T21:11:10.905756Z",
          "shell.execute_reply": "2022-08-03T21:11:10.904551Z"
        },
        "id": "bc7396da",
        "outputId": "a1177d8a-4f1a-4cbe-ff65-d5f8492a0518",
        "papermill": {
          "duration": 22.997795,
          "end_time": "2022-08-03T21:11:10.914182",
          "exception": false,
          "start_time": "2022-08-03T21:10:47.916387",
          "status": "completed"
        },
        "tags": []
      },
      "outputs": [
        {
          "name": "stdout",
          "output_type": "stream",
          "text": [
            "22.31344246864319 0.3238253593444824\n",
            "              precision    recall  f1-score   support\n",
            "\n",
            "           0       0.65      0.76      0.70      4161\n",
            "           1       0.67      0.49      0.57      1882\n",
            "           2       0.46      0.23      0.31      1280\n",
            "\n",
            "   micro avg       0.64      0.60      0.62      7323\n",
            "   macro avg       0.59      0.49      0.53      7323\n",
            "weighted avg       0.62      0.60      0.60      7323\n",
            " samples avg       0.57      0.60      0.58      7323\n",
            "\n"
          ]
        },
        {
          "name": "stderr",
          "output_type": "stream",
          "text": [
            "/opt/conda/lib/python3.7/site-packages/sklearn/metrics/_classification.py:1318: UndefinedMetricWarning: Precision and F-score are ill-defined and being set to 0.0 in samples with no predicted labels. Use `zero_division` parameter to control this behavior.\n",
            "  _warn_prf(average, modifier, msg_start, len(result))\n"
          ]
        }
      ],
      "source": [
        "numerical_features = list(X_train_encoded.select_dtypes([\"int\"]).columns) + list(\n",
        "    X_train_encoded.select_dtypes([\"float\"]).columns\n",
        ")\n",
        "numerical_pipeline = make_pipeline(StandardScaler())\n",
        "\n",
        "L_R = LogisticRegression(max_iter=1000)\n",
        "multilabel_classifier = OneVsRestClassifier(L_R)\n",
        "preprocessor = make_column_transformer((numerical_pipeline, numerical_features))\n",
        "model_L_R = make_pipeline(preprocessor, multilabel_classifier)\n",
        "\n",
        "start_time_fit = time.time()\n",
        "model_L_R.fit(X_train_encoded, df_labels_train)\n",
        "\n",
        "elapsed_time_fit = time.time() - start_time_fit  # time\n",
        "\n",
        "start_time_predict = time.time()\n",
        "df_labels_pred = model_L_R.predict(X_test_encoded)\n",
        "\n",
        "elapsed_time_predict = time.time() - start_time_predict  # time\n",
        "print(elapsed_time_fit, elapsed_time_predict)  # time\n",
        "\n",
        "print(classification_report(df_labels_test, df_labels_pred))"
      ]
    },
    {
      "cell_type": "markdown",
      "id": "17b4f920",
      "metadata": {
        "id": "17b4f920",
        "papermill": {
          "duration": 0.038048,
          "end_time": "2022-08-03T21:11:10.997129",
          "exception": false,
          "start_time": "2022-08-03T21:11:10.959081",
          "status": "completed"
        },
        "tags": []
      },
      "source": [
        "### Optimisation One Versus Rest"
      ]
    },
    {
      "cell_type": "code",
      "execution_count": null,
      "id": "be840f20",
      "metadata": {
        "execution": {
          "iopub.execute_input": "2022-08-03T21:11:11.053340Z",
          "iopub.status.busy": "2022-08-03T21:11:11.052287Z",
          "iopub.status.idle": "2022-08-03T21:11:11.057730Z",
          "shell.execute_reply": "2022-08-03T21:11:11.056863Z"
        },
        "id": "be840f20",
        "papermill": {
          "duration": 0.03601,
          "end_time": "2022-08-03T21:11:11.060192",
          "exception": false,
          "start_time": "2022-08-03T21:11:11.024182",
          "status": "completed"
        },
        "tags": []
      },
      "outputs": [],
      "source": [
        "parameters = {\"onevsrestclassifier__estimator__max_iter\": [800, 1000, 1200, 1500]}"
      ]
    },
    {
      "cell_type": "code",
      "execution_count": null,
      "id": "df380d8d",
      "metadata": {
        "execution": {
          "iopub.execute_input": "2022-08-03T21:11:11.117299Z",
          "iopub.status.busy": "2022-08-03T21:11:11.116591Z",
          "iopub.status.idle": "2022-08-03T21:17:56.267830Z",
          "shell.execute_reply": "2022-08-03T21:17:56.266475Z"
        },
        "id": "df380d8d",
        "outputId": "5f342916-84f9-45eb-932a-b2b92313a89c",
        "papermill": {
          "duration": 405.186439,
          "end_time": "2022-08-03T21:17:56.274317",
          "exception": false,
          "start_time": "2022-08-03T21:11:11.087878",
          "status": "completed"
        },
        "tags": []
      },
      "outputs": [
        {
          "name": "stdout",
          "output_type": "stream",
          "text": [
            "meilleurs parametres :  {'onevsrestclassifier__estimator__max_iter': 800}\n",
            "404.1798596382141 0.6494255065917969\n",
            "              precision    recall  f1-score   support\n",
            "\n",
            "           0       0.65      0.76      0.70      4161\n",
            "           1       0.67      0.49      0.57      1882\n",
            "           2       0.46      0.23      0.31      1280\n",
            "\n",
            "   micro avg       0.64      0.60      0.62      7323\n",
            "   macro avg       0.59      0.49      0.53      7323\n",
            "weighted avg       0.62      0.60      0.60      7323\n",
            " samples avg       0.57      0.60      0.58      7323\n",
            "\n"
          ]
        },
        {
          "name": "stderr",
          "output_type": "stream",
          "text": [
            "/opt/conda/lib/python3.7/site-packages/sklearn/metrics/_classification.py:1318: UndefinedMetricWarning: Precision and F-score are ill-defined and being set to 0.0 in samples with no predicted labels. Use `zero_division` parameter to control this behavior.\n",
            "  _warn_prf(average, modifier, msg_start, len(result))\n"
          ]
        }
      ],
      "source": [
        "numerical_features = list(X_train_encoded.select_dtypes([\"int\"]).columns) + list(\n",
        "    X_train_encoded.select_dtypes([\"float\"]).columns\n",
        ")\n",
        "numerical_pipeline = make_pipeline(StandardScaler())\n",
        "\n",
        "L_R = LogisticRegression()\n",
        "\n",
        "multilabel_classifier = OneVsRestClassifier(L_R)\n",
        "preprocessor = make_column_transformer((numerical_pipeline, numerical_features))\n",
        "model_L_R_bis = make_pipeline(preprocessor, multilabel_classifier)\n",
        "\n",
        "grid_L_R = GridSearchCV(model_L_R_bis, param_grid=parameters, cv=5)\n",
        "\n",
        "start_time_fit = time.time()\n",
        "grid_L_R.fit(X_train_encoded, df_labels_train)\n",
        "print(\"meilleurs parametres : \", grid_L_R.best_params_)\n",
        "elapsed_time_fit = time.time() - start_time_fit  # time\n",
        "\n",
        "start_time_predict = time.time()\n",
        "df_labels_pred = grid_L_R.predict(X_test_encoded)\n",
        "df_labels_pred_proba = grid_L_R.predict_proba(X_test_encoded)\n",
        "\n",
        "elapsed_time_predict = time.time() - start_time_predict  # time\n",
        "print(elapsed_time_fit, elapsed_time_predict)  # time\n",
        "\n",
        "print(classification_report(df_labels_test, df_labels_pred))"
      ]
    },
    {
      "cell_type": "markdown",
      "id": "a054ec74",
      "metadata": {
        "id": "a054ec74",
        "papermill": {
          "duration": 0.042131,
          "end_time": "2022-08-03T21:17:56.361721",
          "exception": false,
          "start_time": "2022-08-03T21:17:56.319590",
          "status": "completed"
        },
        "tags": []
      },
      "source": [
        "## Moyenne des predictions"
      ]
    },
    {
      "cell_type": "code",
      "execution_count": null,
      "id": "87202470",
      "metadata": {
        "execution": {
          "iopub.execute_input": "2022-08-03T21:17:56.418390Z",
          "iopub.status.busy": "2022-08-03T21:17:56.417957Z",
          "iopub.status.idle": "2022-08-03T21:18:00.113159Z",
          "shell.execute_reply": "2022-08-03T21:18:00.111801Z"
        },
        "id": "87202470",
        "papermill": {
          "duration": 3.727563,
          "end_time": "2022-08-03T21:18:00.116355",
          "exception": false,
          "start_time": "2022-08-03T21:17:56.388792",
          "status": "completed"
        },
        "tags": []
      },
      "outputs": [],
      "source": [
        "proba_R_F = model_R_F.predict_proba(X_test_encoded)\n",
        "proba_R_F_normalized = (proba_R_F.T / proba_R_F.sum(axis=1)).T\n",
        "\n",
        "proba_L_R = model_L_R.predict_proba(X_test_encoded)\n",
        "proba_L_R_normalized = (proba_L_R.T / proba_L_R.sum(axis=1)).T\n",
        "\n",
        "proba_GB = model_GB_C.predict_proba(X_test_encoded)\n",
        "proba_GB_normalized = (proba_GB.T / proba_GB.sum(axis=1)).T"
      ]
    },
    {
      "cell_type": "code",
      "execution_count": null,
      "id": "0afd3966",
      "metadata": {
        "execution": {
          "iopub.execute_input": "2022-08-03T21:18:00.175710Z",
          "iopub.status.busy": "2022-08-03T21:18:00.174966Z",
          "iopub.status.idle": "2022-08-03T21:18:00.180594Z",
          "shell.execute_reply": "2022-08-03T21:18:00.179724Z"
        },
        "id": "0afd3966",
        "papermill": {
          "duration": 0.037533,
          "end_time": "2022-08-03T21:18:00.182912",
          "exception": false,
          "start_time": "2022-08-03T21:18:00.145379",
          "status": "completed"
        },
        "tags": []
      },
      "outputs": [],
      "source": [
        "combinaison_all = (\n",
        "    proba_GB_normalized + proba_L_R_normalized + proba_R_F_normalized\n",
        ") / 3\n",
        "combinaison_GB_and_LR = (proba_GB_normalized + proba_L_R_normalized) / 2\n",
        "combinaison_GB_and_RF = (proba_GB_normalized + proba_R_F_normalized) / 2\n",
        "combinaison_RF_and_LR = (proba_L_R_normalized + proba_R_F_normalized) / 2"
      ]
    },
    {
      "cell_type": "code",
      "execution_count": null,
      "id": "49c926c4",
      "metadata": {
        "execution": {
          "iopub.execute_input": "2022-08-03T21:18:00.242821Z",
          "iopub.status.busy": "2022-08-03T21:18:00.242343Z",
          "iopub.status.idle": "2022-08-03T21:18:00.249610Z",
          "shell.execute_reply": "2022-08-03T21:18:00.248261Z"
        },
        "id": "49c926c4",
        "papermill": {
          "duration": 0.040619,
          "end_time": "2022-08-03T21:18:00.252183",
          "exception": false,
          "start_time": "2022-08-03T21:18:00.211564",
          "status": "completed"
        },
        "tags": []
      },
      "outputs": [],
      "source": [
        "def predict_from_nparray(proba_np_array):\n",
        "\n",
        "    longueur = len(proba_np_array)\n",
        "\n",
        "    for raw in range(0, longueur):\n",
        "        maximum = np.max(proba_np_array[raw])\n",
        "        proba_np_array[raw][proba_np_array[raw] >= maximum] = 1\n",
        "        proba_np_array[raw][proba_np_array[raw] < maximum] = 0\n",
        "\n",
        "    int_proba_np_array = proba_np_array.astype(int)\n",
        "\n",
        "    return int_proba_np_array"
      ]
    },
    {
      "cell_type": "markdown",
      "id": "f4430a0a",
      "metadata": {
        "id": "f4430a0a",
        "papermill": {
          "duration": 0.028289,
          "end_time": "2022-08-03T21:18:00.309126",
          "exception": false,
          "start_time": "2022-08-03T21:18:00.280837",
          "status": "completed"
        },
        "tags": []
      },
      "source": [
        "### Tableau des predictions"
      ]
    },
    {
      "cell_type": "code",
      "execution_count": null,
      "id": "04d838ca",
      "metadata": {
        "execution": {
          "iopub.execute_input": "2022-08-03T21:18:00.368509Z",
          "iopub.status.busy": "2022-08-03T21:18:00.368029Z",
          "iopub.status.idle": "2022-08-03T21:18:00.467075Z",
          "shell.execute_reply": "2022-08-03T21:18:00.465708Z"
        },
        "id": "04d838ca",
        "outputId": "a032e5c6-9adb-49f4-fd9c-62d3aaeef017",
        "papermill": {
          "duration": 0.132558,
          "end_time": "2022-08-03T21:18:00.469954",
          "exception": false,
          "start_time": "2022-08-03T21:18:00.337396",
          "status": "completed"
        },
        "tags": []
      },
      "outputs": [
        {
          "name": "stdout",
          "output_type": "stream",
          "text": [
            "              precision    recall  f1-score   support\n",
            "\n",
            "           0       0.64      0.92      0.75      4161\n",
            "           1       0.74      0.43      0.54      1882\n",
            "           2       0.65      0.11      0.19      1280\n",
            "\n",
            "   micro avg       0.65      0.65      0.65      7323\n",
            "   macro avg       0.67      0.49      0.49      7323\n",
            "weighted avg       0.66      0.65      0.60      7323\n",
            " samples avg       0.65      0.65      0.65      7323\n",
            "\n"
          ]
        }
      ],
      "source": [
        "print(classification_report(df_labels_test, predict_from_nparray((combinaison_all))))"
      ]
    },
    {
      "cell_type": "code",
      "execution_count": null,
      "id": "9fce8906",
      "metadata": {
        "execution": {
          "iopub.execute_input": "2022-08-03T21:18:00.528715Z",
          "iopub.status.busy": "2022-08-03T21:18:00.528284Z",
          "iopub.status.idle": "2022-08-03T21:18:00.628646Z",
          "shell.execute_reply": "2022-08-03T21:18:00.626748Z"
        },
        "id": "9fce8906",
        "outputId": "182de449-316d-44a1-c93a-9ae21c46b434",
        "papermill": {
          "duration": 0.133092,
          "end_time": "2022-08-03T21:18:00.631526",
          "exception": false,
          "start_time": "2022-08-03T21:18:00.498434",
          "status": "completed"
        },
        "tags": []
      },
      "outputs": [
        {
          "name": "stdout",
          "output_type": "stream",
          "text": [
            "              precision    recall  f1-score   support\n",
            "\n",
            "           0       0.64      0.91      0.75      4161\n",
            "           1       0.73      0.44      0.55      1882\n",
            "           2       0.59      0.12      0.20      1280\n",
            "\n",
            "   micro avg       0.65      0.65      0.65      7323\n",
            "   macro avg       0.65      0.49      0.50      7323\n",
            "weighted avg       0.65      0.65      0.60      7323\n",
            " samples avg       0.65      0.65      0.65      7323\n",
            "\n"
          ]
        }
      ],
      "source": [
        "print(\n",
        "    classification_report(df_labels_test, predict_from_nparray((combinaison_GB_and_LR)))\n",
        ")"
      ]
    },
    {
      "cell_type": "code",
      "execution_count": null,
      "id": "a5128467",
      "metadata": {
        "execution": {
          "iopub.execute_input": "2022-08-03T21:18:00.691152Z",
          "iopub.status.busy": "2022-08-03T21:18:00.689938Z",
          "iopub.status.idle": "2022-08-03T21:18:00.788018Z",
          "shell.execute_reply": "2022-08-03T21:18:00.786418Z"
        },
        "id": "a5128467",
        "outputId": "5666b8a2-4790-4fbd-b5ec-857f3c09157d",
        "papermill": {
          "duration": 0.13101,
          "end_time": "2022-08-03T21:18:00.791066",
          "exception": false,
          "start_time": "2022-08-03T21:18:00.660056",
          "status": "completed"
        },
        "tags": []
      },
      "outputs": [
        {
          "name": "stdout",
          "output_type": "stream",
          "text": [
            "              precision    recall  f1-score   support\n",
            "\n",
            "           0       0.63      0.94      0.75      4161\n",
            "           1       0.75      0.37      0.50      1882\n",
            "           2       0.71      0.09      0.16      1280\n",
            "\n",
            "   micro avg       0.64      0.64      0.64      7323\n",
            "   macro avg       0.69      0.47      0.47      7323\n",
            "weighted avg       0.67      0.64      0.58      7323\n",
            " samples avg       0.64      0.64      0.64      7323\n",
            "\n"
          ]
        }
      ],
      "source": [
        "print(\n",
        "    classification_report(df_labels_test, predict_from_nparray((combinaison_GB_and_RF)))\n",
        ")"
      ]
    },
    {
      "cell_type": "code",
      "execution_count": null,
      "id": "50f1e31f",
      "metadata": {
        "execution": {
          "iopub.execute_input": "2022-08-03T21:18:00.851124Z",
          "iopub.status.busy": "2022-08-03T21:18:00.850704Z",
          "iopub.status.idle": "2022-08-03T21:18:00.949937Z",
          "shell.execute_reply": "2022-08-03T21:18:00.948971Z"
        },
        "id": "50f1e31f",
        "outputId": "3caf50c2-259b-46eb-8246-f73ef9141e39",
        "papermill": {
          "duration": 0.133357,
          "end_time": "2022-08-03T21:18:00.953429",
          "exception": false,
          "start_time": "2022-08-03T21:18:00.820072",
          "status": "completed"
        },
        "tags": []
      },
      "outputs": [
        {
          "name": "stdout",
          "output_type": "stream",
          "text": [
            "              precision    recall  f1-score   support\n",
            "\n",
            "           0       0.65      0.88      0.75      4161\n",
            "           1       0.71      0.49      0.58      1882\n",
            "           2       0.57      0.16      0.25      1280\n",
            "\n",
            "   micro avg       0.65      0.65      0.65      7323\n",
            "   macro avg       0.64      0.51      0.52      7323\n",
            "weighted avg       0.65      0.65      0.62      7323\n",
            " samples avg       0.65      0.65      0.65      7323\n",
            "\n"
          ]
        }
      ],
      "source": [
        "print(\n",
        "    classification_report(df_labels_test, predict_from_nparray((combinaison_RF_and_LR)))\n",
        ")"
      ]
    },
    {
      "cell_type": "markdown",
      "id": "b2986979",
      "metadata": {
        "id": "b2986979",
        "papermill": {
          "duration": 0.02777,
          "end_time": "2022-08-03T21:18:01.009758",
          "exception": false,
          "start_time": "2022-08-03T21:18:00.981988",
          "status": "completed"
        },
        "tags": []
      },
      "source": [
        "# Prediction"
      ]
    },
    {
      "cell_type": "code",
      "execution_count": null,
      "id": "004f485c",
      "metadata": {
        "execution": {
          "iopub.execute_input": "2022-08-03T21:18:01.068844Z",
          "iopub.status.busy": "2022-08-03T21:18:01.068396Z",
          "iopub.status.idle": "2022-08-03T21:18:01.075876Z",
          "shell.execute_reply": "2022-08-03T21:18:01.074751Z"
        },
        "id": "004f485c",
        "papermill": {
          "duration": 0.040471,
          "end_time": "2022-08-03T21:18:01.078214",
          "exception": false,
          "start_time": "2022-08-03T21:18:01.037743",
          "status": "completed"
        },
        "tags": []
      },
      "outputs": [],
      "source": [
        "def pipeline_from_dataset_to_tokens(df, nb_words_to_save):\n",
        "    df[\"discourse_text_tokenized\"] = df[\"discourse_text\"].apply(create_token)\n",
        "    df[\"discourse_text_lemmatized\"] = df[\"discourse_text_tokenized\"].apply(\n",
        "        create_lemmatization\n",
        "    )\n",
        "    df[\"no_stop_words\"] = df[\"discourse_text_lemmatized\"].transform(\n",
        "        delete_stop_words_in_corpus\n",
        "    )\n",
        "    df[\"only_\" + str(nb_words_to_save) + \"_tokens\"] = df[\"no_stop_words\"].apply(\n",
        "        delete_if_not_in\n",
        "    )\n",
        "    df[\"Longueur_texte\"] = df[\"only_\" + str(nb_words_to_save) + \"_tokens\"].apply(\n",
        "        counter_len_in_text\n",
        "    )\n",
        "    df[\"type_and_tokens\"] = (\n",
        "        df[\"discourse_type\"].map(lambda i: [i])\n",
        "        + df[\"only_\" + str(nb_words_to_save) + \"_tokens\"]\n",
        "    )\n",
        "    # df = df[df['Longueur_texte']<150]\n",
        "    print(df.shape)\n",
        "    return df"
      ]
    },
    {
      "cell_type": "code",
      "execution_count": null,
      "id": "20b83cdb",
      "metadata": {
        "execution": {
          "iopub.execute_input": "2022-08-03T21:18:01.136747Z",
          "iopub.status.busy": "2022-08-03T21:18:01.136294Z",
          "iopub.status.idle": "2022-08-03T21:18:01.166940Z",
          "shell.execute_reply": "2022-08-03T21:18:01.165536Z"
        },
        "id": "20b83cdb",
        "outputId": "1df89820-a6db-43b1-cf17-1adfe05dd14e",
        "papermill": {
          "duration": 0.063954,
          "end_time": "2022-08-03T21:18:01.170276",
          "exception": false,
          "start_time": "2022-08-03T21:18:01.106322",
          "status": "completed"
        },
        "tags": []
      },
      "outputs": [
        {
          "name": "stdout",
          "output_type": "stream",
          "text": [
            "(10, 10)\n"
          ]
        }
      ],
      "source": [
        "df_needed_to_predict = pd.read_csv(\"../input/feedback-prize-effectiveness/test.csv\")\n",
        "df_needed_to_predict_take_token = pipeline_from_dataset_to_tokens(\n",
        "    df_needed_to_predict, nb_words_to_save=nb_words_to_save\n",
        ")\n",
        "X_to_predict = df_needed_to_predict_take_token[\"type_and_tokens\"]"
      ]
    },
    {
      "cell_type": "code",
      "execution_count": null,
      "id": "a8ffb8b7",
      "metadata": {
        "execution": {
          "iopub.execute_input": "2022-08-03T21:18:01.228856Z",
          "iopub.status.busy": "2022-08-03T21:18:01.228409Z",
          "iopub.status.idle": "2022-08-03T21:18:01.239414Z",
          "shell.execute_reply": "2022-08-03T21:18:01.238547Z"
        },
        "id": "a8ffb8b7",
        "papermill": {
          "duration": 0.043016,
          "end_time": "2022-08-03T21:18:01.241862",
          "exception": false,
          "start_time": "2022-08-03T21:18:01.198846",
          "status": "completed"
        },
        "tags": []
      },
      "outputs": [],
      "source": [
        "list_words_test = X_to_predict.tolist()\n",
        "list_corpus_test = []\n",
        "for element in list_words_test:\n",
        "    list_corpus_test.append(\" \".join(element))\n",
        "X_to_predict_encoded = pd.DataFrame(\n",
        "    data=tfidf_model.transform(list_corpus_test).toarray(), columns=tfidf_tokens\n",
        ")"
      ]
    },
    {
      "cell_type": "code",
      "execution_count": null,
      "id": "cc48ba6d",
      "metadata": {
        "execution": {
          "iopub.execute_input": "2022-08-03T21:18:01.300448Z",
          "iopub.status.busy": "2022-08-03T21:18:01.299683Z",
          "iopub.status.idle": "2022-08-03T21:18:01.418507Z",
          "shell.execute_reply": "2022-08-03T21:18:01.417185Z"
        },
        "papermill": {
          "duration": 0.15195,
          "end_time": "2022-08-03T21:18:01.422076",
          "exception": false,
          "start_time": "2022-08-03T21:18:01.270126",
          "status": "completed"
        },
        "tags": [],
        "id": "cc48ba6d"
      },
      "outputs": [],
      "source": [
        "proba_R_F = model_R_F.predict_proba(X_to_predict_encoded)\n",
        "proba_R_F_normalized = (proba_R_F.T / proba_R_F.sum(axis=1)).T\n",
        "\n",
        "proba_L_R = model_L_R.predict_proba(X_to_predict_encoded)\n",
        "proba_L_R_normalized = (proba_L_R.T / proba_L_R.sum(axis=1)).T\n",
        "\n",
        "proba_GB = model_GB_C.predict_proba(X_to_predict_encoded)\n",
        "proba_GB_normalized = (proba_GB.T / proba_GB.sum(axis=1)).T\n",
        "\n",
        "combinaison_all = (\n",
        "    proba_GB_normalized + proba_L_R_normalized + proba_R_F_normalized\n",
        ") / 3"
      ]
    },
    {
      "cell_type": "code",
      "execution_count": null,
      "id": "277e40d6",
      "metadata": {
        "execution": {
          "iopub.execute_input": "2022-08-03T21:18:01.580059Z",
          "iopub.status.busy": "2022-08-03T21:18:01.579208Z",
          "iopub.status.idle": "2022-08-03T21:18:01.584921Z",
          "shell.execute_reply": "2022-08-03T21:18:01.583997Z"
        },
        "id": "277e40d6",
        "papermill": {
          "duration": 0.037634,
          "end_time": "2022-08-03T21:18:01.587177",
          "exception": false,
          "start_time": "2022-08-03T21:18:01.549543",
          "status": "completed"
        },
        "tags": []
      },
      "outputs": [],
      "source": [
        "df_predicted = pd.DataFrame(combinaison_all, columns=list(lb.classes_))"
      ]
    },
    {
      "cell_type": "code",
      "execution_count": null,
      "id": "71688d75",
      "metadata": {
        "execution": {
          "iopub.execute_input": "2022-08-03T21:18:01.646975Z",
          "iopub.status.busy": "2022-08-03T21:18:01.646512Z",
          "iopub.status.idle": "2022-08-03T21:18:01.666408Z",
          "shell.execute_reply": "2022-08-03T21:18:01.665427Z"
        },
        "id": "71688d75",
        "outputId": "c23cc1cb-6b6a-4916-d49c-344a08fc2feb",
        "papermill": {
          "duration": 0.053174,
          "end_time": "2022-08-03T21:18:01.668873",
          "exception": false,
          "start_time": "2022-08-03T21:18:01.615699",
          "status": "completed"
        },
        "tags": []
      },
      "outputs": [
        {
          "data": {
            "text/html": [
              "<div>\n",
              "<style scoped>\n",
              "    .dataframe tbody tr th:only-of-type {\n",
              "        vertical-align: middle;\n",
              "    }\n",
              "\n",
              "    .dataframe tbody tr th {\n",
              "        vertical-align: top;\n",
              "    }\n",
              "\n",
              "    .dataframe thead th {\n",
              "        text-align: right;\n",
              "    }\n",
              "</style>\n",
              "<table border=\"1\" class=\"dataframe\">\n",
              "  <thead>\n",
              "    <tr style=\"text-align: right;\">\n",
              "      <th></th>\n",
              "      <th>discourse_id</th>\n",
              "      <th>Ineffective</th>\n",
              "      <th>Adequate</th>\n",
              "      <th>Effective</th>\n",
              "    </tr>\n",
              "  </thead>\n",
              "  <tbody>\n",
              "    <tr>\n",
              "      <th>0</th>\n",
              "      <td>a261b6e14276</td>\n",
              "      <td>0.032640</td>\n",
              "      <td>0.358633</td>\n",
              "      <td>0.608727</td>\n",
              "    </tr>\n",
              "    <tr>\n",
              "      <th>1</th>\n",
              "      <td>5a88900e7dc1</td>\n",
              "      <td>0.041323</td>\n",
              "      <td>0.749195</td>\n",
              "      <td>0.209482</td>\n",
              "    </tr>\n",
              "    <tr>\n",
              "      <th>2</th>\n",
              "      <td>9790d835736b</td>\n",
              "      <td>0.051597</td>\n",
              "      <td>0.475606</td>\n",
              "      <td>0.472797</td>\n",
              "    </tr>\n",
              "    <tr>\n",
              "      <th>3</th>\n",
              "      <td>75ce6d68b67b</td>\n",
              "      <td>0.082186</td>\n",
              "      <td>0.679467</td>\n",
              "      <td>0.238347</td>\n",
              "    </tr>\n",
              "    <tr>\n",
              "      <th>4</th>\n",
              "      <td>93578d946723</td>\n",
              "      <td>0.111057</td>\n",
              "      <td>0.403965</td>\n",
              "      <td>0.484977</td>\n",
              "    </tr>\n",
              "    <tr>\n",
              "      <th>5</th>\n",
              "      <td>2e214524dbe3</td>\n",
              "      <td>0.088166</td>\n",
              "      <td>0.275803</td>\n",
              "      <td>0.636031</td>\n",
              "    </tr>\n",
              "    <tr>\n",
              "      <th>6</th>\n",
              "      <td>84812fc2ab9f</td>\n",
              "      <td>0.043443</td>\n",
              "      <td>0.280609</td>\n",
              "      <td>0.675948</td>\n",
              "    </tr>\n",
              "    <tr>\n",
              "      <th>7</th>\n",
              "      <td>c668ff840720</td>\n",
              "      <td>0.044239</td>\n",
              "      <td>0.365004</td>\n",
              "      <td>0.590757</td>\n",
              "    </tr>\n",
              "    <tr>\n",
              "      <th>8</th>\n",
              "      <td>739a6d00f44a</td>\n",
              "      <td>0.185741</td>\n",
              "      <td>0.362245</td>\n",
              "      <td>0.452014</td>\n",
              "    </tr>\n",
              "    <tr>\n",
              "      <th>9</th>\n",
              "      <td>bcfae2c9a244</td>\n",
              "      <td>0.036747</td>\n",
              "      <td>0.275640</td>\n",
              "      <td>0.687614</td>\n",
              "    </tr>\n",
              "  </tbody>\n",
              "</table>\n",
              "</div>"
            ],
            "text/plain": [
              "   discourse_id  Ineffective  Adequate  Effective\n",
              "0  a261b6e14276     0.032640  0.358633   0.608727\n",
              "1  5a88900e7dc1     0.041323  0.749195   0.209482\n",
              "2  9790d835736b     0.051597  0.475606   0.472797\n",
              "3  75ce6d68b67b     0.082186  0.679467   0.238347\n",
              "4  93578d946723     0.111057  0.403965   0.484977\n",
              "5  2e214524dbe3     0.088166  0.275803   0.636031\n",
              "6  84812fc2ab9f     0.043443  0.280609   0.675948\n",
              "7  c668ff840720     0.044239  0.365004   0.590757\n",
              "8  739a6d00f44a     0.185741  0.362245   0.452014\n",
              "9  bcfae2c9a244     0.036747  0.275640   0.687614"
            ]
          },
          "execution_count": 64,
          "metadata": {},
          "output_type": "execute_result"
        }
      ],
      "source": [
        "# df_predicted = pd.DataFrame(grid_L_R.predict_proba(X_to_predict_encoded), columns = list(lb.classes_))\n",
        "df_predicted[\"discourse_id\"] = df_needed_to_predict[\"discourse_id\"]\n",
        "df_predicted = df_predicted[[\"discourse_id\", \"Ineffective\", \"Adequate\", \"Effective\"]]\n",
        "df_predicted.to_csv(\"submission.csv\", index=False)\n",
        "df_predicted"
      ]
    }
  ],
  "metadata": {
    "kernelspec": {
      "display_name": "Python 3",
      "language": "python",
      "name": "python3"
    },
    "language_info": {
      "codemirror_mode": {
        "name": "ipython",
        "version": 3
      },
      "file_extension": ".py",
      "mimetype": "text/x-python",
      "name": "python",
      "nbconvert_exporter": "python",
      "pygments_lexer": "ipython3",
      "version": "3.7.12"
    },
    "papermill": {
      "default_parameters": {},
      "duration": 1532.685026,
      "end_time": "2022-08-03T21:18:03.326373",
      "environment_variables": {},
      "exception": null,
      "input_path": "__notebook__.ipynb",
      "output_path": "__notebook__.ipynb",
      "parameters": {},
      "start_time": "2022-08-03T20:52:30.641347",
      "version": "2.3.4"
    },
    "colab": {
      "name": "P8_EDA_TF_IDF_MODELS.ipynb",
      "provenance": [],
      "collapsed_sections": [
        "d736476a",
        "172447dd",
        "9f81b692",
        "acc10b5a"
      ],
      "include_colab_link": true
    }
  },
  "nbformat": 4,
  "nbformat_minor": 5
}