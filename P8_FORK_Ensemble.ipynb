{
  "cells": [
    {
      "cell_type": "markdown",
      "metadata": {
        "id": "view-in-github",
        "colab_type": "text"
      },
      "source": [
        "<a href=\"https://colab.research.google.com/github/bonnefco/P8/blob/main/P8_FORK_Ensemble.ipynb\" target=\"_parent\"><img src=\"https://colab.research.google.com/assets/colab-badge.svg\" alt=\"Open In Colab\"/></a>"
      ]
    },
    {
      "cell_type": "markdown",
      "id": "18396b73",
      "metadata": {
        "papermill": {
          "duration": 0.014736,
          "end_time": "2022-08-08T18:10:53.916837",
          "exception": false,
          "start_time": "2022-08-08T18:10:53.902101",
          "status": "completed"
        },
        "tags": [],
        "id": "18396b73"
      },
      "source": [
        "## Ensemble of models\n",
        "\n",
        "1. feedback_deberta_large_LB0.619 / Score: 0.619\n",
        "> https://www.kaggle.com/code/brandonhu0215/feedback-deberta-large-lb0-619\n",
        "\n",
        "2. RoBerta-base Inference v2.0 / Score: 0.649\n",
        "> https://www.kaggle.com/code/arvissu/roberta-base-inference-v2-0\n",
        "\n",
        "3. Ensemble Learning \n",
        "> https://www.kaggle.com/code/renokan/fork-ensemble-deberta-roberta\n",
        "\n",
        "\n",
        "#### If these notebooks are helpful, please upvote the original versions:\n"
      ]
    },
    {
      "cell_type": "markdown",
      "id": "557febda",
      "metadata": {
        "papermill": {
          "duration": 0.012778,
          "end_time": "2022-08-08T18:10:53.968576",
          "exception": false,
          "start_time": "2022-08-08T18:10:53.955798",
          "status": "completed"
        },
        "tags": [],
        "id": "557febda"
      },
      "source": [
        "# 1. Import & Def & Set & Load"
      ]
    },
    {
      "cell_type": "code",
      "execution_count": null,
      "id": "9d2a06ac",
      "metadata": {
        "_cell_guid": "b1076dfc-b9ad-4769-8c92-a6c4dae69d19",
        "_kg_hide-input": true,
        "_uuid": "8f2839f25d086af736a60e9eeb907d3b93b6e0e5",
        "execution": {
          "iopub.execute_input": "2022-08-08T18:10:53.997036Z",
          "iopub.status.busy": "2022-08-08T18:10:53.996433Z",
          "iopub.status.idle": "2022-08-08T18:11:03.156163Z",
          "shell.execute_reply": "2022-08-08T18:11:03.155022Z"
        },
        "papermill": {
          "duration": 9.178345,
          "end_time": "2022-08-08T18:11:03.159150",
          "exception": false,
          "start_time": "2022-08-08T18:10:53.980805",
          "status": "completed"
        },
        "tags": [],
        "id": "9d2a06ac"
      },
      "outputs": [],
      "source": [
        "import gc\n",
        "import os\n",
        "import pickle\n",
        "import glob\n",
        "\n",
        "from text_unidecode import unidecode\n",
        "from typing import Dict, List, Tuple\n",
        "import codecs\n",
        "\n",
        "import numpy as np\n",
        "import pandas as pd\n",
        "\n",
        "from tqdm import tqdm\n",
        "\n",
        "import seaborn as sns\n",
        "\n",
        "import torch\n",
        "import torch.nn as nn\n",
        "import torch.nn.functional as F\n",
        "\n",
        "from torch.nn import Parameter\n",
        "from torch.utils.data import Dataset, DataLoader\n",
        "\n",
        "from transformers import AutoModel, AutoTokenizer, AutoConfig\n",
        "\n",
        "import warnings\n",
        "warnings.simplefilter('ignore')"
      ]
    },
    {
      "cell_type": "code",
      "execution_count": null,
      "id": "6ba64e39",
      "metadata": {
        "_kg_hide-input": true,
        "execution": {
          "iopub.execute_input": "2022-08-08T18:11:03.186904Z",
          "iopub.status.busy": "2022-08-08T18:11:03.185990Z",
          "iopub.status.idle": "2022-08-08T18:11:03.200633Z",
          "shell.execute_reply": "2022-08-08T18:11:03.199565Z"
        },
        "papermill": {
          "duration": 0.030824,
          "end_time": "2022-08-08T18:11:03.202873",
          "exception": false,
          "start_time": "2022-08-08T18:11:03.172049",
          "status": "completed"
        },
        "tags": [],
        "id": "6ba64e39"
      },
      "outputs": [],
      "source": [
        "def replace_encoding_with_utf8(error: UnicodeError) -> Tuple[bytes, int]:\n",
        "    return error.object[error.start : error.end].encode(\"utf-8\"), error.end\n",
        "\n",
        "\n",
        "def replace_decoding_with_cp1252(error: UnicodeError) -> Tuple[str, int]:\n",
        "    return error.object[error.start : error.end].decode(\"cp1252\"), error.end\n",
        "\n",
        "codecs.register_error(\"replace_encoding_with_utf8\", replace_encoding_with_utf8)\n",
        "codecs.register_error(\"replace_decoding_with_cp1252\", replace_decoding_with_cp1252)\n",
        "\n",
        "\n",
        "def resolve_encodings_and_normalize(text: str) -> str:\n",
        "    text = (\n",
        "        text.encode(\"raw_unicode_escape\")\n",
        "        .decode(\"utf-8\", errors=\"replace_decoding_with_cp1252\")\n",
        "        .encode(\"cp1252\", errors=\"replace_encoding_with_utf8\")\n",
        "        .decode(\"utf-8\", errors=\"replace_decoding_with_cp1252\")\n",
        "    )\n",
        "    \n",
        "    text = unidecode(text)\n",
        "    \n",
        "    return text\n",
        "\n",
        "\n",
        "def fetch_essay(essay_id: str, txt_dir: str):\n",
        "    essay_path = os.path.join(COMP_DIR + txt_dir, essay_id + '.txt')\n",
        "    essay_text = open(essay_path, 'r').read()\n",
        "    \n",
        "    return essay_text\n",
        "\n",
        "\n",
        "def prepare_input(cfg, text, text_2=None):\n",
        "    inputs = cfg.tokenizer(text, text_2,\n",
        "                           padding=\"max_length\",\n",
        "                           add_special_tokens=True,\n",
        "                           max_length=cfg.max_len,\n",
        "                           truncation=True)\n",
        "\n",
        "    for k, v in inputs.items():\n",
        "        inputs[k] = torch.tensor(v, dtype=torch.long)\n",
        "        \n",
        "    return inputs\n",
        "\n",
        "\n",
        "def inference_fn(test_loader, model, device):\n",
        "    preds = []\n",
        "    model.eval()\n",
        "    model.to(device)\n",
        "    tk0 = tqdm(test_loader, total=len(test_loader))\n",
        "    \n",
        "    for inputs in tk0:\n",
        "        for k, v in inputs.items():\n",
        "            inputs[k] = v.to(device)\n",
        "            \n",
        "        with torch.no_grad():\n",
        "            output = model(inputs)\n",
        "        \n",
        "        preds.append(F.softmax(output).to('cpu').numpy())\n",
        "\n",
        "    return np.concatenate(preds)  \n",
        "\n",
        "\n",
        "def show_gradient(df, n_row=None):\n",
        "    if not n_row:\n",
        "        n_row = 5\n",
        "\n",
        "    return df.head(n_row) \\\n",
        "                .assign(all_mean=lambda x: x.mean(axis=1)) \\\n",
        "                    .style.background_gradient(cmap=cm, axis=1)"
      ]
    },
    {
      "cell_type": "code",
      "execution_count": null,
      "id": "3d340537",
      "metadata": {
        "execution": {
          "iopub.execute_input": "2022-08-08T18:11:03.229759Z",
          "iopub.status.busy": "2022-08-08T18:11:03.229457Z",
          "iopub.status.idle": "2022-08-08T18:11:03.327833Z",
          "shell.execute_reply": "2022-08-08T18:11:03.326686Z"
        },
        "papermill": {
          "duration": 0.115178,
          "end_time": "2022-08-08T18:11:03.330406",
          "exception": false,
          "start_time": "2022-08-08T18:11:03.215228",
          "status": "completed"
        },
        "tags": [],
        "id": "3d340537"
      },
      "outputs": [],
      "source": [
        "pd.set_option('display.precision', 4)\n",
        "cm = sns.light_palette('green', as_cmap=True)\n",
        "props_param = \"color:white; font-weight:bold; background-color:green;\"\n",
        "\n",
        "N_ROW = 10\n",
        "\n",
        "COMP_DIR = \"../input/feedback-prize-effectiveness/\"\n",
        "DEVICE = torch.device('cuda' if torch.cuda.is_available() else 'cpu')"
      ]
    },
    {
      "cell_type": "code",
      "execution_count": null,
      "id": "0f106160",
      "metadata": {
        "execution": {
          "iopub.execute_input": "2022-08-08T18:11:03.357717Z",
          "iopub.status.busy": "2022-08-08T18:11:03.356903Z",
          "iopub.status.idle": "2022-08-08T18:11:03.379952Z",
          "shell.execute_reply": "2022-08-08T18:11:03.378994Z"
        },
        "papermill": {
          "duration": 0.039184,
          "end_time": "2022-08-08T18:11:03.382610",
          "exception": false,
          "start_time": "2022-08-08T18:11:03.343426",
          "status": "completed"
        },
        "tags": [],
        "id": "0f106160"
      },
      "outputs": [],
      "source": [
        "test_path = COMP_DIR + \"test.csv\"\n",
        "submission_path = COMP_DIR + \"sample_submission.csv\"\n",
        "\n",
        "test_origin = pd.read_csv(test_path)\n",
        "submission_origin = pd.read_csv(submission_path)"
      ]
    },
    {
      "cell_type": "code",
      "execution_count": null,
      "id": "56ab274e",
      "metadata": {
        "execution": {
          "iopub.execute_input": "2022-08-08T18:11:03.409807Z",
          "iopub.status.busy": "2022-08-08T18:11:03.409498Z",
          "iopub.status.idle": "2022-08-08T18:11:03.428418Z",
          "shell.execute_reply": "2022-08-08T18:11:03.427201Z"
        },
        "papermill": {
          "duration": 0.03584,
          "end_time": "2022-08-08T18:11:03.431584",
          "exception": false,
          "start_time": "2022-08-08T18:11:03.395744",
          "status": "completed"
        },
        "tags": [],
        "id": "56ab274e",
        "outputId": "791867dc-7a74-4202-ef5a-9c548dcea2f8"
      },
      "outputs": [
        {
          "data": {
            "text/html": [
              "<div>\n",
              "<style scoped>\n",
              "    .dataframe tbody tr th:only-of-type {\n",
              "        vertical-align: middle;\n",
              "    }\n",
              "\n",
              "    .dataframe tbody tr th {\n",
              "        vertical-align: top;\n",
              "    }\n",
              "\n",
              "    .dataframe thead th {\n",
              "        text-align: right;\n",
              "    }\n",
              "</style>\n",
              "<table border=\"1\" class=\"dataframe\">\n",
              "  <thead>\n",
              "    <tr style=\"text-align: right;\">\n",
              "      <th></th>\n",
              "      <th>discourse_id</th>\n",
              "      <th>essay_id</th>\n",
              "      <th>discourse_text</th>\n",
              "      <th>discourse_type</th>\n",
              "    </tr>\n",
              "  </thead>\n",
              "  <tbody>\n",
              "    <tr>\n",
              "      <th>0</th>\n",
              "      <td>a261b6e14276</td>\n",
              "      <td>D72CB1C11673</td>\n",
              "      <td>Making choices in life can be very difficult. ...</td>\n",
              "      <td>Lead</td>\n",
              "    </tr>\n",
              "    <tr>\n",
              "      <th>1</th>\n",
              "      <td>5a88900e7dc1</td>\n",
              "      <td>D72CB1C11673</td>\n",
              "      <td>Seeking multiple opinions can help a person ma...</td>\n",
              "      <td>Position</td>\n",
              "    </tr>\n",
              "    <tr>\n",
              "      <th>2</th>\n",
              "      <td>9790d835736b</td>\n",
              "      <td>D72CB1C11673</td>\n",
              "      <td>it can decrease stress levels</td>\n",
              "      <td>Claim</td>\n",
              "    </tr>\n",
              "    <tr>\n",
              "      <th>3</th>\n",
              "      <td>75ce6d68b67b</td>\n",
              "      <td>D72CB1C11673</td>\n",
              "      <td>a great chance to learn something new</td>\n",
              "      <td>Claim</td>\n",
              "    </tr>\n",
              "    <tr>\n",
              "      <th>4</th>\n",
              "      <td>93578d946723</td>\n",
              "      <td>D72CB1C11673</td>\n",
              "      <td>can be very helpful and beneficial.</td>\n",
              "      <td>Claim</td>\n",
              "    </tr>\n",
              "  </tbody>\n",
              "</table>\n",
              "</div>"
            ],
            "text/plain": [
              "   discourse_id      essay_id  \\\n",
              "0  a261b6e14276  D72CB1C11673   \n",
              "1  5a88900e7dc1  D72CB1C11673   \n",
              "2  9790d835736b  D72CB1C11673   \n",
              "3  75ce6d68b67b  D72CB1C11673   \n",
              "4  93578d946723  D72CB1C11673   \n",
              "\n",
              "                                      discourse_text discourse_type  \n",
              "0  Making choices in life can be very difficult. ...           Lead  \n",
              "1  Seeking multiple opinions can help a person ma...       Position  \n",
              "2                     it can decrease stress levels           Claim  \n",
              "3             a great chance to learn something new           Claim  \n",
              "4               can be very helpful and beneficial.           Claim  "
            ]
          },
          "execution_count": 5,
          "metadata": {},
          "output_type": "execute_result"
        }
      ],
      "source": [
        "test_origin.head()"
      ]
    },
    {
      "cell_type": "markdown",
      "id": "a73807a4",
      "metadata": {
        "papermill": {
          "duration": 0.012567,
          "end_time": "2022-08-08T18:11:03.456909",
          "exception": false,
          "start_time": "2022-08-08T18:11:03.444342",
          "status": "completed"
        },
        "tags": [],
        "id": "a73807a4"
      },
      "source": [
        "# 2. Check unidecode(text)\n",
        "\n",
        "```\n",
        "def resolve_encodings_and_normalize(text: str) -> str:\n",
        "    text = (\n",
        "        text.encode(\"raw_unicode_escape\")\n",
        "        .decode(\"utf-8\", errors=\"replace_decoding_with_cp1252\")\n",
        "        .encode(\"cp1252\", errors=\"replace_encoding_with_utf8\")\n",
        "        .decode(\"utf-8\", errors=\"replace_decoding_with_cp1252\")\n",
        "    )\n",
        "    \n",
        "    text = unidecode(text)\n",
        "```"
      ]
    },
    {
      "cell_type": "code",
      "execution_count": null,
      "id": "9ca342a8",
      "metadata": {
        "execution": {
          "iopub.execute_input": "2022-08-08T18:11:03.483824Z",
          "iopub.status.busy": "2022-08-08T18:11:03.482856Z",
          "iopub.status.idle": "2022-08-08T18:11:03.790987Z",
          "shell.execute_reply": "2022-08-08T18:11:03.789926Z"
        },
        "papermill": {
          "duration": 0.323568,
          "end_time": "2022-08-08T18:11:03.793201",
          "exception": false,
          "start_time": "2022-08-08T18:11:03.469633",
          "status": "completed"
        },
        "tags": [],
        "id": "9ca342a8",
        "outputId": "72cb6989-5aec-4f7e-adf5-0d9f886b269a"
      },
      "outputs": [
        {
          "data": {
            "text/html": [
              "<div>\n",
              "<style scoped>\n",
              "    .dataframe tbody tr th:only-of-type {\n",
              "        vertical-align: middle;\n",
              "    }\n",
              "\n",
              "    .dataframe tbody tr th {\n",
              "        vertical-align: top;\n",
              "    }\n",
              "\n",
              "    .dataframe thead th {\n",
              "        text-align: right;\n",
              "    }\n",
              "</style>\n",
              "<table border=\"1\" class=\"dataframe\">\n",
              "  <thead>\n",
              "    <tr style=\"text-align: right;\">\n",
              "      <th></th>\n",
              "      <th>essay_id</th>\n",
              "      <th>discourse_text</th>\n",
              "    </tr>\n",
              "  </thead>\n",
              "  <tbody>\n",
              "    <tr>\n",
              "      <th>49</th>\n",
              "      <td>0158970BC5D2</td>\n",
              "      <td>Often times throughout middle school, my teach...</td>\n",
              "    </tr>\n",
              "    <tr>\n",
              "      <th>80</th>\n",
              "      <td>01AFC67DF935</td>\n",
              "      <td>President Obama has done nothing to improve ou...</td>\n",
              "    </tr>\n",
              "    <tr>\n",
              "      <th>945</th>\n",
              "      <td>11B9AC1814C8</td>\n",
              "      <td>The article says, ¨... humans have sent numero...</td>\n",
              "    </tr>\n",
              "    <tr>\n",
              "      <th>947</th>\n",
              "      <td>11B9AC1814C8</td>\n",
              "      <td>However, the article says that this can only g...</td>\n",
              "    </tr>\n",
              "    <tr>\n",
              "      <th>1870</th>\n",
              "      <td>22E8627A3CB9</td>\n",
              "      <td>Many people are able to tell when a peer is an...</td>\n",
              "    </tr>\n",
              "  </tbody>\n",
              "</table>\n",
              "</div>"
            ],
            "text/plain": [
              "          essay_id                                     discourse_text\n",
              "49    0158970BC5D2  Often times throughout middle school, my teach...\n",
              "80    01AFC67DF935  President Obama has done nothing to improve ou...\n",
              "945   11B9AC1814C8  The article says, ¨... humans have sent numero...\n",
              "947   11B9AC1814C8  However, the article says that this can only g...\n",
              "1870  22E8627A3CB9  Many people are able to tell when a peer is an..."
            ]
          },
          "execution_count": 6,
          "metadata": {},
          "output_type": "execute_result"
        }
      ],
      "source": [
        "data_path = \"../input/feedback-prize-effectiveness/train.csv\"\n",
        "cols_list = ['essay_id', 'discourse_text']\n",
        "idxs_list = [49, 80, 945, 947, 1870]\n",
        "\n",
        "temp = pd.read_csv(data_path, usecols=cols_list).loc[idxs_list, :]\n",
        "temp"
      ]
    },
    {
      "cell_type": "code",
      "execution_count": null,
      "id": "80cc0b6d",
      "metadata": {
        "execution": {
          "iopub.execute_input": "2022-08-08T18:11:03.822456Z",
          "iopub.status.busy": "2022-08-08T18:11:03.821423Z",
          "iopub.status.idle": "2022-08-08T18:11:03.882075Z",
          "shell.execute_reply": "2022-08-08T18:11:03.881036Z"
        },
        "papermill": {
          "duration": 0.077686,
          "end_time": "2022-08-08T18:11:03.884395",
          "exception": false,
          "start_time": "2022-08-08T18:11:03.806709",
          "status": "completed"
        },
        "tags": [],
        "id": "80cc0b6d"
      },
      "outputs": [],
      "source": [
        "temp['discourse_text_UPD'] = temp['discourse_text'].apply(resolve_encodings_and_normalize)\n",
        "temp['essay_text'] = temp['essay_id'].transform(fetch_essay, txt_dir='train')\n",
        "temp['essay_text_UPD'] = temp['essay_text'].apply(resolve_encodings_and_normalize)"
      ]
    },
    {
      "cell_type": "code",
      "execution_count": null,
      "id": "99ffa637",
      "metadata": {
        "execution": {
          "iopub.execute_input": "2022-08-08T18:11:03.912356Z",
          "iopub.status.busy": "2022-08-08T18:11:03.911382Z",
          "iopub.status.idle": "2022-08-08T18:11:03.918370Z",
          "shell.execute_reply": "2022-08-08T18:11:03.917295Z"
        },
        "papermill": {
          "duration": 0.023022,
          "end_time": "2022-08-08T18:11:03.920357",
          "exception": false,
          "start_time": "2022-08-08T18:11:03.897335",
          "status": "completed"
        },
        "tags": [],
        "id": "99ffa637"
      },
      "outputs": [],
      "source": [
        "for n, row in enumerate(temp.iterrows()):\n",
        "    indx, data = row\n",
        "    disc_text = data.discourse_text\n",
        "    disc_text_upd = data.discourse_text_UPD"
      ]
    },
    {
      "cell_type": "markdown",
      "id": "f58d1645",
      "metadata": {
        "papermill": {
          "duration": 0.013211,
          "end_time": "2022-08-08T18:11:03.945206",
          "exception": false,
          "start_time": "2022-08-08T18:11:03.931995",
          "status": "completed"
        },
        "tags": [],
        "id": "f58d1645"
      },
      "source": [
        "# 3. Extract predictions"
      ]
    },
    {
      "cell_type": "markdown",
      "id": "d3936803",
      "metadata": {
        "papermill": {
          "duration": 0.013009,
          "end_time": "2022-08-08T18:11:03.970807",
          "exception": false,
          "start_time": "2022-08-08T18:11:03.957798",
          "status": "completed"
        },
        "tags": [],
        "id": "d3936803"
      },
      "source": [
        "## 3.1 DeBerta"
      ]
    },
    {
      "cell_type": "code",
      "execution_count": null,
      "id": "fa98e5c0",
      "metadata": {
        "_kg_hide-input": true,
        "execution": {
          "iopub.execute_input": "2022-08-08T18:11:04.003427Z",
          "iopub.status.busy": "2022-08-08T18:11:04.002341Z",
          "iopub.status.idle": "2022-08-08T18:11:04.046746Z",
          "shell.execute_reply": "2022-08-08T18:11:04.045242Z"
        },
        "papermill": {
          "duration": 0.068154,
          "end_time": "2022-08-08T18:11:04.050984",
          "exception": false,
          "start_time": "2022-08-08T18:11:03.982830",
          "status": "completed"
        },
        "tags": [],
        "id": "fa98e5c0"
      },
      "outputs": [],
      "source": [
        "class TestDataset(Dataset):\n",
        "    def __init__(self, cfg, df):\n",
        "        self.cfg = cfg\n",
        "        self.text = df['text'].values\n",
        "\n",
        "    def __len__(self):\n",
        "        return len(self.text)\n",
        "\n",
        "    def __getitem__(self, item):    \n",
        "        text = self.text[item]\n",
        "        inputs = prepare_input(self.cfg, text)\n",
        "        \n",
        "        return inputs\n",
        "\n",
        "class CustomModel(nn.Module):\n",
        "    def __init__(self, cfg, config_path=None, pretrained=False):\n",
        "        super().__init__()\n",
        "        self.cfg = cfg\n",
        "        \n",
        "        if config_path is None:\n",
        "            self.config = AutoConfig.from_pretrained(cfg.model, output_hidden_states=True)\n",
        "        else:\n",
        "            self.config = torch.load(config_path)\n",
        "        \n",
        "        if pretrained:\n",
        "            self.model = AutoModel.from_pretrained(cfg.model, config=self.config)\n",
        "        else:\n",
        "            self.model = AutoModel.from_config(self.config)\n",
        "        \n",
        "        self.bilstm = nn.LSTM(self.config.hidden_size, (self.config.hidden_size) // 2, num_layers=2, \n",
        "                              dropout=self.config.hidden_dropout_prob, batch_first=True,\n",
        "                              bidirectional=True)\n",
        "        \n",
        "        # self.dropout = nn.Dropout(0.2)\n",
        "        self.dropout1 = nn.Dropout(0.1)\n",
        "        self.dropout2 = nn.Dropout(0.2)\n",
        "        self.dropout3 = nn.Dropout(0.3)\n",
        "        self.dropout4 = nn.Dropout(0.4)\n",
        "        self.dropout5 = nn.Dropout(0.5)\n",
        "        \n",
        "        self.output = nn.Sequential(\n",
        "            nn.Linear(self.config.hidden_size, 3)  # self.cfg.target_size\n",
        "        )\n",
        "                \n",
        "    def _init_weights(self, module):\n",
        "        if isinstance(module, nn.Linear):\n",
        "            module.weight.data.normal_(mean=0.0, std=self.config.initializer_range)\n",
        "            if module.bias is not None:\n",
        "                module.bias.data.zero_()\n",
        "        elif isinstance(module, nn.Embedding):\n",
        "            module.weight.data.normal_(mean=0.0, std=self.config.initializer_range)\n",
        "            if module.padding_idx is not None:\n",
        "                module.weight.data[module.padding_idx].zero_()\n",
        "        elif isinstance(module, nn.LayerNorm):\n",
        "            module.bias.data.zero_()\n",
        "            module.weight.data.fill_(1.0)\n",
        "\n",
        "    def forward(self, inputs):\n",
        "        sequence_output = self.model(**inputs)[0][:, 0, :]\n",
        "\n",
        "        logits1 = self.output(self.dropout1(sequence_output))\n",
        "        logits2 = self.output(self.dropout2(sequence_output))\n",
        "        logits3 = self.output(self.dropout3(sequence_output))\n",
        "        logits4 = self.output(self.dropout4(sequence_output))\n",
        "        logits5 = self.output(self.dropout5(sequence_output))\n",
        "        logits = (logits1 + logits2 + logits3 + logits4 + logits5) / 5\n",
        "\n",
        "        return logits"
      ]
    },
    {
      "cell_type": "code",
      "execution_count": null,
      "id": "3b9610ea",
      "metadata": {
        "execution": {
          "iopub.execute_input": "2022-08-08T18:11:04.132857Z",
          "iopub.status.busy": "2022-08-08T18:11:04.131999Z",
          "iopub.status.idle": "2022-08-08T18:11:04.396517Z",
          "shell.execute_reply": "2022-08-08T18:11:04.395300Z"
        },
        "papermill": {
          "duration": 0.307417,
          "end_time": "2022-08-08T18:11:04.399417",
          "exception": false,
          "start_time": "2022-08-08T18:11:04.092000",
          "status": "completed"
        },
        "tags": [],
        "id": "3b9610ea"
      },
      "outputs": [],
      "source": [
        "class CFG:\n",
        "    path = \"../input/feedback-deberta-large-051/\"\n",
        "    config_path = path+'config.pth'\n",
        "    model = \"microsoft/deberta-large\"\n",
        "    num_workers = 2\n",
        "    batch_size = 16\n",
        "    max_len = 512\n",
        "    seed = 42\n",
        "    n_fold = 4\n",
        "    \n",
        "CFG.tokenizer = AutoTokenizer.from_pretrained(CFG.path + 'tokenizer')"
      ]
    },
    {
      "cell_type": "code",
      "execution_count": null,
      "id": "17b74d83",
      "metadata": {
        "execution": {
          "iopub.execute_input": "2022-08-08T18:11:04.446876Z",
          "iopub.status.busy": "2022-08-08T18:11:04.446075Z",
          "iopub.status.idle": "2022-08-08T18:11:04.498974Z",
          "shell.execute_reply": "2022-08-08T18:11:04.496506Z"
        },
        "papermill": {
          "duration": 0.080336,
          "end_time": "2022-08-08T18:11:04.502230",
          "exception": false,
          "start_time": "2022-08-08T18:11:04.421894",
          "status": "completed"
        },
        "tags": [],
        "id": "17b74d83",
        "outputId": "4df37960-a6a5-4c77-9919-3058326a46cf"
      },
      "outputs": [
        {
          "data": {
            "text/html": [
              "<div>\n",
              "<style scoped>\n",
              "    .dataframe tbody tr th:only-of-type {\n",
              "        vertical-align: middle;\n",
              "    }\n",
              "\n",
              "    .dataframe tbody tr th {\n",
              "        vertical-align: top;\n",
              "    }\n",
              "\n",
              "    .dataframe thead th {\n",
              "        text-align: right;\n",
              "    }\n",
              "</style>\n",
              "<table border=\"1\" class=\"dataframe\">\n",
              "  <thead>\n",
              "    <tr style=\"text-align: right;\">\n",
              "      <th></th>\n",
              "      <th>discourse_id</th>\n",
              "      <th>essay_id</th>\n",
              "      <th>discourse_text</th>\n",
              "      <th>discourse_type</th>\n",
              "      <th>essay_text</th>\n",
              "      <th>text</th>\n",
              "    </tr>\n",
              "  </thead>\n",
              "  <tbody>\n",
              "    <tr>\n",
              "      <th>0</th>\n",
              "      <td>a261b6e14276</td>\n",
              "      <td>D72CB1C11673</td>\n",
              "      <td>Making choices in life can be very difficult. ...</td>\n",
              "      <td>Lead</td>\n",
              "      <td>Making choices in life can be very difficult. ...</td>\n",
              "      <td>Lead Making choices in life can be very diffic...</td>\n",
              "    </tr>\n",
              "    <tr>\n",
              "      <th>1</th>\n",
              "      <td>5a88900e7dc1</td>\n",
              "      <td>D72CB1C11673</td>\n",
              "      <td>Seeking multiple opinions can help a person ma...</td>\n",
              "      <td>Position</td>\n",
              "      <td>Making choices in life can be very difficult. ...</td>\n",
              "      <td>Position Seeking multiple opinions can help a ...</td>\n",
              "    </tr>\n",
              "    <tr>\n",
              "      <th>2</th>\n",
              "      <td>9790d835736b</td>\n",
              "      <td>D72CB1C11673</td>\n",
              "      <td>it can decrease stress levels</td>\n",
              "      <td>Claim</td>\n",
              "      <td>Making choices in life can be very difficult. ...</td>\n",
              "      <td>Claim it can decrease stress levels [SEP]Makin...</td>\n",
              "    </tr>\n",
              "    <tr>\n",
              "      <th>3</th>\n",
              "      <td>75ce6d68b67b</td>\n",
              "      <td>D72CB1C11673</td>\n",
              "      <td>a great chance to learn something new</td>\n",
              "      <td>Claim</td>\n",
              "      <td>Making choices in life can be very difficult. ...</td>\n",
              "      <td>Claim a great chance to learn something new [S...</td>\n",
              "    </tr>\n",
              "    <tr>\n",
              "      <th>4</th>\n",
              "      <td>93578d946723</td>\n",
              "      <td>D72CB1C11673</td>\n",
              "      <td>can be very helpful and beneficial.</td>\n",
              "      <td>Claim</td>\n",
              "      <td>Making choices in life can be very difficult. ...</td>\n",
              "      <td>Claim can be very helpful and beneficial. [SEP...</td>\n",
              "    </tr>\n",
              "  </tbody>\n",
              "</table>\n",
              "</div>"
            ],
            "text/plain": [
              "   discourse_id      essay_id  \\\n",
              "0  a261b6e14276  D72CB1C11673   \n",
              "1  5a88900e7dc1  D72CB1C11673   \n",
              "2  9790d835736b  D72CB1C11673   \n",
              "3  75ce6d68b67b  D72CB1C11673   \n",
              "4  93578d946723  D72CB1C11673   \n",
              "\n",
              "                                      discourse_text discourse_type  \\\n",
              "0  Making choices in life can be very difficult. ...           Lead   \n",
              "1  Seeking multiple opinions can help a person ma...       Position   \n",
              "2                     it can decrease stress levels           Claim   \n",
              "3             a great chance to learn something new           Claim   \n",
              "4               can be very helpful and beneficial.           Claim   \n",
              "\n",
              "                                          essay_text  \\\n",
              "0  Making choices in life can be very difficult. ...   \n",
              "1  Making choices in life can be very difficult. ...   \n",
              "2  Making choices in life can be very difficult. ...   \n",
              "3  Making choices in life can be very difficult. ...   \n",
              "4  Making choices in life can be very difficult. ...   \n",
              "\n",
              "                                                text  \n",
              "0  Lead Making choices in life can be very diffic...  \n",
              "1  Position Seeking multiple opinions can help a ...  \n",
              "2  Claim it can decrease stress levels [SEP]Makin...  \n",
              "3  Claim a great chance to learn something new [S...  \n",
              "4  Claim can be very helpful and beneficial. [SEP...  "
            ]
          },
          "execution_count": 11,
          "metadata": {},
          "output_type": "execute_result"
        }
      ],
      "source": [
        "df = test_origin.copy()\n",
        "SEP = CFG.tokenizer.sep_token\n",
        "\n",
        "df['discourse_text'] = df['discourse_text'].apply(resolve_encodings_and_normalize)\n",
        "df['essay_text'] = df['essay_id'].transform(fetch_essay, txt_dir='test')\n",
        "df['essay_text'] = df['essay_text'].apply(resolve_encodings_and_normalize)\n",
        "df['text'] = df['discourse_type'] + ' ' + df['discourse_text'] + SEP + df['essay_text']\n",
        "\n",
        "df.head()"
      ]
    },
    {
      "cell_type": "code",
      "execution_count": null,
      "id": "0212d88a",
      "metadata": {
        "execution": {
          "iopub.execute_input": "2022-08-08T18:11:04.550758Z",
          "iopub.status.busy": "2022-08-08T18:11:04.550165Z",
          "iopub.status.idle": "2022-08-08T18:11:04.559877Z",
          "shell.execute_reply": "2022-08-08T18:11:04.558802Z"
        },
        "papermill": {
          "duration": 0.036898,
          "end_time": "2022-08-08T18:11:04.563401",
          "exception": false,
          "start_time": "2022-08-08T18:11:04.526503",
          "status": "completed"
        },
        "tags": [],
        "id": "0212d88a"
      },
      "outputs": [],
      "source": [
        "test_dataset = TestDataset(CFG, df)\n",
        "test_loader = DataLoader(test_dataset,\n",
        "                         batch_size=CFG.batch_size,\n",
        "                         shuffle=False,\n",
        "                         num_workers=CFG.num_workers,\n",
        "                         pin_memory=True, drop_last=False)"
      ]
    },
    {
      "cell_type": "code",
      "execution_count": null,
      "id": "0147e5fb",
      "metadata": {
        "execution": {
          "iopub.execute_input": "2022-08-08T18:11:04.613913Z",
          "iopub.status.busy": "2022-08-08T18:11:04.613402Z",
          "iopub.status.idle": "2022-08-08T18:13:00.522010Z",
          "shell.execute_reply": "2022-08-08T18:13:00.520899Z"
        },
        "papermill": {
          "duration": 115.93599,
          "end_time": "2022-08-08T18:13:00.524333",
          "exception": false,
          "start_time": "2022-08-08T18:11:04.588343",
          "status": "completed"
        },
        "tags": [],
        "id": "0147e5fb",
        "outputId": "6873b9e4-4a99-470d-ad1b-98ced85ee4ea"
      },
      "outputs": [
        {
          "name": "stderr",
          "output_type": "stream",
          "text": [
            "100%|██████████| 1/1 [00:02<00:00,  2.64s/it]\n",
            "100%|██████████| 1/1 [00:01<00:00,  1.31s/it]\n",
            "100%|██████████| 1/1 [00:01<00:00,  1.43s/it]\n",
            "100%|██████████| 1/1 [00:01<00:00,  1.34s/it]\n"
          ]
        }
      ],
      "source": [
        "deberta_predictions = []\n",
        "\n",
        "for fold in range(CFG.n_fold):\n",
        "    model = CustomModel(CFG, config_path=CFG.config_path, pretrained=False)\n",
        "    state = torch.load(CFG.path+f\"{CFG.model.replace('/', '-')}_fold{fold}_best.pth\",\n",
        "                       map_location=torch.device('cpu'))\n",
        "    \n",
        "    model.load_state_dict(state['model'])\n",
        "    prediction = inference_fn(test_loader, model, DEVICE)\n",
        "    \n",
        "    deberta_predictions.append(prediction)\n",
        "    \n",
        "    del model, state, prediction; gc.collect()\n",
        "    torch.cuda.empty_cache()"
      ]
    },
    {
      "cell_type": "code",
      "execution_count": null,
      "id": "4149cce3",
      "metadata": {
        "execution": {
          "iopub.execute_input": "2022-08-08T18:13:00.555890Z",
          "iopub.status.busy": "2022-08-08T18:13:00.555558Z",
          "iopub.status.idle": "2022-08-08T18:13:00.562390Z",
          "shell.execute_reply": "2022-08-08T18:13:00.561278Z"
        },
        "papermill": {
          "duration": 0.02494,
          "end_time": "2022-08-08T18:13:00.564857",
          "exception": false,
          "start_time": "2022-08-08T18:13:00.539917",
          "status": "completed"
        },
        "tags": [],
        "id": "4149cce3"
      },
      "outputs": [],
      "source": [
        "deb_ineffective = []\n",
        "deb_effective = []\n",
        "deb_adequate = []\n",
        "\n",
        "for x in deberta_predictions:\n",
        "    deb_ineffective.append(x[:, 0])\n",
        "    deb_adequate.append(x[:, 1])\n",
        "    deb_effective.append(x[:, 2])"
      ]
    },
    {
      "cell_type": "code",
      "execution_count": null,
      "id": "548ebdee",
      "metadata": {
        "execution": {
          "iopub.execute_input": "2022-08-08T18:13:00.596063Z",
          "iopub.status.busy": "2022-08-08T18:13:00.595712Z",
          "iopub.status.idle": "2022-08-08T18:13:00.606981Z",
          "shell.execute_reply": "2022-08-08T18:13:00.605967Z"
        },
        "papermill": {
          "duration": 0.029588,
          "end_time": "2022-08-08T18:13:00.609462",
          "exception": false,
          "start_time": "2022-08-08T18:13:00.579874",
          "status": "completed"
        },
        "tags": [],
        "id": "548ebdee"
      },
      "outputs": [],
      "source": [
        "deb_adequate = pd.DataFrame(deb_adequate).T\n",
        "deb_effective = pd.DataFrame(deb_effective).T\n",
        "deb_ineffective = pd.DataFrame(deb_ineffective).T"
      ]
    },
    {
      "cell_type": "markdown",
      "id": "a5402ce3",
      "metadata": {
        "papermill": {
          "duration": 0.01462,
          "end_time": "2022-08-08T18:13:00.639018",
          "exception": false,
          "start_time": "2022-08-08T18:13:00.624398",
          "status": "completed"
        },
        "tags": [],
        "id": "a5402ce3"
      },
      "source": [
        "## 3.2 RoBerta"
      ]
    },
    {
      "cell_type": "code",
      "execution_count": null,
      "id": "98b3a7e0",
      "metadata": {
        "_kg_hide-input": true,
        "execution": {
          "iopub.execute_input": "2022-08-08T18:13:00.668594Z",
          "iopub.status.busy": "2022-08-08T18:13:00.668261Z",
          "iopub.status.idle": "2022-08-08T18:13:00.677278Z",
          "shell.execute_reply": "2022-08-08T18:13:00.676237Z"
        },
        "papermill": {
          "duration": 0.026061,
          "end_time": "2022-08-08T18:13:00.679610",
          "exception": false,
          "start_time": "2022-08-08T18:13:00.653549",
          "status": "completed"
        },
        "tags": [],
        "id": "98b3a7e0"
      },
      "outputs": [],
      "source": [
        "class TestDataset(Dataset):\n",
        "    def __init__(self, cfg, df):\n",
        "        self.cfg = cfg\n",
        "        self.discourse = df['discourse'].values\n",
        "        self.essay = df['essay'].values\n",
        "        \n",
        "    def __len__(self):\n",
        "        return len(self.discourse)\n",
        "    \n",
        "    def __getitem__(self, item):\n",
        "        discourse = self.discourse[item]\n",
        "        essay = self.essay[item]\n",
        "        \n",
        "        inputs = prepare_input(self.cfg, discourse, essay)\n",
        "        \n",
        "        return inputs\n",
        "        \n",
        "class FeedBackModel(nn.Module):\n",
        "    def __init__(self, model_path):\n",
        "        super(FeedBackModel, self).__init__()\n",
        "        self.model = AutoModel.from_pretrained(model_path)\n",
        "        self.linear = nn.Linear(768, 3)\n",
        "\n",
        "    def forward(self, inputs):\n",
        "        last_hidden_states = self.model(**inputs)[0][:, 0, :]\n",
        "        outputs = self.linear(last_hidden_states)\n",
        "        \n",
        "        return outputs"
      ]
    },
    {
      "cell_type": "code",
      "execution_count": null,
      "id": "c90a7c62",
      "metadata": {
        "execution": {
          "iopub.execute_input": "2022-08-08T18:13:00.709646Z",
          "iopub.status.busy": "2022-08-08T18:13:00.709328Z",
          "iopub.status.idle": "2022-08-08T18:13:27.003112Z",
          "shell.execute_reply": "2022-08-08T18:13:27.001845Z"
        },
        "papermill": {
          "duration": 26.325678,
          "end_time": "2022-08-08T18:13:27.019308",
          "exception": false,
          "start_time": "2022-08-08T18:13:00.693630",
          "status": "completed"
        },
        "tags": [],
        "id": "c90a7c62"
      },
      "outputs": [],
      "source": [
        "model_list = pickle.load(\n",
        "    open(\"../input/feedback-roberta-ep1/roberta_modellist_ep2.pkl\", \"rb\")\n",
        ")\n",
        "\n",
        "class CFG:\n",
        "    path = \"../input/roberta-base/\"\n",
        "    n_fold = 5\n",
        "    batch = 16\n",
        "    max_len = 512\n",
        "    num_workers = 2\n",
        "    \n",
        "CFG.tokenizer = AutoTokenizer.from_pretrained(CFG.path)"
      ]
    },
    {
      "cell_type": "code",
      "execution_count": null,
      "id": "08dde96f",
      "metadata": {
        "execution": {
          "iopub.execute_input": "2022-08-08T18:13:27.107620Z",
          "iopub.status.busy": "2022-08-08T18:13:27.107007Z",
          "iopub.status.idle": "2022-08-08T18:13:27.168916Z",
          "shell.execute_reply": "2022-08-08T18:13:27.165256Z"
        },
        "papermill": {
          "duration": 0.112642,
          "end_time": "2022-08-08T18:13:27.176002",
          "exception": false,
          "start_time": "2022-08-08T18:13:27.063360",
          "status": "completed"
        },
        "tags": [],
        "id": "08dde96f",
        "outputId": "53d4d3e5-1a3e-4bbe-a4ff-4135eecdef7e"
      },
      "outputs": [
        {
          "data": {
            "text/html": [
              "<div>\n",
              "<style scoped>\n",
              "    .dataframe tbody tr th:only-of-type {\n",
              "        vertical-align: middle;\n",
              "    }\n",
              "\n",
              "    .dataframe tbody tr th {\n",
              "        vertical-align: top;\n",
              "    }\n",
              "\n",
              "    .dataframe thead th {\n",
              "        text-align: right;\n",
              "    }\n",
              "</style>\n",
              "<table border=\"1\" class=\"dataframe\">\n",
              "  <thead>\n",
              "    <tr style=\"text-align: right;\">\n",
              "      <th></th>\n",
              "      <th>discourse_id</th>\n",
              "      <th>essay_id</th>\n",
              "      <th>discourse_text</th>\n",
              "      <th>discourse_type</th>\n",
              "      <th>discourse</th>\n",
              "      <th>essay</th>\n",
              "    </tr>\n",
              "  </thead>\n",
              "  <tbody>\n",
              "    <tr>\n",
              "      <th>0</th>\n",
              "      <td>a261b6e14276</td>\n",
              "      <td>D72CB1C11673</td>\n",
              "      <td>Making choices in life can be very difficult. ...</td>\n",
              "      <td>Lead</td>\n",
              "      <td>lead making choices in life can be very diffic...</td>\n",
              "      <td>making choices in life can be very difficult. ...</td>\n",
              "    </tr>\n",
              "    <tr>\n",
              "      <th>1</th>\n",
              "      <td>5a88900e7dc1</td>\n",
              "      <td>D72CB1C11673</td>\n",
              "      <td>Seeking multiple opinions can help a person ma...</td>\n",
              "      <td>Position</td>\n",
              "      <td>position seeking multiple opinions can help a ...</td>\n",
              "      <td>making choices in life can be very difficult. ...</td>\n",
              "    </tr>\n",
              "    <tr>\n",
              "      <th>2</th>\n",
              "      <td>9790d835736b</td>\n",
              "      <td>D72CB1C11673</td>\n",
              "      <td>it can decrease stress levels</td>\n",
              "      <td>Claim</td>\n",
              "      <td>claim it can decrease stress levels</td>\n",
              "      <td>making choices in life can be very difficult. ...</td>\n",
              "    </tr>\n",
              "    <tr>\n",
              "      <th>3</th>\n",
              "      <td>75ce6d68b67b</td>\n",
              "      <td>D72CB1C11673</td>\n",
              "      <td>a great chance to learn something new</td>\n",
              "      <td>Claim</td>\n",
              "      <td>claim a great chance to learn something new</td>\n",
              "      <td>making choices in life can be very difficult. ...</td>\n",
              "    </tr>\n",
              "    <tr>\n",
              "      <th>4</th>\n",
              "      <td>93578d946723</td>\n",
              "      <td>D72CB1C11673</td>\n",
              "      <td>can be very helpful and beneficial.</td>\n",
              "      <td>Claim</td>\n",
              "      <td>claim can be very helpful and beneficial.</td>\n",
              "      <td>making choices in life can be very difficult. ...</td>\n",
              "    </tr>\n",
              "  </tbody>\n",
              "</table>\n",
              "</div>"
            ],
            "text/plain": [
              "   discourse_id      essay_id  \\\n",
              "0  a261b6e14276  D72CB1C11673   \n",
              "1  5a88900e7dc1  D72CB1C11673   \n",
              "2  9790d835736b  D72CB1C11673   \n",
              "3  75ce6d68b67b  D72CB1C11673   \n",
              "4  93578d946723  D72CB1C11673   \n",
              "\n",
              "                                      discourse_text discourse_type  \\\n",
              "0  Making choices in life can be very difficult. ...           Lead   \n",
              "1  Seeking multiple opinions can help a person ma...       Position   \n",
              "2                     it can decrease stress levels           Claim   \n",
              "3             a great chance to learn something new           Claim   \n",
              "4               can be very helpful and beneficial.           Claim   \n",
              "\n",
              "                                           discourse  \\\n",
              "0  lead making choices in life can be very diffic...   \n",
              "1  position seeking multiple opinions can help a ...   \n",
              "2                claim it can decrease stress levels   \n",
              "3        claim a great chance to learn something new   \n",
              "4          claim can be very helpful and beneficial.   \n",
              "\n",
              "                                               essay  \n",
              "0  making choices in life can be very difficult. ...  \n",
              "1  making choices in life can be very difficult. ...  \n",
              "2  making choices in life can be very difficult. ...  \n",
              "3  making choices in life can be very difficult. ...  \n",
              "4  making choices in life can be very difficult. ...  "
            ]
          },
          "execution_count": 18,
          "metadata": {},
          "output_type": "execute_result"
        }
      ],
      "source": [
        "df = test_origin.copy()\n",
        "\n",
        "txt_sep = \" \"\n",
        "df['discourse'] = df['discourse_type'].str.lower().str.strip() + txt_sep \\\n",
        "                + df['discourse_text'].str.lower().str.strip()\n",
        "\n",
        "df['essay'] = df['essay_id'].transform(fetch_essay, txt_dir='test').str.lower().str.strip()\n",
        "df.head()"
      ]
    },
    {
      "cell_type": "code",
      "execution_count": null,
      "id": "27d11c55",
      "metadata": {
        "execution": {
          "iopub.execute_input": "2022-08-08T18:13:27.261636Z",
          "iopub.status.busy": "2022-08-08T18:13:27.260837Z",
          "iopub.status.idle": "2022-08-08T18:13:27.270619Z",
          "shell.execute_reply": "2022-08-08T18:13:27.269260Z"
        },
        "papermill": {
          "duration": 0.060697,
          "end_time": "2022-08-08T18:13:27.274978",
          "exception": false,
          "start_time": "2022-08-08T18:13:27.214281",
          "status": "completed"
        },
        "tags": [],
        "id": "27d11c55"
      },
      "outputs": [],
      "source": [
        "test_dataset = TestDataset(CFG, df)\n",
        "test_loader = DataLoader(test_dataset, batch_size=CFG.batch,\n",
        "                         shuffle=False, num_workers=CFG.num_workers,\n",
        "                         pin_memory=True, drop_last=False)"
      ]
    },
    {
      "cell_type": "code",
      "execution_count": null,
      "id": "8a9f285d",
      "metadata": {
        "execution": {
          "iopub.execute_input": "2022-08-08T18:13:27.335986Z",
          "iopub.status.busy": "2022-08-08T18:13:27.335426Z",
          "iopub.status.idle": "2022-08-08T18:13:32.010931Z",
          "shell.execute_reply": "2022-08-08T18:13:32.008813Z"
        },
        "papermill": {
          "duration": 4.706329,
          "end_time": "2022-08-08T18:13:32.014287",
          "exception": false,
          "start_time": "2022-08-08T18:13:27.307958",
          "status": "completed"
        },
        "tags": [],
        "id": "8a9f285d",
        "outputId": "7a5eced3-a83c-426d-871c-a64f85b70f62"
      },
      "outputs": [
        {
          "name": "stderr",
          "output_type": "stream",
          "text": [
            "100%|██████████| 1/1 [00:00<00:00,  1.39it/s]\n",
            "100%|██████████| 1/1 [00:00<00:00,  1.61it/s]\n",
            "100%|██████████| 1/1 [00:00<00:00,  1.62it/s]\n",
            "100%|██████████| 1/1 [00:00<00:00,  1.68it/s]\n",
            "100%|██████████| 1/1 [00:00<00:00,  1.64it/s]\n"
          ]
        },
        {
          "data": {
            "text/plain": [
              "0"
            ]
          },
          "execution_count": 20,
          "metadata": {},
          "output_type": "execute_result"
        }
      ],
      "source": [
        "roberta_predicts = []\n",
        "for i in range(CFG.n_fold):\n",
        "    model = model_list[i]\n",
        "    \n",
        "    prediction = inference_fn(test_loader, model, DEVICE)\n",
        "    roberta_predicts.append(prediction)\n",
        "    \n",
        "    del model, prediction\n",
        "    torch.cuda.empty_cache()    \n",
        "    gc.collect()\n",
        "    \n",
        "del model_list\n",
        "gc.collect()"
      ]
    },
    {
      "cell_type": "code",
      "execution_count": null,
      "id": "12c7bf53",
      "metadata": {
        "execution": {
          "iopub.execute_input": "2022-08-08T18:13:32.051012Z",
          "iopub.status.busy": "2022-08-08T18:13:32.050645Z",
          "iopub.status.idle": "2022-08-08T18:13:32.056459Z",
          "shell.execute_reply": "2022-08-08T18:13:32.055332Z"
        },
        "papermill": {
          "duration": 0.027524,
          "end_time": "2022-08-08T18:13:32.058715",
          "exception": false,
          "start_time": "2022-08-08T18:13:32.031191",
          "status": "completed"
        },
        "tags": [],
        "id": "12c7bf53"
      },
      "outputs": [],
      "source": [
        "rob_ineffective = []\n",
        "rob_effective = []\n",
        "rob_adequate = []\n",
        "\n",
        "for x in roberta_predicts:\n",
        "    rob_ineffective.append(x[:, 0])\n",
        "    rob_adequate.append(x[:, 1])\n",
        "    rob_effective.append(x[:, 2])"
      ]
    },
    {
      "cell_type": "code",
      "execution_count": null,
      "id": "ff3bcdd5",
      "metadata": {
        "execution": {
          "iopub.execute_input": "2022-08-08T18:13:32.093649Z",
          "iopub.status.busy": "2022-08-08T18:13:32.093336Z",
          "iopub.status.idle": "2022-08-08T18:13:32.104061Z",
          "shell.execute_reply": "2022-08-08T18:13:32.102784Z"
        },
        "papermill": {
          "duration": 0.031466,
          "end_time": "2022-08-08T18:13:32.106514",
          "exception": false,
          "start_time": "2022-08-08T18:13:32.075048",
          "status": "completed"
        },
        "tags": [],
        "id": "ff3bcdd5"
      },
      "outputs": [],
      "source": [
        "rob_ineffective = pd.DataFrame(rob_ineffective).T\n",
        "rob_adequate = pd.DataFrame(rob_adequate).T\n",
        "rob_effective = pd.DataFrame(rob_effective).T"
      ]
    },
    {
      "cell_type": "markdown",
      "id": "035e983b",
      "metadata": {
        "papermill": {
          "duration": 0.015775,
          "end_time": "2022-08-08T18:13:32.137904",
          "exception": false,
          "start_time": "2022-08-08T18:13:32.122129",
          "status": "completed"
        },
        "tags": [],
        "id": "035e983b"
      },
      "source": [
        "# 4. Create submission"
      ]
    },
    {
      "cell_type": "code",
      "execution_count": null,
      "id": "888d5b92",
      "metadata": {
        "execution": {
          "iopub.execute_input": "2022-08-08T18:13:32.170517Z",
          "iopub.status.busy": "2022-08-08T18:13:32.170192Z",
          "iopub.status.idle": "2022-08-08T18:13:32.190423Z",
          "shell.execute_reply": "2022-08-08T18:13:32.189481Z"
        },
        "papermill": {
          "duration": 0.038997,
          "end_time": "2022-08-08T18:13:32.192571",
          "exception": false,
          "start_time": "2022-08-08T18:13:32.153574",
          "status": "completed"
        },
        "tags": [],
        "id": "888d5b92"
      },
      "outputs": [],
      "source": [
        "level_names = ['deberta', 'roberta']\n",
        "\n",
        "ineffective_ = pd.concat(\n",
        "    [deb_ineffective, rob_ineffective],\n",
        "    keys=level_names, axis=1\n",
        ")\n",
        "\n",
        "adequate_ = pd.concat(\n",
        "    [deb_adequate, rob_adequate],\n",
        "    keys=level_names, axis=1\n",
        ")\n",
        "\n",
        "effective_ = pd.concat(\n",
        "    [deb_effective, rob_effective],\n",
        "    keys=level_names, axis=1\n",
        ")"
      ]
    },
    {
      "cell_type": "code",
      "execution_count": null,
      "id": "7bfdbc8c",
      "metadata": {
        "execution": {
          "iopub.execute_input": "2022-08-08T18:13:32.225370Z",
          "iopub.status.busy": "2022-08-08T18:13:32.224529Z",
          "iopub.status.idle": "2022-08-08T18:13:32.248481Z",
          "shell.execute_reply": "2022-08-08T18:13:32.247324Z"
        },
        "papermill": {
          "duration": 0.04265,
          "end_time": "2022-08-08T18:13:32.250772",
          "exception": false,
          "start_time": "2022-08-08T18:13:32.208122",
          "status": "completed"
        },
        "tags": [],
        "id": "7bfdbc8c",
        "outputId": "5d6d325e-1860-4c0f-e6f3-3513c7a5dcaa"
      },
      "outputs": [
        {
          "data": {
            "text/html": [
              "<div>\n",
              "<style scoped>\n",
              "    .dataframe tbody tr th:only-of-type {\n",
              "        vertical-align: middle;\n",
              "    }\n",
              "\n",
              "    .dataframe tbody tr th {\n",
              "        vertical-align: top;\n",
              "    }\n",
              "\n",
              "    .dataframe thead tr th {\n",
              "        text-align: left;\n",
              "    }\n",
              "</style>\n",
              "<table border=\"1\" class=\"dataframe\">\n",
              "  <thead>\n",
              "    <tr>\n",
              "      <th></th>\n",
              "      <th colspan=\"4\" halign=\"left\">deberta</th>\n",
              "      <th colspan=\"5\" halign=\"left\">roberta</th>\n",
              "    </tr>\n",
              "    <tr>\n",
              "      <th></th>\n",
              "      <th>0</th>\n",
              "      <th>1</th>\n",
              "      <th>2</th>\n",
              "      <th>3</th>\n",
              "      <th>0</th>\n",
              "      <th>1</th>\n",
              "      <th>2</th>\n",
              "      <th>3</th>\n",
              "      <th>4</th>\n",
              "    </tr>\n",
              "  </thead>\n",
              "  <tbody>\n",
              "    <tr>\n",
              "      <th>0</th>\n",
              "      <td>0.7356</td>\n",
              "      <td>0.6535</td>\n",
              "      <td>0.5426</td>\n",
              "      <td>0.7304</td>\n",
              "      <td>0.6763</td>\n",
              "      <td>0.3151</td>\n",
              "      <td>0.4963</td>\n",
              "      <td>0.5036</td>\n",
              "      <td>0.3095</td>\n",
              "    </tr>\n",
              "    <tr>\n",
              "      <th>1</th>\n",
              "      <td>0.0751</td>\n",
              "      <td>0.0679</td>\n",
              "      <td>0.1186</td>\n",
              "      <td>0.0613</td>\n",
              "      <td>0.2098</td>\n",
              "      <td>0.0775</td>\n",
              "      <td>0.1647</td>\n",
              "      <td>0.4651</td>\n",
              "      <td>0.0716</td>\n",
              "    </tr>\n",
              "    <tr>\n",
              "      <th>2</th>\n",
              "      <td>0.2572</td>\n",
              "      <td>0.1327</td>\n",
              "      <td>0.3419</td>\n",
              "      <td>0.1444</td>\n",
              "      <td>0.1218</td>\n",
              "      <td>0.3984</td>\n",
              "      <td>0.3280</td>\n",
              "      <td>0.6630</td>\n",
              "      <td>0.3686</td>\n",
              "    </tr>\n",
              "    <tr>\n",
              "      <th>3</th>\n",
              "      <td>0.2438</td>\n",
              "      <td>0.1749</td>\n",
              "      <td>0.3226</td>\n",
              "      <td>0.2025</td>\n",
              "      <td>0.2906</td>\n",
              "      <td>0.4764</td>\n",
              "      <td>0.4813</td>\n",
              "      <td>0.7316</td>\n",
              "      <td>0.2415</td>\n",
              "    </tr>\n",
              "    <tr>\n",
              "      <th>4</th>\n",
              "      <td>0.3722</td>\n",
              "      <td>0.2085</td>\n",
              "      <td>0.2839</td>\n",
              "      <td>0.3968</td>\n",
              "      <td>0.2377</td>\n",
              "      <td>0.3935</td>\n",
              "      <td>0.3081</td>\n",
              "      <td>0.7647</td>\n",
              "      <td>0.3664</td>\n",
              "    </tr>\n",
              "    <tr>\n",
              "      <th>5</th>\n",
              "      <td>0.6856</td>\n",
              "      <td>0.5745</td>\n",
              "      <td>0.5444</td>\n",
              "      <td>0.6297</td>\n",
              "      <td>0.6155</td>\n",
              "      <td>0.5099</td>\n",
              "      <td>0.6627</td>\n",
              "      <td>0.8036</td>\n",
              "      <td>0.5353</td>\n",
              "    </tr>\n",
              "    <tr>\n",
              "      <th>6</th>\n",
              "      <td>0.7861</td>\n",
              "      <td>0.6904</td>\n",
              "      <td>0.7620</td>\n",
              "      <td>0.8096</td>\n",
              "      <td>0.5916</td>\n",
              "      <td>0.4909</td>\n",
              "      <td>0.7046</td>\n",
              "      <td>0.7744</td>\n",
              "      <td>0.4546</td>\n",
              "    </tr>\n",
              "    <tr>\n",
              "      <th>7</th>\n",
              "      <td>0.4695</td>\n",
              "      <td>0.2386</td>\n",
              "      <td>0.3393</td>\n",
              "      <td>0.2042</td>\n",
              "      <td>0.4077</td>\n",
              "      <td>0.4634</td>\n",
              "      <td>0.6043</td>\n",
              "      <td>0.8302</td>\n",
              "      <td>0.3845</td>\n",
              "    </tr>\n",
              "    <tr>\n",
              "      <th>8</th>\n",
              "      <td>0.6978</td>\n",
              "      <td>0.4881</td>\n",
              "      <td>0.3636</td>\n",
              "      <td>0.5900</td>\n",
              "      <td>0.5397</td>\n",
              "      <td>0.5754</td>\n",
              "      <td>0.6081</td>\n",
              "      <td>0.8121</td>\n",
              "      <td>0.7404</td>\n",
              "    </tr>\n",
              "    <tr>\n",
              "      <th>9</th>\n",
              "      <td>0.5313</td>\n",
              "      <td>0.3137</td>\n",
              "      <td>0.4576</td>\n",
              "      <td>0.3424</td>\n",
              "      <td>0.0936</td>\n",
              "      <td>0.1487</td>\n",
              "      <td>0.1940</td>\n",
              "      <td>0.2859</td>\n",
              "      <td>0.3090</td>\n",
              "    </tr>\n",
              "  </tbody>\n",
              "</table>\n",
              "</div>"
            ],
            "text/plain": [
              "  deberta                         roberta                                \n",
              "        0       1       2       3       0       1       2       3       4\n",
              "0  0.7356  0.6535  0.5426  0.7304  0.6763  0.3151  0.4963  0.5036  0.3095\n",
              "1  0.0751  0.0679  0.1186  0.0613  0.2098  0.0775  0.1647  0.4651  0.0716\n",
              "2  0.2572  0.1327  0.3419  0.1444  0.1218  0.3984  0.3280  0.6630  0.3686\n",
              "3  0.2438  0.1749  0.3226  0.2025  0.2906  0.4764  0.4813  0.7316  0.2415\n",
              "4  0.3722  0.2085  0.2839  0.3968  0.2377  0.3935  0.3081  0.7647  0.3664\n",
              "5  0.6856  0.5745  0.5444  0.6297  0.6155  0.5099  0.6627  0.8036  0.5353\n",
              "6  0.7861  0.6904  0.7620  0.8096  0.5916  0.4909  0.7046  0.7744  0.4546\n",
              "7  0.4695  0.2386  0.3393  0.2042  0.4077  0.4634  0.6043  0.8302  0.3845\n",
              "8  0.6978  0.4881  0.3636  0.5900  0.5397  0.5754  0.6081  0.8121  0.7404\n",
              "9  0.5313  0.3137  0.4576  0.3424  0.0936  0.1487  0.1940  0.2859  0.3090"
            ]
          },
          "execution_count": 24,
          "metadata": {},
          "output_type": "execute_result"
        }
      ],
      "source": [
        "effective_"
      ]
    },
    {
      "cell_type": "code",
      "execution_count": null,
      "id": "1d967c19",
      "metadata": {
        "execution": {
          "iopub.execute_input": "2022-08-08T18:13:32.284644Z",
          "iopub.status.busy": "2022-08-08T18:13:32.284289Z",
          "iopub.status.idle": "2022-08-08T18:13:32.308707Z",
          "shell.execute_reply": "2022-08-08T18:13:32.307560Z"
        },
        "papermill": {
          "duration": 0.043456,
          "end_time": "2022-08-08T18:13:32.310855",
          "exception": false,
          "start_time": "2022-08-08T18:13:32.267399",
          "status": "completed"
        },
        "tags": [],
        "id": "1d967c19"
      },
      "outputs": [],
      "source": [
        "submission = submission_origin.copy()\n",
        "\n",
        "w_ = [.75, .25]  # ['deberta', 'roberta']\n",
        "d_ = [('Ineffective', ineffective_),\n",
        "      ('Adequate', adequate_),\n",
        "      ('Effective', effective_)]\n",
        "\n",
        "for x in d_:\n",
        "    col_name, df = x\n",
        "    submission[col_name] = pd.DataFrame(\n",
        "        {col: df[col].mean(axis=1) for col in level_names}\n",
        "    ).mul(w_).sum(axis=1)    "
      ]
    },
    {
      "cell_type": "markdown",
      "id": "b20f57a0",
      "metadata": {
        "papermill": {
          "duration": 0.016062,
          "end_time": "2022-08-08T18:13:32.343625",
          "exception": false,
          "start_time": "2022-08-08T18:13:32.327563",
          "status": "completed"
        },
        "tags": [],
        "id": "b20f57a0"
      },
      "source": [
        "# Wisdom of the crowd"
      ]
    },
    {
      "cell_type": "code",
      "execution_count": null,
      "id": "e350847f",
      "metadata": {
        "execution": {
          "iopub.execute_input": "2022-08-08T18:13:32.377651Z",
          "iopub.status.busy": "2022-08-08T18:13:32.377273Z",
          "iopub.status.idle": "2022-08-08T18:13:33.270107Z",
          "shell.execute_reply": "2022-08-08T18:13:33.268893Z"
        },
        "papermill": {
          "duration": 0.912647,
          "end_time": "2022-08-08T18:13:33.272973",
          "exception": false,
          "start_time": "2022-08-08T18:13:32.360326",
          "status": "completed"
        },
        "tags": [],
        "id": "e350847f"
      },
      "outputs": [],
      "source": [
        "import pandas as pd\n",
        "import matplotlib.pyplot as plt\n",
        "import seaborn as sns\n",
        "import numpy as np\n",
        "import sklearn\n",
        "import ast\n",
        "from scipy import stats\n",
        "\n",
        "import nltk\n",
        "from nltk.corpus import stopwords\n",
        "from nltk.stem import WordNetLemmatizer\n",
        "\n",
        "\n",
        "from nltk.corpus import wordnet\n",
        "from nltk.corpus import stopwords\n",
        "nltk.data.path.append('/kaggle/input/corporafolder')\n",
        "\n",
        "from sklearn.feature_extraction.text import TfidfVectorizer, TfidfTransformer\n",
        "from sklearn.preprocessing import MultiLabelBinarizer, LabelBinarizer\n",
        "from sklearn.decomposition import TruncatedSVD, PCA\n",
        "from sklearn.preprocessing import StandardScaler, RobustScaler\n",
        "from sklearn.pipeline import make_pipeline\n",
        "from sklearn.preprocessing import OneHotEncoder\n",
        "from sklearn.compose import make_column_transformer\n",
        "from sklearn.model_selection import train_test_split, GridSearchCV, learning_curve\n",
        "from sklearn.svm import LinearSVC\n",
        "from sklearn.neighbors import KNeighborsClassifier\n",
        "from sklearn.metrics import r2_score, precision_score, recall_score, f1_score, classification_report, plot_roc_curve\n",
        "from sklearn.multioutput import MultiOutputClassifier\n",
        "from sklearn.multiclass import OneVsRestClassifier, OneVsOneClassifier\n",
        "from sklearn.ensemble import RandomForestClassifier, GradientBoostingClassifier, VotingClassifier\n",
        "from sklearn.dummy import DummyClassifier\n",
        "from sklearn.naive_bayes import MultinomialNB\n",
        "from sklearn.model_selection import train_test_split, GridSearchCV, learning_curve\n",
        "\n",
        "import joblib\n",
        "import ast\n",
        "import time\n",
        "\n",
        "from sklearn.linear_model import LogisticRegression"
      ]
    },
    {
      "cell_type": "code",
      "execution_count": null,
      "id": "d08c6058",
      "metadata": {
        "execution": {
          "iopub.execute_input": "2022-08-08T18:13:33.308697Z",
          "iopub.status.busy": "2022-08-08T18:13:33.307655Z",
          "iopub.status.idle": "2022-08-08T18:13:33.592508Z",
          "shell.execute_reply": "2022-08-08T18:13:33.591333Z"
        },
        "papermill": {
          "duration": 0.305127,
          "end_time": "2022-08-08T18:13:33.595022",
          "exception": false,
          "start_time": "2022-08-08T18:13:33.289895",
          "status": "completed"
        },
        "tags": [],
        "id": "d08c6058"
      },
      "outputs": [],
      "source": [
        "df_effective_args = pd.read_csv('../input/train-light-csv/train_light.csv',encoding=\"utf-8\",header=(0))"
      ]
    },
    {
      "cell_type": "code",
      "execution_count": null,
      "id": "1841b6f4",
      "metadata": {
        "execution": {
          "iopub.execute_input": "2022-08-08T18:13:33.630340Z",
          "iopub.status.busy": "2022-08-08T18:13:33.629827Z",
          "iopub.status.idle": "2022-08-08T18:13:44.337298Z",
          "shell.execute_reply": "2022-08-08T18:13:44.336098Z"
        },
        "papermill": {
          "duration": 10.727618,
          "end_time": "2022-08-08T18:13:44.340075",
          "exception": false,
          "start_time": "2022-08-08T18:13:33.612457",
          "status": "completed"
        },
        "tags": [],
        "id": "1841b6f4"
      },
      "outputs": [],
      "source": [
        "lemmatizer = WordNetLemmatizer()\n",
        "\n",
        "def create_lemmatization(list_of_words_tokenized) :\n",
        "  list_of_words_tokenized_lemmantized = []\n",
        "  for token in list_of_words_tokenized:\n",
        "    lemmetized_word = lemmatizer.lemmatize(token)\n",
        "    if len(lemmetized_word) > 1 : \n",
        "      list_of_words_tokenized_lemmantized.append(lemmetized_word)\n",
        "  return list_of_words_tokenized_lemmantized\n",
        "\n",
        "\n",
        "def create_token(string):\n",
        "  tokenizer = nltk.RegexpTokenizer(r'\\w+')\n",
        "  string = tokenizer.tokenize(string.lower())\n",
        "  list_tokens_elements = [element for element in string if len(element)>1]\n",
        "  return list_tokens_elements\n",
        "\n",
        "df_effective_args['discourse_text_tokenized'] = df_effective_args['discourse_text'].apply(create_token)\n",
        "df_effective_args['discourse_text_lemmatized'] = df_effective_args['discourse_text_tokenized'].apply(create_lemmatization)\n",
        "\n"
      ]
    },
    {
      "cell_type": "code",
      "execution_count": null,
      "id": "4635d0db",
      "metadata": {
        "execution": {
          "iopub.execute_input": "2022-08-08T18:13:44.374422Z",
          "iopub.status.busy": "2022-08-08T18:13:44.374063Z",
          "iopub.status.idle": "2022-08-08T18:13:45.641223Z",
          "shell.execute_reply": "2022-08-08T18:13:45.640002Z"
        },
        "papermill": {
          "duration": 1.287122,
          "end_time": "2022-08-08T18:13:45.643970",
          "exception": false,
          "start_time": "2022-08-08T18:13:44.356848",
          "status": "completed"
        },
        "tags": [],
        "id": "4635d0db"
      },
      "outputs": [],
      "source": [
        "list_all_words = [j for i in df_effective_args['discourse_text_lemmatized'].tolist() for j in i]\n",
        "dictionnaire_des_frequences = nltk.FreqDist(list_all_words)"
      ]
    },
    {
      "cell_type": "code",
      "execution_count": null,
      "id": "f5e82a27",
      "metadata": {
        "execution": {
          "iopub.execute_input": "2022-08-08T18:13:45.679331Z",
          "iopub.status.busy": "2022-08-08T18:13:45.677933Z",
          "iopub.status.idle": "2022-08-08T18:13:45.800268Z",
          "shell.execute_reply": "2022-08-08T18:13:45.799098Z"
        },
        "papermill": {
          "duration": 0.142542,
          "end_time": "2022-08-08T18:13:45.802809",
          "exception": false,
          "start_time": "2022-08-08T18:13:45.660267",
          "status": "completed"
        },
        "tags": [],
        "id": "f5e82a27"
      },
      "outputs": [],
      "source": [
        "stop_words_corpus = []\n",
        "nombre_de_mot_selectionne = 25\n",
        "for i in range(0, nombre_de_mot_selectionne):\n",
        "  stop_words_corpus.append(dictionnaire_des_frequences.most_common(nombre_de_mot_selectionne+1)[i][0])\n",
        "stop_words_nltk = list(set(stopwords.words('english')))\n",
        "stop_words_merged = list(set(stop_words_nltk+stop_words_corpus))"
      ]
    },
    {
      "cell_type": "code",
      "execution_count": null,
      "id": "f47b9711",
      "metadata": {
        "execution": {
          "iopub.execute_input": "2022-08-08T18:13:45.837537Z",
          "iopub.status.busy": "2022-08-08T18:13:45.837178Z",
          "iopub.status.idle": "2022-08-08T18:13:50.849314Z",
          "shell.execute_reply": "2022-08-08T18:13:50.848035Z"
        },
        "papermill": {
          "duration": 5.032368,
          "end_time": "2022-08-08T18:13:50.851841",
          "exception": false,
          "start_time": "2022-08-08T18:13:45.819473",
          "status": "completed"
        },
        "tags": [],
        "id": "f47b9711"
      },
      "outputs": [],
      "source": [
        "def delete_stop_words_in_corpus(x, list_of_stop_words = stop_words_merged) :\n",
        "  y = x.copy()\n",
        "  for element in list_of_stop_words :\n",
        "    while element in y: y.remove(element)\n",
        "  return y\n",
        "\n",
        "df_effective_args['no_stop_words'] = df_effective_args['discourse_text_lemmatized'].transform(delete_stop_words_in_corpus)\n",
        "\n",
        "list_all_words = [j for i in df_effective_args['no_stop_words'].tolist() for j in i]"
      ]
    },
    {
      "cell_type": "code",
      "execution_count": null,
      "id": "fa7b6093",
      "metadata": {
        "execution": {
          "iopub.execute_input": "2022-08-08T18:13:50.887768Z",
          "iopub.status.busy": "2022-08-08T18:13:50.887247Z",
          "iopub.status.idle": "2022-08-08T18:13:51.909028Z",
          "shell.execute_reply": "2022-08-08T18:13:51.907897Z"
        },
        "papermill": {
          "duration": 1.042136,
          "end_time": "2022-08-08T18:13:51.911563",
          "exception": false,
          "start_time": "2022-08-08T18:13:50.869427",
          "status": "completed"
        },
        "tags": [],
        "id": "fa7b6093"
      },
      "outputs": [],
      "source": [
        "def delete_y_words(nb_words_to_save, liste_words):\n",
        "\n",
        "  dictionnaire_des_frequences = nltk.FreqDist(liste_words)\n",
        "  dictionnaire_des_frequences = dictionnaire_des_frequences.most_common(nb_words_to_save)\n",
        "  words = []\n",
        "  for i in range(0, nb_words_to_save):\n",
        "    words.append(dictionnaire_des_frequences[i][0])\n",
        "\n",
        "  return words\n",
        "\n",
        "nb_words_to_save = 2000\n",
        "liste_words_to_keep = delete_y_words(nb_words_to_save, list_all_words)"
      ]
    },
    {
      "cell_type": "code",
      "execution_count": null,
      "id": "44da7a4e",
      "metadata": {
        "execution": {
          "iopub.execute_input": "2022-08-08T18:13:51.946695Z",
          "iopub.status.busy": "2022-08-08T18:13:51.946369Z",
          "iopub.status.idle": "2022-08-08T18:13:59.652901Z",
          "shell.execute_reply": "2022-08-08T18:13:59.651648Z"
        },
        "papermill": {
          "duration": 7.727152,
          "end_time": "2022-08-08T18:13:59.655919",
          "exception": false,
          "start_time": "2022-08-08T18:13:51.928767",
          "status": "completed"
        },
        "tags": [],
        "id": "44da7a4e"
      },
      "outputs": [],
      "source": [
        "def delete_if_not_in(liste, liste_words_to_keep = liste_words_to_keep):\n",
        "\n",
        "  words_in_list = [i for i in liste if i in liste_words_to_keep]\n",
        "\n",
        "  return list(words_in_list)\n",
        "\n",
        "df_effective_args['only_'+str(nb_words_to_save)+'_tokens'] = df_effective_args['no_stop_words'].apply(delete_if_not_in)"
      ]
    },
    {
      "cell_type": "code",
      "execution_count": null,
      "id": "1def5a73",
      "metadata": {
        "execution": {
          "iopub.execute_input": "2022-08-08T18:13:59.689808Z",
          "iopub.status.busy": "2022-08-08T18:13:59.689499Z",
          "iopub.status.idle": "2022-08-08T18:13:59.711747Z",
          "shell.execute_reply": "2022-08-08T18:13:59.710348Z"
        },
        "papermill": {
          "duration": 0.041651,
          "end_time": "2022-08-08T18:13:59.714288",
          "exception": false,
          "start_time": "2022-08-08T18:13:59.672637",
          "status": "completed"
        },
        "tags": [],
        "id": "1def5a73"
      },
      "outputs": [],
      "source": [
        "def counter_len_in_text(string):\n",
        "  return len(string)\n",
        "\n",
        "df_effective_args['Longueur_texte'] = df_effective_args['only_'+str(nb_words_to_save)+'_tokens'].apply(counter_len_in_text)"
      ]
    },
    {
      "cell_type": "code",
      "execution_count": null,
      "id": "1e9e8c53",
      "metadata": {
        "execution": {
          "iopub.execute_input": "2022-08-08T18:13:59.749611Z",
          "iopub.status.busy": "2022-08-08T18:13:59.749266Z",
          "iopub.status.idle": "2022-08-08T18:13:59.768829Z",
          "shell.execute_reply": "2022-08-08T18:13:59.767650Z"
        },
        "papermill": {
          "duration": 0.039735,
          "end_time": "2022-08-08T18:13:59.771200",
          "exception": false,
          "start_time": "2022-08-08T18:13:59.731465",
          "status": "completed"
        },
        "tags": [],
        "id": "1e9e8c53"
      },
      "outputs": [],
      "source": [
        "df_effective_args = df_effective_args[df_effective_args['Longueur_texte']<150]"
      ]
    },
    {
      "cell_type": "code",
      "execution_count": null,
      "id": "41d7d6fe",
      "metadata": {
        "execution": {
          "iopub.execute_input": "2022-08-08T18:13:59.805804Z",
          "iopub.status.busy": "2022-08-08T18:13:59.805446Z",
          "iopub.status.idle": "2022-08-08T18:13:59.870015Z",
          "shell.execute_reply": "2022-08-08T18:13:59.868806Z"
        },
        "papermill": {
          "duration": 0.084348,
          "end_time": "2022-08-08T18:13:59.872317",
          "exception": false,
          "start_time": "2022-08-08T18:13:59.787969",
          "status": "completed"
        },
        "tags": [],
        "id": "41d7d6fe"
      },
      "outputs": [],
      "source": [
        "df_effective_args['type_and_tokens'] = df_effective_args['discourse_type'].map(lambda i: [i]) + df_effective_args['only_'+str(nb_words_to_save)+'_tokens']"
      ]
    },
    {
      "cell_type": "code",
      "execution_count": null,
      "id": "a549d6a0",
      "metadata": {
        "execution": {
          "iopub.execute_input": "2022-08-08T18:13:59.906962Z",
          "iopub.status.busy": "2022-08-08T18:13:59.906606Z",
          "iopub.status.idle": "2022-08-08T18:13:59.919226Z",
          "shell.execute_reply": "2022-08-08T18:13:59.917919Z"
        },
        "papermill": {
          "duration": 0.032196,
          "end_time": "2022-08-08T18:13:59.921480",
          "exception": false,
          "start_time": "2022-08-08T18:13:59.889284",
          "status": "completed"
        },
        "tags": [],
        "id": "a549d6a0"
      },
      "outputs": [],
      "source": [
        "X_train, X_test, y_train, y_test = train_test_split(df_effective_args['type_and_tokens'], df_effective_args['discourse_effectiveness'], test_size=0.2, random_state=1)"
      ]
    },
    {
      "cell_type": "code",
      "execution_count": null,
      "id": "4bb1ae7d",
      "metadata": {
        "execution": {
          "iopub.execute_input": "2022-08-08T18:13:59.955913Z",
          "iopub.status.busy": "2022-08-08T18:13:59.955557Z",
          "iopub.status.idle": "2022-08-08T18:14:02.229926Z",
          "shell.execute_reply": "2022-08-08T18:14:02.228796Z"
        },
        "papermill": {
          "duration": 2.294406,
          "end_time": "2022-08-08T18:14:02.232517",
          "exception": false,
          "start_time": "2022-08-08T18:13:59.938111",
          "status": "completed"
        },
        "tags": [],
        "id": "4bb1ae7d"
      },
      "outputs": [],
      "source": [
        "list_words = X_train.tolist()\n",
        "list_corpus = []\n",
        "for element in list_words :\n",
        "  list_corpus.append(' '.join(element))\n",
        "tfidftvecto =  TfidfVectorizer()\n",
        "tfidf_model = tfidftvecto.fit(list_corpus)\n",
        "tfidf_tokens = tfidftvecto.get_feature_names_out()\n",
        "X_train_encoded = pd.DataFrame(data = tfidftvecto.fit_transform(list_corpus).toarray(),columns = tfidf_tokens)"
      ]
    },
    {
      "cell_type": "code",
      "execution_count": null,
      "id": "a45e4197",
      "metadata": {
        "execution": {
          "iopub.execute_input": "2022-08-08T18:14:02.267525Z",
          "iopub.status.busy": "2022-08-08T18:14:02.266342Z",
          "iopub.status.idle": "2022-08-08T18:14:02.599314Z",
          "shell.execute_reply": "2022-08-08T18:14:02.598013Z"
        },
        "papermill": {
          "duration": 0.353036,
          "end_time": "2022-08-08T18:14:02.602304",
          "exception": false,
          "start_time": "2022-08-08T18:14:02.249268",
          "status": "completed"
        },
        "tags": [],
        "id": "a45e4197"
      },
      "outputs": [],
      "source": [
        "list_words_test = X_test.tolist()\n",
        "list_corpus_test = []\n",
        "for element in list_words_test :\n",
        "  list_corpus_test.append(' '.join(element))\n",
        "X_test_encoded = pd.DataFrame(data = tfidf_model.transform(list_corpus_test).toarray(),columns = tfidf_tokens)"
      ]
    },
    {
      "cell_type": "code",
      "execution_count": null,
      "id": "be7e19e4",
      "metadata": {
        "execution": {
          "iopub.execute_input": "2022-08-08T18:14:02.636987Z",
          "iopub.status.busy": "2022-08-08T18:14:02.636105Z",
          "iopub.status.idle": "2022-08-08T18:14:02.730456Z",
          "shell.execute_reply": "2022-08-08T18:14:02.729393Z"
        },
        "papermill": {
          "duration": 0.113648,
          "end_time": "2022-08-08T18:14:02.733003",
          "exception": false,
          "start_time": "2022-08-08T18:14:02.619355",
          "status": "completed"
        },
        "tags": [],
        "id": "be7e19e4"
      },
      "outputs": [],
      "source": [
        "lb = LabelBinarizer()\n",
        "df_labels_train = pd.DataFrame(lb.fit_transform(y_train), columns=lb.classes_)\n",
        "df_labels_test = pd.DataFrame(lb.fit_transform(y_test), columns=lb.classes_)"
      ]
    },
    {
      "cell_type": "code",
      "execution_count": null,
      "id": "63d74646",
      "metadata": {
        "execution": {
          "iopub.execute_input": "2022-08-08T18:14:02.767414Z",
          "iopub.status.busy": "2022-08-08T18:14:02.767043Z",
          "iopub.status.idle": "2022-08-08T18:18:29.424771Z",
          "shell.execute_reply": "2022-08-08T18:18:29.423514Z"
        },
        "papermill": {
          "duration": 266.695313,
          "end_time": "2022-08-08T18:18:29.445207",
          "exception": false,
          "start_time": "2022-08-08T18:14:02.749894",
          "status": "completed"
        },
        "tags": [],
        "id": "63d74646",
        "outputId": "fdd1b969-1304-46a8-cc88-a4a241796755"
      },
      "outputs": [
        {
          "name": "stdout",
          "output_type": "stream",
          "text": [
            "263.056866645813 2.595913887023926\n",
            "              precision    recall  f1-score   support\n",
            "\n",
            "           0       0.66      0.82      0.73      4161\n",
            "           1       0.74      0.34      0.47      1882\n",
            "           2       0.59      0.11      0.18      1280\n",
            "\n",
            "   micro avg       0.67      0.57      0.62      7323\n",
            "   macro avg       0.66      0.42      0.46      7323\n",
            "weighted avg       0.67      0.57      0.57      7323\n",
            " samples avg       0.57      0.57      0.57      7323\n",
            "\n"
          ]
        }
      ],
      "source": [
        "numerical_features = list(X_train_encoded.select_dtypes(['int']).columns)+list(X_train_encoded.select_dtypes(['float']).columns)\n",
        "numerical_pipeline = make_pipeline(StandardScaler())\n",
        "\n",
        "R_F = RandomForestClassifier()\n",
        "multilabel_classifier = OneVsRestClassifier(R_F)\n",
        "preprocessor = make_column_transformer((numerical_pipeline, numerical_features))\n",
        "model_R_F = make_pipeline(preprocessor, multilabel_classifier)\n",
        "\n",
        "start_time_fit = time.time()\n",
        "model_R_F.fit(X_train_encoded, df_labels_train)\n",
        "\n",
        "elapsed_time_fit = time.time() - start_time_fit #time\n",
        "\n",
        "start_time_predict = time.time()\n",
        "df_labels_pred = model_R_F.predict(X_test_encoded)\n",
        "\n",
        "elapsed_time_predict = time.time() - start_time_predict #time\n",
        "print(elapsed_time_fit, elapsed_time_predict) #time\n",
        "\n",
        "print(classification_report(df_labels_test, df_labels_pred))"
      ]
    },
    {
      "cell_type": "code",
      "execution_count": null,
      "id": "71b50ec7",
      "metadata": {
        "execution": {
          "iopub.execute_input": "2022-08-08T18:18:29.478234Z",
          "iopub.status.busy": "2022-08-08T18:18:29.477773Z",
          "iopub.status.idle": "2022-08-08T18:30:21.413825Z",
          "shell.execute_reply": "2022-08-08T18:30:21.409389Z"
        },
        "papermill": {
          "duration": 711.97065,
          "end_time": "2022-08-08T18:30:21.431759",
          "exception": false,
          "start_time": "2022-08-08T18:18:29.461109",
          "status": "completed"
        },
        "tags": [],
        "id": "71b50ec7",
        "outputId": "e698d9f1-46fe-4751-fa7a-5822a2751e93"
      },
      "outputs": [
        {
          "name": "stdout",
          "output_type": "stream",
          "text": [
            "711.1832120418549 0.441908597946167\n",
            "              precision    recall  f1-score   support\n",
            "\n",
            "           0       0.63      0.90      0.74      4161\n",
            "           1       0.79      0.27      0.40      1882\n",
            "           2       0.71      0.06      0.10      1280\n",
            "\n",
            "   micro avg       0.64      0.59      0.62      7323\n",
            "   macro avg       0.71      0.41      0.41      7323\n",
            "weighted avg       0.68      0.59      0.54      7323\n",
            " samples avg       0.59      0.59      0.59      7323\n",
            "\n"
          ]
        }
      ],
      "source": [
        "numerical_features = list(X_train_encoded.select_dtypes(['int']).columns)+list(X_train_encoded.select_dtypes(['float']).columns)\n",
        "numerical_pipeline = make_pipeline(StandardScaler())\n",
        "\n",
        "GB_C = GradientBoostingClassifier()\n",
        "multilabel_classifier = OneVsRestClassifier(GB_C)\n",
        "preprocessor = make_column_transformer((numerical_pipeline, numerical_features))\n",
        "model_GB_C = make_pipeline(preprocessor, multilabel_classifier)\n",
        "\n",
        "start_time_fit = time.time()\n",
        "model_GB_C.fit(X_train_encoded, df_labels_train)\n",
        "\n",
        "elapsed_time_fit = time.time() - start_time_fit #time\n",
        "\n",
        "start_time_predict = time.time()\n",
        "df_labels_pred = model_GB_C.predict(X_test_encoded)\n",
        "\n",
        "elapsed_time_predict = time.time() - start_time_predict #time\n",
        "print(elapsed_time_fit, elapsed_time_predict) #time\n",
        "\n",
        "print(classification_report(df_labels_test, df_labels_pred))"
      ]
    },
    {
      "cell_type": "code",
      "execution_count": null,
      "id": "9b707b00",
      "metadata": {
        "execution": {
          "iopub.execute_input": "2022-08-08T18:30:21.467549Z",
          "iopub.status.busy": "2022-08-08T18:30:21.467149Z",
          "iopub.status.idle": "2022-08-08T18:31:12.429082Z",
          "shell.execute_reply": "2022-08-08T18:31:12.427763Z"
        },
        "papermill": {
          "duration": 51.019726,
          "end_time": "2022-08-08T18:31:12.469623",
          "exception": false,
          "start_time": "2022-08-08T18:30:21.449897",
          "status": "completed"
        },
        "tags": [],
        "id": "9b707b00",
        "outputId": "ca9cd933-9939-4b74-f8b2-d677435fa7b6"
      },
      "outputs": [
        {
          "name": "stdout",
          "output_type": "stream",
          "text": [
            "50.16052508354187 0.45408129692077637\n",
            "              precision    recall  f1-score   support\n",
            "\n",
            "           0       0.65      0.76      0.70      4161\n",
            "           1       0.67      0.49      0.57      1882\n",
            "           2       0.46      0.23      0.31      1280\n",
            "\n",
            "   micro avg       0.64      0.60      0.62      7323\n",
            "   macro avg       0.59      0.49      0.53      7323\n",
            "weighted avg       0.62      0.60      0.60      7323\n",
            " samples avg       0.57      0.60      0.58      7323\n",
            "\n"
          ]
        }
      ],
      "source": [
        "numerical_features = list(X_train_encoded.select_dtypes(['int']).columns)+list(X_train_encoded.select_dtypes(['float']).columns)\n",
        "numerical_pipeline = make_pipeline(StandardScaler())\n",
        "\n",
        "L_R = LogisticRegression(max_iter= 1500)\n",
        "multilabel_classifier = OneVsRestClassifier(L_R)\n",
        "preprocessor = make_column_transformer((numerical_pipeline, numerical_features))\n",
        "model_L_R = make_pipeline(preprocessor, multilabel_classifier)\n",
        "\n",
        "start_time_fit = time.time()\n",
        "model_L_R.fit(X_train_encoded, df_labels_train)\n",
        "\n",
        "elapsed_time_fit = time.time() - start_time_fit #time\n",
        "\n",
        "start_time_predict = time.time()\n",
        "df_labels_pred = model_L_R.predict(X_test_encoded)\n",
        "\n",
        "elapsed_time_predict = time.time() - start_time_predict #time\n",
        "print(elapsed_time_fit, elapsed_time_predict) #time\n",
        "\n",
        "print(classification_report(df_labels_test, df_labels_pred))"
      ]
    },
    {
      "cell_type": "code",
      "execution_count": null,
      "id": "8011d3cc",
      "metadata": {
        "execution": {
          "iopub.execute_input": "2022-08-08T18:31:12.532570Z",
          "iopub.status.busy": "2022-08-08T18:31:12.531923Z",
          "iopub.status.idle": "2022-08-08T18:31:12.543151Z",
          "shell.execute_reply": "2022-08-08T18:31:12.541966Z"
        },
        "papermill": {
          "duration": 0.043192,
          "end_time": "2022-08-08T18:31:12.545875",
          "exception": false,
          "start_time": "2022-08-08T18:31:12.502683",
          "status": "completed"
        },
        "tags": [],
        "id": "8011d3cc"
      },
      "outputs": [],
      "source": [
        "def pipeline_from_dataset_to_tokens(df, nb_words_to_save):\n",
        "  df['discourse_text_tokenized'] = df['discourse_text'].apply(create_token)\n",
        "  df['discourse_text_lemmatized'] = df['discourse_text_tokenized'].apply(create_lemmatization)\n",
        "  df['no_stop_words'] = df['discourse_text_lemmatized'].transform(delete_stop_words_in_corpus)\n",
        "  df['only_'+str(nb_words_to_save)+'_tokens'] = df['no_stop_words'].apply(delete_if_not_in)\n",
        "  df['Longueur_texte'] = df['only_'+str(nb_words_to_save)+'_tokens'].apply(counter_len_in_text)\n",
        "  df['type_and_tokens'] = df['discourse_type'].map(lambda i: [i]) + df['only_'+str(nb_words_to_save)+'_tokens']\n",
        "  #df = df[df['Longueur_texte']<150]\n",
        "  print(df.shape)\n",
        "  return df"
      ]
    },
    {
      "cell_type": "code",
      "execution_count": null,
      "id": "4f339e5a",
      "metadata": {
        "execution": {
          "iopub.execute_input": "2022-08-08T18:31:12.601136Z",
          "iopub.status.busy": "2022-08-08T18:31:12.600740Z",
          "iopub.status.idle": "2022-08-08T18:31:12.641577Z",
          "shell.execute_reply": "2022-08-08T18:31:12.639408Z"
        },
        "papermill": {
          "duration": 0.072901,
          "end_time": "2022-08-08T18:31:12.645959",
          "exception": false,
          "start_time": "2022-08-08T18:31:12.573058",
          "status": "completed"
        },
        "tags": [],
        "id": "4f339e5a",
        "outputId": "15799e57-b9fe-41dd-c108-54ed8ec678a3"
      },
      "outputs": [
        {
          "name": "stdout",
          "output_type": "stream",
          "text": [
            "(10, 10)\n"
          ]
        }
      ],
      "source": [
        "df_needed_to_predict = pd.read_csv(\"../input/feedback-prize-effectiveness/test.csv\")\n",
        "df_needed_to_predict_take_token = pipeline_from_dataset_to_tokens(df_needed_to_predict, nb_words_to_save = nb_words_to_save)\n",
        "X_to_predict = df_needed_to_predict_take_token['type_and_tokens']"
      ]
    },
    {
      "cell_type": "code",
      "execution_count": null,
      "id": "8a39e390",
      "metadata": {
        "execution": {
          "iopub.execute_input": "2022-08-08T18:31:12.701076Z",
          "iopub.status.busy": "2022-08-08T18:31:12.700702Z",
          "iopub.status.idle": "2022-08-08T18:31:12.712534Z",
          "shell.execute_reply": "2022-08-08T18:31:12.711606Z"
        },
        "papermill": {
          "duration": 0.042301,
          "end_time": "2022-08-08T18:31:12.715536",
          "exception": false,
          "start_time": "2022-08-08T18:31:12.673235",
          "status": "completed"
        },
        "tags": [],
        "id": "8a39e390"
      },
      "outputs": [],
      "source": [
        "list_words_test = X_to_predict.tolist()\n",
        "list_corpus_test = []\n",
        "for element in list_words_test :\n",
        "  list_corpus_test.append(' '.join(element))\n",
        "X_to_predict_encoded = pd.DataFrame(data = tfidf_model.transform(list_corpus_test).toarray(),columns = tfidf_tokens)"
      ]
    },
    {
      "cell_type": "code",
      "execution_count": null,
      "id": "56629e68",
      "metadata": {
        "execution": {
          "iopub.execute_input": "2022-08-08T18:31:12.771169Z",
          "iopub.status.busy": "2022-08-08T18:31:12.770784Z",
          "iopub.status.idle": "2022-08-08T18:31:12.983104Z",
          "shell.execute_reply": "2022-08-08T18:31:12.982013Z"
        },
        "papermill": {
          "duration": 0.243935,
          "end_time": "2022-08-08T18:31:12.986576",
          "exception": false,
          "start_time": "2022-08-08T18:31:12.742641",
          "status": "completed"
        },
        "tags": [],
        "id": "56629e68"
      },
      "outputs": [],
      "source": [
        "proba_R_F = model_R_F.predict_proba(X_to_predict_encoded)\n",
        "proba_R_F_normalized = (proba_R_F.T/proba_R_F.sum(axis=1)).T\n",
        "\n",
        "proba_L_R = model_L_R.predict_proba(X_to_predict_encoded)\n",
        "proba_L_R_normalized = (proba_L_R.T/proba_L_R.sum(axis=1)).T\n",
        "\n",
        "proba_GB = model_GB_C.predict_proba(X_to_predict_encoded)\n",
        "proba_GB_normalized = (proba_GB.T/proba_GB.sum(axis=1)).T\n",
        "\n",
        "combinaison_all = (proba_GB_normalized + proba_L_R_normalized + proba_R_F_normalized)/3"
      ]
    },
    {
      "cell_type": "code",
      "execution_count": null,
      "id": "da022561",
      "metadata": {
        "execution": {
          "iopub.execute_input": "2022-08-08T18:31:13.059806Z",
          "iopub.status.busy": "2022-08-08T18:31:13.059446Z",
          "iopub.status.idle": "2022-08-08T18:31:13.069800Z",
          "shell.execute_reply": "2022-08-08T18:31:13.068778Z"
        },
        "papermill": {
          "duration": 0.029654,
          "end_time": "2022-08-08T18:31:13.071873",
          "exception": false,
          "start_time": "2022-08-08T18:31:13.042219",
          "status": "completed"
        },
        "tags": [],
        "id": "da022561"
      },
      "outputs": [],
      "source": [
        "df_predicted = pd.DataFrame(combinaison_all, columns = list(lb.classes_))\n",
        "df_predicted['discourse_id'] = df_needed_to_predict['discourse_id']\n",
        "df_predicted = df_predicted[['discourse_id' ,'Ineffective', 'Adequate', 'Effective']]"
      ]
    },
    {
      "cell_type": "markdown",
      "id": "50f2fa88",
      "metadata": {
        "papermill": {
          "duration": 0.015992,
          "end_time": "2022-08-08T18:31:13.104767",
          "exception": false,
          "start_time": "2022-08-08T18:31:13.088775",
          "status": "completed"
        },
        "tags": [],
        "id": "50f2fa88"
      },
      "source": [
        "pondération"
      ]
    },
    {
      "cell_type": "code",
      "execution_count": null,
      "id": "3478ec39",
      "metadata": {
        "execution": {
          "iopub.execute_input": "2022-08-08T18:31:13.138789Z",
          "iopub.status.busy": "2022-08-08T18:31:13.138425Z",
          "iopub.status.idle": "2022-08-08T18:31:13.146024Z",
          "shell.execute_reply": "2022-08-08T18:31:13.144581Z"
        },
        "papermill": {
          "duration": 0.0276,
          "end_time": "2022-08-08T18:31:13.148722",
          "exception": false,
          "start_time": "2022-08-08T18:31:13.121122",
          "status": "completed"
        },
        "tags": [],
        "id": "3478ec39"
      },
      "outputs": [],
      "source": [
        "df_predicted[['Ineffective', 'Adequate', 'Effective']] = df_predicted[['Ineffective', 'Adequate', 'Effective']]*0.05"
      ]
    },
    {
      "cell_type": "code",
      "execution_count": null,
      "id": "c3d0879d",
      "metadata": {
        "execution": {
          "iopub.execute_input": "2022-08-08T18:31:13.182347Z",
          "iopub.status.busy": "2022-08-08T18:31:13.181922Z",
          "iopub.status.idle": "2022-08-08T18:31:13.191426Z",
          "shell.execute_reply": "2022-08-08T18:31:13.190350Z"
        },
        "papermill": {
          "duration": 0.029135,
          "end_time": "2022-08-08T18:31:13.193748",
          "exception": false,
          "start_time": "2022-08-08T18:31:13.164613",
          "status": "completed"
        },
        "tags": [],
        "id": "c3d0879d"
      },
      "outputs": [],
      "source": [
        "submission[['Ineffective', 'Adequate', 'Effective']] = df_predicted[['Ineffective', 'Adequate', 'Effective']] + submission[['Ineffective', 'Adequate', 'Effective']]"
      ]
    },
    {
      "cell_type": "markdown",
      "id": "a19ff971",
      "metadata": {
        "papermill": {
          "duration": 0.016122,
          "end_time": "2022-08-08T18:31:13.225951",
          "exception": false,
          "start_time": "2022-08-08T18:31:13.209829",
          "status": "completed"
        },
        "tags": [],
        "id": "a19ff971"
      },
      "source": [
        "Soumission"
      ]
    },
    {
      "cell_type": "code",
      "execution_count": null,
      "id": "50de53cd",
      "metadata": {
        "execution": {
          "iopub.execute_input": "2022-08-08T18:31:13.260589Z",
          "iopub.status.busy": "2022-08-08T18:31:13.259643Z",
          "iopub.status.idle": "2022-08-08T18:31:13.269036Z",
          "shell.execute_reply": "2022-08-08T18:31:13.268024Z"
        },
        "papermill": {
          "duration": 0.028681,
          "end_time": "2022-08-08T18:31:13.271195",
          "exception": false,
          "start_time": "2022-08-08T18:31:13.242514",
          "status": "completed"
        },
        "tags": [],
        "id": "50de53cd"
      },
      "outputs": [],
      "source": [
        "submission.to_csv('submission.csv',index=False)"
      ]
    }
  ],
  "metadata": {
    "kernelspec": {
      "display_name": "Python 3",
      "language": "python",
      "name": "python3"
    },
    "language_info": {
      "codemirror_mode": {
        "name": "ipython",
        "version": 3
      },
      "file_extension": ".py",
      "mimetype": "text/x-python",
      "name": "python",
      "nbconvert_exporter": "python",
      "pygments_lexer": "ipython3",
      "version": "3.7.12"
    },
    "papermill": {
      "default_parameters": {},
      "duration": 1233.721785,
      "end_time": "2022-08-08T18:31:17.342667",
      "environment_variables": {},
      "exception": null,
      "input_path": "__notebook__.ipynb",
      "output_path": "__notebook__.ipynb",
      "parameters": {},
      "start_time": "2022-08-08T18:10:43.620882",
      "version": "2.3.4"
    },
    "colab": {
      "name": "P8_FORK_Ensemble.ipynb",
      "provenance": [],
      "include_colab_link": true
    }
  },
  "nbformat": 4,
  "nbformat_minor": 5
}